{
 "cells": [
  {
   "cell_type": "markdown",
   "metadata": {},
   "source": [
    "#### 1.列出文档图层"
   ]
  },
  {
   "cell_type": "code",
   "execution_count": 23,
   "metadata": {},
   "outputs": [
    {
     "name": "stdout",
     "output_type": "stream",
     "text": [
      "[<map layer u'XZQ_town'>, <map layer u'XZQ_vill_dt'>, <map layer u'MDES2013'>, <map layer u'MDES2010'>, <map layer u'MDES2005'>, <map layer u'MDES2000'>, <map layer u'MDYC2013'>, <map layer u'MDYC2010'>, <map layer u'MDYC2005'>, <map layer u'MDYC2000'>, <map layer u'MDNL2013'>, <map layer u'MDNL2010'>, <map layer u'MDNL2005'>, <map layer u'MDNL2000'>]\n",
      "[<map layer u'MDES2013'>, <map layer u'MDES2010'>, <map layer u'MDES2005'>, <map layer u'MDES2000'>, <map layer u'MDYC2013'>, <map layer u'MDYC2010'>, <map layer u'MDYC2005'>, <map layer u'MDYC2000'>, <map layer u'MDNL2013'>, <map layer u'MDNL2010'>, <map layer u'MDNL2005'>, <map layer u'MDNL2000'>]\n"
     ]
    }
   ],
   "source": [
    "import arcpy\n",
    "#设置目标mxd对象路径\n",
    "mxd_path = r'D:\\rui\\code_analysis\\file\\GIS\\class2101\\MD.mxd'\n",
    "#实例化一个mxd对象\n",
    "mxd = arcpy.mapping.MapDocument(mxd_path)\n",
    "\n",
    "#将所有图层列出\n",
    "lyrlist = arcpy.mapping.ListLayers(mxd)\n",
    "#将需要打印的图层列出\n",
    "plyrlist = arcpy.mapping.ListLayers(mxd,'MD*')\n",
    "print(lyrlist)\n",
    "print(plyrlist)"
   ]
  },
  {
   "cell_type": "markdown",
   "metadata": {},
   "source": [
    "#### 2.for循环设置可见图层，用ExportToJPEG命令导出文件"
   ]
  },
  {
   "cell_type": "code",
   "execution_count": 24,
   "metadata": {
    "scrolled": true
   },
   "outputs": [
    {
     "name": "stdout",
     "output_type": "stream",
     "text": [
      "MDES2013 done!\n",
      "MDES2010 done!\n",
      "MDES2005 done!\n",
      "MDES2000 done!\n",
      "MDYC2013 done!\n",
      "MDYC2010 done!\n",
      "MDYC2005 done!\n",
      "MDYC2000 done!\n",
      "MDNL2013 done!\n",
      "MDNL2010 done!\n",
      "MDNL2005 done!\n",
      "MDNL2000 done!\n",
      "done\n"
     ]
    }
   ],
   "source": [
    "#for循环每个需要打印的图层（外面的循环更少，最终要操作的对象）\n",
    "for plyr in plyrlist:\n",
    "    #for循环所有图层，打开需要打开的图层\n",
    "    for lyr in lyrlist:\n",
    "        if lyr.name == 'XZQ_town' or lyr.name == 'XZQ_vill_dt':\n",
    "            lyr.visible =  True\n",
    "        elif lyr == plyr:\n",
    "            lyr.visible = True\n",
    "        else:\n",
    "            lyr.visible = False\n",
    "    #如果需要打印的图层已经打开，导出图片\n",
    "    if plyr.visible:\n",
    "        arcpy.mapping.ExportToJPEG(mxd,\n",
    "                              r'D:\\rui\\code_analysis\\file\\GIS\\class2101\\jpg\\{}.jpg'.format(plyr.name),\n",
    "                              resolution = 300)\n",
    "        print('{} done!'.format(plyr.name))\n",
    "#记得删除mxd实例\n",
    "del mxd\n",
    "print('done')"
   ]
  },
  {
   "cell_type": "markdown",
   "metadata": {},
   "source": [
    "#### 3.将代码写成一个工具\n",
    "+ 将要使用的参数放到前面"
   ]
  },
  {
   "cell_type": "code",
   "execution_count": 42,
   "metadata": {},
   "outputs": [
    {
     "name": "stdout",
     "output_type": "stream",
     "text": [
      "MDES2013 done!\n",
      "MDES2010 done!\n",
      "MDES2005 done!\n",
      "MDES2000 done!\n",
      "MDYC2013 done!\n",
      "MDYC2010 done!\n",
      "MDYC2005 done!\n",
      "MDYC2000 done!\n",
      "MDNL2013 done!\n",
      "MDNL2010 done!\n",
      "MDNL2005 done!\n",
      "MDNL2000 done!\n",
      "done\n"
     ]
    }
   ],
   "source": [
    "import arcpy\n",
    "import os\n",
    "##########################################################\n",
    "#设置目标mxd对象路径\n",
    "mxd_path = r'D:\\rui\\code_analysis\\file\\GIS\\class2101\\MD.mxd'\n",
    "#设置导出目录\n",
    "output_path = r'D:\\rui\\code_analysis\\file\\GIS\\class2101\\jpg'\n",
    "#常开图层列表\n",
    "lyronlist = ['XZQ_town','XZQ_vill_dt']\n",
    "#设置分辨率\n",
    "resolution = 300\n",
    "##########################################################\n",
    "#实例化一个mxd对象\n",
    "mxd = arcpy.mapping.MapDocument(mxd_path)\n",
    "#将所有图层列出\n",
    "lyrlist = arcpy.mapping.ListLayers(mxd)\n",
    "#将所有图层名列出\n",
    "lyrnlist = [i.name for i in arcpy.mapping.ListLayers(mxd)]\n",
    "\n",
    "#for循环每个需要打印的图层\n",
    "for plyr in [ i for i in lyrnlist if i not in lyronlist]:\n",
    "    #设置一个变量，容纳打开的图层对象\n",
    "    layon = ''\n",
    "    #for循环所有图层，打开需要打开的图层\n",
    "    for lyr in lyrlist:\n",
    "        if lyr.name in lyronlist:\n",
    "            lyr.visible =  True\n",
    "        elif lyr.name == plyr:\n",
    "            lyr.visible = True\n",
    "            layon = lyr\n",
    "        else:\n",
    "            lyr.visible = False\n",
    "    #如果需要打印的图层已经打开，导出图片\n",
    "    if layon.visible:\n",
    "        arcpy.mapping.ExportToJPEG(mxd,\n",
    "                              os.path.join(output_path,'{}.jpg'.format(plyr)),\n",
    "                              resolution = resolution)\n",
    "        print('{} done!'.format(plyr))\n",
    "\n",
    "##########################################################\n",
    "\n",
    "#记得删除mxd实例\n",
    "del mxd\n",
    "print('done')"
   ]
  },
  {
   "cell_type": "code",
   "execution_count": null,
   "metadata": {},
   "outputs": [],
   "source": []
  }
 ],
 "metadata": {
  "kernelspec": {
   "display_name": "python2",
   "language": "python",
   "name": "python2"
  },
  "language_info": {
   "codemirror_mode": {
    "name": "ipython",
    "version": 2
   },
   "file_extension": ".py",
   "mimetype": "text/x-python",
   "name": "python",
   "nbconvert_exporter": "python",
   "pygments_lexer": "ipython2",
   "version": "2.7.15"
  }
 },
 "nbformat": 4,
 "nbformat_minor": 2
}
