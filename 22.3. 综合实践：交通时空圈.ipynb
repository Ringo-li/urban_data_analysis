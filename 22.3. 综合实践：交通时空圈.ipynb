{
 "cells": [
  {
   "cell_type": "markdown",
   "metadata": {},
   "source": [
    "#### 安装python2没有的包\n",
    "+ python2 -m pip install sqlalchemy\n",
    "+ python2 -m pip install pyodbc"
   ]
  },
  {
   "cell_type": "code",
   "execution_count": 8,
   "metadata": {},
   "outputs": [],
   "source": [
    "from sqlalchemy import create_engine\n",
    "import pyodbc\n",
    "import pandas as pd\n",
    "import arcpy\n",
    "import time\n",
    "import requests\n",
    "import json"
   ]
  },
  {
   "cell_type": "markdown",
   "metadata": {},
   "source": [
    "#### 1.创建渔网"
   ]
  },
  {
   "cell_type": "markdown",
   "metadata": {},
   "source": [
    "语法\n",
    ">CreateFishnet_management (out_feature_class, origin_coord, y_axis_coord, cell_width, cell_height, number_rows, number_columns, {corner_coord}, {labels}, {template}, {geometry_type})"
   ]
  },
  {
   "cell_type": "code",
   "execution_count": 15,
   "metadata": {},
   "outputs": [
    {
     "data": {
      "text/plain": [
       "103.90893309900008"
      ]
     },
     "execution_count": 15,
     "metadata": {},
     "output_type": "execute_result"
    }
   ],
   "source": [
    "arcpy.env.outputCoordinateSystem = arcpy.SpatialReference(\"WGS 1984\")\n",
    "arcpy.env.overwriteOutput =  True\n",
    "fc = r'D:\\rui\\code_analysis\\file\\GIS\\class2203\\basic_data.gdb\\chengdu'\n",
    "desc = arcpy.Describe(fc)\n",
    "out_fc = fc + '_fishnet'\n",
    "arcpy.CreateFishnet_management(out_feature_class = out_fc,\n",
    "                               origin_coord = str(desc.extent.XMin),\n",
    "                               y_axis_coord,\n",
    "                               cell_width,\n",
    "                               cell_height,\n",
    "                               number_rows,\n",
    "                               number_columns,)\n",
    "desc.extent.XMin"
   ]
  },
  {
   "cell_type": "code",
   "execution_count": null,
   "metadata": {},
   "outputs": [],
   "source": []
  }
 ],
 "metadata": {
  "kernelspec": {
   "display_name": "python2",
   "language": "python",
   "name": "python2"
  },
  "language_info": {
   "codemirror_mode": {
    "name": "ipython",
    "version": 2
   },
   "file_extension": ".py",
   "mimetype": "text/x-python",
   "name": "python",
   "nbconvert_exporter": "python",
   "pygments_lexer": "ipython2",
   "version": "2.7.15"
  }
 },
 "nbformat": 4,
 "nbformat_minor": 2
}
