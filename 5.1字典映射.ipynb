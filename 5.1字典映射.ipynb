{
 "cells": [
  {
   "cell_type": "code",
   "execution_count": 1,
   "metadata": {},
   "outputs": [
    {
     "data": {
      "text/plain": [
       "{'xiaoming': 85, 'xiaohong': 83, 'wanli': 78}"
      ]
     },
     "execution_count": 1,
     "metadata": {},
     "output_type": "execute_result"
    }
   ],
   "source": [
    "dic  = {'xiaoming':85,'xiaohong':83,'wanli':78}\n",
    "dic"
   ]
  },
  {
   "cell_type": "code",
   "execution_count": 6,
   "metadata": {},
   "outputs": [
    {
     "data": {
      "text/plain": [
       "{'xiaohong': 43, 'xiaoli': 46, 'xiazhao': 44}"
      ]
     },
     "execution_count": 6,
     "metadata": {},
     "output_type": "execute_result"
    }
   ],
   "source": [
    "dic1 = dict(xiaohong = 43,xiaoli = 46,xiazhao = 44)\n",
    "dic1"
   ]
  },
  {
   "cell_type": "code",
   "execution_count": 9,
   "metadata": {},
   "outputs": [
    {
     "data": {
      "text/plain": [
       "{'waha': 2, 'kuku': 3}"
      ]
     },
     "execution_count": 9,
     "metadata": {},
     "output_type": "execute_result"
    }
   ],
   "source": [
    "lst = [('waha',2),('kuku',3)]\n",
    "dct = dict(lst)\n",
    "dct"
   ]
  },
  {
   "cell_type": "code",
   "execution_count": 10,
   "metadata": {},
   "outputs": [
    {
     "data": {
      "text/plain": [
       "{'waha': 'hello', 'lili': 'hello', 'clear': 'hello', 'ugly': 'hello'}"
      ]
     },
     "execution_count": 10,
     "metadata": {},
     "output_type": "execute_result"
    }
   ],
   "source": [
    "lst1 = ['waha','lili','clear','ugly']\n",
    "dct2 = dict.fromkeys(lst1,'hello')\n",
    "dct2"
   ]
  },
  {
   "cell_type": "code",
   "execution_count": 17,
   "metadata": {},
   "outputs": [
    {
     "data": {
      "text/plain": [
       "['waha', 2, 3, 'w']"
      ]
     },
     "execution_count": 17,
     "metadata": {},
     "output_type": "execute_result"
    }
   ],
   "source": [
    "lst = ['waha',2,3,'w']\n",
    "lst"
   ]
  },
  {
   "cell_type": "code",
   "execution_count": 20,
   "metadata": {},
   "outputs": [
    {
     "name": "stdout",
     "output_type": "stream",
     "text": [
      "{76: 'hanmeimei', 43: 'hanmeimei', 87: 'hanmeimei', 56: 'hanmeimei', 89: 'hanmeimei'}\n"
     ]
    }
   ],
   "source": [
    "lst = [76,43,87,56,89]\n",
    "dct = dict.fromkeys(lst,'hanmeimei')\n",
    "print(dct)"
   ]
  },
  {
   "cell_type": "code",
   "execution_count": 29,
   "metadata": {},
   "outputs": [
    {
     "name": "stdout",
     "output_type": "stream",
     "text": [
      "{'juely': 43, 'kiwey': 42, 'lucy': 39} {'xiaohua': 40, 'wangzhe': 45}\n",
      "{'juely': 43, 'kiwey': 42, 'lucy': 39} {'juely': 43, 'kiwey': 42, 'lucy': 39, 'xiaohua': 40, 'wangzhe': 45}\n"
     ]
    }
   ],
   "source": [
    "dct1 = {'juely':43,'kiwey':42,'lucy':39}\n",
    "dct2 = {'xiaohua':40,'wangzhe':45}\n",
    "print(dct1,dct2)\n",
    "dct3 = dct1.copy()\n",
    "dct1.update(dct2)\n",
    "print(dct3,dct1)\n"
   ]
  },
  {
   "cell_type": "code",
   "execution_count": 30,
   "metadata": {},
   "outputs": [
    {
     "name": "stdout",
     "output_type": "stream",
     "text": [
      "3 5\n"
     ]
    }
   ],
   "source": [
    "print(len(dct3),len(dct1))"
   ]
  },
  {
   "cell_type": "code",
   "execution_count": 31,
   "metadata": {},
   "outputs": [
    {
     "name": "stdout",
     "output_type": "stream",
     "text": [
      "True\n"
     ]
    }
   ],
   "source": [
    "print('kiwey' in dct3)"
   ]
  },
  {
   "cell_type": "code",
   "execution_count": 33,
   "metadata": {},
   "outputs": [
    {
     "name": "stdout",
     "output_type": "stream",
     "text": [
      "True\n"
     ]
    }
   ],
   "source": [
    "print(43 in dct3.values())"
   ]
  },
  {
   "cell_type": "code",
   "execution_count": 54,
   "metadata": {},
   "outputs": [
    {
     "data": {
      "text/plain": [
       "42"
      ]
     },
     "execution_count": 54,
     "metadata": {},
     "output_type": "execute_result"
    }
   ],
   "source": [
    "dct3.get('kiwey','nihaohuaio')"
   ]
  },
  {
   "cell_type": "code",
   "execution_count": 43,
   "metadata": {},
   "outputs": [],
   "source": [
    "dct1 = [{'juely':43,'kiwey':42,'nacy':39,'imformation':{'xiaohua': 40, 'wangzhe': 45}},\\\n",
    "       {'lily':41,'wayji':42,'nicole':39,'imformation':{'xiaoing': 42, 'zhe': 45}},\\\n",
    "       {'wuji':44,'susa':42,'molian':39,'imformation':{'xiaoliu': 44, 'wange': 45}}]"
   ]
  },
  {
   "cell_type": "code",
   "execution_count": 53,
   "metadata": {},
   "outputs": [
    {
     "data": {
      "text/plain": [
       "'ok'"
      ]
     },
     "execution_count": 53,
     "metadata": {},
     "output_type": "execute_result"
    }
   ],
   "source": [
    "dct1[1]['imformation']['zhe']\n",
    "dct1[1]['imformation'].get('xiaoing')\n",
    "dct1[0].get('infor','ok')"
   ]
  },
  {
   "cell_type": "code",
   "execution_count": 55,
   "metadata": {},
   "outputs": [
    {
     "name": "stdout",
     "output_type": "stream",
     "text": [
      "key is juely,value is 43\n",
      "key is kiwey,value is 42\n",
      "key is lucy,value is 39\n"
     ]
    }
   ],
   "source": [
    "dct1 = {'juely':43,'kiwey':42,'lucy':39}\n",
    "for k,v in dct1.items():\n",
    "    print('key is %s,value is %s'%(k,v))"
   ]
  },
  {
   "cell_type": "code",
   "execution_count": null,
   "metadata": {},
   "outputs": [],
   "source": []
  }
 ],
 "metadata": {
  "kernelspec": {
   "display_name": "Python 3",
   "language": "python",
   "name": "python3"
  },
  "language_info": {
   "codemirror_mode": {
    "name": "ipython",
    "version": 3
   },
   "file_extension": ".py",
   "mimetype": "text/x-python",
   "name": "python",
   "nbconvert_exporter": "python",
   "pygments_lexer": "ipython3",
   "version": "3.7.4"
  }
 },
 "nbformat": 4,
 "nbformat_minor": 2
}
