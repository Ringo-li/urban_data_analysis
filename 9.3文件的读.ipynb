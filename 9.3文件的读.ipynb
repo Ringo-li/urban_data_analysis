{
 "cells": [
  {
   "cell_type": "code",
   "execution_count": 1,
   "metadata": {},
   "outputs": [
    {
     "name": "stdout",
     "output_type": "stream",
     "text": [
      "The Zen of Python, by Tim Peters\n",
      "\n",
      "Beautiful is better than ugly.\n",
      "Explicit is better than implicit.\n",
      "Simple is better than complex.\n",
      "Complex is better than complicated.\n",
      "Flat is better than nested.\n",
      "Sparse is better than dense.\n",
      "Readability counts.\n",
      "Special cases aren't special enough to break the rules.\n",
      "Although practicality beats purity.\n",
      "Errors should never pass silently.\n",
      "Unless explicitly silenced.\n",
      "In the face of ambiguity, refuse the temptation to guess.\n",
      "There should be one-- and preferably only one --obvious way to do it.\n",
      "Although that way may not be obvious at first unless you're Dutch.\n",
      "Now is better than never.\n",
      "Although never is often better than *right* now.\n",
      "If the implementation is hard to explain, it's a bad idea.\n",
      "If the implementation is easy to explain, it may be a good idea.\n",
      "Namespaces are one honking great idea -- let's do more of those!\n"
     ]
    }
   ],
   "source": [
    "import this"
   ]
  },
  {
   "cell_type": "markdown",
   "metadata": {},
   "source": [
    "### 一 路径的三种拼写方式"
   ]
  },
  {
   "cell_type": "code",
   "execution_count": 5,
   "metadata": {},
   "outputs": [
    {
     "name": "stdout",
     "output_type": "stream",
     "text": [
      "C:\\Users\\Administrator\\Desktop\\test.txt\n",
      "C:/Users/Administrator/Desktop/test.txt\n",
      "C:\\Users\\Administrator\\Desktop\\test.txt\n"
     ]
    }
   ],
   "source": [
    "#用转义符转义放斜杠\n",
    "path1 = 'C:\\\\Users\\\\Administrator\\\\Desktop\\\\test.txt'\n",
    "#利用linux的表达方式\n",
    "path2 = 'C:/Users/Administrator/Desktop/test.txt'\n",
    "#用r取消所有特殊字符\n",
    "path3 = r'C:\\Users\\Administrator\\Desktop\\test.txt'\n",
    "\n",
    "print(path1)\n",
    "print(path2)\n",
    "print(path3)"
   ]
  },
  {
   "cell_type": "code",
   "execution_count": 32,
   "metadata": {},
   "outputs": [
    {
     "name": "stdout",
     "output_type": "stream",
     "text": [
      "The Zen of Python, by Tim Peters\n",
      "\n"
     ]
    }
   ],
   "source": [
    "with open(path3,'r',encoding='utf8') as f:\n",
    "    f.readline()\n",
    "    print(f.readline())"
   ]
  },
  {
   "cell_type": "code",
   "execution_count": 44,
   "metadata": {},
   "outputs": [],
   "source": [
    "#如果文中有中文，编码要申明‘utf8’\n",
    "f = open(path1,'r',encoding='utf8')\n",
    "f.readlines()\n",
    "f.close()"
   ]
  },
  {
   "cell_type": "code",
   "execution_count": 176,
   "metadata": {},
   "outputs": [
    {
     "name": "stdout",
     "output_type": "stream",
     "text": [
      "##########first read start#########\n",
      "m of\n",
      "##########first read finished#########\n",
      "#########second read start######\n",
      "\n",
      "#########second read finished#########\n",
      "\n",
      "##########third read start...##########\n",
      "\n",
      "\n",
      "The Zen of Python\n",
      "############readload finished##########\n"
     ]
    }
   ],
   "source": [
    "f = open(path2,'r',encoding='utf8')\n",
    "#print(type(f.read),f.read()[6:])\n",
    "print('##########first read start#########')\n",
    "f.seek(20,0)\n",
    "print(f.read()[6:10].replace('n','m'))\n",
    "print('##########first read finished#########')\n",
    "print('#########second read start######')\n",
    "print(f.read())\n",
    "print('#########second read finished#########\\n')\n",
    "print('##########third read start...##########\\n')\n",
    "f.seek(18,0)\n",
    "print(f.read(18))\n",
    "print('############readload finished##########')\n",
    "f.close()"
   ]
  },
  {
   "cell_type": "code",
   "execution_count": 211,
   "metadata": {},
   "outputs": [
    {
     "name": "stdout",
     "output_type": "stream",
     "text": [
      "聪聪是臭屁卡\n",
      "\n",
      "Th\n"
     ]
    }
   ],
   "source": [
    "f = open(path1,'r',encoding='utf8')\n",
    "a = f.read(6)\n",
    "print(a)\n",
    "b = f.read(3)\n",
    "print(b)\n",
    "f.close()"
   ]
  },
  {
   "cell_type": "code",
   "execution_count": 162,
   "metadata": {},
   "outputs": [
    {
     "name": "stdout",
     "output_type": "stream",
     "text": [
      "nt\n",
      "C:\\Users\\Administrator\\Desktop\n"
     ]
    }
   ],
   "source": [
    "import os\n",
    "print(os.name)\n",
    "print(os.getcwd())"
   ]
  },
  {
   "cell_type": "code",
   "execution_count": 120,
   "metadata": {},
   "outputs": [
    {
     "data": {
      "text/plain": [
       "['.ipynb_checkpoints', 'Untitled.ipynb']"
      ]
     },
     "execution_count": 120,
     "metadata": {},
     "output_type": "execute_result"
    }
   ],
   "source": [
    "os.listdir()"
   ]
  },
  {
   "cell_type": "code",
   "execution_count": 121,
   "metadata": {},
   "outputs": [
    {
     "data": {
      "text/plain": [
       "'C:\\\\Users\\\\Administrator\\\\Desktop'"
      ]
     },
     "execution_count": 121,
     "metadata": {},
     "output_type": "execute_result"
    }
   ],
   "source": [
    "os.chdir('C:Users/Administrator/Desktop/')\n",
    "os.getcwd()"
   ]
  },
  {
   "cell_type": "code",
   "execution_count": 143,
   "metadata": {},
   "outputs": [
    {
     "data": {
      "text/plain": [
       "['Google Chrome.lnk',\n",
       " 'Microsoft Edge.lnk',\n",
       " 'test.txt',\n",
       " 'WPS 2019.lnk',\n",
       " '有道云笔记.lnk',\n",
       " '百度网盘.lnk',\n",
       " '网易有道词典.lnk']"
      ]
     },
     "execution_count": 143,
     "metadata": {},
     "output_type": "execute_result"
    }
   ],
   "source": [
    "os.listdir()"
   ]
  },
  {
   "cell_type": "code",
   "execution_count": 146,
   "metadata": {},
   "outputs": [
    {
     "name": "stdout",
     "output_type": "stream",
     "text": [
      "['Google Chrome.lnk', 'Microsoft Edge.lnk', 'test.txt', 'test2.txt', 'WPS 2019.lnk', '有道云笔记.lnk', '百度网盘.lnk', '网易有道词典.lnk']\n",
      "['Google Chrome.lnk', 'Microsoft Edge.lnk', 'test.txt', 'WPS 2019.lnk', '有道云笔记.lnk', '百度网盘.lnk', '网易有道词典.lnk']\n"
     ]
    }
   ],
   "source": [
    "import subprocess\n",
    "\n",
    "subprocess.call('copy test.txt test2.txt',shell=True)\n",
    "print(os.listdir())\n",
    "if os.path.exists('test2.txt'):\n",
    "    os.remove('test2.txt')\n",
    "print(os.listdir())"
   ]
  },
  {
   "cell_type": "code",
   "execution_count": 147,
   "metadata": {},
   "outputs": [
    {
     "name": "stdout",
     "output_type": "stream",
     "text": [
      "('C:\\\\Users\\\\Administrator\\\\Desktop', 'test.txt')\n"
     ]
    }
   ],
   "source": [
    "fsplit = os.path.split('C:\\\\Users\\\\Administrator\\\\Desktop\\\\test.txt')\n",
    "print(fsplit)"
   ]
  },
  {
   "cell_type": "code",
   "execution_count": 148,
   "metadata": {},
   "outputs": [],
   "source": [
    "fjoin = os.path.join('C:\\\\Users\\\\Administrator\\\\Desktop\\\\','wahaha')"
   ]
  },
  {
   "cell_type": "code",
   "execution_count": 149,
   "metadata": {},
   "outputs": [
    {
     "name": "stdout",
     "output_type": "stream",
     "text": [
      "C:\\Users\\Administrator\\Desktop\\wahaha\n"
     ]
    }
   ],
   "source": [
    "print(fjoin)"
   ]
  },
  {
   "cell_type": "code",
   "execution_count": 153,
   "metadata": {},
   "outputs": [
    {
     "name": "stdout",
     "output_type": "stream",
     "text": [
      "False\n",
      "True\n"
     ]
    }
   ],
   "source": [
    "apath = os.path.exists(r'C:\\Users\\Administrator\\Desktop\\wahaha')\n",
    "bpath = os.path.exists(r'C:\\Users\\Administrator\\Desktop\\test.txt')\n",
    "print(apath)\n",
    "print(bpath)"
   ]
  },
  {
   "cell_type": "code",
   "execution_count": 154,
   "metadata": {},
   "outputs": [
    {
     "data": {
      "text/plain": [
       "''"
      ]
     },
     "execution_count": 154,
     "metadata": {},
     "output_type": "execute_result"
    }
   ],
   "source": []
  },
  {
   "cell_type": "code",
   "execution_count": null,
   "metadata": {},
   "outputs": [],
   "source": []
  }
 ],
 "metadata": {
  "kernelspec": {
   "display_name": "Python 3",
   "language": "python",
   "name": "python3"
  },
  "language_info": {
   "codemirror_mode": {
    "name": "ipython",
    "version": 3
   },
   "file_extension": ".py",
   "mimetype": "text/x-python",
   "name": "python",
   "nbconvert_exporter": "python",
   "pygments_lexer": "ipython3",
   "version": "3.7.4"
  }
 },
 "nbformat": 4,
 "nbformat_minor": 2
}
