{
 "cells": [
  {
   "cell_type": "markdown",
   "metadata": {},
   "source": [
    "### 1.游标cursor概念"
   ]
  },
  {
   "cell_type": "markdown",
   "metadata": {},
   "source": [
    "#### 1.1游标类别\n",
    ">搜索游标：arcpy.da.SearchCursor<br>\n",
    ">插入游标：arcpy.da.InsertCursor<br>\n",
    ">更新游标：arcpy.da.UpdataCursor<br>"
   ]
  },
  {
   "cell_type": "code",
   "execution_count": 1,
   "metadata": {},
   "outputs": [],
   "source": [
    "import arcpy"
   ]
  },
  {
   "cell_type": "code",
   "execution_count": 11,
   "metadata": {},
   "outputs": [],
   "source": [
    "# import sys\n",
    "# reload(sys)\n",
    "# sys.setdefaultencoding('utf-8')"
   ]
  },
  {
   "cell_type": "markdown",
   "metadata": {},
   "source": [
    "#### 1.2搜索游标arcpy.da.SearchCursor"
   ]
  },
  {
   "cell_type": "code",
   "execution_count": 2,
   "metadata": {},
   "outputs": [
    {
     "data": {
      "text/plain": [
       "[u'XZQ_town']"
      ]
     },
     "execution_count": 2,
     "metadata": {},
     "output_type": "execute_result"
    }
   ],
   "source": [
    "#直接进行数据查询，查询完毕后删除游标\n",
    "import arcpy\n",
    "arcpy.env.workspace = r'D:\\rui\\code_analysis\\homework\\file\\GIS\\class2002.gdb'\n",
    "\n",
    "fc = 'XZQ_town'\n",
    "#过滤出字符串的列\n",
    "fields = arcpy.ListFields(fc,field_type=\"string\")\n",
    "#列出列名和属性\n",
    "for field in fields:\n",
    "    print(\"{0} is a type of {1} with a length of {2}\"\n",
    "          .format(field.name, field.type, field.length))\n",
    "#设置想要查看的列\n",
    "u_field = ['SM','A_belong_town']\n",
    "#实例化游标\n",
    "cursor = arcpy.da.SearchCursor(fc,u_field )\n",
    "#打印列内容，注意u编码\n",
    "for row in cursor:\n",
    "    print(u'{0}, {1}'.format(row[0], row[1]))\n",
    "del cursor"
   ]
  },
  {
   "cell_type": "code",
   "execution_count": 35,
   "metadata": {},
   "outputs": [
    {
     "name": "stdout",
     "output_type": "stream",
     "text": [
      "1,仙女镇\n",
      "2,宜陵镇\n",
      "3,吴桥镇\n",
      "4,邵伯镇\n",
      "5,丁伙镇\n",
      "6,武坚镇\n",
      "7,丁沟镇\n",
      "8,大桥镇\n",
      "9,真武镇\n",
      "10,小纪镇\n",
      "11,樊川镇\n",
      "12,浦头镇\n",
      "13,郭村镇\n"
     ]
    }
   ],
   "source": [
    "#使用with语句进行数据查询\n",
    "import arcpy\n",
    "arcpy.env.workspace = r'D:\\rui\\code_analysis\\homework\\file\\GIS\\class2002.gdb'\n",
    "\n",
    "fc = 'XZQ_town'\n",
    "fields = ['OBJECTID','A_belong_town']\n",
    "#不使用字符串u编码或报错，加encode('utf-8')一样的效果\n",
    "with arcpy.da.SearchCursor(fc,fields) as cursor:\n",
    "    for row in cursor:\n",
    "        print('{0},{1}'.format(row[0],row[1].encode('utf-8')))"
   ]
  },
  {
   "cell_type": "markdown",
   "metadata": {},
   "source": [
    "#### 1.3插入游标arcpy.da.InsertCursor"
   ]
  },
  {
   "cell_type": "code",
   "execution_count": 58,
   "metadata": {},
   "outputs": [
    {
     "name": "stdout",
     "output_type": "stream",
     "text": [
      "('chengdu', (104, 30))\n",
      "('suzhou', (120, 31))\n",
      "('nanjing', (118, 32))\n"
     ]
    }
   ],
   "source": [
    "import arcpy\n",
    "arcpy.env.workspace = r'D:\\rui\\code_analysis\\homework\\file\\GIS\\class2002.gdb'\n",
    "\n",
    "fc = 'dot'\n",
    "fields = ['city_name','SHAPE@XY']\n",
    "#要插入的信息\n",
    "row_values = [('chengdu',(104,30)),\n",
    "              ('suzhou',(120,31)),\n",
    "              ('nanjing',(118,32))]\n",
    "with arcpy.da.InsertCursor(fc,fields) as cursor:\n",
    "    for row in row_values:\n",
    "        print(row)\n",
    "        cursor.insertRow(row)"
   ]
  },
  {
   "cell_type": "markdown",
   "metadata": {},
   "source": [
    "#### 1.4更新游标arcpy.da.UpdataCursor"
   ]
  },
  {
   "cell_type": "code",
   "execution_count": 66,
   "metadata": {},
   "outputs": [
    {
     "name": "stdout",
     "output_type": "stream",
     "text": [
      "done\n"
     ]
    }
   ],
   "source": [
    "import arcpy\n",
    "arcpy.env.workspace = r'D:\\rui\\code_analysis\\homework\\file\\GIS\\class2002.gdb'\n",
    "\n",
    "fc = 'XZQ_town_update'\n",
    "field = ['A_belong_town']\n",
    "\n",
    "with arcpy.da.UpdateCursor(fc,field) as cursor:\n",
    "    for row in cursor:\n",
    "        if u'镇' not in row[0]:\n",
    "            row[0] = row[0] + u'镇'\n",
    "        #更新游标\n",
    "        cursor.updateRow(row)\n",
    "print('done')"
   ]
  },
  {
   "cell_type": "code",
   "execution_count": 68,
   "metadata": {},
   "outputs": [
    {
     "data": {
      "text/plain": [
       "'A_belong_town'"
      ]
     },
     "execution_count": 68,
     "metadata": {},
     "output_type": "execute_result"
    }
   ],
   "source": [
    "#列出表对应的列名\n",
    "arcpy.ListFields('XZQ_town_update','*town*')[0].name.encode('utf-8')"
   ]
  },
  {
   "cell_type": "code",
   "execution_count": 77,
   "metadata": {},
   "outputs": [
    {
     "name": "stdout",
     "output_type": "stream",
     "text": [
      "done\n"
     ]
    }
   ],
   "source": [
    "import arcpy\n",
    "arcpy.env.workspace = r'D:\\rui\\code_analysis\\homework\\file\\GIS\\class2002.gdb'\n",
    "\n",
    "fc = 'XZQ_town_update_1'\n",
    "field = ['SHAPE@AREA']\n",
    "\n",
    "with arcpy.da.UpdateCursor(fc,field) as cursor:\n",
    "    for row in cursor:\n",
    "        if row[0] < 500000:\n",
    "            #删除游标\n",
    "            cursor.deleteRow()\n",
    "print('done')"
   ]
  },
  {
   "cell_type": "code",
   "execution_count": 69,
   "metadata": {},
   "outputs": [
    {
     "data": {
      "text/plain": [
       "[u'XZQ_town', u'XZQ_vill_dt', u'dot', u'XZQ_town_update', u'XZQ_town_update_1']"
      ]
     },
     "execution_count": 69,
     "metadata": {},
     "output_type": "execute_result"
    }
   ],
   "source": []
  },
  {
   "cell_type": "code",
   "execution_count": null,
   "metadata": {},
   "outputs": [],
   "source": []
  },
  {
   "cell_type": "code",
   "execution_count": null,
   "metadata": {},
   "outputs": [],
   "source": []
  },
  {
   "cell_type": "code",
   "execution_count": null,
   "metadata": {},
   "outputs": [],
   "source": []
  },
  {
   "cell_type": "code",
   "execution_count": null,
   "metadata": {},
   "outputs": [],
   "source": []
  },
  {
   "cell_type": "code",
   "execution_count": null,
   "metadata": {},
   "outputs": [],
   "source": []
  },
  {
   "cell_type": "code",
   "execution_count": null,
   "metadata": {},
   "outputs": [],
   "source": []
  },
  {
   "cell_type": "code",
   "execution_count": null,
   "metadata": {},
   "outputs": [],
   "source": []
  },
  {
   "cell_type": "code",
   "execution_count": null,
   "metadata": {},
   "outputs": [],
   "source": []
  },
  {
   "cell_type": "markdown",
   "metadata": {},
   "source": [
    "#### 2.1使用令牌，获取几何对象信息shape@AREA shape@XY等"
   ]
  },
  {
   "cell_type": "code",
   "execution_count": 37,
   "metadata": {},
   "outputs": [
    {
     "name": "stdout",
     "output_type": "stream",
     "text": [
      "1,仙女镇,145529721.752,(40561623.53532807, 3539633.0581835127)\n",
      "2,宜陵镇,59858689.529,(40569848.18776498, 3545419.723753655)\n",
      "3,吴桥镇,55979141.5286,(40575840.03571186, 3540920.7188733243)\n",
      "4,邵伯镇,122921115.329,(40553624.43162427, 3555642.1228415915)\n",
      "5,丁伙镇,80910494.1719,(40563611.79783072, 3548694.578762301)\n",
      "6,武坚镇,85671668.1256,(40581925.86031338, 3573359.5933980327)\n",
      "7,丁沟镇,99940151.0661,(40571986.98141155, 3553918.960162455)\n",
      "8,大桥镇,160161405.963,(40575264.13863847, 3532034.902787635)\n",
      "9,真武镇,76047167.4298,(40559678.388640985, 3558956.5183717767)\n",
      "10,小纪镇,176683230.755,(40579812.214309864, 3563827.1079171062)\n",
      "11,樊川镇,118587550.981,(40568025.48309077, 3564656.523279125)\n",
      "12,浦头镇,43147895.7467,(40583311.92192002, 3535875.528737229)\n",
      "13,郭村镇,104495286.957,(40580348.892011866, 3547416.3676366312)\n"
     ]
    }
   ],
   "source": [
    "import arcpy\n",
    "arcpy.env.workspace = r'D:\\rui\\code_analysis\\homework\\file\\GIS\\class2002.gdb'\n",
    "\n",
    "fc = 'XZQ_town'\n",
    "fields = ['OBJECTID','A_belong_town','shape@AREA','shape@XY']\n",
    "\n",
    "with arcpy.da.SearchCursor(fc,fields) as cursor:\n",
    "    for row in cursor:\n",
    "        print(u'{},{},{},{}'.format(row[0],row[1],row[2],row[3]))"
   ]
  },
  {
   "cell_type": "markdown",
   "metadata": {},
   "source": [
    "#### 2.2构建查询表达式，筛选对象"
   ]
  },
  {
   "cell_type": "code",
   "execution_count": 53,
   "metadata": {},
   "outputs": [
    {
     "name": "stdout",
     "output_type": "stream",
     "text": [
      "圣禾村\n",
      "友爱村\n",
      "直属村\n",
      "樊南村\n",
      "陆巷村\n",
      "东汇村\n",
      "五和村\n",
      "联丰村\n",
      "跃进村\n",
      "和丰村\n",
      "关河村\n",
      "永新村\n",
      "永安村\n",
      "永联村\n",
      "新圩村\n",
      "聚永村\n",
      "西闫村\n",
      "联谊村\n",
      "三周村\n",
      "同丰村\n",
      "大同村\n"
     ]
    }
   ],
   "source": [
    "import arcpy\n",
    "arcpy.env.workspace = r'D:\\rui\\code_analysis\\homework\\file\\GIS\\class2002.gdb'\n",
    "\n",
    "fc = 'XZQ_vill_dt'\n",
    "fields = ['OBJECTID','XZQMC','shape@AREA']\n",
    "#查询表达式,外面是双引号\n",
    "expression = \"A_belong_town = '樊川镇'\"\n",
    "\n",
    "with arcpy.da.SearchCursor(fc,fields,where_clause=expression) as cursor:\n",
    "    for row in cursor:\n",
    "        print(row[1])"
   ]
  },
  {
   "cell_type": "code",
   "execution_count": null,
   "metadata": {},
   "outputs": [],
   "source": []
  }
 ],
 "metadata": {
  "kernelspec": {
   "display_name": "python2",
   "language": "python",
   "name": "python2"
  },
  "language_info": {
   "codemirror_mode": {
    "name": "ipython",
    "version": 2
   },
   "file_extension": ".py",
   "mimetype": "text/x-python",
   "name": "python",
   "nbconvert_exporter": "python",
   "pygments_lexer": "ipython2",
   "version": "2.7.15"
  }
 },
 "nbformat": 4,
 "nbformat_minor": 2
}
