{
 "cells": [
  {
   "cell_type": "markdown",
   "metadata": {},
   "source": [
    "### 一、几何对象的创建"
   ]
  },
  {
   "cell_type": "markdown",
   "metadata": {},
   "source": [
    "#### 1.点Point/PointGeometry/Multipoint"
   ]
  },
  {
   "cell_type": "markdown",
   "metadata": {},
   "source": [
    "#### 1.1point创建和显示其属性\n",
    ">    语法：<br>\n",
    "    Point({X},{Y},{Z},,{M},{ID})"
   ]
  },
  {
   "cell_type": "code",
   "execution_count": 5,
   "metadata": {},
   "outputs": [
    {
     "name": "stdout",
     "output_type": "stream",
     "text": [
      "ID:0\n",
      "X:120.0\n"
     ]
    }
   ],
   "source": [
    "import arcpy\n",
    "\n",
    "#创建点对象\n",
    "point = arcpy.Point(120,30,50)\n",
    "#打印点对象属性\n",
    "print(\"ID:{}\".format(point.ID))\n",
    "print(\"X:{}\".format(point.X))"
   ]
  },
  {
   "cell_type": "markdown",
   "metadata": {},
   "source": [
    "#### 1.2 PointGeometry创建要素类\n",
    ">    语法：<br>\n",
    "    PointGeometry(inputs,{spatial_reference},{has_z},{has_m})<br>\n",
    "    inputs:实例化的point对象"
   ]
  },
  {
   "cell_type": "code",
   "execution_count": 7,
   "metadata": {},
   "outputs": [
    {
     "name": "stdout",
     "output_type": "stream",
     "text": [
      "[<PointGeometry object at 0x5ded5f0[0x5ded640]>, <PointGeometry object at 0x5ded630[0x5ded6a0]>, <PointGeometry object at 0x5a3b1f0[0x504de80]>]\n",
      "done\n"
     ]
    }
   ],
   "source": [
    "import arcpy\n",
    "pointList = [[1,2],[3,5],[7,3]]    #坐标的列表对象\n",
    "\n",
    "point = arcpy.Point()              #创建一个空point对象\n",
    "pointGeometryList = []             #创建一个空pointGeometry存储对象\n",
    "\n",
    "#创建for循环，将每个坐标传给点对象，再将这个点对象转换为多点对象追加到列表中\n",
    "for pt in pointList:              \n",
    "    point.X = pt[0]\n",
    "    point.Y = pt[1]\n",
    "    pointGeometry = arcpy.PointGeometry(point)\n",
    "    pointGeometryList.append(pointGeometry)\n",
    "\n",
    "#使用CopyFeatures_management工具生成要素类文件\n",
    "print(pointGeometryList)\n",
    "arcpy.CopyFeatures_management(pointGeometryList,r'D:\\rui\\code_analysis\\homework\\file\\GIS\\class2003.gdb\\Point')\n",
    "print('done')"
   ]
  },
  {
   "cell_type": "markdown",
   "metadata": {},
   "source": [
    "#### 1.3 MultiPoint创建多点，并存储为要素类文件\n",
    ">    语法：<br>\n",
    "    MultiPoint(inputs,{spatial_reference},{has_z},{has_m})<br>\n",
    "    inputs:The coordinates used to create the object. The data type can be either Point or Array objects.<br> \n",
    "+ 在将坐标传递给arcpy.Point构造函数时使用*expression解压坐标\n",
    "+ 因为Point()要多个参数，所有时*表达式"
   ]
  },
  {
   "cell_type": "code",
   "execution_count": 10,
   "metadata": {},
   "outputs": [
    {
     "name": "stdout",
     "output_type": "stream",
     "text": [
      "<geoprocessing describe geometry object object at 0x05063640>\n",
      "done\n"
     ]
    }
   ],
   "source": [
    "import arcpy\n",
    "\n",
    "pointList = [[1,2],[3,5],[7,3]]\n",
    "#用于存储多点对象\n",
    "pt = [arcpy.Point(*coords) for coords in pointList]\n",
    "\n",
    "#Create a Multipoint object based on the array of points\n",
    "mp = arcpy.Multipoint(arcpy.Array(pt))\n",
    "print(mp)\n",
    "\n",
    "arcpy.CopyFeatures_management(mp,r'D:\\rui\\code_analysis\\homework\\file\\GIS\\class2003.gdb\\MultiPoint')\n",
    "print('done')"
   ]
  },
  {
   "cell_type": "markdown",
   "metadata": {},
   "source": [
    "### 2.线Polyline\n",
    ">    语法：<br>\n",
    "    Polyline(inputs,{spatial_reference},{has_z},{has_m})<br>"
   ]
  },
  {
   "cell_type": "code",
   "execution_count": 47,
   "metadata": {},
   "outputs": [
    {
     "name": "stdout",
     "output_type": "stream",
     "text": [
      "[<Point (7.0, 9.0, #, #)>, <Point (7.0, 5.0, #, #)>, <Point (3.0, 3.0, #, #)>]\n",
      "[<Polyline object at 0x5d2f530[0x17151740]>]\n",
      "[<Point (3.0, 5.0, #, #)>, <Point (6.0, 4.0, #, #)>, <Point (6.0, 1.0, #, #)>, <Point (4.0, 2.0, #, #)>]\n",
      "[<Polyline object at 0x5d2f530[0x17151740]>, <Polyline object at 0x17153af0[0x5d2f6a0]>]\n",
      "done\n"
     ]
    }
   ],
   "source": [
    "import arcpy\n",
    "#创建一个三维数组，其中每个二维数组为一条连续的线点的坐标\n",
    "feature_info = [[[7, 9],\n",
    "        [7, 5],\n",
    "        [3, 3]],\n",
    "\n",
    "       [[3, 5],\n",
    "        [6, 4],\n",
    "        [6, 1],\n",
    "       [4,2]]]\n",
    "#存储线段\n",
    "features = []\n",
    "\n",
    "for feature in feature_info: \n",
    "    pt = [arcpy.Point(*coords) for coords in feature]  #基于点坐标创建多点的列表\n",
    "    print(pt)\n",
    "    pl = arcpy.Polyline(arcpy.Array(pt))               #Create a Polyline object based on the array of points\n",
    "    features.append(pl)\n",
    "    \n",
    "    print(features)\n",
    "arcpy.CopyFeatures_management(features,r'D:\\rui\\code_analysis\\homework\\file\\GIS\\class2003.gdb\\PolyLine')\n",
    "print('done')"
   ]
  },
  {
   "cell_type": "markdown",
   "metadata": {},
   "source": [
    "### 3.面Polygon\n",
    ">    语法：<br>\n",
    "    Polygon(inputs,{spatial_reference},{has_z},{has_m})<br>"
   ]
  },
  {
   "cell_type": "code",
   "execution_count": 70,
   "metadata": {},
   "outputs": [
    {
     "name": "stdout",
     "output_type": "stream",
     "text": [
      "done\n"
     ]
    }
   ],
   "source": [
    "import arcpy\n",
    "#创建面定点坐标信息\n",
    "feature_info = [[[6, 3],\n",
    "        [8, 7],\n",
    "        [5, 7]],\n",
    "\n",
    "       [[3, 6],\n",
    "        [8, 1],\n",
    "        [8, 5]],\n",
    "\n",
    "       [[3, 6],\n",
    "        [6, 6],\n",
    "        [3, 3]]]\n",
    "#创建面存储列表\n",
    "features = []\n",
    "#for循环生成面，存储\n",
    "for feature in feature_info:\n",
    "    #将信息转换为arcpy点对象\n",
    "    pt_list = []\n",
    "    for i in feature:\n",
    "        pt = arcpy.Point(*i)\n",
    "        pt_list.append(pt)\n",
    "    #将点列表转换为数组\n",
    "    pt_ar = arcpy.Array(pt_list)\n",
    "    #将点数组转换为polygon\n",
    "    pg = arcpy.Polygon(pt_ar)\n",
    "    #将生成的面添加到面列表\n",
    "    features.append(pg)\n",
    "#保存面文件\n",
    "arcpy.CopyFeatures_management(features,r'D:\\rui\\code_analysis\\homework\\file\\GIS\\class2003.gdb\\Polygon')\n",
    "print('done')"
   ]
  },
  {
   "cell_type": "markdown",
   "metadata": {},
   "source": [
    "### 二、几何对象的属性"
   ]
  },
  {
   "cell_type": "markdown",
   "metadata": {},
   "source": [
    "#### 1.Point"
   ]
  },
  {
   "cell_type": "code",
   "execution_count": null,
   "metadata": {},
   "outputs": [],
   "source": [
    "import arcpy\n",
    "piont = arcpy.Point(3,10)\n",
    "\n",
    "print('Point Properties:')\n",
    "print('ID:{}'.format(point.ID))\n",
    "print('X:{}'.format(point.X))\n",
    "print('Y:{}'.format(point.Y))\n",
    "print(':{}'.format(point.X))"
   ]
  }
 ],
 "metadata": {
  "kernelspec": {
   "display_name": "python2",
   "language": "python",
   "name": "python2"
  },
  "language_info": {
   "codemirror_mode": {
    "name": "ipython",
    "version": 2
   },
   "file_extension": ".py",
   "mimetype": "text/x-python",
   "name": "python",
   "nbconvert_exporter": "python",
   "pygments_lexer": "ipython2",
   "version": "2.7.15"
  }
 },
 "nbformat": 4,
 "nbformat_minor": 2
}
