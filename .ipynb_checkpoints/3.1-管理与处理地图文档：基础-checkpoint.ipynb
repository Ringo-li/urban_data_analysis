{
 "cells": [
  {
   "cell_type": "markdown",
   "metadata": {},
   "source": [
    "##### 特别说明：文件路径请根据自己文件夹路径调整\n",
    "##### 请使用Python2的内核"
   ]
  },
  {
   "cell_type": "markdown",
   "metadata": {
    "collapsed": true
   },
   "source": [
    "## 0. 什么是 arcpy.mapping？\n",
    "```\n",
    "Arcpy.mapping 设计初衷主要是用于操作现有地图文档 (.mxd) 和图层文件 (.lyr) 的内容。此外，还提供自动执行导出和打印的函数。\n",
    "\n",
    "以下是 arcpy.mapping 脚本可完成的众多方案中的一小部分：\n",
    "```\n",
    "> - 创建有关地图文档中所含信息（如数据框坐标系、图层数据源、数据源损坏的图层或布局元素位置）的报告。\n",
    "> - 更新、修复或替换地图文档或图层文件中的图层数据源。\n",
    "> - 更新图层符号系统而无需实际打开地图文档。\n",
    "> - 查找并替换文件夹内所有地图文档中的文本字符串。\n",
    "> - 将地图文档保存至之前的 ArcGIS 版本以便分发。\n",
    "> - 更新地图文档元数据（例如，关键字、摘要和描述）。\n",
    "> - 使用地图导出命令批量创建地理数据，例如由数据框中要素列表驱动的一系列 GeoTIFF 图像。\n",
    "> - 自动创建和管理要通过 ArcGIS for Server 发布的地图服务。\n",
    "> - 构建多种 PDF 地图册：\n",
    ">  - 含标题页、多个地图页面以及任意数量含辅助内容（如表格式报表和联系人列表）的附加页面的专题或时态地图册。\n",
    ">  - 基于数据驱动页面输出的参考地图册。 \n"
   ]
  },
  {
   "cell_type": "markdown",
   "metadata": {},
   "source": [
    "### 重点介绍两个对象： \n",
    "> MapDocument\n",
    "\n",
    "> Layers"
   ]
  },
  {
   "cell_type": "markdown",
   "metadata": {},
   "source": [
    "> 地图文档的文件后缀名是.mxd\n",
    "\n",
    "> 图层的后缀名是.lyr"
   ]
  },
  {
   "cell_type": "markdown",
   "metadata": {},
   "source": [
    "##### MapDocument、DataFrame、Layers的层级关系"
   ]
  },
  {
   "cell_type": "markdown",
   "metadata": {},
   "source": [
    "## 1. MapDocument 类\n",
    "使用arcpy.mapping.MapDocument创建地图文档对象。<br>\n",
    "    \n",
    "> MapDocument (mxd_path)\n",
    "\n",
    "1.属性\n",
    "title等属性\n",
    "\n",
    "2.方法：\n",
    "save()与saveACopy()\n",
    "\n"
   ]
  },
  {
   "cell_type": "markdown",
   "metadata": {},
   "source": [
    "#### 示例1 ：属性"
   ]
  },
  {
   "cell_type": "code",
   "execution_count": 1,
   "metadata": {},
   "outputs": [
    {
     "name": "stdout",
     "output_type": "stream",
     "text": [
      "2000-2013年密度\n"
     ]
    }
   ],
   "source": [
    "import arcpy\n",
    "\n",
    "mxd = r'D:\\tutoGIS\\Mapping\\ch3.1\\MD.mxd'\n",
    "mapdoc = arcpy.mapping.MapDocument(mxd)\n",
    "\n",
    "print(mapdoc.title)\n",
    "\n",
    "del mapdoc"
   ]
  },
  {
   "cell_type": "markdown",
   "metadata": {},
   "source": [
    "#### 示例2 ：方法-保存副本"
   ]
  },
  {
   "cell_type": "code",
   "execution_count": 2,
   "metadata": {},
   "outputs": [],
   "source": [
    "import arcpy\n",
    "\n",
    "mxd = r'D:\\tutoGIS\\Mapping\\ch3.1\\MD.mxd'\n",
    "mapdoc = arcpy.mapping.MapDocument(mxd)\n",
    "\n",
    "mapdoc.saveACopy(r'D:\\tutoGIS\\Mapping\\ch3.1\\MD_copy.mxd')\n",
    "\n",
    "del mapdoc"
   ]
  },
  {
   "cell_type": "markdown",
   "metadata": {},
   "source": [
    "#### 示例3 ：涉及MapDocument的相关函数"
   ]
  },
  {
   "cell_type": "markdown",
   "metadata": {},
   "source": [
    "语法\n",
    "```\n",
    "ExportToJPEG (map_document, out_jpeg, {data_frame}, {df_export_width}, {df_export_height}, {resolution}, {world_file}, {color_mode}, {jpeg_quality}, {progressive})\n",
    "```"
   ]
  },
  {
   "cell_type": "code",
   "execution_count": 3,
   "metadata": {},
   "outputs": [],
   "source": [
    "import arcpy\n",
    "\n",
    "mxd = r'D:\\tutoGIS\\Mapping\\ch3.1\\MD.mxd'\n",
    "mapdoc = arcpy.mapping.MapDocument(mxd)\n",
    "\n",
    "arcpy.mapping.ExportToJPEG(mapdoc,\n",
    "                           r\"D:\\tutoGIS\\Mapping\\ch3.1\\ProjectDataFrame.jpg\", \n",
    "                           df_export_width=1600,\n",
    "                           df_export_height=1200,\n",
    "                           resolution=300)\n",
    "\n",
    "del mapdoc"
   ]
  },
  {
   "cell_type": "markdown",
   "metadata": {},
   "source": [
    "## 2. Layer \n",
    "\n",
    "通过arcpy.mapping.ListLayers()函数列出Layer对象。\n",
    "\n",
    "语法\n",
    "```\n",
    "ListLayers (map_document_or_layer, {wildcard}, {data_frame})\n",
    "```"
   ]
  },
  {
   "cell_type": "markdown",
   "metadata": {},
   "source": [
    "#### 示例1 ：获得文档所有的图层  "
   ]
  },
  {
   "cell_type": "code",
   "execution_count": 4,
   "metadata": {},
   "outputs": [
    {
     "name": "stdout",
     "output_type": "stream",
     "text": [
      "XZQ_town\n",
      "XZQ_vill_dt\n",
      "MDES2013\n",
      "MDES2010\n",
      "MDES2005\n",
      "MDES2000\n",
      "MDYC2013\n",
      "MDYC2010\n",
      "MDYC2005\n",
      "MDYC2000\n",
      "MDNL2013\n",
      "MDNL2010\n",
      "MDNL2005\n",
      "MDNL2000\n"
     ]
    }
   ],
   "source": [
    "mxd = r'D:\\tutoGIS\\Mapping\\ch3.1\\MD.mxd'\n",
    "mapdoc = arcpy.mapping.MapDocument(mxd)\n",
    "\n",
    "for lyr in arcpy.mapping.ListLayers(mapdoc):\n",
    "    print lyr.name\n",
    "del mxd"
   ]
  },
  {
   "cell_type": "markdown",
   "metadata": {},
   "source": [
    "#### 示例2：获得文档所有的不可见图层"
   ]
  },
  {
   "cell_type": "code",
   "execution_count": 5,
   "metadata": {},
   "outputs": [
    {
     "name": "stdout",
     "output_type": "stream",
     "text": [
      "MDES2013 is invisible\n",
      "MDES2010 is invisible\n",
      "MDES2005 is invisible\n"
     ]
    }
   ],
   "source": [
    "mxd = r'D:\\tutoGIS\\Mapping\\ch3.1\\MD.mxd'\n",
    "mapdoc = arcpy.mapping.MapDocument(mxd)\n",
    "\n",
    "for lyr in arcpy.mapping.ListLayers(mapdoc):\n",
    "    if lyr.visible == False:\n",
    "        print(\"{} is invisible\".format(lyr.name))\n",
    "del mxd"
   ]
  },
  {
   "cell_type": "markdown",
   "metadata": {},
   "source": [
    "#### 示例3：获得图层的数据源"
   ]
  },
  {
   "cell_type": "code",
   "execution_count": 6,
   "metadata": {
    "scrolled": true
   },
   "outputs": [
    {
     "name": "stdout",
     "output_type": "stream",
     "text": [
      "D:\\tutoGIS\\Mapping\\ch3.1\\basic_data.mdb\\XZQ_town\n",
      "D:\\tutoGIS\\Mapping\\ch3.1\\basic_data.mdb\\XZQ_vill_dt\n",
      "D:\\tutoGIS\\Mapping\\ch3.1\\MD\\MDES2013\n",
      "D:\\tutoGIS\\Mapping\\ch3.1\\MD\\MDES2010\n",
      "D:\\tutoGIS\\Mapping\\ch3.1\\MD\\MDES2005\n",
      "D:\\tutoGIS\\Mapping\\ch3.1\\MD\\MDES2000\n",
      "D:\\tutoGIS\\Mapping\\ch3.1\\MD\\MDYC2013\n",
      "D:\\tutoGIS\\Mapping\\ch3.1\\MD\\MDYC2010\n",
      "D:\\tutoGIS\\Mapping\\ch3.1\\MD\\MDYC2005\n",
      "D:\\tutoGIS\\Mapping\\ch3.1\\MD\\MDYC2000\n",
      "D:\\tutoGIS\\Mapping\\ch3.1\\MD\\MDNL2013\n",
      "D:\\tutoGIS\\Mapping\\ch3.1\\MD\\MDNL2010\n",
      "D:\\tutoGIS\\Mapping\\ch3.1\\MD\\MDNL2005\n",
      "D:\\tutoGIS\\Mapping\\ch3.1\\MD\\MDNL2000\n"
     ]
    }
   ],
   "source": [
    "mxd = r'D:\\tutoGIS\\Mapping\\ch3.1\\MD.mxd'\n",
    "mapdoc = arcpy.mapping.MapDocument(mxd)\n",
    "\n",
    "for lyr in arcpy.mapping.ListLayers(mapdoc):\n",
    "    print lyr.dataSource\n",
    "del mxd"
   ]
  },
  {
   "cell_type": "code",
   "execution_count": null,
   "metadata": {},
   "outputs": [],
   "source": []
  }
 ],
 "metadata": {
  "kernelspec": {
   "display_name": "python2",
   "language": "python",
   "name": "python2"
  },
  "language_info": {
   "codemirror_mode": {
    "name": "ipython",
    "version": 2
   },
   "file_extension": ".py",
   "mimetype": "text/x-python",
   "name": "python",
   "nbconvert_exporter": "python",
   "pygments_lexer": "ipython2",
   "version": "2.7.15"
  }
 },
 "nbformat": 4,
 "nbformat_minor": 1
}
