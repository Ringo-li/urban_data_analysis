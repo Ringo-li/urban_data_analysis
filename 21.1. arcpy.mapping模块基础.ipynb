{
 "cells": [
  {
   "cell_type": "markdown",
   "metadata": {},
   "source": [
    "### 重点介绍两个对象\n",
    "><p>MapDocument&nbsp;&nbsp;.mxd文件</p>\n",
    "><p>layers&nbsp;&nbsp;.lyr文件</p>"
   ]
  },
  {
   "cell_type": "markdown",
   "metadata": {},
   "source": [
    "#### 1.MapDocument类\n",
    "使用arcpy.maping.MapDocument创建地图文档对象\n",
    ">MapDocument(mxd_path)\n",
    "\n",
    "1.属性title<br>\n",
    "2.方法：save(),saveACopy()"
   ]
  },
  {
   "cell_type": "markdown",
   "metadata": {},
   "source": [
    "#### 1.1属性"
   ]
  },
  {
   "cell_type": "code",
   "execution_count": 1,
   "metadata": {},
   "outputs": [
    {
     "name": "stdout",
     "output_type": "stream",
     "text": [
      "2000-2013年密度\n"
     ]
    }
   ],
   "source": [
    "import arcpy\n",
    "\n",
    "mxd = r'D:/rui/code_analysis/file/GIS/class2101/MD.mxd'\n",
    "mapdoc = arcpy.mapping.MapDocument(mxd)\n",
    "#打印标题，标题不是文件名\n",
    "print(mapdoc.title)\n",
    "#使用完后要删除变量\n",
    "del mapdoc"
   ]
  },
  {
   "cell_type": "markdown",
   "metadata": {},
   "source": [
    "#### 1.2方法：保存副本"
   ]
  },
  {
   "cell_type": "code",
   "execution_count": 2,
   "metadata": {},
   "outputs": [],
   "source": [
    "import arcpy \n",
    "\n",
    "mxd = r'D:/rui/code_analysis/file/GIS/class2101/MD.mxd'\n",
    "mapdoc = arcpy.mapping.MapDocument(mxd)\n",
    "#复制一份\n",
    "mapdoc.saveACopy( r'D:/rui/code_analysis/file/GIS/class2101/MD_copy.mxd')\n",
    "\n",
    "del mapdoc"
   ]
  },
  {
   "cell_type": "markdown",
   "metadata": {},
   "source": [
    "#### 1.3涉及MapDocument的函数\n",
    "语法：\n",
    "```\n",
    "ExportToJPEG (map_document, out_jpeg, {data_frame}, {df_export_width}, {df_export_height}, {resolution}, {world_file}, {color_mode}, {jpeg_quality}, {progressive})\n",
    "```"
   ]
  },
  {
   "cell_type": "code",
   "execution_count": 3,
   "metadata": {},
   "outputs": [],
   "source": [
    "import arcpy\n",
    "\n",
    "mxd = r'D:/rui/code_analysis/file/GIS/class2101/MD.mxd'\n",
    "mapdoc = arcpy.mapping.MapDocument(mxd)\n",
    "\n",
    "arcpy.mapping.ExportToJPEG(mapdoc,\n",
    "                          r'D:/rui/code_analysis/file/GIS/class2101/MD.jpg',\n",
    "                          df_export_width=1600,\n",
    "                          df_export_height=1200,\n",
    "                          resolution=300)\n",
    "del mapdoc"
   ]
  },
  {
   "cell_type": "markdown",
   "metadata": {},
   "source": [
    "#### 2.layer\n",
    ">列出Layer对象：<br>\n",
    "arcpy.mapping.ListLayer()<br>\n",
    ">语法：<br>\n",
    "arcpy.mapping.ListLayers (map_document_or_layer, {wildcard}, {data_frame})<br>"
   ]
  },
  {
   "cell_type": "markdown",
   "metadata": {},
   "source": [
    "#### 2.1获取文档图层"
   ]
  },
  {
   "cell_type": "code",
   "execution_count": 4,
   "metadata": {},
   "outputs": [
    {
     "name": "stdout",
     "output_type": "stream",
     "text": [
      "XZQ_town\n",
      "XZQ_vill_dt\n",
      "MDES2013\n",
      "MDES2010\n",
      "MDES2005\n",
      "MDES2000\n",
      "MDYC2013\n",
      "MDYC2010\n",
      "MDYC2005\n",
      "MDYC2000\n",
      "MDNL2013\n",
      "MDNL2010\n",
      "MDNL2005\n",
      "MDNL2000\n"
     ]
    }
   ],
   "source": [
    "mxd = r'D:/rui/code_analysis/file/GIS/class2101/MD.mxd'\n",
    "mapdoc = arcpy.mapping.MapDocument(mxd)\n",
    "\n",
    "for lyr in arcpy.mapping.ListLayers(mapdoc):\n",
    "    print(lyr.name)\n",
    "    \n",
    "del mapdoc"
   ]
  },
  {
   "cell_type": "markdown",
   "metadata": {},
   "source": [
    "#### 2.2获取文档的不可见图层"
   ]
  },
  {
   "cell_type": "code",
   "execution_count": 7,
   "metadata": {},
   "outputs": [
    {
     "name": "stdout",
     "output_type": "stream",
     "text": [
      "MDES2013\n",
      "MDES2010\n",
      "MDES2005\n"
     ]
    }
   ],
   "source": [
    "mxd = r'D:/rui/code_analysis/file/GIS/class2101/MD.mxd'\n",
    "mapdoc = arcpy.mapping.MapDocument(mxd)\n",
    "\n",
    "for lyr in arcpy.mapping.ListLayers(mapdoc):\n",
    "    if lyr.visible ==  False:\n",
    "        print(lyr.name)\n",
    "\n",
    "del mapdoc"
   ]
  },
  {
   "cell_type": "markdown",
   "metadata": {},
   "source": [
    "#### 2.3获取文档是数据源"
   ]
  },
  {
   "cell_type": "code",
   "execution_count": 8,
   "metadata": {},
   "outputs": [
    {
     "name": "stdout",
     "output_type": "stream",
     "text": [
      "D:\\rui\\code_analysis\\file\\GIS\\class2101\\basic_data.mdb\\XZQ_town\n",
      "D:\\rui\\code_analysis\\file\\GIS\\class2101\\basic_data.mdb\\XZQ_vill_dt\n",
      "D:\\rui\\code_analysis\\file\\GIS\\class2101\\MD\\MDES2013\n",
      "D:\\rui\\code_analysis\\file\\GIS\\class2101\\MD\\MDES2010\n",
      "D:\\rui\\code_analysis\\file\\GIS\\class2101\\MD\\MDES2005\n",
      "D:\\rui\\code_analysis\\file\\GIS\\class2101\\MD\\MDES2000\n",
      "D:\\rui\\code_analysis\\file\\GIS\\class2101\\MD\\MDYC2013\n",
      "D:\\rui\\code_analysis\\file\\GIS\\class2101\\MD\\MDYC2010\n",
      "D:\\rui\\code_analysis\\file\\GIS\\class2101\\MD\\MDYC2005\n",
      "D:\\rui\\code_analysis\\file\\GIS\\class2101\\MD\\MDYC2000\n",
      "D:\\rui\\code_analysis\\file\\GIS\\class2101\\MD\\MDNL2013\n",
      "D:\\rui\\code_analysis\\file\\GIS\\class2101\\MD\\MDNL2010\n",
      "D:\\rui\\code_analysis\\file\\GIS\\class2101\\MD\\MDNL2005\n",
      "D:\\rui\\code_analysis\\file\\GIS\\class2101\\MD\\MDNL2000\n"
     ]
    }
   ],
   "source": [
    "mxd = r'D:/rui/code_analysis/file/GIS/class2101/MD.mxd'\n",
    "mapdoc = arcpy.mapping.MapDocument(mxd)\n",
    "\n",
    "for lyr in arcpy.mapping.ListLayers(mapdoc):\n",
    "    print(lyr.dataSource)\n",
    "del mapdoc"
   ]
  },
  {
   "cell_type": "code",
   "execution_count": null,
   "metadata": {},
   "outputs": [],
   "source": []
  }
 ],
 "metadata": {
  "kernelspec": {
   "display_name": "python2",
   "language": "python",
   "name": "python2"
  },
  "language_info": {
   "codemirror_mode": {
    "name": "ipython",
    "version": 2
   },
   "file_extension": ".py",
   "mimetype": "text/x-python",
   "name": "python",
   "nbconvert_exporter": "python",
   "pygments_lexer": "ipython2",
   "version": "2.7.15"
  }
 },
 "nbformat": 4,
 "nbformat_minor": 2
}
