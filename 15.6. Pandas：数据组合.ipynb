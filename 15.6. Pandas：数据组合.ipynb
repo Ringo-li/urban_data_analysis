{
 "cells": [
  {
   "cell_type": "code",
   "execution_count": null,
   "metadata": {},
   "outputs": [],
   "source": [
    "import pandas as pd\n",
    "import numpy as np"
   ]
  },
  {
   "cell_type": "code",
   "execution_count": null,
   "metadata": {},
   "outputs": [],
   "source": [
    "def make_df(cols,ind):\n",
    "    '''Quikly make a DataFrame'''\n",
    "    data = {c:[str(c) + str(i) for i in ind]\n",
    "           for c in cols}\n",
    "    return pd.DataFrame(data,ind)"
   ]
  },
  {
   "cell_type": "code",
   "execution_count": null,
   "metadata": {},
   "outputs": [],
   "source": [
    "class display():\n",
    "    template=\"\"\"<div style=\"float: left;padding: 10px;\">\n",
    "    <p style='font-family:\"Courier New\",Courier,monospace'>{0}</p>{1}\n",
    "    </div>\"\"\"\n",
    "    def __init__(self,*args):\n",
    "        self.args = args\n",
    "    \n",
    "    def _repr_html_(self):\n",
    "        return '\\n'.join(self.template.format(a,eval(a)._repr_html_())\n",
    "                         for a in self.args)\n",
    "    \n",
    "    def __repr__(self):\n",
    "        return '\\n\\n'.join(a + '\\n' + repr(eval(a))\n",
    "                          for a in self.args)"
   ]
  },
  {
   "cell_type": "markdown",
   "metadata": {},
   "source": [
    "#### 1.numpy中的数据组合concatenate"
   ]
  },
  {
   "cell_type": "code",
   "execution_count": null,
   "metadata": {},
   "outputs": [],
   "source": [
    "x = [1,2,3]\n",
    "y = [4,5,6]\n",
    "z = [7,8,9]\n",
    "a = np.concatenate([x,y,z])#numpyy用concatenate来对多个序列进行合并"
   ]
  },
  {
   "cell_type": "code",
   "execution_count": null,
   "metadata": {},
   "outputs": [],
   "source": [
    "x = [[1,2],[3,4]]\n",
    "a = np.concatenate([x,x])"
   ]
  },
  {
   "cell_type": "code",
   "execution_count": null,
   "metadata": {},
   "outputs": [],
   "source": [
    "b = np.concatenate([x,x],axis=1)#axis用来调节轴向，1表示纵向合并"
   ]
  },
  {
   "cell_type": "markdown",
   "metadata": {},
   "source": [
    "#### 2.pandas中的数据组合concat"
   ]
  },
  {
   "cell_type": "code",
   "execution_count": null,
   "metadata": {},
   "outputs": [],
   "source": [
    "ser1 = pd.Series(list('ABC'),index=[1,2,3])\n",
    "ser2 = pd.Series(list('DEF'),index=[1,2,3])\n",
    "pd.concat([ser1,ser2])#pandas中使用concat来对多个Series和DataFrame对象进行合并"
   ]
  },
  {
   "cell_type": "code",
   "execution_count": null,
   "metadata": {},
   "outputs": [],
   "source": [
    "ser1 = pd.Series(list('ABC'),index=[1,2,3])\n",
    "ser2 = pd.Series(list('DEF'),index=[1,2,3])\n",
    "pd.concat([ser1,ser2],axis=1)#用axis参数来控制轴向"
   ]
  },
  {
   "cell_type": "code",
   "execution_count": null,
   "metadata": {},
   "outputs": [],
   "source": [
    "df1 = make_df('AB',[1,2])\n",
    "df2 = make_df('AB',[3,4])\n",
    "display('df1','df2','pd.concat([df1,df2],axis=0)')"
   ]
  },
  {
   "cell_type": "code",
   "execution_count": null,
   "metadata": {},
   "outputs": [],
   "source": [
    "df1 = make_df('AB',[1,2])\n",
    "df2 = make_df('CD',[1,2])\n",
    "display('df1','df2','pd.concat([df1,df2],axis=1)')"
   ]
  },
  {
   "cell_type": "code",
   "execution_count": null,
   "metadata": {
    "scrolled": true
   },
   "outputs": [],
   "source": [
    "df1 = pd.DataFrame({\n",
    "    'city':['cityA','cityB'],\n",
    "    'pop':[1200,1000],\n",
    "    'gdp':[1.2,2.2]\n",
    "})\n",
    "df2 = pd.DataFrame({\n",
    "    'city':['cityC','cityD'],\n",
    "    'area':['south','north'],\n",
    "    'pop':[1100,1300],\n",
    "    'gdp':[1.7,2.3]   \n",
    "})\n",
    "display('df1','df2','pd.concat([df2,df1],sort=False,axis=0)')#如果DataFrame对象规格不同，会有一行提示，sort参数取消提示"
   ]
  },
  {
   "cell_type": "code",
   "execution_count": null,
   "metadata": {},
   "outputs": [],
   "source": [
    "pd.concat([df2,df1],join='outer',sort=False)#join='outer'表示两个对象取并集，是默认参数"
   ]
  },
  {
   "cell_type": "code",
   "execution_count": null,
   "metadata": {},
   "outputs": [],
   "source": [
    "pd.concat([df2,df1],join='inner').reset_index(drop=True)#join='inner'取交集,reset_index(drop=Ture)表示重新定义索引"
   ]
  },
  {
   "cell_type": "markdown",
   "metadata": {},
   "source": [
    "#### 3.append方法"
   ]
  },
  {
   "cell_type": "code",
   "execution_count": null,
   "metadata": {},
   "outputs": [],
   "source": [
    "df1 = pd.DataFrame({\n",
    "    'city':['cityA','cityB'],\n",
    "    'pop':[1200,1000],\n",
    "    'gdp':[1.2,2.2]\n",
    "})\n",
    "df2 = pd.DataFrame({\n",
    "    'city':['cityC','cityD'],\n",
    "    'area':['south','north'],\n",
    "    'pop':[1100,1300],\n",
    "    'gdp':[1.7,2.3]   \n",
    "})"
   ]
  },
  {
   "cell_type": "code",
   "execution_count": null,
   "metadata": {},
   "outputs": [],
   "source": [
    "display('df1','df2','df1.append(df2,sort=False)')#DataFrame对象用append方法合并其他对象"
   ]
  },
  {
   "cell_type": "code",
   "execution_count": null,
   "metadata": {},
   "outputs": [],
   "source": [
    "display('df1','df2','df2.append(df1,sort=False,ignore_index=True)')#重新定义索引用ignore_index=True"
   ]
  },
  {
   "cell_type": "markdown",
   "metadata": {},
   "source": [
    "#### 4.连接Merge"
   ]
  },
  {
   "cell_type": "markdown",
   "metadata": {},
   "source": [
    "##### 4.1一对一连接"
   ]
  },
  {
   "cell_type": "code",
   "execution_count": null,
   "metadata": {},
   "outputs": [],
   "source": [
    "df1 = pd.DataFrame({\n",
    "    'employee':['bob','jake','lisa','Sue'],\n",
    "    'group':['Accounting','Engineering','HR','Engineering']\n",
    "})\n",
    "df2 = pd.DataFrame({\n",
    "    'employee':['jake','lisa','bob','Sue'],\n",
    "    'hire_data':[2004,2008,2005,2013]\n",
    "})\n",
    "df3 = pd.merge(df1,df2)\n",
    "display('df1','df2','df3')"
   ]
  },
  {
   "cell_type": "markdown",
   "metadata": {},
   "source": [
    "##### 4.2多对一连接"
   ]
  },
  {
   "cell_type": "code",
   "execution_count": null,
   "metadata": {},
   "outputs": [],
   "source": [
    "df4 = pd.DataFrame({\n",
    "    'supervisor':['carly','clier','ringo'],\n",
    "    'group':['Accounting','Engineering','HR']\n",
    "})\n",
    "display('df3','df4','pd.merge(df3,df4)')"
   ]
  },
  {
   "cell_type": "markdown",
   "metadata": {},
   "source": [
    "##### 4.3多对多连接"
   ]
  },
  {
   "cell_type": "code",
   "execution_count": null,
   "metadata": {},
   "outputs": [],
   "source": [
    "df5 = pd.DataFrame({\n",
    "    'skills':['math','spreadsheet','coding','linux','spreadsheet','organizition'],\n",
    "    'group':['Accounting','Accounting','Engineering','Engineering','HR','HR']\n",
    "})\n",
    "display('df3','df5','pd.merge(df3,df5)')"
   ]
  },
  {
   "cell_type": "markdown",
   "metadata": {},
   "source": [
    "#### 5.界定连接的关键字"
   ]
  },
  {
   "cell_type": "markdown",
   "metadata": {},
   "source": [
    "##### 5.1用列来界定left_on/right_on"
   ]
  },
  {
   "cell_type": "code",
   "execution_count": null,
   "metadata": {},
   "outputs": [],
   "source": [
    "df6 = pd.DataFrame({\n",
    "    'name':['jake','lisa','bob','Sue'],\n",
    "    'hire_data':[2004,2008,2005,2013]\n",
    "})\n",
    "#display('df1','df6','pd.merge(df1,df6)')#报错，没用同名列\n",
    "display('df1','df6','pd.merge(df1,df6,left_on=\"employee\",right_on=\"name\")')#左表关键字employee，右表关键字name，为了防止单引号报错，单引号里面用双引号"
   ]
  },
  {
   "cell_type": "code",
   "execution_count": null,
   "metadata": {},
   "outputs": [],
   "source": [
    "pd.merge(df1,df6,left_on='employee',right_on='name').drop('name',axis=1)#将多出来的name列删除"
   ]
  },
  {
   "cell_type": "markdown",
   "metadata": {},
   "source": [
    "##### 5.2用索引来界定left_index/right_index"
   ]
  },
  {
   "cell_type": "code",
   "execution_count": null,
   "metadata": {},
   "outputs": [],
   "source": [
    "df1a = df1.set_index('employee')\n",
    "df2a = df2.set_index('employee')\n",
    "#display('df1a','df2a','pd.merge(df1a,df2a)')#会报错，因为只有一列\n",
    "display('df1a','df2a','pd.merge(df1a,df2a,left_index=True,right_index=True)')#利用索引合并"
   ]
  },
  {
   "cell_type": "markdown",
   "metadata": {},
   "source": [
    "##### 5.3索引和列进行连接"
   ]
  },
  {
   "cell_type": "code",
   "execution_count": null,
   "metadata": {},
   "outputs": [],
   "source": [
    "display('df1','df2a','pd.merge(df1,df2a,left_on=\"employee\",right_index=True)')"
   ]
  },
  {
   "cell_type": "markdown",
   "metadata": {},
   "source": [
    "#### 6.指定连接的集运算outer/inner/left/right"
   ]
  },
  {
   "cell_type": "code",
   "execution_count": null,
   "metadata": {},
   "outputs": [],
   "source": [
    "df6 = pd.DataFrame({\n",
    "    'name':['bob','marry','paul'],\n",
    "    'food':['bread','fish','beans']},\n",
    "    columns=['name','food']\n",
    "    )\n",
    "df7 = pd.DataFrame({\n",
    "    'name':['jassy','marry'],\n",
    "    'drink':['wine','beer']},\n",
    "    columns=['name','drink']\n",
    "    )\n",
    "display('df7','df6','pd.merge(df6,df7)')#与concat的join参数不同，这里用how，且默认是inner"
   ]
  },
  {
   "cell_type": "code",
   "execution_count": null,
   "metadata": {},
   "outputs": [],
   "source": [
    "display('df7','df6','pd.merge(df6,df7,how=\"outer\")')#将how设置为outer,空值填nan"
   ]
  },
  {
   "cell_type": "code",
   "execution_count": null,
   "metadata": {},
   "outputs": [],
   "source": [
    "display('df6','df7','pd.merge(df6,df7,how=\"left\",on=\"name\")')#将how设置为left,空值填nan"
   ]
  },
  {
   "cell_type": "markdown",
   "metadata": {},
   "source": [
    "#### 7.重名列，增加后缀"
   ]
  },
  {
   "cell_type": "code",
   "execution_count": null,
   "metadata": {},
   "outputs": [],
   "source": [
    "df8 = pd.DataFrame({\n",
    "    'name':['bob','marry','paul'],\n",
    "    'food':['noodles','steak','fruit']},\n",
    "    columns=['name','food']\n",
    "    )\n",
    "display('df6','df8','pd.merge(df6,df8,on=\"name\")')#自动生成同名列名的后缀"
   ]
  },
  {
   "cell_type": "code",
   "execution_count": null,
   "metadata": {},
   "outputs": [],
   "source": [
    "display('df6','df8','pd.merge(df6,df8,on=\"name\",suffixes=[1,2])')#手动设置同名列的后缀"
   ]
  },
  {
   "cell_type": "markdown",
   "metadata": {},
   "source": [
    "##### fd"
   ]
  },
  {
   "cell_type": "code",
   "execution_count": null,
   "metadata": {},
   "outputs": [],
   "source": []
  }
 ],
 "metadata": {
  "kernelspec": {
   "display_name": "Python 3",
   "language": "python",
   "name": "python3"
  },
  "language_info": {
   "codemirror_mode": {
    "name": "ipython",
    "version": 3
   },
   "file_extension": ".py",
   "mimetype": "text/x-python",
   "name": "python",
   "nbconvert_exporter": "python",
   "pygments_lexer": "ipython3",
   "version": "3.7.4"
  }
 },
 "nbformat": 4,
 "nbformat_minor": 2
}
