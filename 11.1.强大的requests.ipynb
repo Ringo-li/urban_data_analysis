{
 "cells": [
  {
   "cell_type": "markdown",
   "metadata": {},
   "source": [
    "### get请求"
   ]
  },
  {
   "cell_type": "code",
   "execution_count": null,
   "metadata": {
    "scrolled": true
   },
   "outputs": [],
   "source": [
    "import requests\n",
    "\n",
    "r = requests.get('http://www.planning.org.cn/')\n",
    "\n",
    "print(r.status_code)\n",
    "\n",
    "r.text\n",
    "\n",
    "r2 = requests.get('https://www.qixin.com/')\n",
    "\n",
    "print(r2.status_code)\n",
    "\n",
    "headers = {'User-Agent': 'Mozilla/5.0 (Windows NT 10.0; Win64; x64) AppleWebKit/537.36 (KHTML, like Gecko) Chrome/80.0.3987.100 Safari/537.36'}\n",
    "\n",
    "r2 = requests.get('https://www.qixin.com/',headers = headers)\n",
    "\n",
    "print(r2.status_code)\n",
    "\n",
    "r2.text\n",
    "\n",
    "for n  in range(8,10):\n",
    "    r3 = requests.get('http://planning.org.cn/news/newslist?cid=12&page=%s'%n)\n",
    "    print('page %s has done..'%n)\n",
    "\n",
    "print(r3.text)"
   ]
  },
  {
   "cell_type": "code",
   "execution_count": null,
   "metadata": {
    "scrolled": true
   },
   "outputs": [],
   "source": [
    "r = requests.get('http://www.planning.org.cn/')"
   ]
  },
  {
   "cell_type": "code",
   "execution_count": null,
   "metadata": {
    "scrolled": true
   },
   "outputs": [],
   "source": [
    "print(r.status_code)"
   ]
  },
  {
   "cell_type": "code",
   "execution_count": null,
   "metadata": {
    "scrolled": true
   },
   "outputs": [],
   "source": [
    "r.text"
   ]
  },
  {
   "cell_type": "code",
   "execution_count": null,
   "metadata": {
    "scrolled": true
   },
   "outputs": [],
   "source": [
    "r2 = requests.get('https://www.qixin.com/')"
   ]
  },
  {
   "cell_type": "code",
   "execution_count": null,
   "metadata": {
    "scrolled": true
   },
   "outputs": [],
   "source": [
    "print(r2.status_code)"
   ]
  },
  {
   "cell_type": "code",
   "execution_count": null,
   "metadata": {
    "scrolled": true
   },
   "outputs": [],
   "source": [
    "headers = {'User-Agent': 'Mozilla/5.0 (Windows NT 10.0; Win64; x64) AppleWebKit/537.36 (KHTML, like Gecko) Chrome/80.0.3987.100 Safari/537.36'}"
   ]
  },
  {
   "cell_type": "code",
   "execution_count": null,
   "metadata": {
    "scrolled": true
   },
   "outputs": [],
   "source": [
    "r2 = requests.get('https://www.qixin.com/',headers = headers)"
   ]
  },
  {
   "cell_type": "code",
   "execution_count": null,
   "metadata": {
    "scrolled": true
   },
   "outputs": [],
   "source": [
    "print(r2.status_code)"
   ]
  },
  {
   "cell_type": "code",
   "execution_count": null,
   "metadata": {
    "scrolled": true
   },
   "outputs": [],
   "source": [
    "r2.text"
   ]
  },
  {
   "cell_type": "code",
   "execution_count": null,
   "metadata": {
    "scrolled": true
   },
   "outputs": [],
   "source": [
    "for n  in range(8,10):\n",
    "    r3 = requests.get('http://planning.org.cn/news/newslist?cid=12&page=%s'%n)\n",
    "    print('page %s has done..'%n)"
   ]
  },
  {
   "cell_type": "code",
   "execution_count": null,
   "metadata": {
    "scrolled": true
   },
   "outputs": [],
   "source": [
    "print(r3.text)"
   ]
  },
  {
   "cell_type": "markdown",
   "metadata": {},
   "source": [
    "### 传递url参数"
   ]
  },
  {
   "cell_type": "code",
   "execution_count": 30,
   "metadata": {
    "scrolled": true
   },
   "outputs": [
    {
     "name": "stdout",
     "output_type": "stream",
     "text": [
      "http://planning.org.cn/news/newslist?cid=12&page=9\n"
     ]
    }
   ],
   "source": [
    "url = 'http://planning.org.cn/news/newslist'\n",
    "\n",
    "payload = {'cid':12,'page':9}\n",
    "\n",
    "r4 = requests.get(url,params=payload)\n",
    "\n",
    "print(r4.url)"
   ]
  },
  {
   "cell_type": "markdown",
   "metadata": {},
   "source": [
    "### post请求"
   ]
  },
  {
   "cell_type": "code",
   "execution_count": 57,
   "metadata": {},
   "outputs": [],
   "source": [
    "url = 'https://www.qichamao.com/orgcompany/GetFZJGInfo'\n",
    "payload = {'PageNo': 2,'oc_name': '中国城市规划设计研究院','currpage': 1,'pagesize': 5}\n",
    "headers = {'User-Agent': 'Mozilla/5.0 (Windows NT 10.0; Win64; x64) AppleWebKit/537.36 (KHTML, like Gecko) Chrome/80.0.3987.100 Safari/537.36','X-Requested-With': 'XMLHttpRequest'}\n",
    "r5 = requests.post(url,data=payload,headers=headers)"
   ]
  },
  {
   "cell_type": "code",
   "execution_count": 58,
   "metadata": {},
   "outputs": [
    {
     "data": {
      "text/plain": [
       "200"
      ]
     },
     "execution_count": 58,
     "metadata": {},
     "output_type": "execute_result"
    }
   ],
   "source": [
    "r5.status_code"
   ]
  },
  {
   "cell_type": "code",
   "execution_count": 67,
   "metadata": {
    "scrolled": true
   },
   "outputs": [
    {
     "name": "stdout",
     "output_type": "stream",
     "text": [
      "{\"isSuccess\":true,\"code\":200,\"sMsg\":\"操作成功\",\"dataList\":{\"CompanyList\":[{\"coordinates\":null,\"oc_code\":\"ea3703468fb0d1ba7b18e64c5e99200e\",\"oc_creditcode\":\"91310105662475937N\",\"oc_number\":\"310106000192622\",\"oc_area\":\"310105\",\"m_area\":\"31\",\"mps\":[],\"mls\":null,\"qqs\":null,\"tps\":[\"工商年报(2016年)|021-61981903\",\"郑德高(院长)|城市轨道交通/城市环保/土地开发\",\"郑德高(院长)|021)51780301\",\"工商年报(2017年)|021-61981904\",\"工商年报(2018年)|021-61981900\"],\"texes\":null,\"gb_cat\":null,\"gb_codes\":null,\"pro_codes\":null,\"fwd_trades\":null,\"exh_trades\":null,\"oc_status\":0,\"oc_weight\":0,\"od_regm\":0,\"od_chkdate\":\"\\/Date(-62135596800000)\\/\",\"oc_issuetime\":\"\\/Date(-62135596800000)\\/\",\"od_bsinis\":\"\\/Date(-62135596800000)\\/\",\"od_bsinie\":\"\\/Date(-62135596800000)\\/\",\"od_regdate\":\"\\/Date(1182268800000)\\/\",\"oc_changetime\":\"\\/Date(-62135596800000)\\/\",\"oc_invalidtime\":\"\\/Date(-62135596800000)\\/\",\"od_faren\":\"郑德高\",\"oc_regtype\":null,\"oc_address\":\"上海市长宁区临虹路168弄5号\",\"od_ext\":\"存续（在营、开业、在册）\",\"od_regmoney\":\"\",\"oc_companytype\":null,\"org_types\":null,\"oc_regorgname\":null,\"oc_areaname\":null,\"od_bussiness\":\"代设计总院承接业务（涉及许可证凭许可证经营）。\",\"od_gds\":[],\"oc_old_names\":null,\"oc_members\":[],\"oc_tels\":[\"021-61981900\"],\"oc_mails\":[\"caupdshanghai2007@163.com\"],\"oc_brands\":null,\"oc_sites\":[\"http://shcaupd.cn/\"],\"tags\":null,\"oc_name\":\"中国城市规划设计研究院上海分院\",\"contacts\":null},{\"coordinates\":null,\"oc_code\":\"9ba4f06c9289fb04a63a93b96fb7088e\",\"oc_creditcode\":\"                  \",\"oc_number\":\"144530764\",\"oc_area\":\"3302\",\"m_area\":\"33\",\"mps\":[],\"mls\":null,\"qqs\":null,\"tps\":[],\"texes\":null,\"gb_cat\":null,\"gb_codes\":null,\"pro_codes\":null,\"fwd_trades\":null,\"exh_trades\":null,\"oc_status\":0,\"oc_weight\":0,\"od_regm\":0,\"od_chkdate\":\"\\/Date(-62135596800000)\\/\",\"oc_issuetime\":\"\\/Date(-62135596800000)\\/\",\"od_bsinis\":\"\\/Date(-62135596800000)\\/\",\"od_bsinie\":\"\\/Date(-62135596800000)\\/\",\"od_regdate\":\"\\/Date(879004800000)\\/\",\"oc_changetime\":\"\\/Date(-62135596800000)\\/\",\"oc_invalidtime\":\"\\/Date(-62135596800000)\\/\",\"od_faren\":\"\",\"oc_regtype\":null,\"oc_address\":\"宁波市\",\"od_ext\":\"注销\",\"od_regmoney\":\"\",\"oc_companytype\":null,\"org_types\":null,\"oc_regorgname\":null,\"oc_areaname\":null,\"od_bussiness\":\"主营:~兼营:\",\"od_gds\":[],\"oc_old_names\":null,\"oc_members\":[],\"oc_tels\":null,\"oc_mails\":null,\"oc_brands\":null,\"oc_sites\":null,\"tags\":null,\"oc_name\":\"中国城市规划设计研究院厦门设计部鄞县办事处\",\"contacts\":null},{\"coordinates\":null,\"oc_code\":\"0463764a9a0ca939bfb6a6d4500604a1\",\"oc_creditcode\":\"                  \",\"oc_number\":\"1101081451890\",\"oc_area\":\"110108\",\"m_area\":\"11\",\"mps\":[],\"mls\":null,\"qqs\":null,\"tps\":[],\"texes\":null,\"gb_cat\":null,\"gb_codes\":null,\"pro_codes\":null,\"fwd_trades\":null,\"exh_trades\":null,\"oc_status\":0,\"oc_weight\":0,\"od_regm\":0,\"od_chkdate\":\"\\/Date(-62135596800000)\\/\",\"oc_issuetime\":\"\\/Date(-62135596800000)\\/\",\"od_bsinis\":\"\\/Date(-62135596800000)\\/\",\"od_bsinie\":\"\\/Date(-62135596800000)\\/\",\"od_regdate\":\"\\/Date(-28800000)\\/\",\"oc_changetime\":\"\\/Date(-62135596800000)\\/\",\"oc_invalidtime\":\"\\/Date(-62135596800000)\\/\",\"od_faren\":\"\",\"oc_regtype\":null,\"oc_address\":\"北京市海淀区厂洼街1号院\",\"od_ext\":\"\",\"od_regmoney\":\"\",\"oc_companytype\":null,\"org_types\":null,\"oc_regorgname\":null,\"oc_areaname\":null,\"od_bussiness\":\"\",\"od_gds\":[],\"oc_old_names\":null,\"oc_members\":[\"江玉瑛\"],\"oc_tels\":null,\"oc_mails\":null,\"oc_brands\":null,\"oc_sites\":null,\"tags\":null,\"oc_name\":\"中国城市规划设计研究院家属委员会便民服务部\",\"contacts\":null},{\"coordinates\":null,\"oc_code\":\"8264f2c128e23510f77f83572fa7f5f0\",\"oc_creditcode\":\"91440500714870833P\",\"oc_number\":\"440500000117425\",\"oc_area\":\"4405\",\"m_area\":\"44\",\"mps\":[],\"mls\":null,\"qqs\":null,\"tps\":[\"未提供|(0754)8551435\",\"0754-8551435\",\"工商年报(2018年)|0754-88885524\",\"工商年报(2014年)|0754-8885524\",\"朱力(院长)|城市轨道交通/城市环保/土地开发\",\"朱 力(院长)|0754)88885524\"],\"texes\":null,\"gb_cat\":null,\"gb_codes\":null,\"pro_codes\":null,\"fwd_trades\":null,\"exh_trades\":null,\"oc_status\":0,\"oc_weight\":0,\"od_regm\":0,\"od_chkdate\":\"\\/Date(-62135596800000)\\/\",\"oc_issuetime\":\"\\/Date(-62135596800000)\\/\",\"od_bsinis\":\"\\/Date(-62135596800000)\\/\",\"od_bsinie\":\"\\/Date(-62135596800000)\\/\",\"od_regdate\":\"\\/Date(785952000000)\\/\",\"oc_changetime\":\"\\/Date(-62135596800000)\\/\",\"oc_invalidtime\":\"\\/Date(-62135596800000)\\/\",\"od_faren\":\"朱力\",\"oc_regtype\":null,\"oc_address\":\"汕头市金砂路１２７号华侨商业银行大厦２３０１单元\",\"od_ext\":\"存续\",\"od_regmoney\":\"\",\"oc_companytype\":null,\"org_types\":null,\"oc_regorgname\":null,\"oc_areaname\":null,\"od_bussiness\":\"受中国城市规划设计研究院委托承担规划设计业务。(依法须经批准的项目，经相关部门批准后方可开展经营活动)〓\",\"od_gds\":[],\"oc_old_names\":null,\"oc_members\":[\"张全\"],\"oc_tels\":[\"0754-88885524\"],\"oc_mails\":[\"59131944@qq.com\"],\"oc_brands\":null,\"oc_sites\":null,\"tags\":null,\"oc_name\":\"中国城市规划设计研究院汕头分院\",\"contacts\":null},{\"coordinates\":null,\"oc_code\":\"3de4aba4a14c18144a5cb416880522ff\",\"oc_creditcode\":\"                  \",\"oc_number\":\"4505001932410\",\"oc_area\":\"4505\",\"m_area\":\"45\",\"mps\":[],\"mls\":null,\"qqs\":null,\"tps\":[],\"texes\":null,\"gb_cat\":null,\"gb_codes\":null,\"pro_codes\":null,\"fwd_trades\":null,\"exh_trades\":null,\"oc_status\":0,\"oc_weight\":0,\"od_regm\":0,\"od_chkdate\":\"\\/Date(-62135596800000)\\/\",\"oc_issuetime\":\"\\/Date(-62135596800000)\\/\",\"od_bsinis\":\"\\/Date(-62135596800000)\\/\",\"od_bsinie\":\"\\/Date(-62135596800000)\\/\",\"od_regdate\":\"\\/Date(734803200000)\\/\",\"oc_changetime\":\"\\/Date(-62135596800000)\\/\",\"oc_invalidtime\":\"\\/Date(-62135596800000)\\/\",\"od_faren\":\"周雄\",\"oc_regtype\":null,\"oc_address\":\"市屋仔村61幢3号\",\"od_ext\":\"吊销\",\"od_regmoney\":\"\",\"oc_companytype\":null,\"org_types\":null,\"oc_regorgname\":null,\"oc_areaname\":null,\"od_bussiness\":\"规划设计。***\",\"od_gds\":[],\"oc_old_names\":null,\"oc_members\":[],\"oc_tels\":null,\"oc_mails\":null,\"oc_brands\":null,\"oc_sites\":null,\"tags\":null,\"oc_name\":\"中国城市规划设计研究院北海分院\",\"contacts\":null},{\"coordinates\":null,\"oc_code\":\"ff3df19f603f1a51fa1265a195a616bc\",\"oc_creditcode\":\"913502001550229766\",\"oc_number\":\"350200080004348\",\"oc_area\":\"3502\",\"m_area\":\"35\",\"mps\":[\"工商年报(2014年)|13600966690\"],\"mls\":null,\"qqs\":null,\"tps\":[\"工商年报(2018年)|5090342\",\"谢映霞(院长)|城市轨道交通/城市环保/土地开发\",\"李金卫(院长)|0592) 5090342\"],\"texes\":null,\"gb_cat\":null,\"gb_codes\":null,\"pro_codes\":null,\"fwd_trades\":null,\"exh_trades\":null,\"oc_status\":0,\"oc_weight\":0,\"od_regm\":0,\"od_chkdate\":\"\\/Date(-62135596800000)\\/\",\"oc_issuetime\":\"\\/Date(-62135596800000)\\/\",\"od_bsinis\":\"\\/Date(-62135596800000)\\/\",\"od_bsinie\":\"\\/Date(-62135596800000)\\/\",\"od_regdate\":\"\\/Date(1017244800000)\\/\",\"oc_changetime\":\"\\/Date(-62135596800000)\\/\",\"oc_invalidtime\":\"\\/Date(-62135596800000)\\/\",\"od_faren\":\"易翔\",\"oc_regtype\":null,\"oc_address\":\"厦门市思明区莲岳路221-1号901单元、1001单元、1002单元\",\"od_ext\":\"存续（在营、开业、在册）\",\"od_regmoney\":\"\",\"oc_companytype\":null,\"org_types\":null,\"oc_regorgname\":null,\"oc_areaname\":null,\"od_bussiness\":\"代理所属企业法人在其经营范围内委托的规划、设计业务。\",\"od_gds\":[],\"oc_old_names\":null,\"oc_members\":[\"易翔\"],\"oc_tels\":[\"5090342\"],\"oc_mails\":[\"406894628@qq.com\"],\"oc_brands\":null,\"oc_sites\":null,\"tags\":null,\"oc_name\":\"中国城市规划设计研究院厦门分院\",\"contacts\":null},{\"coordinates\":null,\"oc_code\":\"0f67f8fe58d4f3d239cdf8e1d704160c\",\"oc_creditcode\":\"915000006992632094\",\"oc_number\":\"500112300021067\",\"oc_area\":\"50\",\"m_area\":\"50\",\"mps\":[],\"mls\":null,\"qqs\":null,\"tps\":[\"工商年报(2013年)|63561133\",\"工商年报(2015年)|63561054\",\"彭小雷(院长)|城市轨道交通/城市环保/土地开发\",\"彭小雷(院长)|023)86796157\",\"工商年报(2018年)|023-63561133\"],\"texes\":null,\"gb_cat\":null,\"gb_codes\":null,\"pro_codes\":null,\"fwd_trades\":null,\"exh_trades\":null,\"oc_status\":0,\"oc_weight\":0,\"od_regm\":0,\"od_chkdate\":\"\\/Date(-62135596800000)\\/\",\"oc_issuetime\":\"\\/Date(-62135596800000)\\/\",\"od_bsinis\":\"\\/Date(-62135596800000)\\/\",\"od_bsinie\":\"\\/Date(-62135596800000)\\/\",\"od_regdate\":\"\\/Date(1260288000000)\\/\",\"oc_changetime\":\"\\/Date(-62135596800000)\\/\",\"oc_invalidtime\":\"\\/Date(-62135596800000)\\/\",\"od_faren\":\"张圣海\",\"oc_regtype\":null,\"oc_address\":\"重庆市渝北区黄山大道中段64号6幢（高科总部广场）D栋（6号楼）\",\"od_ext\":\"存续(在营、开业、在册)\",\"od_regmoney\":\"\",\"oc_companytype\":null,\"org_types\":null,\"oc_regorgname\":null,\"oc_areaname\":null,\"od_bussiness\":\"为所隶属企业法人承接其资质范围内的业务。\",\"od_gds\":[],\"oc_old_names\":null,\"oc_members\":[],\"oc_tels\":[\"023-63561133\"],\"oc_mails\":[\"caupdwb@163.com\"],\"oc_brands\":null,\"oc_sites\":null,\"tags\":null,\"oc_name\":\"中国城市规划设计研究院西部分院\",\"contacts\":null},{\"coordinates\":null,\"oc_code\":\"85cdbd08ea8a3d1e7e6e8faa8ff82a24\",\"oc_creditcode\":\"                  \",\"oc_number\":\"4507001000467\",\"oc_area\":\"4507\",\"m_area\":\"45\",\"mps\":[],\"mls\":null,\"qqs\":null,\"tps\":[],\"texes\":null,\"gb_cat\":null,\"gb_codes\":null,\"pro_codes\":null,\"fwd_trades\":null,\"exh_trades\":null,\"oc_status\":0,\"oc_weight\":0,\"od_regm\":0,\"od_chkdate\":\"\\/Date(-62135596800000)\\/\",\"oc_issuetime\":\"\\/Date(-62135596800000)\\/\",\"od_bsinis\":\"\\/Date(-62135596800000)\\/\",\"od_bsinie\":\"\\/Date(-62135596800000)\\/\",\"od_regdate\":\"\\/Date(830707200000)\\/\",\"oc_changetime\":\"\\/Date(-62135596800000)\\/\",\"oc_invalidtime\":\"\\/Date(-62135596800000)\\/\",\"od_faren\":\"黄华军\",\"oc_regtype\":null,\"oc_address\":\"钦州湾大道\",\"od_ext\":\"吊销，未注销\",\"od_regmoney\":\"\",\"oc_companytype\":null,\"org_types\":null,\"oc_regorgname\":null,\"oc_areaname\":null,\"od_bussiness\":\"预制水泥建筑构件、木制家具、石膏板制造。\",\"od_gds\":[],\"oc_old_names\":null,\"oc_members\":[],\"oc_tels\":null,\"oc_mails\":null,\"oc_brands\":null,\"oc_sites\":null,\"tags\":null,\"oc_name\":\"中国城市规划设计研究院驻广西钦州办事处\",\"contacts\":null},{\"coordinates\":null,\"oc_code\":\"085161a13d78e1ac56edc51b5d4f7123\",\"oc_creditcode\":\"                  \",\"oc_number\":\"\",\"oc_area\":\"4507\",\"m_area\":\"45\",\"mps\":null,\"mls\":null,\"qqs\":null,\"tps\":null,\"texes\":null,\"gb_cat\":null,\"gb_codes\":null,\"pro_codes\":null,\"fwd_trades\":null,\"exh_trades\":null,\"oc_status\":0,\"oc_weight\":0,\"od_regm\":0,\"od_chkdate\":\"\\/Date(-62135596800000)\\/\",\"oc_issuetime\":\"\\/Date(-62135596800000)\\/\",\"od_bsinis\":\"\\/Date(-62135596800000)\\/\",\"od_bsinie\":\"\\/Date(-62135596800000)\\/\",\"od_regdate\":\"\\/Date(-2209017600000)\\/\",\"oc_changetime\":\"\\/Date(-62135596800000)\\/\",\"oc_invalidtime\":\"\\/Date(-62135596800000)\\/\",\"od_faren\":null,\"oc_regtype\":null,\"oc_address\":\"广西壮族自治区钦州市钦州湾大道西站路口\",\"od_ext\":null,\"od_regmoney\":null,\"oc_companytype\":null,\"org_types\":null,\"oc_regorgname\":null,\"oc_areaname\":null,\"od_bussiness\":null,\"od_gds\":[],\"oc_old_names\":null,\"oc_members\":[],\"oc_tels\":null,\"oc_mails\":null,\"oc_brands\":null,\"oc_sites\":null,\"tags\":null,\"oc_name\":\"中国城市规划设计研究院驻广西钦州市办事处\",\"contacts\":null},{\"coordinates\":null,\"oc_code\":\"875d3b2c16a5c1c1b9cfe713e8ef37ce\",\"oc_creditcode\":\"914601002936571522\",\"oc_number\":\"460100000058259\",\"oc_area\":\"4601\",\"m_area\":\"46\",\"mps\":[\"工商年报(2016年)|13976099727\"],\"mls\":null,\"qqs\":null,\"tps\":[\"易翔(院长)|城市轨道交通/城市环保/土地开发\",\"易 翔(院长)|(0898)66775885\",\"工商年报(2018年)|66753329\"],\"texes\":null,\"gb_cat\":null,\"gb_codes\":null,\"pro_codes\":null,\"fwd_trades\":null,\"exh_trades\":null,\"oc_status\":0,\"oc_weight\":0,\"od_regm\":0,\"od_chkdate\":\"\\/Date(-62135596800000)\\/\",\"oc_issuetime\":\"\\/Date(-62135596800000)\\/\",\"od_bsinis\":\"\\/Date(-62135596800000)\\/\",\"od_bsinie\":\"\\/Date(-62135596800000)\\/\",\"od_regdate\":\"\\/Date(756576000000)\\/\",\"oc_changetime\":\"\\/Date(-62135596800000)\\/\",\"oc_invalidtime\":\"\\/Date(-62135596800000)\\/\",\"od_faren\":\"易翔\",\"oc_regtype\":null,\"oc_address\":\"海口市滨海大道花园新村CD2-501\",\"od_ext\":\"存续（在营、开业、在册）\",\"od_regmoney\":\"20(万人民币)\",\"oc_companytype\":null,\"org_types\":null,\"oc_regorgname\":null,\"oc_areaname\":null,\"od_bussiness\":\"规划咨询服务。\",\"od_gds\":[\"中国城市规划设计研究院\"],\"oc_old_names\":null,\"oc_members\":[\"杨保亭\"],\"oc_tels\":[\"66753329\"],\"oc_mails\":[\"1753831420@qq.com\"],\"oc_brands\":null,\"oc_sites\":null,\"tags\":null,\"oc_name\":\"中国城市规划设计研究院海南分院\",\"contacts\":null}],\"PersonUrlList\":{\"ea3703468fb0d1ba7b18e64c5e99200e\":\"365a4811245e19eb60a5c7ffe50df6bd-65e3a4cf41d80899f934f9bc98c8c131\",\"9ba4f06c9289fb04a63a93b96fb7088e\":\"2a6e52ffdd387b1510b9e27362ee9011-3ade680d50795523e736081158e6b8e4\",\"0463764a9a0ca939bfb6a6d4500604a1\":\"2a6e52ffdd387b1510b9e27362ee9011-e533f2e704c9a3f021f098d514211de6\",\"8264f2c128e23510f77f83572fa7f5f0\":\"35f179300fb6ed455d6237198aa6d75b-d0d89524d4ba42bb21e0d6c03574aa36\",\"3de4aba4a14c18144a5cb416880522ff\":\"2f6a8d91c4e3eab114b764ad08df9e39-a71894a995d57693b5f6a519d48bf83e\",\"ff3df19f603f1a51fa1265a195a616bc\":\"127f2e4509dd43a018624744c816a11b-2ba9c08ce58c09df0ca17061c5337c1d\",\"0f67f8fe58d4f3d239cdf8e1d704160c\":\"c24a000cdc3be13d8958a5aed3d7acc3-fbabad39e87dabac5eb04d4002e7292e\",\"85cdbd08ea8a3d1e7e6e8faa8ff82a24\":\"03d7434da1dc609eab26a72c8a441477-321a9762f8d579ce96edb00517d7041c\",\"085161a13d78e1ac56edc51b5d4f7123\":\"2a6e52ffdd387b1510b9e27362ee9011-5356feb254191ac67c78d36c9a95d7bc\",\"875d3b2c16a5c1c1b9cfe713e8ef37ce\":\"127f2e4509dd43a018624744c816a11b-695caf68300b87785f94e989cf8211aa\"},\"CompanyStatusList\":{\"ea3703468fb0d1ba7b18e64c5e99200e\":\"存续\",\"9ba4f06c9289fb04a63a93b96fb7088e\":\"注销\",\"0463764a9a0ca939bfb6a6d4500604a1\":\"未知\",\"8264f2c128e23510f77f83572fa7f5f0\":\"存续\",\"3de4aba4a14c18144a5cb416880522ff\":\"吊销\",\"ff3df19f603f1a51fa1265a195a616bc\":\"存续\",\"0f67f8fe58d4f3d239cdf8e1d704160c\":\"存续\",\"85cdbd08ea8a3d1e7e6e8faa8ff82a24\":\"吊销，未注销\",\"085161a13d78e1ac56edc51b5d4f7123\":\"未知\",\"875d3b2c16a5c1c1b9cfe713e8ef37ce\":\"存续\"}},\"rowCount\":10,\"status\":0}\n"
     ]
    }
   ],
   "source": [
    "data5 = r5.text\n",
    "print(data5)"
   ]
  },
  {
   "cell_type": "code",
   "execution_count": 60,
   "metadata": {},
   "outputs": [],
   "source": [
    "import pandas as pd\n",
    "import json"
   ]
  },
  {
   "cell_type": "code",
   "execution_count": 68,
   "metadata": {},
   "outputs": [],
   "source": [
    "data_json5 = json.loads(data5)"
   ]
  },
  {
   "cell_type": "code",
   "execution_count": 69,
   "metadata": {},
   "outputs": [
    {
     "data": {
      "text/plain": [
       "{'isSuccess': True,\n",
       " 'code': 200,\n",
       " 'sMsg': '操作成功',\n",
       " 'dataList': {'CompanyList': [{'coordinates': None,\n",
       "    'oc_code': 'ea3703468fb0d1ba7b18e64c5e99200e',\n",
       "    'oc_creditcode': '91310105662475937N',\n",
       "    'oc_number': '310106000192622',\n",
       "    'oc_area': '310105',\n",
       "    'm_area': '31',\n",
       "    'mps': [],\n",
       "    'mls': None,\n",
       "    'qqs': None,\n",
       "    'tps': ['工商年报(2016年)|021-61981903',\n",
       "     '郑德高(院长)|城市轨道交通/城市环保/土地开发',\n",
       "     '郑德高(院长)|021)51780301',\n",
       "     '工商年报(2017年)|021-61981904',\n",
       "     '工商年报(2018年)|021-61981900'],\n",
       "    'texes': None,\n",
       "    'gb_cat': None,\n",
       "    'gb_codes': None,\n",
       "    'pro_codes': None,\n",
       "    'fwd_trades': None,\n",
       "    'exh_trades': None,\n",
       "    'oc_status': 0,\n",
       "    'oc_weight': 0,\n",
       "    'od_regm': 0,\n",
       "    'od_chkdate': '/Date(-62135596800000)/',\n",
       "    'oc_issuetime': '/Date(-62135596800000)/',\n",
       "    'od_bsinis': '/Date(-62135596800000)/',\n",
       "    'od_bsinie': '/Date(-62135596800000)/',\n",
       "    'od_regdate': '/Date(1182268800000)/',\n",
       "    'oc_changetime': '/Date(-62135596800000)/',\n",
       "    'oc_invalidtime': '/Date(-62135596800000)/',\n",
       "    'od_faren': '郑德高',\n",
       "    'oc_regtype': None,\n",
       "    'oc_address': '上海市长宁区临虹路168弄5号',\n",
       "    'od_ext': '存续（在营、开业、在册）',\n",
       "    'od_regmoney': '',\n",
       "    'oc_companytype': None,\n",
       "    'org_types': None,\n",
       "    'oc_regorgname': None,\n",
       "    'oc_areaname': None,\n",
       "    'od_bussiness': '代设计总院承接业务（涉及许可证凭许可证经营）。',\n",
       "    'od_gds': [],\n",
       "    'oc_old_names': None,\n",
       "    'oc_members': [],\n",
       "    'oc_tels': ['021-61981900'],\n",
       "    'oc_mails': ['caupdshanghai2007@163.com'],\n",
       "    'oc_brands': None,\n",
       "    'oc_sites': ['http://shcaupd.cn/'],\n",
       "    'tags': None,\n",
       "    'oc_name': '中国城市规划设计研究院上海分院',\n",
       "    'contacts': None},\n",
       "   {'coordinates': None,\n",
       "    'oc_code': '9ba4f06c9289fb04a63a93b96fb7088e',\n",
       "    'oc_creditcode': '                  ',\n",
       "    'oc_number': '144530764',\n",
       "    'oc_area': '3302',\n",
       "    'm_area': '33',\n",
       "    'mps': [],\n",
       "    'mls': None,\n",
       "    'qqs': None,\n",
       "    'tps': [],\n",
       "    'texes': None,\n",
       "    'gb_cat': None,\n",
       "    'gb_codes': None,\n",
       "    'pro_codes': None,\n",
       "    'fwd_trades': None,\n",
       "    'exh_trades': None,\n",
       "    'oc_status': 0,\n",
       "    'oc_weight': 0,\n",
       "    'od_regm': 0,\n",
       "    'od_chkdate': '/Date(-62135596800000)/',\n",
       "    'oc_issuetime': '/Date(-62135596800000)/',\n",
       "    'od_bsinis': '/Date(-62135596800000)/',\n",
       "    'od_bsinie': '/Date(-62135596800000)/',\n",
       "    'od_regdate': '/Date(879004800000)/',\n",
       "    'oc_changetime': '/Date(-62135596800000)/',\n",
       "    'oc_invalidtime': '/Date(-62135596800000)/',\n",
       "    'od_faren': '',\n",
       "    'oc_regtype': None,\n",
       "    'oc_address': '宁波市',\n",
       "    'od_ext': '注销',\n",
       "    'od_regmoney': '',\n",
       "    'oc_companytype': None,\n",
       "    'org_types': None,\n",
       "    'oc_regorgname': None,\n",
       "    'oc_areaname': None,\n",
       "    'od_bussiness': '主营:~兼营:',\n",
       "    'od_gds': [],\n",
       "    'oc_old_names': None,\n",
       "    'oc_members': [],\n",
       "    'oc_tels': None,\n",
       "    'oc_mails': None,\n",
       "    'oc_brands': None,\n",
       "    'oc_sites': None,\n",
       "    'tags': None,\n",
       "    'oc_name': '中国城市规划设计研究院厦门设计部鄞县办事处',\n",
       "    'contacts': None},\n",
       "   {'coordinates': None,\n",
       "    'oc_code': '0463764a9a0ca939bfb6a6d4500604a1',\n",
       "    'oc_creditcode': '                  ',\n",
       "    'oc_number': '1101081451890',\n",
       "    'oc_area': '110108',\n",
       "    'm_area': '11',\n",
       "    'mps': [],\n",
       "    'mls': None,\n",
       "    'qqs': None,\n",
       "    'tps': [],\n",
       "    'texes': None,\n",
       "    'gb_cat': None,\n",
       "    'gb_codes': None,\n",
       "    'pro_codes': None,\n",
       "    'fwd_trades': None,\n",
       "    'exh_trades': None,\n",
       "    'oc_status': 0,\n",
       "    'oc_weight': 0,\n",
       "    'od_regm': 0,\n",
       "    'od_chkdate': '/Date(-62135596800000)/',\n",
       "    'oc_issuetime': '/Date(-62135596800000)/',\n",
       "    'od_bsinis': '/Date(-62135596800000)/',\n",
       "    'od_bsinie': '/Date(-62135596800000)/',\n",
       "    'od_regdate': '/Date(-28800000)/',\n",
       "    'oc_changetime': '/Date(-62135596800000)/',\n",
       "    'oc_invalidtime': '/Date(-62135596800000)/',\n",
       "    'od_faren': '',\n",
       "    'oc_regtype': None,\n",
       "    'oc_address': '北京市海淀区厂洼街1号院',\n",
       "    'od_ext': '',\n",
       "    'od_regmoney': '',\n",
       "    'oc_companytype': None,\n",
       "    'org_types': None,\n",
       "    'oc_regorgname': None,\n",
       "    'oc_areaname': None,\n",
       "    'od_bussiness': '',\n",
       "    'od_gds': [],\n",
       "    'oc_old_names': None,\n",
       "    'oc_members': ['江玉瑛'],\n",
       "    'oc_tels': None,\n",
       "    'oc_mails': None,\n",
       "    'oc_brands': None,\n",
       "    'oc_sites': None,\n",
       "    'tags': None,\n",
       "    'oc_name': '中国城市规划设计研究院家属委员会便民服务部',\n",
       "    'contacts': None},\n",
       "   {'coordinates': None,\n",
       "    'oc_code': '8264f2c128e23510f77f83572fa7f5f0',\n",
       "    'oc_creditcode': '91440500714870833P',\n",
       "    'oc_number': '440500000117425',\n",
       "    'oc_area': '4405',\n",
       "    'm_area': '44',\n",
       "    'mps': [],\n",
       "    'mls': None,\n",
       "    'qqs': None,\n",
       "    'tps': ['未提供|(0754)8551435',\n",
       "     '0754-8551435',\n",
       "     '工商年报(2018年)|0754-88885524',\n",
       "     '工商年报(2014年)|0754-8885524',\n",
       "     '朱力(院长)|城市轨道交通/城市环保/土地开发',\n",
       "     '朱 力(院长)|0754)88885524'],\n",
       "    'texes': None,\n",
       "    'gb_cat': None,\n",
       "    'gb_codes': None,\n",
       "    'pro_codes': None,\n",
       "    'fwd_trades': None,\n",
       "    'exh_trades': None,\n",
       "    'oc_status': 0,\n",
       "    'oc_weight': 0,\n",
       "    'od_regm': 0,\n",
       "    'od_chkdate': '/Date(-62135596800000)/',\n",
       "    'oc_issuetime': '/Date(-62135596800000)/',\n",
       "    'od_bsinis': '/Date(-62135596800000)/',\n",
       "    'od_bsinie': '/Date(-62135596800000)/',\n",
       "    'od_regdate': '/Date(785952000000)/',\n",
       "    'oc_changetime': '/Date(-62135596800000)/',\n",
       "    'oc_invalidtime': '/Date(-62135596800000)/',\n",
       "    'od_faren': '朱力',\n",
       "    'oc_regtype': None,\n",
       "    'oc_address': '汕头市金砂路１２７号华侨商业银行大厦２３０１单元',\n",
       "    'od_ext': '存续',\n",
       "    'od_regmoney': '',\n",
       "    'oc_companytype': None,\n",
       "    'org_types': None,\n",
       "    'oc_regorgname': None,\n",
       "    'oc_areaname': None,\n",
       "    'od_bussiness': '受中国城市规划设计研究院委托承担规划设计业务。(依法须经批准的项目，经相关部门批准后方可开展经营活动)〓',\n",
       "    'od_gds': [],\n",
       "    'oc_old_names': None,\n",
       "    'oc_members': ['张全'],\n",
       "    'oc_tels': ['0754-88885524'],\n",
       "    'oc_mails': ['59131944@qq.com'],\n",
       "    'oc_brands': None,\n",
       "    'oc_sites': None,\n",
       "    'tags': None,\n",
       "    'oc_name': '中国城市规划设计研究院汕头分院',\n",
       "    'contacts': None},\n",
       "   {'coordinates': None,\n",
       "    'oc_code': '3de4aba4a14c18144a5cb416880522ff',\n",
       "    'oc_creditcode': '                  ',\n",
       "    'oc_number': '4505001932410',\n",
       "    'oc_area': '4505',\n",
       "    'm_area': '45',\n",
       "    'mps': [],\n",
       "    'mls': None,\n",
       "    'qqs': None,\n",
       "    'tps': [],\n",
       "    'texes': None,\n",
       "    'gb_cat': None,\n",
       "    'gb_codes': None,\n",
       "    'pro_codes': None,\n",
       "    'fwd_trades': None,\n",
       "    'exh_trades': None,\n",
       "    'oc_status': 0,\n",
       "    'oc_weight': 0,\n",
       "    'od_regm': 0,\n",
       "    'od_chkdate': '/Date(-62135596800000)/',\n",
       "    'oc_issuetime': '/Date(-62135596800000)/',\n",
       "    'od_bsinis': '/Date(-62135596800000)/',\n",
       "    'od_bsinie': '/Date(-62135596800000)/',\n",
       "    'od_regdate': '/Date(734803200000)/',\n",
       "    'oc_changetime': '/Date(-62135596800000)/',\n",
       "    'oc_invalidtime': '/Date(-62135596800000)/',\n",
       "    'od_faren': '周雄',\n",
       "    'oc_regtype': None,\n",
       "    'oc_address': '市屋仔村61幢3号',\n",
       "    'od_ext': '吊销',\n",
       "    'od_regmoney': '',\n",
       "    'oc_companytype': None,\n",
       "    'org_types': None,\n",
       "    'oc_regorgname': None,\n",
       "    'oc_areaname': None,\n",
       "    'od_bussiness': '规划设计。***',\n",
       "    'od_gds': [],\n",
       "    'oc_old_names': None,\n",
       "    'oc_members': [],\n",
       "    'oc_tels': None,\n",
       "    'oc_mails': None,\n",
       "    'oc_brands': None,\n",
       "    'oc_sites': None,\n",
       "    'tags': None,\n",
       "    'oc_name': '中国城市规划设计研究院北海分院',\n",
       "    'contacts': None},\n",
       "   {'coordinates': None,\n",
       "    'oc_code': 'ff3df19f603f1a51fa1265a195a616bc',\n",
       "    'oc_creditcode': '913502001550229766',\n",
       "    'oc_number': '350200080004348',\n",
       "    'oc_area': '3502',\n",
       "    'm_area': '35',\n",
       "    'mps': ['工商年报(2014年)|13600966690'],\n",
       "    'mls': None,\n",
       "    'qqs': None,\n",
       "    'tps': ['工商年报(2018年)|5090342',\n",
       "     '谢映霞(院长)|城市轨道交通/城市环保/土地开发',\n",
       "     '李金卫(院长)|0592) 5090342'],\n",
       "    'texes': None,\n",
       "    'gb_cat': None,\n",
       "    'gb_codes': None,\n",
       "    'pro_codes': None,\n",
       "    'fwd_trades': None,\n",
       "    'exh_trades': None,\n",
       "    'oc_status': 0,\n",
       "    'oc_weight': 0,\n",
       "    'od_regm': 0,\n",
       "    'od_chkdate': '/Date(-62135596800000)/',\n",
       "    'oc_issuetime': '/Date(-62135596800000)/',\n",
       "    'od_bsinis': '/Date(-62135596800000)/',\n",
       "    'od_bsinie': '/Date(-62135596800000)/',\n",
       "    'od_regdate': '/Date(1017244800000)/',\n",
       "    'oc_changetime': '/Date(-62135596800000)/',\n",
       "    'oc_invalidtime': '/Date(-62135596800000)/',\n",
       "    'od_faren': '易翔',\n",
       "    'oc_regtype': None,\n",
       "    'oc_address': '厦门市思明区莲岳路221-1号901单元、1001单元、1002单元',\n",
       "    'od_ext': '存续（在营、开业、在册）',\n",
       "    'od_regmoney': '',\n",
       "    'oc_companytype': None,\n",
       "    'org_types': None,\n",
       "    'oc_regorgname': None,\n",
       "    'oc_areaname': None,\n",
       "    'od_bussiness': '代理所属企业法人在其经营范围内委托的规划、设计业务。',\n",
       "    'od_gds': [],\n",
       "    'oc_old_names': None,\n",
       "    'oc_members': ['易翔'],\n",
       "    'oc_tels': ['5090342'],\n",
       "    'oc_mails': ['406894628@qq.com'],\n",
       "    'oc_brands': None,\n",
       "    'oc_sites': None,\n",
       "    'tags': None,\n",
       "    'oc_name': '中国城市规划设计研究院厦门分院',\n",
       "    'contacts': None},\n",
       "   {'coordinates': None,\n",
       "    'oc_code': '0f67f8fe58d4f3d239cdf8e1d704160c',\n",
       "    'oc_creditcode': '915000006992632094',\n",
       "    'oc_number': '500112300021067',\n",
       "    'oc_area': '50',\n",
       "    'm_area': '50',\n",
       "    'mps': [],\n",
       "    'mls': None,\n",
       "    'qqs': None,\n",
       "    'tps': ['工商年报(2013年)|63561133',\n",
       "     '工商年报(2015年)|63561054',\n",
       "     '彭小雷(院长)|城市轨道交通/城市环保/土地开发',\n",
       "     '彭小雷(院长)|023)86796157',\n",
       "     '工商年报(2018年)|023-63561133'],\n",
       "    'texes': None,\n",
       "    'gb_cat': None,\n",
       "    'gb_codes': None,\n",
       "    'pro_codes': None,\n",
       "    'fwd_trades': None,\n",
       "    'exh_trades': None,\n",
       "    'oc_status': 0,\n",
       "    'oc_weight': 0,\n",
       "    'od_regm': 0,\n",
       "    'od_chkdate': '/Date(-62135596800000)/',\n",
       "    'oc_issuetime': '/Date(-62135596800000)/',\n",
       "    'od_bsinis': '/Date(-62135596800000)/',\n",
       "    'od_bsinie': '/Date(-62135596800000)/',\n",
       "    'od_regdate': '/Date(1260288000000)/',\n",
       "    'oc_changetime': '/Date(-62135596800000)/',\n",
       "    'oc_invalidtime': '/Date(-62135596800000)/',\n",
       "    'od_faren': '张圣海',\n",
       "    'oc_regtype': None,\n",
       "    'oc_address': '重庆市渝北区黄山大道中段64号6幢（高科总部广场）D栋（6号楼）',\n",
       "    'od_ext': '存续(在营、开业、在册)',\n",
       "    'od_regmoney': '',\n",
       "    'oc_companytype': None,\n",
       "    'org_types': None,\n",
       "    'oc_regorgname': None,\n",
       "    'oc_areaname': None,\n",
       "    'od_bussiness': '为所隶属企业法人承接其资质范围内的业务。',\n",
       "    'od_gds': [],\n",
       "    'oc_old_names': None,\n",
       "    'oc_members': [],\n",
       "    'oc_tels': ['023-63561133'],\n",
       "    'oc_mails': ['caupdwb@163.com'],\n",
       "    'oc_brands': None,\n",
       "    'oc_sites': None,\n",
       "    'tags': None,\n",
       "    'oc_name': '中国城市规划设计研究院西部分院',\n",
       "    'contacts': None},\n",
       "   {'coordinates': None,\n",
       "    'oc_code': '85cdbd08ea8a3d1e7e6e8faa8ff82a24',\n",
       "    'oc_creditcode': '                  ',\n",
       "    'oc_number': '4507001000467',\n",
       "    'oc_area': '4507',\n",
       "    'm_area': '45',\n",
       "    'mps': [],\n",
       "    'mls': None,\n",
       "    'qqs': None,\n",
       "    'tps': [],\n",
       "    'texes': None,\n",
       "    'gb_cat': None,\n",
       "    'gb_codes': None,\n",
       "    'pro_codes': None,\n",
       "    'fwd_trades': None,\n",
       "    'exh_trades': None,\n",
       "    'oc_status': 0,\n",
       "    'oc_weight': 0,\n",
       "    'od_regm': 0,\n",
       "    'od_chkdate': '/Date(-62135596800000)/',\n",
       "    'oc_issuetime': '/Date(-62135596800000)/',\n",
       "    'od_bsinis': '/Date(-62135596800000)/',\n",
       "    'od_bsinie': '/Date(-62135596800000)/',\n",
       "    'od_regdate': '/Date(830707200000)/',\n",
       "    'oc_changetime': '/Date(-62135596800000)/',\n",
       "    'oc_invalidtime': '/Date(-62135596800000)/',\n",
       "    'od_faren': '黄华军',\n",
       "    'oc_regtype': None,\n",
       "    'oc_address': '钦州湾大道',\n",
       "    'od_ext': '吊销，未注销',\n",
       "    'od_regmoney': '',\n",
       "    'oc_companytype': None,\n",
       "    'org_types': None,\n",
       "    'oc_regorgname': None,\n",
       "    'oc_areaname': None,\n",
       "    'od_bussiness': '预制水泥建筑构件、木制家具、石膏板制造。',\n",
       "    'od_gds': [],\n",
       "    'oc_old_names': None,\n",
       "    'oc_members': [],\n",
       "    'oc_tels': None,\n",
       "    'oc_mails': None,\n",
       "    'oc_brands': None,\n",
       "    'oc_sites': None,\n",
       "    'tags': None,\n",
       "    'oc_name': '中国城市规划设计研究院驻广西钦州办事处',\n",
       "    'contacts': None},\n",
       "   {'coordinates': None,\n",
       "    'oc_code': '085161a13d78e1ac56edc51b5d4f7123',\n",
       "    'oc_creditcode': '                  ',\n",
       "    'oc_number': '',\n",
       "    'oc_area': '4507',\n",
       "    'm_area': '45',\n",
       "    'mps': None,\n",
       "    'mls': None,\n",
       "    'qqs': None,\n",
       "    'tps': None,\n",
       "    'texes': None,\n",
       "    'gb_cat': None,\n",
       "    'gb_codes': None,\n",
       "    'pro_codes': None,\n",
       "    'fwd_trades': None,\n",
       "    'exh_trades': None,\n",
       "    'oc_status': 0,\n",
       "    'oc_weight': 0,\n",
       "    'od_regm': 0,\n",
       "    'od_chkdate': '/Date(-62135596800000)/',\n",
       "    'oc_issuetime': '/Date(-62135596800000)/',\n",
       "    'od_bsinis': '/Date(-62135596800000)/',\n",
       "    'od_bsinie': '/Date(-62135596800000)/',\n",
       "    'od_regdate': '/Date(-2209017600000)/',\n",
       "    'oc_changetime': '/Date(-62135596800000)/',\n",
       "    'oc_invalidtime': '/Date(-62135596800000)/',\n",
       "    'od_faren': None,\n",
       "    'oc_regtype': None,\n",
       "    'oc_address': '广西壮族自治区钦州市钦州湾大道西站路口',\n",
       "    'od_ext': None,\n",
       "    'od_regmoney': None,\n",
       "    'oc_companytype': None,\n",
       "    'org_types': None,\n",
       "    'oc_regorgname': None,\n",
       "    'oc_areaname': None,\n",
       "    'od_bussiness': None,\n",
       "    'od_gds': [],\n",
       "    'oc_old_names': None,\n",
       "    'oc_members': [],\n",
       "    'oc_tels': None,\n",
       "    'oc_mails': None,\n",
       "    'oc_brands': None,\n",
       "    'oc_sites': None,\n",
       "    'tags': None,\n",
       "    'oc_name': '中国城市规划设计研究院驻广西钦州市办事处',\n",
       "    'contacts': None},\n",
       "   {'coordinates': None,\n",
       "    'oc_code': '875d3b2c16a5c1c1b9cfe713e8ef37ce',\n",
       "    'oc_creditcode': '914601002936571522',\n",
       "    'oc_number': '460100000058259',\n",
       "    'oc_area': '4601',\n",
       "    'm_area': '46',\n",
       "    'mps': ['工商年报(2016年)|13976099727'],\n",
       "    'mls': None,\n",
       "    'qqs': None,\n",
       "    'tps': ['易翔(院长)|城市轨道交通/城市环保/土地开发',\n",
       "     '易 翔(院长)|(0898)66775885',\n",
       "     '工商年报(2018年)|66753329'],\n",
       "    'texes': None,\n",
       "    'gb_cat': None,\n",
       "    'gb_codes': None,\n",
       "    'pro_codes': None,\n",
       "    'fwd_trades': None,\n",
       "    'exh_trades': None,\n",
       "    'oc_status': 0,\n",
       "    'oc_weight': 0,\n",
       "    'od_regm': 0,\n",
       "    'od_chkdate': '/Date(-62135596800000)/',\n",
       "    'oc_issuetime': '/Date(-62135596800000)/',\n",
       "    'od_bsinis': '/Date(-62135596800000)/',\n",
       "    'od_bsinie': '/Date(-62135596800000)/',\n",
       "    'od_regdate': '/Date(756576000000)/',\n",
       "    'oc_changetime': '/Date(-62135596800000)/',\n",
       "    'oc_invalidtime': '/Date(-62135596800000)/',\n",
       "    'od_faren': '易翔',\n",
       "    'oc_regtype': None,\n",
       "    'oc_address': '海口市滨海大道花园新村CD2-501',\n",
       "    'od_ext': '存续（在营、开业、在册）',\n",
       "    'od_regmoney': '20(万人民币)',\n",
       "    'oc_companytype': None,\n",
       "    'org_types': None,\n",
       "    'oc_regorgname': None,\n",
       "    'oc_areaname': None,\n",
       "    'od_bussiness': '规划咨询服务。',\n",
       "    'od_gds': ['中国城市规划设计研究院'],\n",
       "    'oc_old_names': None,\n",
       "    'oc_members': ['杨保亭'],\n",
       "    'oc_tels': ['66753329'],\n",
       "    'oc_mails': ['1753831420@qq.com'],\n",
       "    'oc_brands': None,\n",
       "    'oc_sites': None,\n",
       "    'tags': None,\n",
       "    'oc_name': '中国城市规划设计研究院海南分院',\n",
       "    'contacts': None}],\n",
       "  'PersonUrlList': {'ea3703468fb0d1ba7b18e64c5e99200e': '365a4811245e19eb60a5c7ffe50df6bd-65e3a4cf41d80899f934f9bc98c8c131',\n",
       "   '9ba4f06c9289fb04a63a93b96fb7088e': '2a6e52ffdd387b1510b9e27362ee9011-3ade680d50795523e736081158e6b8e4',\n",
       "   '0463764a9a0ca939bfb6a6d4500604a1': '2a6e52ffdd387b1510b9e27362ee9011-e533f2e704c9a3f021f098d514211de6',\n",
       "   '8264f2c128e23510f77f83572fa7f5f0': '35f179300fb6ed455d6237198aa6d75b-d0d89524d4ba42bb21e0d6c03574aa36',\n",
       "   '3de4aba4a14c18144a5cb416880522ff': '2f6a8d91c4e3eab114b764ad08df9e39-a71894a995d57693b5f6a519d48bf83e',\n",
       "   'ff3df19f603f1a51fa1265a195a616bc': '127f2e4509dd43a018624744c816a11b-2ba9c08ce58c09df0ca17061c5337c1d',\n",
       "   '0f67f8fe58d4f3d239cdf8e1d704160c': 'c24a000cdc3be13d8958a5aed3d7acc3-fbabad39e87dabac5eb04d4002e7292e',\n",
       "   '85cdbd08ea8a3d1e7e6e8faa8ff82a24': '03d7434da1dc609eab26a72c8a441477-321a9762f8d579ce96edb00517d7041c',\n",
       "   '085161a13d78e1ac56edc51b5d4f7123': '2a6e52ffdd387b1510b9e27362ee9011-5356feb254191ac67c78d36c9a95d7bc',\n",
       "   '875d3b2c16a5c1c1b9cfe713e8ef37ce': '127f2e4509dd43a018624744c816a11b-695caf68300b87785f94e989cf8211aa'},\n",
       "  'CompanyStatusList': {'ea3703468fb0d1ba7b18e64c5e99200e': '存续',\n",
       "   '9ba4f06c9289fb04a63a93b96fb7088e': '注销',\n",
       "   '0463764a9a0ca939bfb6a6d4500604a1': '未知',\n",
       "   '8264f2c128e23510f77f83572fa7f5f0': '存续',\n",
       "   '3de4aba4a14c18144a5cb416880522ff': '吊销',\n",
       "   'ff3df19f603f1a51fa1265a195a616bc': '存续',\n",
       "   '0f67f8fe58d4f3d239cdf8e1d704160c': '存续',\n",
       "   '85cdbd08ea8a3d1e7e6e8faa8ff82a24': '吊销，未注销',\n",
       "   '085161a13d78e1ac56edc51b5d4f7123': '未知',\n",
       "   '875d3b2c16a5c1c1b9cfe713e8ef37ce': '存续'}},\n",
       " 'rowCount': 10,\n",
       " 'status': 0}"
      ]
     },
     "execution_count": 69,
     "metadata": {},
     "output_type": "execute_result"
    }
   ],
   "source": [
    "data_json5"
   ]
  },
  {
   "cell_type": "code",
   "execution_count": 70,
   "metadata": {},
   "outputs": [
    {
     "data": {
      "text/html": [
       "<div>\n",
       "<style scoped>\n",
       "    .dataframe tbody tr th:only-of-type {\n",
       "        vertical-align: middle;\n",
       "    }\n",
       "\n",
       "    .dataframe tbody tr th {\n",
       "        vertical-align: top;\n",
       "    }\n",
       "\n",
       "    .dataframe thead th {\n",
       "        text-align: right;\n",
       "    }\n",
       "</style>\n",
       "<table border=\"1\" class=\"dataframe\">\n",
       "  <thead>\n",
       "    <tr style=\"text-align: right;\">\n",
       "      <th></th>\n",
       "      <th>isSuccess</th>\n",
       "      <th>code</th>\n",
       "      <th>sMsg</th>\n",
       "      <th>dataList</th>\n",
       "      <th>rowCount</th>\n",
       "      <th>status</th>\n",
       "    </tr>\n",
       "  </thead>\n",
       "  <tbody>\n",
       "    <tr>\n",
       "      <td>CompanyList</td>\n",
       "      <td>True</td>\n",
       "      <td>200</td>\n",
       "      <td>操作成功</td>\n",
       "      <td>[{'coordinates': None, 'oc_code': 'ea3703468fb...</td>\n",
       "      <td>10</td>\n",
       "      <td>0</td>\n",
       "    </tr>\n",
       "    <tr>\n",
       "      <td>CompanyStatusList</td>\n",
       "      <td>True</td>\n",
       "      <td>200</td>\n",
       "      <td>操作成功</td>\n",
       "      <td>{'ea3703468fb0d1ba7b18e64c5e99200e': '存续', '9b...</td>\n",
       "      <td>10</td>\n",
       "      <td>0</td>\n",
       "    </tr>\n",
       "    <tr>\n",
       "      <td>PersonUrlList</td>\n",
       "      <td>True</td>\n",
       "      <td>200</td>\n",
       "      <td>操作成功</td>\n",
       "      <td>{'ea3703468fb0d1ba7b18e64c5e99200e': '365a4811...</td>\n",
       "      <td>10</td>\n",
       "      <td>0</td>\n",
       "    </tr>\n",
       "  </tbody>\n",
       "</table>\n",
       "</div>"
      ],
      "text/plain": [
       "                   isSuccess  code  sMsg  \\\n",
       "CompanyList             True   200  操作成功   \n",
       "CompanyStatusList       True   200  操作成功   \n",
       "PersonUrlList           True   200  操作成功   \n",
       "\n",
       "                                                            dataList  \\\n",
       "CompanyList        [{'coordinates': None, 'oc_code': 'ea3703468fb...   \n",
       "CompanyStatusList  {'ea3703468fb0d1ba7b18e64c5e99200e': '存续', '9b...   \n",
       "PersonUrlList      {'ea3703468fb0d1ba7b18e64c5e99200e': '365a4811...   \n",
       "\n",
       "                   rowCount  status  \n",
       "CompanyList              10       0  \n",
       "CompanyStatusList        10       0  \n",
       "PersonUrlList            10       0  "
      ]
     },
     "execution_count": 70,
     "metadata": {},
     "output_type": "execute_result"
    }
   ],
   "source": [
    "data_pd5 = pd.DataFrame(data_json5)\n",
    "data_pd5"
   ]
  },
  {
   "cell_type": "code",
   "execution_count": null,
   "metadata": {},
   "outputs": [],
   "source": []
  },
  {
   "cell_type": "code",
   "execution_count": null,
   "metadata": {},
   "outputs": [],
   "source": [
    "data5\n",
    "\n",
    "data5 = pd.DataFrame(data5)\n",
    "\n",
    "data5"
   ]
  },
  {
   "cell_type": "code",
   "execution_count": null,
   "metadata": {},
   "outputs": [],
   "source": [
    "data5"
   ]
  },
  {
   "cell_type": "code",
   "execution_count": 49,
   "metadata": {},
   "outputs": [],
   "source": [
    "data5 = pd.DataFrame(data5)"
   ]
  },
  {
   "cell_type": "code",
   "execution_count": 26,
   "metadata": {
    "scrolled": true
   },
   "outputs": [
    {
     "name": "stdout",
     "output_type": "stream",
     "text": [
      "http://planning.org.cn/news/newslist?cid=12&page=9\n"
     ]
    }
   ],
   "source": [
    "print(r4.url)"
   ]
  },
  {
   "cell_type": "code",
   "execution_count": 25,
   "metadata": {},
   "outputs": [],
   "source": [
    "r4 = requests.get(url,params=payload)"
   ]
  },
  {
   "cell_type": "code",
   "execution_count": 24,
   "metadata": {},
   "outputs": [],
   "source": [
    "payload = {'cid':12,'page':9}"
   ]
  }
 ],
 "metadata": {
  "kernelspec": {
   "display_name": "Python 3",
   "language": "python",
   "name": "python3"
  },
  "language_info": {
   "codemirror_mode": {
    "name": "ipython",
    "version": 3
   },
   "file_extension": ".py",
   "mimetype": "text/x-python",
   "name": "python",
   "nbconvert_exporter": "python",
   "pygments_lexer": "ipython3",
   "version": "3.7.4"
  }
 },
 "nbformat": 4,
 "nbformat_minor": 2
}
