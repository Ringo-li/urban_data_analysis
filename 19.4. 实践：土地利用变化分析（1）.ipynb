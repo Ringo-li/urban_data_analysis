{
 "cells": [
  {
   "cell_type": "code",
   "execution_count": 1,
   "metadata": {},
   "outputs": [],
   "source": [
    "# Import system modules\n",
    "import arcpy"
   ]
  },
  {
   "cell_type": "markdown",
   "metadata": {},
   "source": [
    "#### 思路：\n",
    ">    1.提取出要分析的某一类用地<br>\n",
    "    2.初期与末期相交，获取未变的部分<br>\n",
    "    3.未变的部分与末期相交取反获得新增部分，未变的部分与初期相交取反获得减少的部分<br>\n",
    "    4.按村进行划分<br>\n",
    "#### 工具：\n",
    ">    1.筛选工具：Select_analysis<br>\n",
    "    2.相交工具：Intersect_analysis<br>\n",
    "    3.取反工具：SymDiff_analysis<br>\n",
    "    4.分割工具：Split_analysis<br>\n",
    "    5：创建文件地理数据库：CreateFileGBD_management<br>"
   ]
  },
  {
   "cell_type": "markdown",
   "metadata": {},
   "source": [
    "#### 1.提取用地"
   ]
  },
  {
   "cell_type": "code",
   "execution_count": 2,
   "metadata": {},
   "outputs": [],
   "source": [
    "# Set workspace\n",
    "arcpy.env.workspace = r'D:\\rui\\code_analysis\\homework\\file\\GIS\\class1904_basic_data.gdb'"
   ]
  },
  {
   "cell_type": "code",
   "execution_count": 22,
   "metadata": {},
   "outputs": [
    {
     "name": "stdout",
     "output_type": "stream",
     "text": [
      "jd2000_nd创建成功\n",
      "jd2013_nd创建成功\n"
     ]
    }
   ],
   "source": [
    "for year in ['2000','2013']:\n",
    "    # Set local variables\n",
    "    in_fc = 'jd{}'.format(year)\n",
    "    out_fc = 'jd{}_nd'.format(year)\n",
    "    where_clause = '\"LB\" = \\'农田\\' OR \"LB\" = \\'养殖水域\\' or  \"LB\" = \\'园林地\\''\n",
    "    \n",
    "    # Execute Select\n",
    "    arcpy.Select_analysis(in_fc, out_fc, where_clause)\n",
    "    print(out_fc + '创建成功')\n"
   ]
  },
  {
   "cell_type": "markdown",
   "metadata": {},
   "source": [
    "#### 2.交集、交集取反，获取新增和减少部分\n",
    ">Intersect_analysis<br>\n",
    ">SymDiff_analysis"
   ]
  },
  {
   "cell_type": "code",
   "execution_count": 24,
   "metadata": {},
   "outputs": [
    {
     "name": "stdout",
     "output_type": "stream",
     "text": [
      "done\n"
     ]
    }
   ],
   "source": [
    "#设置要素名 \n",
    "fc_2000 = 'jd2000_nd'\n",
    "fc_2013 = 'jd2013_nd'\n",
    "fc_no_change =  'jc_no_change_nd'\n",
    "fc_red = 'jd_red_nd'\n",
    "fc_add = 'jd_add_nd'\n",
    "#设置工具参数\n",
    "\n",
    "#运行工具\n",
    "arcpy.Intersect_analysis([fc_2000,fc_2013],fc_no_change)#注意第一个参数为列表\n",
    "arcpy.SymDiff_analysis(fc_2000,fc_no_change,fc_red) #减少的部分\n",
    "arcpy.SymDiff_analysis(fc_2013,fc_no_change,fc_add) #增加的部分\n",
    "print('done')"
   ]
  },
  {
   "cell_type": "markdown",
   "metadata": {},
   "source": [
    "#### 3.创建文件地理数据库，按村分割\n",
    ">CreateFileGDB_management (out_folder_path, out_name, {out_version})<br>\n",
    "Split_analysis (in_features, split_features, split_field, out_workspace, {cluster_tolerance})"
   ]
  },
  {
   "cell_type": "code",
   "execution_count": 25,
   "metadata": {},
   "outputs": [
    {
     "name": "stdout",
     "output_type": "stream",
     "text": [
      "D:\\rui\\code_analysis\\homework\\file\\GIS\\class1904\\red.gdb\n",
      "jd_red_nd完成\n",
      "D:\\rui\\code_analysis\\homework\\file\\GIS\\class1904\\add.gdb\n",
      "jd_add_nd完成\n"
     ]
    }
   ],
   "source": [
    "#set workspace\n",
    "arcpy.env.workspace = 'D:/rui/code_analysis/homework/file/GIS/class1904_basic_data.gdb/'\n",
    "#set tool's arg\n",
    "dir_path =  r'D:\\rui\\code_analysis\\homework\\file\\GIS\\class1904'\n",
    "gdb_names = ['red','add']\n",
    "\n",
    "for gdb_name in gdb_names:\n",
    "    arcpy.CreateFileGDB_management(dir_path,gdb_name)\n",
    "    gdb_path = '{}\\\\{}.gdb'.format(dir_path,gdb_name)\n",
    "    print(gdb_path)\n",
    "    \n",
    "    in_fc = 'jd_{}_nd'.format(gdb_name)\n",
    "    split_fc = 'XZQ_vill_277'\n",
    "    split_field = 'XZQMC'\n",
    "    \n",
    "    arcpy.Split_analysis(in_fc,split_fc,split_field,gdb_path)\n",
    "    \n",
    "    print(in_fc + '完成')"
   ]
  },
  {
   "cell_type": "code",
   "execution_count": null,
   "metadata": {},
   "outputs": [],
   "source": []
  }
 ],
 "metadata": {
  "kernelspec": {
   "display_name": "python2",
   "language": "python",
   "name": "python2"
  },
  "language_info": {
   "codemirror_mode": {
    "name": "ipython",
    "version": 2
   },
   "file_extension": ".py",
   "mimetype": "text/x-python",
   "name": "python",
   "nbconvert_exporter": "python",
   "pygments_lexer": "ipython2",
   "version": "2.7.15"
  }
 },
 "nbformat": 4,
 "nbformat_minor": 2
}
