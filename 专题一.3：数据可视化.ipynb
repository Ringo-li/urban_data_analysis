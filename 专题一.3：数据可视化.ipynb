{
 "cells": [
  {
   "cell_type": "code",
   "execution_count": 3,
   "metadata": {},
   "outputs": [],
   "source": [
    "import pandas as pd\n",
    "import numpy as np\n",
    "import matplotlib.pyplot as plt\n",
    "plt.style.use('ggplot')\n",
    "%matplotlib inline"
   ]
  },
  {
   "cell_type": "code",
   "execution_count": 11,
   "metadata": {},
   "outputs": [
    {
     "data": {
      "text/plain": [
       "Index(['title', 'abstract', 'author', 'ins', 'author_num', 'date', 'keywords',\n",
       "       'fund', 'participation', 'Unnamed: 0', 'province', 'city'],\n",
       "      dtype='object')"
      ]
     },
     "execution_count": 11,
     "metadata": {},
     "output_type": "execute_result"
    }
   ],
   "source": [
    "df = pd.read_json(r'Project\\art_crawl\\article\\article\\spiders\\author_use.json')\n",
    "df.columns"
   ]
  },
  {
   "cell_type": "code",
   "execution_count": 38,
   "metadata": {},
   "outputs": [
    {
     "data": {
      "text/plain": [
       "Text(0, 0.5, '数量：篇')"
      ]
     },
     "execution_count": 38,
     "metadata": {},
     "output_type": "execute_result"
    },
    {
     "data": {
      "image/png": "[encoded data removed]",
      "text/plain": [
       "<Figure size 1008x288 with 1 Axes>"
      ]
     },
     "metadata": {
      "needs_background": "light"
     },
     "output_type": "display_data"
    }
   ],
   "source": [
    "author_top50 = df[['author','author_num']].sort_values(by='author_num',ascending=False).head(50).reset_index()['author_num']\n",
    "author_top50.plot(kind='line',figsize=(14,4))\n",
    "plt.title(u'作者历史发文数量')\n",
    "plt.legend(fontsize=15)\n",
    "plt.ylabel(u'数量：篇')"
   ]
  },
  {
   "cell_type": "code",
   "execution_count": 35,
   "metadata": {},
   "outputs": [
    {
     "data": {
      "text/plain": [
       "503"
      ]
     },
     "execution_count": 35,
     "metadata": {},
     "output_type": "execute_result"
    }
   ],
   "source": [
    "len(df.title.unique())"
   ]
  },
  {
   "cell_type": "code",
   "execution_count": 36,
   "metadata": {},
   "outputs": [
    {
     "data": {
      "text/plain": [
       "833"
      ]
     },
     "execution_count": 36,
     "metadata": {},
     "output_type": "execute_result"
    }
   ],
   "source": [
    "len(df.author.unique())"
   ]
  },
  {
   "cell_type": "code",
   "execution_count": 95,
   "metadata": {},
   "outputs": [],
   "source": [
    "#新增一列data，当title中包含“数据”时，其值等于df.author\n",
    "df.loc[df['title'].str.contains('数据'),'data'] = df.author"
   ]
  },
  {
   "cell_type": "code",
   "execution_count": 88,
   "metadata": {},
   "outputs": [],
   "source": [
    "df.drop(['haha','wahaha','Unnamed: 0'],axis=1,inplace=True)"
   ]
  },
  {
   "cell_type": "code",
   "execution_count": 93,
   "metadata": {},
   "outputs": [
    {
     "data": {
      "text/plain": [
       "participation\n",
       "0.12      8\n",
       "0.14      7\n",
       "0.17     12\n",
       "0.20     15\n",
       "0.25     92\n",
       "0.33    195\n",
       "0.50    244\n",
       "1.00    286\n",
       "Name: author, dtype: int64"
      ]
     },
     "execution_count": 93,
     "metadata": {},
     "output_type": "execute_result"
    }
   ],
   "source": [
    "#分组后统计某指定列\n",
    "df.groupby(by='participation')['author'].count()"
   ]
  },
  {
   "cell_type": "code",
   "execution_count": 98,
   "metadata": {},
   "outputs": [
    {
     "data": {
      "text/plain": [
       "91      于翔\n",
       "92     韩昊英\n",
       "144    钮心毅\n",
       "145    宋小冬\n",
       "162    段征宇\n",
       "Name: data, dtype: object"
      ]
     },
     "execution_count": 98,
     "metadata": {},
     "output_type": "execute_result"
    }
   ],
   "source": [
    "#只显示data列非空行\n",
    "df.data.dropna().head()"
   ]
  },
  {
   "cell_type": "code",
   "execution_count": 137,
   "metadata": {},
   "outputs": [],
   "source": [
    "def authors(x):\n",
    "    lst = []\n",
    "    for i in df[df.title == x].author:     \n",
    "        lst.append(i)\n",
    "    return lst"
   ]
  },
  {
   "cell_type": "code",
   "execution_count": 138,
   "metadata": {},
   "outputs": [],
   "source": [
    "df['authors'] = df.title.apply(authors)"
   ]
  },
  {
   "cell_type": "code",
   "execution_count": 106,
   "metadata": {},
   "outputs": [
    {
     "data": {
      "text/plain": [
       "2"
      ]
     },
     "execution_count": 106,
     "metadata": {},
     "output_type": "execute_result"
    }
   ],
   "source": []
  },
  {
   "cell_type": "code",
   "execution_count": 139,
   "metadata": {},
   "outputs": [
    {
     "data": {
      "text/html": [
       "<div>\n",
       "<style scoped>\n",
       "    .dataframe tbody tr th:only-of-type {\n",
       "        vertical-align: middle;\n",
       "    }\n",
       "\n",
       "    .dataframe tbody tr th {\n",
       "        vertical-align: top;\n",
       "    }\n",
       "\n",
       "    .dataframe thead th {\n",
       "        text-align: right;\n",
       "    }\n",
       "</style>\n",
       "<table border=\"1\" class=\"dataframe\">\n",
       "  <thead>\n",
       "    <tr style=\"text-align: right;\">\n",
       "      <th></th>\n",
       "      <th>title</th>\n",
       "      <th>abstract</th>\n",
       "      <th>author</th>\n",
       "      <th>ins</th>\n",
       "      <th>author_num</th>\n",
       "      <th>date</th>\n",
       "      <th>keywords</th>\n",
       "      <th>fund</th>\n",
       "      <th>participation</th>\n",
       "      <th>province</th>\n",
       "      <th>city</th>\n",
       "      <th>data</th>\n",
       "      <th>authors</th>\n",
       "    </tr>\n",
       "  </thead>\n",
       "  <tbody>\n",
       "    <tr>\n",
       "      <td>0</td>\n",
       "      <td>新型城镇化的关键改革与突破口选择</td>\n",
       "      <td>新型城镇化的实施需要一个统筹城乡的系统性改革框架。目前已经出台的改革方案和政策仍然存在较为严...</td>\n",
       "      <td>王瑞民</td>\n",
       "      <td>中国人民大学</td>\n",
       "      <td>14</td>\n",
       "      <td>2015年01期</td>\n",
       "      <td>[新型城镇化, 户籍制度, 城中村土地制度改革, 工业用地重整, 农地整理]</td>\n",
       "      <td>[]</td>\n",
       "      <td>0.50</td>\n",
       "      <td>北京</td>\n",
       "      <td>北京</td>\n",
       "      <td>NaN</td>\n",
       "      <td>[王瑞民, 陶然]</td>\n",
       "    </tr>\n",
       "    <tr>\n",
       "      <td>1</td>\n",
       "      <td>新型城镇化的关键改革与突破口选择</td>\n",
       "      <td>新型城镇化的实施需要一个统筹城乡的系统性改革框架。目前已经出台的改革方案和政策仍然存在较为严...</td>\n",
       "      <td>陶然</td>\n",
       "      <td>中国人民大学</td>\n",
       "      <td>81</td>\n",
       "      <td>2015年01期</td>\n",
       "      <td>[新型城镇化, 户籍制度, 城中村土地制度改革, 工业用地重整, 农地整理]</td>\n",
       "      <td>[]</td>\n",
       "      <td>0.50</td>\n",
       "      <td>北京</td>\n",
       "      <td>北京</td>\n",
       "      <td>NaN</td>\n",
       "      <td>[王瑞民, 陶然]</td>\n",
       "    </tr>\n",
       "    <tr>\n",
       "      <td>2</td>\n",
       "      <td>规划教育——从学位教育到职业发展</td>\n",
       "      <td>&lt;正&gt;非常欢迎大家参加这个关于教育和人才的论坛。参加组织这个讨论的有四家机构的代表,城市规划...</td>\n",
       "      <td>叶裕民</td>\n",
       "      <td>中国人民大学</td>\n",
       "      <td>120</td>\n",
       "      <td>2015年01期</td>\n",
       "      <td>[]</td>\n",
       "      <td>[]</td>\n",
       "      <td>1.00</td>\n",
       "      <td>北京</td>\n",
       "      <td>北京</td>\n",
       "      <td>NaN</td>\n",
       "      <td>[叶裕民]</td>\n",
       "    </tr>\n",
       "    <tr>\n",
       "      <td>3</td>\n",
       "      <td>我国乡村治理的本原模式研究——以巴林左旗后兴隆地村为例</td>\n",
       "      <td>乡村治理多方参与主体包括政府、企业、规划师和农民,在乡村治理公共政策制定实施过程中,我国普遍...</td>\n",
       "      <td>郐艳丽</td>\n",
       "      <td>中国人民大学</td>\n",
       "      <td>49</td>\n",
       "      <td>2015年06期</td>\n",
       "      <td>[乡村治理, 本原模式, 农民置上, 农民置下]</td>\n",
       "      <td>[]</td>\n",
       "      <td>1.00</td>\n",
       "      <td>北京</td>\n",
       "      <td>北京</td>\n",
       "      <td>NaN</td>\n",
       "      <td>[郐艳丽]</td>\n",
       "    </tr>\n",
       "    <tr>\n",
       "      <td>4</td>\n",
       "      <td>城市群空间集聚和扩散的特征与机制——以长三角城市群、武汉城市群和成渝城市群为例</td>\n",
       "      <td>城市群在国家和地区发展中具有重要的经济社会地位,也是区域空间格局演变的重要形式。本文以分别位...</td>\n",
       "      <td>刘涛</td>\n",
       "      <td>中国人民大学</td>\n",
       "      <td>48</td>\n",
       "      <td>2016年02期</td>\n",
       "      <td>[城市群, 集聚, 扩散, 驱动机制]</td>\n",
       "      <td>[国家自然科学基金项目(41371166)阶段性成果]</td>\n",
       "      <td>0.33</td>\n",
       "      <td>北京</td>\n",
       "      <td>北京</td>\n",
       "      <td>NaN</td>\n",
       "      <td>[刘涛, 曹广忠, 李凯]</td>\n",
       "    </tr>\n",
       "    <tr>\n",
       "      <td>...</td>\n",
       "      <td>...</td>\n",
       "      <td>...</td>\n",
       "      <td>...</td>\n",
       "      <td>...</td>\n",
       "      <td>...</td>\n",
       "      <td>...</td>\n",
       "      <td>...</td>\n",
       "      <td>...</td>\n",
       "      <td>...</td>\n",
       "      <td>...</td>\n",
       "      <td>...</td>\n",
       "      <td>...</td>\n",
       "      <td>...</td>\n",
       "    </tr>\n",
       "    <tr>\n",
       "      <td>854</td>\n",
       "      <td>基于雨水廊道的丘陵城镇多尺度海绵系统构建</td>\n",
       "      <td>大规模开发建设活动使城镇下垫面硬化程度加剧,\"三通一平\"阻断了雨水径流自然\"源-汇\"过程,对...</td>\n",
       "      <td>尹怡诚</td>\n",
       "      <td>湖南大学设计研究院有限公司</td>\n",
       "      <td>4</td>\n",
       "      <td>2019年08期</td>\n",
       "      <td>[海绵系统, 雨水廊道, 丘陵地区, 多尺度, 多规合一]</td>\n",
       "      <td>[湖南省重点研发计划项目(2019SK2101、2018NK2053、2017SK2220)]</td>\n",
       "      <td>0.25</td>\n",
       "      <td>湖南</td>\n",
       "      <td>长沙</td>\n",
       "      <td>NaN</td>\n",
       "      <td>[韩静燕, 戴妍娇, 周敏, 尹怡诚]</td>\n",
       "    </tr>\n",
       "    <tr>\n",
       "      <td>855</td>\n",
       "      <td>基于主体功能空间引导的城市增长形态模拟</td>\n",
       "      <td>元胞自动机(CA)被广泛应用于城市空间形态演变模拟,但现有CA大多根据历史变化过程挖掘模拟规...</td>\n",
       "      <td>念沛豪</td>\n",
       "      <td>中国电子信息产业发展研究院</td>\n",
       "      <td>8</td>\n",
       "      <td>2019年09期</td>\n",
       "      <td>[元胞自动机, 主体功能区, 城镇化, 城市规划, 土地利用规划]</td>\n",
       "      <td>[国家自然科学基金项目(41901311)资助]</td>\n",
       "      <td>0.33</td>\n",
       "      <td>北京</td>\n",
       "      <td>北京</td>\n",
       "      <td>NaN</td>\n",
       "      <td>[艾彬, 马世发, 念沛豪]</td>\n",
       "    </tr>\n",
       "    <tr>\n",
       "      <td>856</td>\n",
       "      <td>城市控制性详细规划的碳排放评估</td>\n",
       "      <td>梳理控制性详细规划与碳排放作用关系,构建了控规碳排放评估模型,并应用广州市典型控规进行案例分...</td>\n",
       "      <td>梁颢严</td>\n",
       "      <td>广东财经大学</td>\n",
       "      <td>2</td>\n",
       "      <td>2019年09期</td>\n",
       "      <td>[控制性详细规划, 碳排放, 评估模型]</td>\n",
       "      <td>[国家自然科学基金项目(41501184)资助]</td>\n",
       "      <td>0.20</td>\n",
       "      <td>广东</td>\n",
       "      <td>广州</td>\n",
       "      <td>NaN</td>\n",
       "      <td>[李晓晖, 肖荣波, 郭洪旭, 周健, 梁颢严]</td>\n",
       "    </tr>\n",
       "    <tr>\n",
       "      <td>857</td>\n",
       "      <td>37℃：让城市更有“温度”——我国母乳哺育设施规划理论框架与实践研究</td>\n",
       "      <td>母乳哺育设施建设是体现我国城市文明和人性关爱的重要内容之一。在全面开放二孩政策背景下,公共场...</td>\n",
       "      <td>朱凯</td>\n",
       "      <td>启迪设计集团股份有限公司</td>\n",
       "      <td>1</td>\n",
       "      <td>2019年11期</td>\n",
       "      <td>[母乳哺育设施, 公共场所, 附属型公共服务设施, 规划编制, 苏州市]</td>\n",
       "      <td>[国家自然科学基金项目(51578351), 江苏高校哲学社会科学研究重点项目(2018SJ...</td>\n",
       "      <td>0.50</td>\n",
       "      <td>江苏</td>\n",
       "      <td>苏州</td>\n",
       "      <td>NaN</td>\n",
       "      <td>[徐家明, 朱凯]</td>\n",
       "    </tr>\n",
       "    <tr>\n",
       "      <td>858</td>\n",
       "      <td>产权激励——面向城市空间资源再配置的空间治理创新</td>\n",
       "      <td>生态文明背景下,我国城市规划范式已从增量转向存量。增量规划阶段,空间资源配置的逻辑在于利用规...</td>\n",
       "      <td>黄军林</td>\n",
       "      <td>湖南师范大学</td>\n",
       "      <td>1</td>\n",
       "      <td>2019年12期</td>\n",
       "      <td>[存量, 空间治理, 再配置, 产权激励]</td>\n",
       "      <td>[国家自然科学基金项目(41871318)资助, 湖南创新型省份建设专项经费资助(2019S...</td>\n",
       "      <td>1.00</td>\n",
       "      <td>湖南</td>\n",
       "      <td>长沙</td>\n",
       "      <td>NaN</td>\n",
       "      <td>[黄军林]</td>\n",
       "    </tr>\n",
       "  </tbody>\n",
       "</table>\n",
       "<p>859 rows × 13 columns</p>\n",
       "</div>"
      ],
      "text/plain": [
       "                                       title  \\\n",
       "0                           新型城镇化的关键改革与突破口选择   \n",
       "1                           新型城镇化的关键改革与突破口选择   \n",
       "2                           规划教育——从学位教育到职业发展   \n",
       "3                我国乡村治理的本原模式研究——以巴林左旗后兴隆地村为例   \n",
       "4    城市群空间集聚和扩散的特征与机制——以长三角城市群、武汉城市群和成渝城市群为例   \n",
       "..                                       ...   \n",
       "854                     基于雨水廊道的丘陵城镇多尺度海绵系统构建   \n",
       "855                      基于主体功能空间引导的城市增长形态模拟   \n",
       "856                          城市控制性详细规划的碳排放评估   \n",
       "857       37℃：让城市更有“温度”——我国母乳哺育设施规划理论框架与实践研究   \n",
       "858                 产权激励——面向城市空间资源再配置的空间治理创新   \n",
       "\n",
       "                                              abstract author            ins  \\\n",
       "0    新型城镇化的实施需要一个统筹城乡的系统性改革框架。目前已经出台的改革方案和政策仍然存在较为严...    王瑞民         中国人民大学   \n",
       "1    新型城镇化的实施需要一个统筹城乡的系统性改革框架。目前已经出台的改革方案和政策仍然存在较为严...     陶然         中国人民大学   \n",
       "2    <正>非常欢迎大家参加这个关于教育和人才的论坛。参加组织这个讨论的有四家机构的代表,城市规划...    叶裕民         中国人民大学   \n",
       "3    乡村治理多方参与主体包括政府、企业、规划师和农民,在乡村治理公共政策制定实施过程中,我国普遍...    郐艳丽         中国人民大学   \n",
       "4    城市群在国家和地区发展中具有重要的经济社会地位,也是区域空间格局演变的重要形式。本文以分别位...     刘涛         中国人民大学   \n",
       "..                                                 ...    ...            ...   \n",
       "854  大规模开发建设活动使城镇下垫面硬化程度加剧,\"三通一平\"阻断了雨水径流自然\"源-汇\"过程,对...    尹怡诚  湖南大学设计研究院有限公司   \n",
       "855  元胞自动机(CA)被广泛应用于城市空间形态演变模拟,但现有CA大多根据历史变化过程挖掘模拟规...    念沛豪  中国电子信息产业发展研究院   \n",
       "856  梳理控制性详细规划与碳排放作用关系,构建了控规碳排放评估模型,并应用广州市典型控规进行案例分...    梁颢严         广东财经大学   \n",
       "857  母乳哺育设施建设是体现我国城市文明和人性关爱的重要内容之一。在全面开放二孩政策背景下,公共场...     朱凯   启迪设计集团股份有限公司   \n",
       "858  生态文明背景下,我国城市规划范式已从增量转向存量。增量规划阶段,空间资源配置的逻辑在于利用规...    黄军林         湖南师范大学   \n",
       "\n",
       "     author_num      date                                keywords  \\\n",
       "0            14  2015年01期  [新型城镇化, 户籍制度, 城中村土地制度改革, 工业用地重整, 农地整理]   \n",
       "1            81  2015年01期  [新型城镇化, 户籍制度, 城中村土地制度改革, 工业用地重整, 农地整理]   \n",
       "2           120  2015年01期                                      []   \n",
       "3            49  2015年06期                [乡村治理, 本原模式, 农民置上, 农民置下]   \n",
       "4            48  2016年02期                     [城市群, 集聚, 扩散, 驱动机制]   \n",
       "..          ...       ...                                     ...   \n",
       "854           4  2019年08期           [海绵系统, 雨水廊道, 丘陵地区, 多尺度, 多规合一]   \n",
       "855           8  2019年09期       [元胞自动机, 主体功能区, 城镇化, 城市规划, 土地利用规划]   \n",
       "856           2  2019年09期                    [控制性详细规划, 碳排放, 评估模型]   \n",
       "857           1  2019年11期    [母乳哺育设施, 公共场所, 附属型公共服务设施, 规划编制, 苏州市]   \n",
       "858           1  2019年12期                   [存量, 空间治理, 再配置, 产权激励]   \n",
       "\n",
       "                                                  fund  participation  \\\n",
       "0                                                   []           0.50   \n",
       "1                                                   []           0.50   \n",
       "2                                                   []           1.00   \n",
       "3                                                   []           1.00   \n",
       "4                          [国家自然科学基金项目(41371166)阶段性成果]           0.33   \n",
       "..                                                 ...            ...   \n",
       "854    [湖南省重点研发计划项目(2019SK2101、2018NK2053、2017SK2220)]           0.25   \n",
       "855                           [国家自然科学基金项目(41901311)资助]           0.33   \n",
       "856                           [国家自然科学基金项目(41501184)资助]           0.20   \n",
       "857  [国家自然科学基金项目(51578351), 江苏高校哲学社会科学研究重点项目(2018SJ...           0.50   \n",
       "858  [国家自然科学基金项目(41871318)资助, 湖南创新型省份建设专项经费资助(2019S...           1.00   \n",
       "\n",
       "    province city data                   authors  \n",
       "0         北京   北京  NaN                 [王瑞民, 陶然]  \n",
       "1         北京   北京  NaN                 [王瑞民, 陶然]  \n",
       "2         北京   北京  NaN                     [叶裕民]  \n",
       "3         北京   北京  NaN                     [郐艳丽]  \n",
       "4         北京   北京  NaN             [刘涛, 曹广忠, 李凯]  \n",
       "..       ...  ...  ...                       ...  \n",
       "854       湖南   长沙  NaN       [韩静燕, 戴妍娇, 周敏, 尹怡诚]  \n",
       "855       北京   北京  NaN            [艾彬, 马世发, 念沛豪]  \n",
       "856       广东   广州  NaN  [李晓晖, 肖荣波, 郭洪旭, 周健, 梁颢严]  \n",
       "857       江苏   苏州  NaN                 [徐家明, 朱凯]  \n",
       "858       湖南   长沙  NaN                     [黄军林]  \n",
       "\n",
       "[859 rows x 13 columns]"
      ]
     },
     "execution_count": 139,
     "metadata": {},
     "output_type": "execute_result"
    }
   ],
   "source": [
    "df"
   ]
  },
  {
   "cell_type": "code",
   "execution_count": 121,
   "metadata": {},
   "outputs": [
    {
     "data": {
      "text/plain": [
       "3    郐艳丽\n",
       "Name: author, dtype: object"
      ]
     },
     "execution_count": 121,
     "metadata": {},
     "output_type": "execute_result"
    }
   ],
   "source": []
  },
  {
   "cell_type": "code",
   "execution_count": null,
   "metadata": {},
   "outputs": [],
   "source": []
  }
 ],
 "metadata": {
  "kernelspec": {
   "display_name": "Python 3",
   "language": "python",
   "name": "python3"
  },
  "language_info": {
   "codemirror_mode": {
    "name": "ipython",
    "version": 3
   },
   "file_extension": ".py",
   "mimetype": "text/x-python",
   "name": "python",
   "nbconvert_exporter": "python",
   "pygments_lexer": "ipython3",
   "version": "3.7.4"
  }
 },
 "nbformat": 4,
 "nbformat_minor": 2
}
