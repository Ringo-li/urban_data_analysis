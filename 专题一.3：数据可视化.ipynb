{
 "cells": [
  {
   "cell_type": "code",
   "execution_count": 14,
   "metadata": {},
   "outputs": [],
   "source": [
    "import pandas as pd\n",
    "import numpy as np\n",
    "import matplotlib.pyplot as plt\n",
    "from itertools import combinations\n",
    "import networkx as nx\n",
    "\n",
    "plt.style.use('ggplot')\n",
    "%matplotlib inline"
   ]
  },
  {
   "cell_type": "code",
   "execution_count": 2,
   "metadata": {},
   "outputs": [
    {
     "data": {
      "text/plain": [
       "Index(['title', 'abstract', 'author', 'ins', 'author_num', 'date', 'keywords',\n",
       "       'fund', 'participation', 'Unnamed: 0', 'province', 'city'],\n",
       "      dtype='object')"
      ]
     },
     "execution_count": 2,
     "metadata": {},
     "output_type": "execute_result"
    }
   ],
   "source": [
    "df = pd.read_json(r'Project\\art_crawl\\article\\article\\spiders\\author_use.json')\n",
    "df.columns"
   ]
  },
  {
   "cell_type": "markdown",
   "metadata": {},
   "source": [
    "#### 1.作者历史发文量分析"
   ]
  },
  {
   "cell_type": "code",
   "execution_count": 3,
   "metadata": {},
   "outputs": [
    {
     "data": {
      "text/plain": [
       "Text(0, 0.5, '数量：篇')"
      ]
     },
     "execution_count": 3,
     "metadata": {},
     "output_type": "execute_result"
    },
    {
     "data": {
      "image/png": "[encoded data removed]",
      "text/plain": [
       "<Figure size 1008x288 with 1 Axes>"
      ]
     },
     "metadata": {
      "needs_background": "light"
     },
     "output_type": "display_data"
    }
   ],
   "source": [
    "author_top50 = df[['author','author_num']].sort_values(by='author_num',ascending=False).head(50).reset_index()['author_num']\n",
    "author_top50.plot(kind='line',figsize=(14,4))\n",
    "plt.title(u'作者历史发文数量')\n",
    "plt.legend(fontsize=15)\n",
    "plt.ylabel(u'数量：篇')"
   ]
  },
  {
   "cell_type": "markdown",
   "metadata": {},
   "source": [
    "#### 2.pandas一些用法"
   ]
  },
  {
   "cell_type": "code",
   "execution_count": 4,
   "metadata": {},
   "outputs": [
    {
     "data": {
      "text/plain": [
       "503"
      ]
     },
     "execution_count": 4,
     "metadata": {},
     "output_type": "execute_result"
    }
   ],
   "source": [
    "len(df.title.unique())"
   ]
  },
  {
   "cell_type": "code",
   "execution_count": 5,
   "metadata": {},
   "outputs": [],
   "source": [
    "#新增一列data，当title中包含“数据”时，其值等于df.author\n",
    "df.loc[df['title'].str.contains('数据'),'data'] = df.author"
   ]
  },
  {
   "cell_type": "code",
   "execution_count": 6,
   "metadata": {},
   "outputs": [],
   "source": [
    "df.drop(['Unnamed: 0'],axis=1,inplace=True)"
   ]
  },
  {
   "cell_type": "code",
   "execution_count": 7,
   "metadata": {},
   "outputs": [
    {
     "data": {
      "text/plain": [
       "participation\n",
       "0.12      8\n",
       "0.14      7\n",
       "0.17     12\n",
       "0.20     15\n",
       "0.25     92\n",
       "0.33    195\n",
       "0.50    244\n",
       "1.00    286\n",
       "Name: author, dtype: int64"
      ]
     },
     "execution_count": 7,
     "metadata": {},
     "output_type": "execute_result"
    }
   ],
   "source": [
    "#分组后统计某指定列\n",
    "df.groupby(by='participation')['author'].count()"
   ]
  },
  {
   "cell_type": "code",
   "execution_count": 8,
   "metadata": {},
   "outputs": [
    {
     "data": {
      "text/plain": [
       "91      于翔\n",
       "92     韩昊英\n",
       "144    钮心毅\n",
       "145    宋小冬\n",
       "162    段征宇\n",
       "Name: data, dtype: object"
      ]
     },
     "execution_count": 8,
     "metadata": {},
     "output_type": "execute_result"
    }
   ],
   "source": [
    "#只显示data列非空行\n",
    "df.data.dropna().head()"
   ]
  },
  {
   "cell_type": "markdown",
   "metadata": {},
   "source": [
    "#### 3.作者空间联系分析"
   ]
  },
  {
   "cell_type": "code",
   "execution_count": 9,
   "metadata": {},
   "outputs": [],
   "source": [
    "#将相同题目的作者新建列\n",
    "def authors(x):\n",
    "    lst = []\n",
    "    for i in df[df.title == x].author:     \n",
    "        lst.append(i)\n",
    "    return lst"
   ]
  },
  {
   "cell_type": "code",
   "execution_count": 10,
   "metadata": {},
   "outputs": [],
   "source": [
    "df['authors'] = df.title.apply(authors)"
   ]
  },
  {
   "cell_type": "code",
   "execution_count": 39,
   "metadata": {},
   "outputs": [
    {
     "name": "stdout",
     "output_type": "stream",
     "text": [
      "[['a', 'b'], ['a', 'c'], ['a', 'd'], ['a', 'e'], ['b', 'c'], ['b', 'd'], ['b', 'e'], ['c', 'd'], ['c', 'e'], ['d', 'e']]\n"
     ]
    }
   ],
   "source": [
    "#itertools的combinations模块用法\n",
    "from itertools import combinations\n",
    "lst = ['a','b','c','d','e']\n",
    "#map用法：map(func,iter),将序列用func映射\n",
    "print(list(map(list,combinations(lst,2))))"
   ]
  },
  {
   "cell_type": "code",
   "execution_count": 118,
   "metadata": {},
   "outputs": [],
   "source": [
    "#删除重复行drop_duplicates\n",
    "author_use = df[['title','authors']].drop_duplicates(subset='title').reset_index(drop=True)"
   ]
  },
  {
   "cell_type": "code",
   "execution_count": 138,
   "metadata": {},
   "outputs": [],
   "source": [
    "#新建列让作者两两组合\n",
    "author_use['combination'] = author_use.authors.apply(lambda x:list(map(list,combinations(x,2))))"
   ]
  },
  {
   "cell_type": "code",
   "execution_count": 139,
   "metadata": {},
   "outputs": [
    {
     "data": {
      "text/html": [
       "<div>\n",
       "<style scoped>\n",
       "    .dataframe tbody tr th:only-of-type {\n",
       "        vertical-align: middle;\n",
       "    }\n",
       "\n",
       "    .dataframe tbody tr th {\n",
       "        vertical-align: top;\n",
       "    }\n",
       "\n",
       "    .dataframe thead th {\n",
       "        text-align: right;\n",
       "    }\n",
       "</style>\n",
       "<table border=\"1\" class=\"dataframe\">\n",
       "  <thead>\n",
       "    <tr style=\"text-align: right;\">\n",
       "      <th></th>\n",
       "      <th>title</th>\n",
       "      <th>authors</th>\n",
       "      <th>combination</th>\n",
       "    </tr>\n",
       "  </thead>\n",
       "  <tbody>\n",
       "    <tr>\n",
       "      <td>0</td>\n",
       "      <td>新型城镇化的关键改革与突破口选择</td>\n",
       "      <td>[王瑞民, 陶然]</td>\n",
       "      <td>[[王瑞民, 陶然]]</td>\n",
       "    </tr>\n",
       "    <tr>\n",
       "      <td>1</td>\n",
       "      <td>规划教育——从学位教育到职业发展</td>\n",
       "      <td>[叶裕民]</td>\n",
       "      <td>NaN</td>\n",
       "    </tr>\n",
       "    <tr>\n",
       "      <td>2</td>\n",
       "      <td>我国乡村治理的本原模式研究——以巴林左旗后兴隆地村为例</td>\n",
       "      <td>[郐艳丽]</td>\n",
       "      <td>NaN</td>\n",
       "    </tr>\n",
       "    <tr>\n",
       "      <td>3</td>\n",
       "      <td>城市群空间集聚和扩散的特征与机制——以长三角城市群、武汉城市群和成渝城市群为例</td>\n",
       "      <td>[刘涛, 曹广忠, 李凯]</td>\n",
       "      <td>[[刘涛, 曹广忠], [刘涛, 李凯], [曹广忠, 李凯]]</td>\n",
       "    </tr>\n",
       "    <tr>\n",
       "      <td>4</td>\n",
       "      <td>面向存量规划的我国城市公共物品生产模式变革</td>\n",
       "      <td>[于洋]</td>\n",
       "      <td>NaN</td>\n",
       "    </tr>\n",
       "    <tr>\n",
       "      <td>...</td>\n",
       "      <td>...</td>\n",
       "      <td>...</td>\n",
       "      <td>...</td>\n",
       "    </tr>\n",
       "    <tr>\n",
       "      <td>498</td>\n",
       "      <td>大都市圈城市创新网络及其发展特征初探</td>\n",
       "      <td>[李迎成]</td>\n",
       "      <td>NaN</td>\n",
       "    </tr>\n",
       "    <tr>\n",
       "      <td>499</td>\n",
       "      <td>从差序、离散到融入——“村改居”社区的空间生产研究</td>\n",
       "      <td>[杜培培]</td>\n",
       "      <td>NaN</td>\n",
       "    </tr>\n",
       "    <tr>\n",
       "      <td>500</td>\n",
       "      <td>新时代街道和社区公共服务设施规划探索——从“服务短缺”到“治理协同”的重庆实践</td>\n",
       "      <td>[闫晶晶, 王岳]</td>\n",
       "      <td>[[闫晶晶, 王岳]]</td>\n",
       "    </tr>\n",
       "    <tr>\n",
       "      <td>501</td>\n",
       "      <td>芒康县藏族民居的生态适应性特色研究</td>\n",
       "      <td>[王雨枫]</td>\n",
       "      <td>NaN</td>\n",
       "    </tr>\n",
       "    <tr>\n",
       "      <td>502</td>\n",
       "      <td>产权激励——面向城市空间资源再配置的空间治理创新</td>\n",
       "      <td>[黄军林]</td>\n",
       "      <td>NaN</td>\n",
       "    </tr>\n",
       "  </tbody>\n",
       "</table>\n",
       "<p>503 rows × 3 columns</p>\n",
       "</div>"
      ],
      "text/plain": [
       "                                       title        authors  \\\n",
       "0                           新型城镇化的关键改革与突破口选择      [王瑞民, 陶然]   \n",
       "1                           规划教育——从学位教育到职业发展          [叶裕民]   \n",
       "2                我国乡村治理的本原模式研究——以巴林左旗后兴隆地村为例          [郐艳丽]   \n",
       "3    城市群空间集聚和扩散的特征与机制——以长三角城市群、武汉城市群和成渝城市群为例  [刘涛, 曹广忠, 李凯]   \n",
       "4                      面向存量规划的我国城市公共物品生产模式变革           [于洋]   \n",
       "..                                       ...            ...   \n",
       "498                       大都市圈城市创新网络及其发展特征初探          [李迎成]   \n",
       "499                从差序、离散到融入——“村改居”社区的空间生产研究          [杜培培]   \n",
       "500  新时代街道和社区公共服务设施规划探索——从“服务短缺”到“治理协同”的重庆实践      [闫晶晶, 王岳]   \n",
       "501                        芒康县藏族民居的生态适应性特色研究          [王雨枫]   \n",
       "502                 产权激励——面向城市空间资源再配置的空间治理创新          [黄军林]   \n",
       "\n",
       "                          combination  \n",
       "0                         [[王瑞民, 陶然]]  \n",
       "1                                 NaN  \n",
       "2                                 NaN  \n",
       "3    [[刘涛, 曹广忠], [刘涛, 李凯], [曹广忠, 李凯]]  \n",
       "4                                 NaN  \n",
       "..                                ...  \n",
       "498                               NaN  \n",
       "499                               NaN  \n",
       "500                       [[闫晶晶, 王岳]]  \n",
       "501                               NaN  \n",
       "502                               NaN  \n",
       "\n",
       "[503 rows x 3 columns]"
      ]
     },
     "execution_count": 139,
     "metadata": {},
     "output_type": "execute_result"
    }
   ],
   "source": [
    "#给空白行赋值为np.nan\n",
    "author_use['combination'] = author_use.combination.apply(lambda x:np.nan if len(x) == 0 else x)\n",
    "author_use"
   ]
  },
  {
   "cell_type": "code",
   "execution_count": 141,
   "metadata": {},
   "outputs": [
    {
     "data": {
      "text/html": [
       "<div>\n",
       "<style scoped>\n",
       "    .dataframe tbody tr th:only-of-type {\n",
       "        vertical-align: middle;\n",
       "    }\n",
       "\n",
       "    .dataframe tbody tr th {\n",
       "        vertical-align: top;\n",
       "    }\n",
       "\n",
       "    .dataframe thead th {\n",
       "        text-align: right;\n",
       "    }\n",
       "</style>\n",
       "<table border=\"1\" class=\"dataframe\">\n",
       "  <thead>\n",
       "    <tr style=\"text-align: right;\">\n",
       "      <th></th>\n",
       "      <th>title</th>\n",
       "      <th>authors</th>\n",
       "      <th>combination</th>\n",
       "    </tr>\n",
       "  </thead>\n",
       "  <tbody>\n",
       "    <tr>\n",
       "      <td>0</td>\n",
       "      <td>新型城镇化的关键改革与突破口选择</td>\n",
       "      <td>[王瑞民, 陶然]</td>\n",
       "      <td>[[王瑞民, 陶然]]</td>\n",
       "    </tr>\n",
       "    <tr>\n",
       "      <td>1</td>\n",
       "      <td>城市群空间集聚和扩散的特征与机制——以长三角城市群、武汉城市群和成渝城市群为例</td>\n",
       "      <td>[刘涛, 曹广忠, 李凯]</td>\n",
       "      <td>[[刘涛, 曹广忠], [刘涛, 李凯], [曹广忠, 李凯]]</td>\n",
       "    </tr>\n",
       "    <tr>\n",
       "      <td>2</td>\n",
       "      <td>外来与本地社区公共服务设施供应的比较研究——基于空间剥夺的视角</td>\n",
       "      <td>[欧阳伟, 王博祎]</td>\n",
       "      <td>[[欧阳伟, 王博祎]]</td>\n",
       "    </tr>\n",
       "    <tr>\n",
       "      <td>3</td>\n",
       "      <td>控规面对面</td>\n",
       "      <td>[阳建强, 黄卫东, 李王鸣, 杨晓光, 耿虹, 林隽]</td>\n",
       "      <td>[[阳建强, 黄卫东], [阳建强, 李王鸣], [阳建强, 杨晓光], [阳建强, 耿虹]...</td>\n",
       "    </tr>\n",
       "    <tr>\n",
       "      <td>4</td>\n",
       "      <td>城市天空可视域的测度技术与类型解析</td>\n",
       "      <td>[马奔, 杨俊宴]</td>\n",
       "      <td>[[马奔, 杨俊宴]]</td>\n",
       "    </tr>\n",
       "    <tr>\n",
       "      <td>...</td>\n",
       "      <td>...</td>\n",
       "      <td>...</td>\n",
       "      <td>...</td>\n",
       "    </tr>\n",
       "    <tr>\n",
       "      <td>212</td>\n",
       "      <td>基于生态位理论的国土空间功能重要性评估——以攀西地区为例</td>\n",
       "      <td>[张继飞, 刘春艳]</td>\n",
       "      <td>[[张继飞, 刘春艳]]</td>\n",
       "    </tr>\n",
       "    <tr>\n",
       "      <td>213</td>\n",
       "      <td>旅游产业、区域经济与城镇化关系研究——基于线性、非线性、面板Granger因果关系检验</td>\n",
       "      <td>[张毓峰, 马鑫杰, 张炜]</td>\n",
       "      <td>[[张毓峰, 马鑫杰], [张毓峰, 张炜], [马鑫杰, 张炜]]</td>\n",
       "    </tr>\n",
       "    <tr>\n",
       "      <td>214</td>\n",
       "      <td>淘宝村的演变历程与空间优化策略研究——以广州市里仁洞村为例</td>\n",
       "      <td>[千庆兰, 张嘉欣]</td>\n",
       "      <td>[[千庆兰, 张嘉欣]]</td>\n",
       "    </tr>\n",
       "    <tr>\n",
       "      <td>215</td>\n",
       "      <td>中国城市蔓延的多指标指数测度研究——基于快速城镇化的背景</td>\n",
       "      <td>[蔡思远, 王家庭, 马洪福]</td>\n",
       "      <td>[[蔡思远, 王家庭], [蔡思远, 马洪福], [王家庭, 马洪福]]</td>\n",
       "    </tr>\n",
       "    <tr>\n",
       "      <td>216</td>\n",
       "      <td>新时代街道和社区公共服务设施规划探索——从“服务短缺”到“治理协同”的重庆实践</td>\n",
       "      <td>[闫晶晶, 王岳]</td>\n",
       "      <td>[[闫晶晶, 王岳]]</td>\n",
       "    </tr>\n",
       "  </tbody>\n",
       "</table>\n",
       "<p>217 rows × 3 columns</p>\n",
       "</div>"
      ],
      "text/plain": [
       "                                           title  \\\n",
       "0                               新型城镇化的关键改革与突破口选择   \n",
       "1        城市群空间集聚和扩散的特征与机制——以长三角城市群、武汉城市群和成渝城市群为例   \n",
       "2                外来与本地社区公共服务设施供应的比较研究——基于空间剥夺的视角   \n",
       "3                                          控规面对面   \n",
       "4                              城市天空可视域的测度技术与类型解析   \n",
       "..                                           ...   \n",
       "212                 基于生态位理论的国土空间功能重要性评估——以攀西地区为例   \n",
       "213  旅游产业、区域经济与城镇化关系研究——基于线性、非线性、面板Granger因果关系检验   \n",
       "214                淘宝村的演变历程与空间优化策略研究——以广州市里仁洞村为例   \n",
       "215                 中国城市蔓延的多指标指数测度研究——基于快速城镇化的背景   \n",
       "216      新时代街道和社区公共服务设施规划探索——从“服务短缺”到“治理协同”的重庆实践   \n",
       "\n",
       "                          authors  \\\n",
       "0                       [王瑞民, 陶然]   \n",
       "1                   [刘涛, 曹广忠, 李凯]   \n",
       "2                      [欧阳伟, 王博祎]   \n",
       "3    [阳建强, 黄卫东, 李王鸣, 杨晓光, 耿虹, 林隽]   \n",
       "4                       [马奔, 杨俊宴]   \n",
       "..                            ...   \n",
       "212                    [张继飞, 刘春艳]   \n",
       "213                [张毓峰, 马鑫杰, 张炜]   \n",
       "214                    [千庆兰, 张嘉欣]   \n",
       "215               [蔡思远, 王家庭, 马洪福]   \n",
       "216                     [闫晶晶, 王岳]   \n",
       "\n",
       "                                           combination  \n",
       "0                                          [[王瑞民, 陶然]]  \n",
       "1                     [[刘涛, 曹广忠], [刘涛, 李凯], [曹广忠, 李凯]]  \n",
       "2                                         [[欧阳伟, 王博祎]]  \n",
       "3    [[阳建强, 黄卫东], [阳建强, 李王鸣], [阳建强, 杨晓光], [阳建强, 耿虹]...  \n",
       "4                                          [[马奔, 杨俊宴]]  \n",
       "..                                                 ...  \n",
       "212                                       [[张继飞, 刘春艳]]  \n",
       "213                 [[张毓峰, 马鑫杰], [张毓峰, 张炜], [马鑫杰, 张炜]]  \n",
       "214                                       [[千庆兰, 张嘉欣]]  \n",
       "215               [[蔡思远, 王家庭], [蔡思远, 马洪福], [王家庭, 马洪福]]  \n",
       "216                                        [[闫晶晶, 王岳]]  \n",
       "\n",
       "[217 rows x 3 columns]"
      ]
     },
     "execution_count": 141,
     "metadata": {},
     "output_type": "execute_result"
    }
   ],
   "source": [
    "#删除空白行\n",
    "author_com = author_use.dropna().reset_index(drop=True)\n",
    "author_com"
   ]
  },
  {
   "cell_type": "code",
   "execution_count": 170,
   "metadata": {},
   "outputs": [
    {
     "data": {
      "text/plain": [
       "array([['1', '2', '3'],\n",
       "       ['a', 'b', 'c'],\n",
       "       ['4', '2', '3'],\n",
       "       ['2', '3', '2'],\n",
       "       ['2', '4', '4']], dtype='<U11')"
      ]
     },
     "execution_count": 170,
     "metadata": {},
     "output_type": "execute_result"
    }
   ],
   "source": [
    "#建立作者一一对应关系\n",
    "#利用np.vstack将多个序列纵向相加\n",
    "a = [1,2,3]\n",
    "b = list('abc')\n",
    "c = np.random.randint(1,6,9).reshape(3,3)\n",
    "d = np.vstack([a,b,c])\n",
    "d"
   ]
  },
  {
   "cell_type": "code",
   "execution_count": 205,
   "metadata": {},
   "outputs": [
    {
     "data": {
      "text/html": [
       "<div>\n",
       "<style scoped>\n",
       "    .dataframe tbody tr th:only-of-type {\n",
       "        vertical-align: middle;\n",
       "    }\n",
       "\n",
       "    .dataframe tbody tr th {\n",
       "        vertical-align: top;\n",
       "    }\n",
       "\n",
       "    .dataframe thead th {\n",
       "        text-align: right;\n",
       "    }\n",
       "</style>\n",
       "<table border=\"1\" class=\"dataframe\">\n",
       "  <thead>\n",
       "    <tr style=\"text-align: right;\">\n",
       "      <th></th>\n",
       "      <th>author1</th>\n",
       "      <th>author2</th>\n",
       "    </tr>\n",
       "  </thead>\n",
       "  <tbody>\n",
       "    <tr>\n",
       "      <td>0</td>\n",
       "      <td>王瑞民</td>\n",
       "      <td>陶然</td>\n",
       "    </tr>\n",
       "    <tr>\n",
       "      <td>1</td>\n",
       "      <td>刘涛</td>\n",
       "      <td>曹广忠</td>\n",
       "    </tr>\n",
       "    <tr>\n",
       "      <td>2</td>\n",
       "      <td>刘涛</td>\n",
       "      <td>李凯</td>\n",
       "    </tr>\n",
       "    <tr>\n",
       "      <td>3</td>\n",
       "      <td>曹广忠</td>\n",
       "      <td>李凯</td>\n",
       "    </tr>\n",
       "    <tr>\n",
       "      <td>4</td>\n",
       "      <td>欧阳伟</td>\n",
       "      <td>王博祎</td>\n",
       "    </tr>\n",
       "  </tbody>\n",
       "</table>\n",
       "</div>"
      ],
      "text/plain": [
       "  author1 author2\n",
       "0     王瑞民      陶然\n",
       "1      刘涛     曹广忠\n",
       "2      刘涛      李凯\n",
       "3     曹广忠      李凯\n",
       "4     欧阳伟     王博祎"
      ]
     },
     "execution_count": 205,
     "metadata": {},
     "output_type": "execute_result"
    }
   ],
   "source": [
    "author_net = pd.DataFrame(np.vstack(author_com.combination),columns=['author1','author2'])\n",
    "author_net.head()"
   ]
  },
  {
   "cell_type": "code",
   "execution_count": 206,
   "metadata": {},
   "outputs": [
    {
     "data": {
      "text/html": [
       "<div>\n",
       "<style scoped>\n",
       "    .dataframe tbody tr th:only-of-type {\n",
       "        vertical-align: middle;\n",
       "    }\n",
       "\n",
       "    .dataframe tbody tr th {\n",
       "        vertical-align: top;\n",
       "    }\n",
       "\n",
       "    .dataframe thead th {\n",
       "        text-align: right;\n",
       "    }\n",
       "</style>\n",
       "<table border=\"1\" class=\"dataframe\">\n",
       "  <thead>\n",
       "    <tr style=\"text-align: right;\">\n",
       "      <th></th>\n",
       "      <th>author1</th>\n",
       "      <th>author2</th>\n",
       "      <th>from</th>\n",
       "      <th>to</th>\n",
       "      <th>weight</th>\n",
       "    </tr>\n",
       "  </thead>\n",
       "  <tbody>\n",
       "    <tr>\n",
       "      <td>0</td>\n",
       "      <td>王瑞民</td>\n",
       "      <td>陶然</td>\n",
       "      <td>王瑞民</td>\n",
       "      <td>陶然</td>\n",
       "      <td>1</td>\n",
       "    </tr>\n",
       "    <tr>\n",
       "      <td>1</td>\n",
       "      <td>刘涛</td>\n",
       "      <td>曹广忠</td>\n",
       "      <td>刘涛</td>\n",
       "      <td>曹广忠</td>\n",
       "      <td>1</td>\n",
       "    </tr>\n",
       "    <tr>\n",
       "      <td>2</td>\n",
       "      <td>刘涛</td>\n",
       "      <td>李凯</td>\n",
       "      <td>刘涛</td>\n",
       "      <td>李凯</td>\n",
       "      <td>1</td>\n",
       "    </tr>\n",
       "    <tr>\n",
       "      <td>3</td>\n",
       "      <td>曹广忠</td>\n",
       "      <td>李凯</td>\n",
       "      <td>曹广忠</td>\n",
       "      <td>李凯</td>\n",
       "      <td>1</td>\n",
       "    </tr>\n",
       "    <tr>\n",
       "      <td>4</td>\n",
       "      <td>欧阳伟</td>\n",
       "      <td>王博祎</td>\n",
       "      <td>欧阳伟</td>\n",
       "      <td>王博祎</td>\n",
       "      <td>1</td>\n",
       "    </tr>\n",
       "    <tr>\n",
       "      <td>...</td>\n",
       "      <td>...</td>\n",
       "      <td>...</td>\n",
       "      <td>...</td>\n",
       "      <td>...</td>\n",
       "      <td>...</td>\n",
       "    </tr>\n",
       "    <tr>\n",
       "      <td>559</td>\n",
       "      <td>千庆兰</td>\n",
       "      <td>张嘉欣</td>\n",
       "      <td>千庆兰</td>\n",
       "      <td>张嘉欣</td>\n",
       "      <td>1</td>\n",
       "    </tr>\n",
       "    <tr>\n",
       "      <td>560</td>\n",
       "      <td>蔡思远</td>\n",
       "      <td>王家庭</td>\n",
       "      <td>王家庭</td>\n",
       "      <td>蔡思远</td>\n",
       "      <td>1</td>\n",
       "    </tr>\n",
       "    <tr>\n",
       "      <td>561</td>\n",
       "      <td>蔡思远</td>\n",
       "      <td>马洪福</td>\n",
       "      <td>蔡思远</td>\n",
       "      <td>马洪福</td>\n",
       "      <td>1</td>\n",
       "    </tr>\n",
       "    <tr>\n",
       "      <td>562</td>\n",
       "      <td>王家庭</td>\n",
       "      <td>马洪福</td>\n",
       "      <td>王家庭</td>\n",
       "      <td>马洪福</td>\n",
       "      <td>1</td>\n",
       "    </tr>\n",
       "    <tr>\n",
       "      <td>563</td>\n",
       "      <td>闫晶晶</td>\n",
       "      <td>王岳</td>\n",
       "      <td>王岳</td>\n",
       "      <td>闫晶晶</td>\n",
       "      <td>1</td>\n",
       "    </tr>\n",
       "  </tbody>\n",
       "</table>\n",
       "<p>564 rows × 5 columns</p>\n",
       "</div>"
      ],
      "text/plain": [
       "    author1 author2 from   to  weight\n",
       "0       王瑞民      陶然  王瑞民   陶然       1\n",
       "1        刘涛     曹广忠   刘涛  曹广忠       1\n",
       "2        刘涛      李凯   刘涛   李凯       1\n",
       "3       曹广忠      李凯  曹广忠   李凯       1\n",
       "4       欧阳伟     王博祎  欧阳伟  王博祎       1\n",
       "..      ...     ...  ...  ...     ...\n",
       "559     千庆兰     张嘉欣  千庆兰  张嘉欣       1\n",
       "560     蔡思远     王家庭  王家庭  蔡思远       1\n",
       "561     蔡思远     马洪福  蔡思远  马洪福       1\n",
       "562     王家庭     马洪福  王家庭  马洪福       1\n",
       "563     闫晶晶      王岳   王岳  闫晶晶       1\n",
       "\n",
       "[564 rows x 5 columns]"
      ]
     },
     "execution_count": 206,
     "metadata": {},
     "output_type": "execute_result"
    }
   ],
   "source": [
    "#对作者前后进行排序，避免漏记\n",
    "author_net['from'] = pd.DataFrame([author_net['author1'],author_net['author2']]).min()\n",
    "author_net['to'] = pd.DataFrame([author_net['author1'],author_net['author2']]).max()\n",
    "author_net['weight'] = 1\n",
    "author_net"
   ]
  },
  {
   "cell_type": "code",
   "execution_count": 207,
   "metadata": {},
   "outputs": [],
   "source": [
    "#统计作者两两合作次数\n",
    "author_net_sum = author_net.groupby(by=['from','to']).sum().sort_values(by='weight',ascending=False).reset_index()"
   ]
  },
  {
   "cell_type": "code",
   "execution_count": 208,
   "metadata": {},
   "outputs": [
    {
     "data": {
      "text/html": [
       "<div>\n",
       "<style scoped>\n",
       "    .dataframe tbody tr th:only-of-type {\n",
       "        vertical-align: middle;\n",
       "    }\n",
       "\n",
       "    .dataframe tbody tr th {\n",
       "        vertical-align: top;\n",
       "    }\n",
       "\n",
       "    .dataframe thead th {\n",
       "        text-align: right;\n",
       "    }\n",
       "</style>\n",
       "<table border=\"1\" class=\"dataframe\">\n",
       "  <thead>\n",
       "    <tr style=\"text-align: right;\">\n",
       "      <th></th>\n",
       "      <th>from</th>\n",
       "      <th>to</th>\n",
       "      <th>weight</th>\n",
       "    </tr>\n",
       "  </thead>\n",
       "  <tbody>\n",
       "    <tr>\n",
       "      <td>0</td>\n",
       "      <td>梁颢严</td>\n",
       "      <td>肖荣波</td>\n",
       "      <td>2</td>\n",
       "    </tr>\n",
       "    <tr>\n",
       "      <td>1</td>\n",
       "      <td>丁寿颐</td>\n",
       "      <td>刘冠男</td>\n",
       "      <td>1</td>\n",
       "    </tr>\n",
       "    <tr>\n",
       "      <td>2</td>\n",
       "      <td>杨永春</td>\n",
       "      <td>王梅梅</td>\n",
       "      <td>1</td>\n",
       "    </tr>\n",
       "    <tr>\n",
       "      <td>3</td>\n",
       "      <td>杨晓光</td>\n",
       "      <td>林隽</td>\n",
       "      <td>1</td>\n",
       "    </tr>\n",
       "    <tr>\n",
       "      <td>4</td>\n",
       "      <td>杨晓光</td>\n",
       "      <td>耿虹</td>\n",
       "      <td>1</td>\n",
       "    </tr>\n",
       "  </tbody>\n",
       "</table>\n",
       "</div>"
      ],
      "text/plain": [
       "  from   to  weight\n",
       "0  梁颢严  肖荣波       2\n",
       "1  丁寿颐  刘冠男       1\n",
       "2  杨永春  王梅梅       1\n",
       "3  杨晓光   林隽       1\n",
       "4  杨晓光   耿虹       1"
      ]
     },
     "execution_count": 208,
     "metadata": {},
     "output_type": "execute_result"
    }
   ],
   "source": [
    "author_net_sum.head()"
   ]
  },
  {
   "cell_type": "code",
   "execution_count": 211,
   "metadata": {},
   "outputs": [],
   "source": [
    "import networkx as nx\n",
    "%matplotlib inline"
   ]
  },
  {
   "cell_type": "code",
   "execution_count": 217,
   "metadata": {},
   "outputs": [
    {
     "name": "stdout",
     "output_type": "stream",
     "text": [
      "Name: \n",
      "Type: Graph\n",
      "Number of nodes: 140\n",
      "Number of edges: 100\n",
      "Average degree:   1.4286\n"
     ]
    }
   ],
   "source": [
    "#创建关联网络关系\n",
    "GA = nx.from_pandas_edgelist(author_net_sum.head(100),source='from',target='to',edge_attr='weight')\n",
    "print(nx.info(GA))"
   ]
  },
  {
   "cell_type": "code",
   "execution_count": 219,
   "metadata": {},
   "outputs": [
    {
     "data": {
      "image/png": "[encoded data removed]",
      "text/plain": [
       "<Figure size 1800x1800 with 1 Axes>"
      ]
     },
     "metadata": {},
     "output_type": "display_data"
    }
   ],
   "source": [
    "#绘图\n",
    "plt.figure(figsize=(25,25))\n",
    "nx.draw(GA)\n",
    "plt.show()"
   ]
  },
  {
   "cell_type": "code",
   "execution_count": null,
   "metadata": {},
   "outputs": [],
   "source": [
    "#结果优化\n"
   ]
  }
 ],
 "metadata": {
  "kernelspec": {
   "display_name": "Python 3",
   "language": "python",
   "name": "python3"
  },
  "language_info": {
   "codemirror_mode": {
    "name": "ipython",
    "version": 3
   },
   "file_extension": ".py",
   "mimetype": "text/x-python",
   "name": "python",
   "nbconvert_exporter": "python",
   "pygments_lexer": "ipython3",
   "version": "3.7.4"
  }
 },
 "nbformat": 4,
 "nbformat_minor": 2
}
