{
 "cells": [
  {
   "cell_type": "code",
   "execution_count": 12,
   "metadata": {},
   "outputs": [],
   "source": [
    "js = '''\n",
    "{\n",
    "    \"name\": \"中国\",\n",
    "    \"province\":\"新疆\"\n",
    "}\n",
    "'''"
   ]
  },
  {
   "cell_type": "code",
   "execution_count": 13,
   "metadata": {},
   "outputs": [
    {
     "name": "stdout",
     "output_type": "stream",
     "text": [
      "{'name': '中国', 'province': '新疆'}\n",
      "<class 'dict'>\n"
     ]
    }
   ],
   "source": [
    "import json\n",
    "ct = json.loads(js)\n",
    "print(ct)\n",
    "print(type(ct))"
   ]
  },
  {
   "cell_type": "code",
   "execution_count": 14,
   "metadata": {},
   "outputs": [],
   "source": [
    "js = '''\n",
    "{\n",
    "    \"name\": \"中国\",\n",
    "    \"province\": [{\n",
    "        \"name\": \"黑龙江\",\n",
    "        \"cities\": {\n",
    "            \"city\": [\"哈尔滨\", \"大庆\"]\n",
    "        }\n",
    "    }, {\n",
    "        \"name\": \"广东\",\n",
    "        \"cities\": {\n",
    "            \"city\": [\"广州\", \"深圳\", \"珠海\"]\n",
    "        }\n",
    "    }, {\n",
    "        \"name\": \"台湾\",\n",
    "        \"cities\": {\n",
    "            \"city\": [\"台北\", \"高雄\"]\n",
    "        }\n",
    "    }, {\n",
    "        \"name\": \"新疆\",\n",
    "        \"cities\": {\n",
    "            \"city\": [\"乌鲁木齐\"]\n",
    "        }\n",
    "    }]\n",
    "}\n",
    "'''"
   ]
  },
  {
   "cell_type": "code",
   "execution_count": 39,
   "metadata": {},
   "outputs": [
    {
     "data": {
      "text/plain": [
       "{'name': '中国',\n",
       " 'province': [{'name': '黑龙江', 'cities': {'city': ['哈尔滨', '大庆']}},\n",
       "  {'name': '广东', 'cities': {'city': ['广州', '深圳', '珠海']}},\n",
       "  {'name': '台湾', 'cities': {'city': ['台北', '高雄']}},\n",
       "  {'name': '新疆', 'cities': {'city': ['乌鲁木齐']}}]}"
      ]
     },
     "execution_count": 39,
     "metadata": {},
     "output_type": "execute_result"
    }
   ],
   "source": [
    "ct = json.loads(js)\n",
    "ct"
   ]
  },
  {
   "cell_type": "code",
   "execution_count": 40,
   "metadata": {},
   "outputs": [
    {
     "name": "stdout",
     "output_type": "stream",
     "text": [
      "黑龙江\n",
      "广东\n",
      "台湾\n",
      "新疆\n"
     ]
    }
   ],
   "source": [
    "for pro in ct['province']:\n",
    "    print(pro['name'])"
   ]
  },
  {
   "cell_type": "code",
   "execution_count": 42,
   "metadata": {},
   "outputs": [
    {
     "name": "stdout",
     "output_type": "stream",
     "text": [
      "['哈尔滨', '大庆']\n",
      "['广州', '深圳', '珠海']\n",
      "['台北', '高雄']\n",
      "['乌鲁木齐']\n"
     ]
    }
   ],
   "source": [
    "for pro in ct['province']:\n",
    "    print(pro['cities']['city'])"
   ]
  },
  {
   "cell_type": "code",
   "execution_count": 45,
   "metadata": {},
   "outputs": [],
   "source": [
    "import pandas as pd"
   ]
  },
  {
   "cell_type": "code",
   "execution_count": 51,
   "metadata": {},
   "outputs": [
    {
     "name": "stdout",
     "output_type": "stream",
     "text": [
      "{'name': '中国', 'province': [{'name': '黑龙江', 'cities': {'city': ['哈尔滨', '大庆']}}, {'name': '广东', 'cities': {'city': ['广州', '深圳', '珠海']}}, {'name': '台湾', 'cities': {'city': ['台北', '高雄']}}, {'name': '新疆', 'cities': {'city': ['乌鲁木齐']}}]}\n"
     ]
    }
   ],
   "source": [
    "print(ct)"
   ]
  },
  {
   "cell_type": "code",
   "execution_count": 52,
   "metadata": {},
   "outputs": [
    {
     "data": {
      "text/html": [
       "<div>\n",
       "<style scoped>\n",
       "    .dataframe tbody tr th:only-of-type {\n",
       "        vertical-align: middle;\n",
       "    }\n",
       "\n",
       "    .dataframe tbody tr th {\n",
       "        vertical-align: top;\n",
       "    }\n",
       "\n",
       "    .dataframe thead th {\n",
       "        text-align: right;\n",
       "    }\n",
       "</style>\n",
       "<table border=\"1\" class=\"dataframe\">\n",
       "  <thead>\n",
       "    <tr style=\"text-align: right;\">\n",
       "      <th></th>\n",
       "      <th>name</th>\n",
       "      <th>province</th>\n",
       "    </tr>\n",
       "  </thead>\n",
       "  <tbody>\n",
       "    <tr>\n",
       "      <td>0</td>\n",
       "      <td>中国</td>\n",
       "      <td>{'name': '黑龙江', 'cities': {'city': ['哈尔滨', '大庆...</td>\n",
       "    </tr>\n",
       "    <tr>\n",
       "      <td>1</td>\n",
       "      <td>中国</td>\n",
       "      <td>{'name': '广东', 'cities': {'city': ['广州', '深圳',...</td>\n",
       "    </tr>\n",
       "    <tr>\n",
       "      <td>2</td>\n",
       "      <td>中国</td>\n",
       "      <td>{'name': '台湾', 'cities': {'city': ['台北', '高雄']}}</td>\n",
       "    </tr>\n",
       "    <tr>\n",
       "      <td>3</td>\n",
       "      <td>中国</td>\n",
       "      <td>{'name': '新疆', 'cities': {'city': ['乌鲁木齐']}}</td>\n",
       "    </tr>\n",
       "  </tbody>\n",
       "</table>\n",
       "</div>"
      ],
      "text/plain": [
       "  name                                           province\n",
       "0   中国  {'name': '黑龙江', 'cities': {'city': ['哈尔滨', '大庆...\n",
       "1   中国  {'name': '广东', 'cities': {'city': ['广州', '深圳',...\n",
       "2   中国   {'name': '台湾', 'cities': {'city': ['台北', '高雄']}}\n",
       "3   中国       {'name': '新疆', 'cities': {'city': ['乌鲁木齐']}}"
      ]
     },
     "execution_count": 52,
     "metadata": {},
     "output_type": "execute_result"
    }
   ],
   "source": [
    "data = pd.DataFrame(ct)\n",
    "data"
   ]
  },
  {
   "cell_type": "code",
   "execution_count": 53,
   "metadata": {},
   "outputs": [
    {
     "data": {
      "text/plain": [
       "'D:\\\\mynote'"
      ]
     },
     "execution_count": 53,
     "metadata": {},
     "output_type": "execute_result"
    }
   ],
   "source": [
    "import os\n",
    "os.getcwd()"
   ]
  },
  {
   "cell_type": "code",
   "execution_count": 54,
   "metadata": {},
   "outputs": [
    {
     "data": {
      "text/plain": [
       "'C:\\\\Users\\\\Administrator\\\\Desktop'"
      ]
     },
     "execution_count": 54,
     "metadata": {},
     "output_type": "execute_result"
    }
   ],
   "source": [
    "home_dir = 'C:/Users/Administrator/Desktop/'\n",
    "os.chdir(home_dir)\n",
    "os.getcwd()"
   ]
  },
  {
   "cell_type": "code",
   "execution_count": 55,
   "metadata": {},
   "outputs": [],
   "source": [
    "file = 'json.txt'\n",
    "data.to_json(file)"
   ]
  },
  {
   "cell_type": "code",
   "execution_count": 57,
   "metadata": {},
   "outputs": [
    {
     "data": {
      "text/html": [
       "<div>\n",
       "<style scoped>\n",
       "    .dataframe tbody tr th:only-of-type {\n",
       "        vertical-align: middle;\n",
       "    }\n",
       "\n",
       "    .dataframe tbody tr th {\n",
       "        vertical-align: top;\n",
       "    }\n",
       "\n",
       "    .dataframe thead th {\n",
       "        text-align: right;\n",
       "    }\n",
       "</style>\n",
       "<table border=\"1\" class=\"dataframe\">\n",
       "  <thead>\n",
       "    <tr style=\"text-align: right;\">\n",
       "      <th></th>\n",
       "      <th>name</th>\n",
       "      <th>province</th>\n",
       "    </tr>\n",
       "  </thead>\n",
       "  <tbody>\n",
       "    <tr>\n",
       "      <td>0</td>\n",
       "      <td>中国</td>\n",
       "      <td>{'name': '黑龙江', 'cities': {'city': ['哈尔滨', '大庆...</td>\n",
       "    </tr>\n",
       "    <tr>\n",
       "      <td>1</td>\n",
       "      <td>中国</td>\n",
       "      <td>{'name': '广东', 'cities': {'city': ['广州', '深圳',...</td>\n",
       "    </tr>\n",
       "    <tr>\n",
       "      <td>2</td>\n",
       "      <td>中国</td>\n",
       "      <td>{'name': '台湾', 'cities': {'city': ['台北', '高雄']}}</td>\n",
       "    </tr>\n",
       "    <tr>\n",
       "      <td>3</td>\n",
       "      <td>中国</td>\n",
       "      <td>{'name': '新疆', 'cities': {'city': ['乌鲁木齐']}}</td>\n",
       "    </tr>\n",
       "  </tbody>\n",
       "</table>\n",
       "</div>"
      ],
      "text/plain": [
       "  name                                           province\n",
       "0   中国  {'name': '黑龙江', 'cities': {'city': ['哈尔滨', '大庆...\n",
       "1   中国  {'name': '广东', 'cities': {'city': ['广州', '深圳',...\n",
       "2   中国   {'name': '台湾', 'cities': {'city': ['台北', '高雄']}}\n",
       "3   中国       {'name': '新疆', 'cities': {'city': ['乌鲁木齐']}}"
      ]
     },
     "execution_count": 57,
     "metadata": {},
     "output_type": "execute_result"
    }
   ],
   "source": [
    "dt1 = pd.read_json(file)\n",
    "dt1"
   ]
  },
  {
   "cell_type": "code",
   "execution_count": null,
   "metadata": {},
   "outputs": [],
   "source": []
  }
 ],
 "metadata": {
  "kernelspec": {
   "display_name": "Python 3",
   "language": "python",
   "name": "python3"
  },
  "language_info": {
   "codemirror_mode": {
    "name": "ipython",
    "version": 3
   },
   "file_extension": ".py",
   "mimetype": "text/x-python",
   "name": "python",
   "nbconvert_exporter": "python",
   "pygments_lexer": "ipython3",
   "version": "3.7.4"
  }
 },
 "nbformat": 4,
 "nbformat_minor": 2
}
