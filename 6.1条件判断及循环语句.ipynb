{
 "cells": [
  {
   "cell_type": "code",
   "execution_count": 3,
   "metadata": {},
   "outputs": [
    {
     "name": "stdout",
     "output_type": "stream",
     "text": [
      "can't\n"
     ]
    }
   ],
   "source": [
    "age = 17\n",
    "if age < 18 :\n",
    "    print('can\\'t')"
   ]
  },
  {
   "cell_type": "code",
   "execution_count": 39,
   "metadata": {},
   "outputs": [
    {
     "name": "stdout",
     "output_type": "stream",
     "text": [
      "please  give me a num:3\n",
      "your num is 3.0 ,my pleasure!\n"
     ]
    }
   ],
   "source": [
    "num = float(input('please  give me a num:'))\n",
    "\n",
    "if (num > 10) or (num < 5):\n",
    "    print('your num is %.1f ,my pleasure!'%num)\n",
    "else:\n",
    "    print('your num is %.1f,get off!'%num)"
   ]
  },
  {
   "cell_type": "code",
   "execution_count": 42,
   "metadata": {},
   "outputs": [
    {
     "name": "stdout",
     "output_type": "stream",
     "text": [
      "hello world !\n",
      "hello world !\n",
      "hello world !\n",
      "hello world !\n",
      "hello world !\n"
     ]
    }
   ],
   "source": [
    "for i in range(5):\n",
    "    print('hello world !')"
   ]
  },
  {
   "cell_type": "code",
   "execution_count": 43,
   "metadata": {},
   "outputs": [
    {
     "name": "stdout",
     "output_type": "stream",
     "text": [
      "2\n",
      "3\n",
      "4\n"
     ]
    }
   ],
   "source": [
    "for i  in list(range(5)[2:]):\n",
    "    print(i)"
   ]
  },
  {
   "cell_type": "code",
   "execution_count": 44,
   "metadata": {},
   "outputs": [
    {
     "name": "stdout",
     "output_type": "stream",
     "text": [
      "w\n",
      "a\n",
      "h\n",
      "a\n",
      "h\n",
      "a\n"
     ]
    }
   ],
   "source": [
    "str1 = 'wahaha'\n",
    "for i in str1:\n",
    "    print(i)"
   ]
  },
  {
   "cell_type": "code",
   "execution_count": 6,
   "metadata": {},
   "outputs": [
    {
     "name": "stdout",
     "output_type": "stream",
     "text": [
      "first numbs:3\n",
      "how many times increase:3\n",
      "this public numb:3\n",
      "6\n",
      "9\n",
      "12\n",
      "30\n"
     ]
    }
   ],
   "source": [
    "try:\n",
    "    a = int(input('first numbs:'))\n",
    "    n = int(input('how many times increase:'))\n",
    "    d = int(input('this public numb:'))\n",
    "    s = a\n",
    "    for i in range(n):\n",
    "        a += d\n",
    "        s += a\n",
    "        print(a)\n",
    "    print(s)\n",
    "except ValueError:\n",
    "    print('need numb')\n",
    "\n"
   ]
  },
  {
   "cell_type": "code",
   "execution_count": 11,
   "metadata": {},
   "outputs": [
    {
     "name": "stdout",
     "output_type": "stream",
     "text": [
      "first numbs:1\n",
      "how many times increase:3\n",
      "this public numb:1\n",
      "1\n",
      "2\n",
      "3\n",
      "6\n"
     ]
    }
   ],
   "source": [
    "try:\n",
    "    a = int(input('first numbs:'))\n",
    "    n = int(input('how many times increase:'))\n",
    "    d = int(input('this public numb:'))\n",
    "    s = 0\n",
    "    for i in range(n):\n",
    "        an = a + i * d\n",
    "        s = s + an\n",
    "        print(an)\n",
    "    print(s)\n",
    "except ValueError:\n",
    "    print('need numb')"
   ]
  },
  {
   "cell_type": "code",
   "execution_count": 18,
   "metadata": {},
   "outputs": [
    {
     "name": "stdout",
     "output_type": "stream",
     "text": [
      "4\n",
      "10\n",
      "18\n"
     ]
    }
   ],
   "source": [
    "s = 0\n",
    "a = 2\n",
    "\n",
    "an = a + 1 * 2\n",
    "s = s + an\n",
    "print(s)\n",
    "\n",
    "an = a + 2 * 2\n",
    "s = s + an\n",
    "print(s)\n",
    "\n",
    "an = a + 3 * 2\n",
    "s = s + an\n",
    "print(s)\n",
    "\n",
    "\n",
    "for i in range(2):\n",
    "    an = a + i * 2\n",
    "    s = s + an\n",
    "    print(an)"
   ]
  },
  {
   "cell_type": "code",
   "execution_count": 46,
   "metadata": {},
   "outputs": [
    {
     "data": {
      "text/plain": [
       "[['a', 1], ['b', 2], ['c', 3]]"
      ]
     },
     "execution_count": 46,
     "metadata": {},
     "output_type": "execute_result"
    }
   ],
   "source": [
    "lst1 = [1,2,3]\n",
    "lst2 = ['a','b','c']\n",
    "\n",
    "m =[]\n",
    "for i in range(len(lst1)):\n",
    "    lst = [lst2[i],lst1[i]]\n",
    "    m.append(lst)\n",
    "m"
   ]
  },
  {
   "cell_type": "code",
   "execution_count": 30,
   "metadata": {},
   "outputs": [
    {
     "data": {
      "text/plain": [
       "{'a': 1, 'b': 2, 'c': 3}"
      ]
     },
     "execution_count": 30,
     "metadata": {},
     "output_type": "execute_result"
    }
   ],
   "source": [
    "lst1 = [1,2,3]\n",
    "lst2 = ['a','b','c']\n",
    "\n",
    "dct = {}\n",
    "for i in range(len(lst1)):\n",
    "    dct.update({lst2[i]:lst1[i]})\n",
    "dct"
   ]
  },
  {
   "cell_type": "code",
   "execution_count": 50,
   "metadata": {
    "scrolled": true
   },
   "outputs": [
    {
     "data": {
      "text/plain": [
       "['1', '2', '3']"
      ]
     },
     "execution_count": 50,
     "metadata": {},
     "output_type": "execute_result"
    }
   ],
   "source": [
    "s = '123'\n",
    "lst = list(s)\n",
    "lst"
   ]
  },
  {
   "cell_type": "code",
   "execution_count": 56,
   "metadata": {},
   "outputs": [
    {
     "name": "stdout",
     "output_type": "stream",
     "text": [
      "p\n",
      "y\n",
      "t\n",
      "h not ok\n",
      "h\n",
      "o\n",
      "n\n"
     ]
    }
   ],
   "source": [
    "for i in 'python':\n",
    "    if i == 'h':\n",
    "        pass\n",
    "#        continue\n",
    "        print('h not ok')\n",
    "    print(i)\n",
    "    "
   ]
  },
  {
   "cell_type": "code",
   "execution_count": null,
   "metadata": {},
   "outputs": [],
   "source": []
  }
 ],
 "metadata": {
  "kernelspec": {
   "display_name": "Python 3",
   "language": "python",
   "name": "python3"
  },
  "language_info": {
   "codemirror_mode": {
    "name": "ipython",
    "version": 3
   },
   "file_extension": ".py",
   "mimetype": "text/x-python",
   "name": "python",
   "nbconvert_exporter": "python",
   "pygments_lexer": "ipython3",
   "version": "3.7.4"
  }
 },
 "nbformat": 4,
 "nbformat_minor": 2
}
