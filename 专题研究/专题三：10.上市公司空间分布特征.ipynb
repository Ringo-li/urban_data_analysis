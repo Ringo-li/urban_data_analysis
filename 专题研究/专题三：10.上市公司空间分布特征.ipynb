{
 "cells": [
  {
   "cell_type": "code",
   "execution_count": 1,
   "metadata": {},
   "outputs": [],
   "source": [
    "import pandas as pd"
   ]
  },
  {
   "cell_type": "markdown",
   "metadata": {},
   "source": [
    "### 1.获得上市公司归属地"
   ]
  },
  {
   "cell_type": "markdown",
   "metadata": {},
   "source": [
    "#### 1.1读取上市公司数据"
   ]
  },
  {
   "cell_type": "code",
   "execution_count": 9,
   "metadata": {},
   "outputs": [],
   "source": [
    "company_list =  pd.read_csv(r'../../file/subject/chapter3/SSGScompany.csv',names=['ID','Name','Address','url','pages'])"
   ]
  },
  {
   "cell_type": "code",
   "execution_count": 11,
   "metadata": {},
   "outputs": [
    {
     "data": {
      "text/html": [
       "<div>\n",
       "<style scoped>\n",
       "    .dataframe tbody tr th:only-of-type {\n",
       "        vertical-align: middle;\n",
       "    }\n",
       "\n",
       "    .dataframe tbody tr th {\n",
       "        vertical-align: top;\n",
       "    }\n",
       "\n",
       "    .dataframe thead th {\n",
       "        text-align: right;\n",
       "    }\n",
       "</style>\n",
       "<table border=\"1\" class=\"dataframe\">\n",
       "  <thead>\n",
       "    <tr style=\"text-align: right;\">\n",
       "      <th></th>\n",
       "      <th>ID</th>\n",
       "      <th>Name</th>\n",
       "      <th>Address</th>\n",
       "      <th>url</th>\n",
       "      <th>pages</th>\n",
       "    </tr>\n",
       "  </thead>\n",
       "  <tbody>\n",
       "    <tr>\n",
       "      <td>3529</td>\n",
       "      <td>3530</td>\n",
       "      <td>南京越博动力系统股份有限公司</td>\n",
       "      <td>企业地址：南京市建邺区嘉陵江东街18号4栋4楼</td>\n",
       "      <td>/orgcompany/searchitemdtl/6cf9cb58f783b59e4457...</td>\n",
       "      <td>1</td>\n",
       "    </tr>\n",
       "    <tr>\n",
       "      <td>3530</td>\n",
       "      <td>3531</td>\n",
       "      <td>杭州天地数码科技股份有限公司</td>\n",
       "      <td>企业地址：杭州钱江经济开发区康信路600号</td>\n",
       "      <td>/orgcompany/searchitemdtl/0ff919445c382c1f33ad...</td>\n",
       "      <td>1</td>\n",
       "    </tr>\n",
       "    <tr>\n",
       "      <td>3531</td>\n",
       "      <td>3532</td>\n",
       "      <td>深圳欣锐科技股份有限公司</td>\n",
       "      <td>企业地址：深圳市南山区学苑大道1001号南山智园C1栋14楼</td>\n",
       "      <td>/orgcompany/searchitemdtl/6d3df055aef8859dada9...</td>\n",
       "      <td>1</td>\n",
       "    </tr>\n",
       "    <tr>\n",
       "      <td>3532</td>\n",
       "      <td>3533</td>\n",
       "      <td>汉嘉设计集团股份有限公司</td>\n",
       "      <td>企业地址：杭州市湖墅南路501号迪尚商务大厦</td>\n",
       "      <td>/orgcompany/searchitemdtl/cbc28a3a83146956f507...</td>\n",
       "      <td>2</td>\n",
       "    </tr>\n",
       "    <tr>\n",
       "      <td>3533</td>\n",
       "      <td>3534</td>\n",
       "      <td>宁德时代新能源科技股份有限公司</td>\n",
       "      <td>企业地址：福建省宁德市蕉城区漳湾镇新港路2号</td>\n",
       "      <td>/orgcompany/searchitemdtl/1541cedafeb62053ca97...</td>\n",
       "      <td>2</td>\n",
       "    </tr>\n",
       "  </tbody>\n",
       "</table>\n",
       "</div>"
      ],
      "text/plain": [
       "        ID             Name                         Address  \\\n",
       "3529  3530   南京越博动力系统股份有限公司         企业地址：南京市建邺区嘉陵江东街18号4栋4楼   \n",
       "3530  3531   杭州天地数码科技股份有限公司           企业地址：杭州钱江经济开发区康信路600号   \n",
       "3531  3532     深圳欣锐科技股份有限公司  企业地址：深圳市南山区学苑大道1001号南山智园C1栋14楼   \n",
       "3532  3533     汉嘉设计集团股份有限公司          企业地址：杭州市湖墅南路501号迪尚商务大厦   \n",
       "3533  3534  宁德时代新能源科技股份有限公司          企业地址：福建省宁德市蕉城区漳湾镇新港路2号   \n",
       "\n",
       "                                                    url  pages  \n",
       "3529  /orgcompany/searchitemdtl/6cf9cb58f783b59e4457...      1  \n",
       "3530  /orgcompany/searchitemdtl/0ff919445c382c1f33ad...      1  \n",
       "3531  /orgcompany/searchitemdtl/6d3df055aef8859dada9...      1  \n",
       "3532  /orgcompany/searchitemdtl/cbc28a3a83146956f507...      2  \n",
       "3533  /orgcompany/searchitemdtl/1541cedafeb62053ca97...      2  "
      ]
     },
     "execution_count": 11,
     "metadata": {},
     "output_type": "execute_result"
    }
   ],
   "source": [
    "company_list.tail()"
   ]
  },
  {
   "cell_type": "code",
   "execution_count": 13,
   "metadata": {},
   "outputs": [],
   "source": [
    "company_list.Address = company_list.Address.apply(lambda x:x[5:])"
   ]
  },
  {
   "cell_type": "code",
   "execution_count": 14,
   "metadata": {},
   "outputs": [
    {
     "data": {
      "text/html": [
       "<div>\n",
       "<style scoped>\n",
       "    .dataframe tbody tr th:only-of-type {\n",
       "        vertical-align: middle;\n",
       "    }\n",
       "\n",
       "    .dataframe tbody tr th {\n",
       "        vertical-align: top;\n",
       "    }\n",
       "\n",
       "    .dataframe thead th {\n",
       "        text-align: right;\n",
       "    }\n",
       "</style>\n",
       "<table border=\"1\" class=\"dataframe\">\n",
       "  <thead>\n",
       "    <tr style=\"text-align: right;\">\n",
       "      <th></th>\n",
       "      <th>ID</th>\n",
       "      <th>Name</th>\n",
       "      <th>Address</th>\n",
       "      <th>url</th>\n",
       "      <th>pages</th>\n",
       "    </tr>\n",
       "  </thead>\n",
       "  <tbody>\n",
       "    <tr>\n",
       "      <td>0</td>\n",
       "      <td>0</td>\n",
       "      <td>海南天然橡胶产业集团股份有限公司</td>\n",
       "      <td>海口市滨海大道103号财富广场四层</td>\n",
       "      <td>/orgcompany/searchitemdtl/8154f8c625f81d56a318...</td>\n",
       "      <td>3</td>\n",
       "    </tr>\n",
       "    <tr>\n",
       "      <td>1</td>\n",
       "      <td>1</td>\n",
       "      <td>河北福成五丰食品股份有限公司</td>\n",
       "      <td>河北省廊坊市三河市燕郊经济技术开发区</td>\n",
       "      <td>/orgcompany/searchitemdtl/cb0ececa43750d7de477...</td>\n",
       "      <td>1</td>\n",
       "    </tr>\n",
       "    <tr>\n",
       "      <td>2</td>\n",
       "      <td>2</td>\n",
       "      <td>新疆赛里木现代农业股份有限公司</td>\n",
       "      <td>新疆博州博乐市红星路158号</td>\n",
       "      <td>/orgcompany/searchitemdtl/397fdda9032c26af1fed...</td>\n",
       "      <td>3</td>\n",
       "    </tr>\n",
       "    <tr>\n",
       "      <td>3</td>\n",
       "      <td>3</td>\n",
       "      <td>甘肃省敦煌种业集团股份有限公司</td>\n",
       "      <td>甘肃省酒泉市肃州区肃州路28号</td>\n",
       "      <td>/orgcompany/searchitemdtl/c30c2ded63cac5ce6db3...</td>\n",
       "      <td>1</td>\n",
       "    </tr>\n",
       "    <tr>\n",
       "      <td>4</td>\n",
       "      <td>4</td>\n",
       "      <td>大湖水殖股份有限公司</td>\n",
       "      <td>湖南省常德市武陵区丹阳街道建民巷社区建设东路348号</td>\n",
       "      <td>/orgcompany/searchitemdtl/8be72aa7f34e615d57c2...</td>\n",
       "      <td>3</td>\n",
       "    </tr>\n",
       "  </tbody>\n",
       "</table>\n",
       "</div>"
      ],
      "text/plain": [
       "   ID              Name                     Address  \\\n",
       "0   0  海南天然橡胶产业集团股份有限公司           海口市滨海大道103号财富广场四层   \n",
       "1   1    河北福成五丰食品股份有限公司          河北省廊坊市三河市燕郊经济技术开发区   \n",
       "2   2   新疆赛里木现代农业股份有限公司              新疆博州博乐市红星路158号   \n",
       "3   3   甘肃省敦煌种业集团股份有限公司             甘肃省酒泉市肃州区肃州路28号   \n",
       "4   4        大湖水殖股份有限公司  湖南省常德市武陵区丹阳街道建民巷社区建设东路348号   \n",
       "\n",
       "                                                 url  pages  \n",
       "0  /orgcompany/searchitemdtl/8154f8c625f81d56a318...      3  \n",
       "1  /orgcompany/searchitemdtl/cb0ececa43750d7de477...      1  \n",
       "2  /orgcompany/searchitemdtl/397fdda9032c26af1fed...      3  \n",
       "3  /orgcompany/searchitemdtl/c30c2ded63cac5ce6db3...      1  \n",
       "4  /orgcompany/searchitemdtl/8be72aa7f34e615d57c2...      3  "
      ]
     },
     "execution_count": 14,
     "metadata": {},
     "output_type": "execute_result"
    }
   ],
   "source": [
    "company_list.head()"
   ]
  },
  {
   "cell_type": "markdown",
   "metadata": {},
   "source": [
    "#### 1.2通过地址获取归属地"
   ]
  },
  {
   "cell_type": "code",
   "execution_count": 17,
   "metadata": {},
   "outputs": [],
   "source": [
    "import requests\n",
    "import json\n",
    "import re\n",
    "\n",
    "def company_region(address):\n",
    "    try:\n",
    "        url = 'http://api.map.baidu.com/geocoding/v3/?address=' + address + \\\n",
    "'&output=json&ak=VYt6ipe4cG9t1CpURQr58ulXep2pcpY6&callback=showLocation'\n",
    "        data = requests.get(url).text\n",
    "        js = re.match('.*?\\((.*?)\\).*?',data).group(1)\n",
    "        js = json.loads(js)['result']['location']\n",
    "\n",
    "        url = 'http://api.map.baidu.com/reverse_geocoding/v3/\\\n",
    "?ak=VYt6ipe4cG9t1CpURQr58ulXep2pcpY6&output=json&coordtype=wgs84ll&location={},{}'.format(js['lat'],js['lng'])\n",
    "        data = requests.get(url).text\n",
    "        data = json.loads(data)\n",
    "        ls = []\n",
    "        ls.append(data['result']['addressComponent']['province'])\n",
    "        ls.append(data['result']['addressComponent']['city'])\n",
    "        ls.append(data['result']['addressComponent']['district'])\n",
    "        return ls\n",
    "\n",
    "    except:\n",
    "        print(x,'error')\n",
    "        return ''"
   ]
  },
  {
   "cell_type": "code",
   "execution_count": 18,
   "metadata": {},
   "outputs": [
    {
     "data": {
      "text/plain": [
       "['新疆维吾尔自治区', '博尔塔拉蒙古自治州', '博乐市']"
      ]
     },
     "execution_count": 18,
     "metadata": {},
     "output_type": "execute_result"
    }
   ],
   "source": [
    "company_region('新疆博州博乐市红星路158号')"
   ]
  },
  {
   "cell_type": "code",
   "execution_count": null,
   "metadata": {},
   "outputs": [],
   "source": [
    "company_list['region'] = company_list.Address.apply(company_regionpany)"
   ]
  },
  {
   "cell_type": "code",
   "execution_count": null,
   "metadata": {},
   "outputs": [],
   "source": [
    "company_list.to_excel(r'../../file/subject/chapter3/SSGScompany02.xlsx',sheet_name='Sheet1')"
   ]
  },
  {
   "cell_type": "markdown",
   "metadata": {},
   "source": [
    "#### 1.3有部分无法获取，人工判断归属地"
   ]
  },
  {
   "cell_type": "code",
   "execution_count": 23,
   "metadata": {},
   "outputs": [],
   "source": [
    "company_list = pd.read_excel(r'../../file/subject/chapter3/SSGScompany03.xlsx',sheet_name='Sheet1')"
   ]
  },
  {
   "cell_type": "code",
   "execution_count": 24,
   "metadata": {},
   "outputs": [
    {
     "data": {
      "text/html": [
       "<div>\n",
       "<style scoped>\n",
       "    .dataframe tbody tr th:only-of-type {\n",
       "        vertical-align: middle;\n",
       "    }\n",
       "\n",
       "    .dataframe tbody tr th {\n",
       "        vertical-align: top;\n",
       "    }\n",
       "\n",
       "    .dataframe thead th {\n",
       "        text-align: right;\n",
       "    }\n",
       "</style>\n",
       "<table border=\"1\" class=\"dataframe\">\n",
       "  <thead>\n",
       "    <tr style=\"text-align: right;\">\n",
       "      <th></th>\n",
       "      <th>Unnamed: 0</th>\n",
       "      <th>公司名称</th>\n",
       "      <th>地址</th>\n",
       "      <th>公司网址</th>\n",
       "      <th>爬取页</th>\n",
       "      <th>公司名称2</th>\n",
       "      <th>region</th>\n",
       "    </tr>\n",
       "  </thead>\n",
       "  <tbody>\n",
       "    <tr>\n",
       "      <td>0</td>\n",
       "      <td>1781</td>\n",
       "      <td>安徽华茂纺织股份有限公司</td>\n",
       "      <td>安徽省安庆市纺织南路80号</td>\n",
       "      <td>/orgcompany/searchitemdtl/5bc2e76fd05b73a3139c...</td>\n",
       "      <td>4</td>\n",
       "      <td>安徽华茂纺织股份有限公司</td>\n",
       "      <td>['安徽省', '安庆市', '大观区']</td>\n",
       "    </tr>\n",
       "    <tr>\n",
       "      <td>1</td>\n",
       "      <td>685</td>\n",
       "      <td>安徽集友新材料股份有限公司</td>\n",
       "      <td>安徽省安庆市太湖经济开发区</td>\n",
       "      <td>/orgcompany/searchitemdtl/4567279c7b3bd37ec9bf...</td>\n",
       "      <td>1</td>\n",
       "      <td>安徽集友新材料股份有限公司</td>\n",
       "      <td>['安徽省', '安庆市', '太湖县']</td>\n",
       "    </tr>\n",
       "    <tr>\n",
       "      <td>2</td>\n",
       "      <td>2895</td>\n",
       "      <td>安徽盛运环保（集团）股份有限公司</td>\n",
       "      <td>安徽省桐城经济开发区新东环路</td>\n",
       "      <td>/orgcompany/searchitemdtl/4145c0d56de28c9ac197...</td>\n",
       "      <td>8</td>\n",
       "      <td>安徽盛运环保(集团)股份有限公司</td>\n",
       "      <td>['安徽省', '安庆市', '桐城市']</td>\n",
       "    </tr>\n",
       "    <tr>\n",
       "      <td>3</td>\n",
       "      <td>934</td>\n",
       "      <td>安徽水利开发股份有限公司</td>\n",
       "      <td>安徽省蚌埠市东海大道张公山路南侧</td>\n",
       "      <td>/orgcompany/searchitemdtl/dac6dae3e5b007ff3c6b...</td>\n",
       "      <td>8</td>\n",
       "      <td>安徽水利开发股份有限公司</td>\n",
       "      <td>['安徽省', '蚌埠市', '龙子湖区']</td>\n",
       "    </tr>\n",
       "    <tr>\n",
       "      <td>4</td>\n",
       "      <td>95</td>\n",
       "      <td>凯盛科技股份有限公司</td>\n",
       "      <td>安徽蚌埠市黄山大道8009号</td>\n",
       "      <td>/orgcompany/searchitemdtl/06e170bfa15177e399ca...</td>\n",
       "      <td>1</td>\n",
       "      <td>凯盛科技股份有限公司</td>\n",
       "      <td>['安徽省', '蚌埠市', '禹会区']</td>\n",
       "    </tr>\n",
       "  </tbody>\n",
       "</table>\n",
       "</div>"
      ],
      "text/plain": [
       "   Unnamed: 0              公司名称                地址  \\\n",
       "0        1781      安徽华茂纺织股份有限公司     安徽省安庆市纺织南路80号   \n",
       "1         685     安徽集友新材料股份有限公司     安徽省安庆市太湖经济开发区   \n",
       "2        2895  安徽盛运环保（集团）股份有限公司    安徽省桐城经济开发区新东环路   \n",
       "3         934      安徽水利开发股份有限公司  安徽省蚌埠市东海大道张公山路南侧   \n",
       "4          95        凯盛科技股份有限公司    安徽蚌埠市黄山大道8009号   \n",
       "\n",
       "                                                公司网址  爬取页             公司名称2  \\\n",
       "0  /orgcompany/searchitemdtl/5bc2e76fd05b73a3139c...    4      安徽华茂纺织股份有限公司   \n",
       "1  /orgcompany/searchitemdtl/4567279c7b3bd37ec9bf...    1     安徽集友新材料股份有限公司   \n",
       "2  /orgcompany/searchitemdtl/4145c0d56de28c9ac197...    8  安徽盛运环保(集团)股份有限公司   \n",
       "3  /orgcompany/searchitemdtl/dac6dae3e5b007ff3c6b...    8      安徽水利开发股份有限公司   \n",
       "4  /orgcompany/searchitemdtl/06e170bfa15177e399ca...    1        凯盛科技股份有限公司   \n",
       "\n",
       "                   region  \n",
       "0   ['安徽省', '安庆市', '大观区']  \n",
       "1   ['安徽省', '安庆市', '太湖县']  \n",
       "2   ['安徽省', '安庆市', '桐城市']  \n",
       "3  ['安徽省', '蚌埠市', '龙子湖区']  \n",
       "4   ['安徽省', '蚌埠市', '禹会区']  "
      ]
     },
     "execution_count": 24,
     "metadata": {},
     "output_type": "execute_result"
    }
   ],
   "source": [
    "company_list.head()"
   ]
  },
  {
   "cell_type": "markdown",
   "metadata": {},
   "source": [
    "### 2.生成省、市数据"
   ]
  },
  {
   "cell_type": "markdown",
   "metadata": {},
   "source": [
    "#### 2.1判断现有数据类型"
   ]
  },
  {
   "cell_type": "code",
   "execution_count": 28,
   "metadata": {},
   "outputs": [
    {
     "data": {
      "text/plain": [
       "\"['安徽省', '安庆市', '太湖县']\""
      ]
     },
     "execution_count": 28,
     "metadata": {},
     "output_type": "execute_result"
    }
   ],
   "source": [
    "company_list.iloc[1,-1]"
   ]
  },
  {
   "cell_type": "code",
   "execution_count": 29,
   "metadata": {},
   "outputs": [
    {
     "data": {
      "text/plain": [
       "str"
      ]
     },
     "execution_count": 29,
     "metadata": {},
     "output_type": "execute_result"
    }
   ],
   "source": [
    "type(company_list.iloc[1,-1])"
   ]
  },
  {
   "cell_type": "markdown",
   "metadata": {},
   "source": [
    "#### 2.2将字符串转换为列表"
   ]
  },
  {
   "cell_type": "code",
   "execution_count": 30,
   "metadata": {},
   "outputs": [
    {
     "data": {
      "text/plain": [
       "['安徽省', '安庆市', '太湖县']"
      ]
     },
     "execution_count": 30,
     "metadata": {},
     "output_type": "execute_result"
    }
   ],
   "source": [
    "re.findall('\\'(.*?)\\'',company_list.iloc[1,-1])"
   ]
  },
  {
   "cell_type": "code",
   "execution_count": 31,
   "metadata": {},
   "outputs": [],
   "source": [
    "company_list.region = company_list.region.apply(lambda x:re.findall('\\'(.*?)\\'',x))"
   ]
  },
  {
   "cell_type": "code",
   "execution_count": 33,
   "metadata": {},
   "outputs": [
    {
     "data": {
      "text/plain": [
       "list"
      ]
     },
     "execution_count": 33,
     "metadata": {},
     "output_type": "execute_result"
    }
   ],
   "source": [
    "type(company_list.iloc[1,-1])"
   ]
  },
  {
   "cell_type": "markdown",
   "metadata": {},
   "source": [
    "#### 2.3生成省、市列"
   ]
  },
  {
   "cell_type": "code",
   "execution_count": 35,
   "metadata": {},
   "outputs": [],
   "source": [
    "company_list['province'] = company_list.region.apply(lambda x:x[0])"
   ]
  },
  {
   "cell_type": "code",
   "execution_count": 36,
   "metadata": {},
   "outputs": [],
   "source": [
    "company_list['city'] = company_list.region.apply(lambda x:x[1])"
   ]
  },
  {
   "cell_type": "code",
   "execution_count": 37,
   "metadata": {},
   "outputs": [
    {
     "data": {
      "text/html": [
       "<div>\n",
       "<style scoped>\n",
       "    .dataframe tbody tr th:only-of-type {\n",
       "        vertical-align: middle;\n",
       "    }\n",
       "\n",
       "    .dataframe tbody tr th {\n",
       "        vertical-align: top;\n",
       "    }\n",
       "\n",
       "    .dataframe thead th {\n",
       "        text-align: right;\n",
       "    }\n",
       "</style>\n",
       "<table border=\"1\" class=\"dataframe\">\n",
       "  <thead>\n",
       "    <tr style=\"text-align: right;\">\n",
       "      <th></th>\n",
       "      <th>Unnamed: 0</th>\n",
       "      <th>公司名称</th>\n",
       "      <th>地址</th>\n",
       "      <th>公司网址</th>\n",
       "      <th>爬取页</th>\n",
       "      <th>公司名称2</th>\n",
       "      <th>region</th>\n",
       "      <th>province</th>\n",
       "      <th>city</th>\n",
       "    </tr>\n",
       "  </thead>\n",
       "  <tbody>\n",
       "    <tr>\n",
       "      <td>0</td>\n",
       "      <td>1781</td>\n",
       "      <td>安徽华茂纺织股份有限公司</td>\n",
       "      <td>安徽省安庆市纺织南路80号</td>\n",
       "      <td>/orgcompany/searchitemdtl/5bc2e76fd05b73a3139c...</td>\n",
       "      <td>4</td>\n",
       "      <td>安徽华茂纺织股份有限公司</td>\n",
       "      <td>[安徽省, 安庆市, 大观区]</td>\n",
       "      <td>安徽省</td>\n",
       "      <td>安庆市</td>\n",
       "    </tr>\n",
       "    <tr>\n",
       "      <td>1</td>\n",
       "      <td>685</td>\n",
       "      <td>安徽集友新材料股份有限公司</td>\n",
       "      <td>安徽省安庆市太湖经济开发区</td>\n",
       "      <td>/orgcompany/searchitemdtl/4567279c7b3bd37ec9bf...</td>\n",
       "      <td>1</td>\n",
       "      <td>安徽集友新材料股份有限公司</td>\n",
       "      <td>[安徽省, 安庆市, 太湖县]</td>\n",
       "      <td>安徽省</td>\n",
       "      <td>安庆市</td>\n",
       "    </tr>\n",
       "    <tr>\n",
       "      <td>2</td>\n",
       "      <td>2895</td>\n",
       "      <td>安徽盛运环保（集团）股份有限公司</td>\n",
       "      <td>安徽省桐城经济开发区新东环路</td>\n",
       "      <td>/orgcompany/searchitemdtl/4145c0d56de28c9ac197...</td>\n",
       "      <td>8</td>\n",
       "      <td>安徽盛运环保(集团)股份有限公司</td>\n",
       "      <td>[安徽省, 安庆市, 桐城市]</td>\n",
       "      <td>安徽省</td>\n",
       "      <td>安庆市</td>\n",
       "    </tr>\n",
       "    <tr>\n",
       "      <td>3</td>\n",
       "      <td>934</td>\n",
       "      <td>安徽水利开发股份有限公司</td>\n",
       "      <td>安徽省蚌埠市东海大道张公山路南侧</td>\n",
       "      <td>/orgcompany/searchitemdtl/dac6dae3e5b007ff3c6b...</td>\n",
       "      <td>8</td>\n",
       "      <td>安徽水利开发股份有限公司</td>\n",
       "      <td>[安徽省, 蚌埠市, 龙子湖区]</td>\n",
       "      <td>安徽省</td>\n",
       "      <td>蚌埠市</td>\n",
       "    </tr>\n",
       "    <tr>\n",
       "      <td>4</td>\n",
       "      <td>95</td>\n",
       "      <td>凯盛科技股份有限公司</td>\n",
       "      <td>安徽蚌埠市黄山大道8009号</td>\n",
       "      <td>/orgcompany/searchitemdtl/06e170bfa15177e399ca...</td>\n",
       "      <td>1</td>\n",
       "      <td>凯盛科技股份有限公司</td>\n",
       "      <td>[安徽省, 蚌埠市, 禹会区]</td>\n",
       "      <td>安徽省</td>\n",
       "      <td>蚌埠市</td>\n",
       "    </tr>\n",
       "  </tbody>\n",
       "</table>\n",
       "</div>"
      ],
      "text/plain": [
       "   Unnamed: 0              公司名称                地址  \\\n",
       "0        1781      安徽华茂纺织股份有限公司     安徽省安庆市纺织南路80号   \n",
       "1         685     安徽集友新材料股份有限公司     安徽省安庆市太湖经济开发区   \n",
       "2        2895  安徽盛运环保（集团）股份有限公司    安徽省桐城经济开发区新东环路   \n",
       "3         934      安徽水利开发股份有限公司  安徽省蚌埠市东海大道张公山路南侧   \n",
       "4          95        凯盛科技股份有限公司    安徽蚌埠市黄山大道8009号   \n",
       "\n",
       "                                                公司网址  爬取页             公司名称2  \\\n",
       "0  /orgcompany/searchitemdtl/5bc2e76fd05b73a3139c...    4      安徽华茂纺织股份有限公司   \n",
       "1  /orgcompany/searchitemdtl/4567279c7b3bd37ec9bf...    1     安徽集友新材料股份有限公司   \n",
       "2  /orgcompany/searchitemdtl/4145c0d56de28c9ac197...    8  安徽盛运环保(集团)股份有限公司   \n",
       "3  /orgcompany/searchitemdtl/dac6dae3e5b007ff3c6b...    8      安徽水利开发股份有限公司   \n",
       "4  /orgcompany/searchitemdtl/06e170bfa15177e399ca...    1        凯盛科技股份有限公司   \n",
       "\n",
       "             region province city  \n",
       "0   [安徽省, 安庆市, 大观区]      安徽省  安庆市  \n",
       "1   [安徽省, 安庆市, 太湖县]      安徽省  安庆市  \n",
       "2   [安徽省, 安庆市, 桐城市]      安徽省  安庆市  \n",
       "3  [安徽省, 蚌埠市, 龙子湖区]      安徽省  蚌埠市  \n",
       "4   [安徽省, 蚌埠市, 禹会区]      安徽省  蚌埠市  "
      ]
     },
     "execution_count": 37,
     "metadata": {},
     "output_type": "execute_result"
    }
   ],
   "source": [
    "company_list.head()"
   ]
  },
  {
   "cell_type": "markdown",
   "metadata": {},
   "source": [
    "#### 2.4保存文件"
   ]
  },
  {
   "cell_type": "code",
   "execution_count": 38,
   "metadata": {},
   "outputs": [],
   "source": [
    "company_list.to_excel(r'../../file/subject/chapter3/SSGScompany04.xlsx',sheet_name='Sheet1')"
   ]
  },
  {
   "cell_type": "markdown",
   "metadata": {},
   "source": [
    "### 3.上市公司数量分布"
   ]
  },
  {
   "cell_type": "markdown",
   "metadata": {},
   "source": [
    "#### 3.1聚合各省上市公司数量"
   ]
  },
  {
   "cell_type": "code",
   "execution_count": 39,
   "metadata": {},
   "outputs": [],
   "source": [
    "company_ssgs =  pd.read_excel(r'../../file/subject/chapter3/SSGScompany04.xlsx',sheet_name='Sheet1')"
   ]
  },
  {
   "cell_type": "code",
   "execution_count": 47,
   "metadata": {},
   "outputs": [
    {
     "data": {
      "text/plain": [
       "province\n",
       "广东省    568\n",
       "浙江省    425\n",
       "江苏省    386\n",
       "北京市    306\n",
       "上海市    284\n",
       "Name: 公司名称, dtype: int64"
      ]
     },
     "execution_count": 47,
     "metadata": {},
     "output_type": "execute_result"
    }
   ],
   "source": [
    "company_ssgs.groupby(by='province').count()['公司名称'].sort_values(ascending=False).head()"
   ]
  },
  {
   "cell_type": "code",
   "execution_count": 48,
   "metadata": {},
   "outputs": [],
   "source": [
    "SSGS = company_ssgs.groupby(by='province').count()['公司名称'].sort_values(ascending=False)"
   ]
  },
  {
   "cell_type": "code",
   "execution_count": 51,
   "metadata": {},
   "outputs": [],
   "source": [
    "import matplotlib.pyplot as plt\n",
    "plt.style.use('ggplot')\n",
    "plt.rcParams['font.sans-serif']=['SimHei']#显示中文字体为黑体\n",
    "plt.rcParams['axes.unicode_minus']=False#显示负号\n",
    "\n",
    "%matplotlib inline"
   ]
  },
  {
   "cell_type": "code",
   "execution_count": 60,
   "metadata": {},
   "outputs": [
    {
     "data": {
      "image/png": "[encoded data removed]",
      "text/plain": [
       "<Figure size 1152x360 with 1 Axes>"
      ]
     },
     "metadata": {
      "needs_background": "light"
     },
     "output_type": "display_data"
    }
   ],
   "source": [
    "SSGS.plot(kind='bar',figsize=(16,5),alpha=0.7)\n",
    "plt.xlabel('')\n",
    "plt.title('各省上市公司数量（单位：家）',size=16)\n",
    "plt.xticks(size=10)\n",
    "plt.show()"
   ]
  },
  {
   "cell_type": "code",
   "execution_count": null,
   "metadata": {},
   "outputs": [],
   "source": []
  }
 ],
 "metadata": {
  "kernelspec": {
   "display_name": "Python 3",
   "language": "python",
   "name": "python3"
  },
  "language_info": {
   "codemirror_mode": {
    "name": "ipython",
    "version": 3
   },
   "file_extension": ".py",
   "mimetype": "text/x-python",
   "name": "python",
   "nbconvert_exporter": "python",
   "pygments_lexer": "ipython3",
   "version": "3.7.4"
  }
 },
 "nbformat": 4,
 "nbformat_minor": 2
}
