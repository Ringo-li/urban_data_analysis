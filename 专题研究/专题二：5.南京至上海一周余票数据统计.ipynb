{
 "cells": [
  {
   "cell_type": "code",
   "execution_count": 1,
   "metadata": {},
   "outputs": [],
   "source": [
    "import pandas as pd\n",
    "import numpy as np\n",
    "import os\n",
    "import arrow"
   ]
  },
  {
   "cell_type": "markdown",
   "metadata": {},
   "source": [
    "#### 1.数据导入"
   ]
  },
  {
   "cell_type": "code",
   "execution_count": 6,
   "metadata": {},
   "outputs": [],
   "source": [
    "file_path = r'D:\\rui\\code_analysis\\课程资料\\6. 综合专题二：基于高铁余票的客流行为特征及其效应分析\\12306data'\n",
    "file = os.path.join(file_path,'Ninghu-2016-12-21.csv')"
   ]
  },
  {
   "cell_type": "code",
   "execution_count": 7,
   "metadata": {},
   "outputs": [],
   "source": [
    "df_Ninghu = pd.read_csv(file)"
   ]
  },
  {
   "cell_type": "code",
   "execution_count": 10,
   "metadata": {},
   "outputs": [
    {
     "data": {
      "text/html": [
       "<div>\n",
       "<style scoped>\n",
       "    .dataframe tbody tr th:only-of-type {\n",
       "        vertical-align: middle;\n",
       "    }\n",
       "\n",
       "    .dataframe tbody tr th {\n",
       "        vertical-align: top;\n",
       "    }\n",
       "\n",
       "    .dataframe thead th {\n",
       "        text-align: right;\n",
       "    }\n",
       "</style>\n",
       "<table border=\"1\" class=\"dataframe\">\n",
       "  <thead>\n",
       "    <tr style=\"text-align: right;\">\n",
       "      <th></th>\n",
       "      <th>54000G702940</th>\n",
       "      <th>G7029</th>\n",
       "      <th>南京</th>\n",
       "      <th>镇江</th>\n",
       "      <th>05:49</th>\n",
       "      <th>0</th>\n",
       "      <th>0.1</th>\n",
       "      <th>94</th>\n",
       "      <th>993</th>\n",
       "      <th>0.2</th>\n",
       "      <th>2016-12-21</th>\n",
       "      <th>00:00</th>\n",
       "    </tr>\n",
       "  </thead>\n",
       "  <tbody>\n",
       "    <tr>\n",
       "      <td>0</td>\n",
       "      <td>54000G703350</td>\n",
       "      <td>G7033</td>\n",
       "      <td>南京</td>\n",
       "      <td>镇江</td>\n",
       "      <td>06:06</td>\n",
       "      <td>0</td>\n",
       "      <td>0</td>\n",
       "      <td>43</td>\n",
       "      <td>493</td>\n",
       "      <td>160</td>\n",
       "      <td>2016-12-21</td>\n",
       "      <td>00:00</td>\n",
       "    </tr>\n",
       "    <tr>\n",
       "      <td>1</td>\n",
       "      <td>54000G710140</td>\n",
       "      <td>G7101</td>\n",
       "      <td>南京</td>\n",
       "      <td>镇江</td>\n",
       "      <td>06:11</td>\n",
       "      <td>0</td>\n",
       "      <td>0</td>\n",
       "      <td>46</td>\n",
       "      <td>509</td>\n",
       "      <td>164</td>\n",
       "      <td>2016-12-21</td>\n",
       "      <td>00:00</td>\n",
       "    </tr>\n",
       "    <tr>\n",
       "      <td>2</td>\n",
       "      <td>54000G703530</td>\n",
       "      <td>G7035</td>\n",
       "      <td>南京</td>\n",
       "      <td>镇江</td>\n",
       "      <td>06:31</td>\n",
       "      <td>0</td>\n",
       "      <td>0</td>\n",
       "      <td>48</td>\n",
       "      <td>493</td>\n",
       "      <td>167</td>\n",
       "      <td>2016-12-21</td>\n",
       "      <td>00:00</td>\n",
       "    </tr>\n",
       "    <tr>\n",
       "      <td>3</td>\n",
       "      <td>5l000G758100</td>\n",
       "      <td>G7581</td>\n",
       "      <td>南京南</td>\n",
       "      <td>镇江</td>\n",
       "      <td>06:45</td>\n",
       "      <td>10</td>\n",
       "      <td>0</td>\n",
       "      <td>24</td>\n",
       "      <td>417</td>\n",
       "      <td>147</td>\n",
       "      <td>2016-12-21</td>\n",
       "      <td>00:00</td>\n",
       "    </tr>\n",
       "    <tr>\n",
       "      <td>4</td>\n",
       "      <td>5l000G750550</td>\n",
       "      <td>G7505</td>\n",
       "      <td>南京南</td>\n",
       "      <td>镇江南</td>\n",
       "      <td>07:13</td>\n",
       "      <td>25</td>\n",
       "      <td>0</td>\n",
       "      <td>92</td>\n",
       "      <td>432</td>\n",
       "      <td>260</td>\n",
       "      <td>2016-12-21</td>\n",
       "      <td>00:00</td>\n",
       "    </tr>\n",
       "  </tbody>\n",
       "</table>\n",
       "</div>"
      ],
      "text/plain": [
       "   54000G702940  G7029   南京   镇江  05:49   0  0.1  94  993  0.2  2016-12-21  \\\n",
       "0  54000G703350  G7033   南京   镇江  06:06   0    0  43  493  160  2016-12-21   \n",
       "1  54000G710140  G7101   南京   镇江  06:11   0    0  46  509  164  2016-12-21   \n",
       "2  54000G703530  G7035   南京   镇江  06:31   0    0  48  493  167  2016-12-21   \n",
       "3  5l000G758100  G7581  南京南   镇江  06:45  10    0  24  417  147  2016-12-21   \n",
       "4  5l000G750550  G7505  南京南  镇江南  07:13  25    0  92  432  260  2016-12-21   \n",
       "\n",
       "   00:00  \n",
       "0  00:00  \n",
       "1  00:00  \n",
       "2  00:00  \n",
       "3  00:00  \n",
       "4  00:00  "
      ]
     },
     "execution_count": 10,
     "metadata": {},
     "output_type": "execute_result"
    }
   ],
   "source": [
    "df_Ninghu.head()"
   ]
  },
  {
   "cell_type": "markdown",
   "metadata": {},
   "source": [
    "#### 2.数据整理"
   ]
  },
  {
   "cell_type": "code",
   "execution_count": 16,
   "metadata": {},
   "outputs": [],
   "source": [
    "#添加表头\n",
    "df_Ninghu = pd.read_csv(file,names=['编号', '车次', '发车站', '到达站', '发车时间', '商务特等座',\n",
    "                                    '动卧', '一等座', '二等座','无座','记录日期','记录时间'])"
   ]
  },
  {
   "cell_type": "code",
   "execution_count": 17,
   "metadata": {},
   "outputs": [
    {
     "data": {
      "text/html": [
       "<div>\n",
       "<style scoped>\n",
       "    .dataframe tbody tr th:only-of-type {\n",
       "        vertical-align: middle;\n",
       "    }\n",
       "\n",
       "    .dataframe tbody tr th {\n",
       "        vertical-align: top;\n",
       "    }\n",
       "\n",
       "    .dataframe thead th {\n",
       "        text-align: right;\n",
       "    }\n",
       "</style>\n",
       "<table border=\"1\" class=\"dataframe\">\n",
       "  <thead>\n",
       "    <tr style=\"text-align: right;\">\n",
       "      <th></th>\n",
       "      <th>编号</th>\n",
       "      <th>车次</th>\n",
       "      <th>发车站</th>\n",
       "      <th>到达站</th>\n",
       "      <th>发车时间</th>\n",
       "      <th>商务特等座</th>\n",
       "      <th>动卧</th>\n",
       "      <th>一等座</th>\n",
       "      <th>二等座</th>\n",
       "      <th>无座</th>\n",
       "      <th>记录日期</th>\n",
       "      <th>记录时间</th>\n",
       "    </tr>\n",
       "  </thead>\n",
       "  <tbody>\n",
       "    <tr>\n",
       "      <td>2445513</td>\n",
       "      <td>240000G1570H</td>\n",
       "      <td>G157</td>\n",
       "      <td>无锡东</td>\n",
       "      <td>上海虹桥</td>\n",
       "      <td>22:54</td>\n",
       "      <td>8</td>\n",
       "      <td>0</td>\n",
       "      <td>63</td>\n",
       "      <td>657</td>\n",
       "      <td>0</td>\n",
       "      <td>2016-12-21</td>\n",
       "      <td>23:03</td>\n",
       "    </tr>\n",
       "    <tr>\n",
       "      <td>2445514</td>\n",
       "      <td>240000G1570H</td>\n",
       "      <td>G157</td>\n",
       "      <td>无锡东</td>\n",
       "      <td>上海虹桥</td>\n",
       "      <td>22:54</td>\n",
       "      <td>8</td>\n",
       "      <td>0</td>\n",
       "      <td>63</td>\n",
       "      <td>657</td>\n",
       "      <td>0</td>\n",
       "      <td>2016-12-21</td>\n",
       "      <td>23:05</td>\n",
       "    </tr>\n",
       "    <tr>\n",
       "      <td>2445515</td>\n",
       "      <td>4f000G194200</td>\n",
       "      <td>G1939</td>\n",
       "      <td>苏州北</td>\n",
       "      <td>上海虹桥</td>\n",
       "      <td>22:52</td>\n",
       "      <td>10</td>\n",
       "      <td>0</td>\n",
       "      <td>22</td>\n",
       "      <td>428</td>\n",
       "      <td>0</td>\n",
       "      <td>2016-12-21</td>\n",
       "      <td>23:05</td>\n",
       "    </tr>\n",
       "    <tr>\n",
       "      <td>2445516</td>\n",
       "      <td>240000G1570H</td>\n",
       "      <td>G157</td>\n",
       "      <td>无锡东</td>\n",
       "      <td>上海虹桥</td>\n",
       "      <td>22:54</td>\n",
       "      <td>8</td>\n",
       "      <td>0</td>\n",
       "      <td>63</td>\n",
       "      <td>657</td>\n",
       "      <td>0</td>\n",
       "      <td>2016-12-21</td>\n",
       "      <td>23:06</td>\n",
       "    </tr>\n",
       "    <tr>\n",
       "      <td>2445517</td>\n",
       "      <td>240000G1570H</td>\n",
       "      <td>G157</td>\n",
       "      <td>无锡东</td>\n",
       "      <td>上海虹桥</td>\n",
       "      <td>22:54</td>\n",
       "      <td>8</td>\n",
       "      <td>0</td>\n",
       "      <td>63</td>\n",
       "      <td>657</td>\n",
       "      <td>0</td>\n",
       "      <td>2016-12-21</td>\n",
       "      <td>23:07</td>\n",
       "    </tr>\n",
       "  </tbody>\n",
       "</table>\n",
       "</div>"
      ],
      "text/plain": [
       "                   编号     车次  发车站   到达站   发车时间  商务特等座  动卧  一等座  二等座  无座  \\\n",
       "2445513  240000G1570H   G157  无锡东  上海虹桥  22:54      8   0   63  657   0   \n",
       "2445514  240000G1570H   G157  无锡东  上海虹桥  22:54      8   0   63  657   0   \n",
       "2445515  4f000G194200  G1939  苏州北  上海虹桥  22:52     10   0   22  428   0   \n",
       "2445516  240000G1570H   G157  无锡东  上海虹桥  22:54      8   0   63  657   0   \n",
       "2445517  240000G1570H   G157  无锡东  上海虹桥  22:54      8   0   63  657   0   \n",
       "\n",
       "               记录日期   记录时间  \n",
       "2445513  2016-12-21  23:03  \n",
       "2445514  2016-12-21  23:05  \n",
       "2445515  2016-12-21  23:05  \n",
       "2445516  2016-12-21  23:06  \n",
       "2445517  2016-12-21  23:07  "
      ]
     },
     "execution_count": 17,
     "metadata": {},
     "output_type": "execute_result"
    }
   ],
   "source": [
    "df_Ninghu.tail()"
   ]
  },
  {
   "cell_type": "code",
   "execution_count": 36,
   "metadata": {},
   "outputs": [],
   "source": [
    "#用正则表达式过滤错误时间的信息\n",
    "df_Ninghu = df_Ninghu[df_Ninghu['发车时间'].str.contains('0[3-9]:|1[0-9]:|2[0-3]:')]"
   ]
  },
  {
   "cell_type": "code",
   "execution_count": 61,
   "metadata": {},
   "outputs": [
    {
     "data": {
      "text/plain": [
       "<Arrow [2020-09-29T00:00:00+00:00]>"
      ]
     },
     "execution_count": 61,
     "metadata": {},
     "output_type": "execute_result"
    }
   ],
   "source": [
    "#arrow时间推移\n",
    "arrow.get('have a time 2020-06-21 ,maybe you can extract date in it','YYYY-MM-DD').shift(days=+100)"
   ]
  },
  {
   "cell_type": "code",
   "execution_count": 70,
   "metadata": {},
   "outputs": [],
   "source": [
    "df_Ninghu['停售时间'] = df_Ninghu['发车时间'].apply(lambda x:arrow.get(x,'HH:mm').shift(minutes=-30).format('HH:mm'))"
   ]
  },
  {
   "cell_type": "code",
   "execution_count": 71,
   "metadata": {},
   "outputs": [
    {
     "data": {
      "text/html": [
       "<div>\n",
       "<style scoped>\n",
       "    .dataframe tbody tr th:only-of-type {\n",
       "        vertical-align: middle;\n",
       "    }\n",
       "\n",
       "    .dataframe tbody tr th {\n",
       "        vertical-align: top;\n",
       "    }\n",
       "\n",
       "    .dataframe thead th {\n",
       "        text-align: right;\n",
       "    }\n",
       "</style>\n",
       "<table border=\"1\" class=\"dataframe\">\n",
       "  <thead>\n",
       "    <tr style=\"text-align: right;\">\n",
       "      <th></th>\n",
       "      <th>编号</th>\n",
       "      <th>车次</th>\n",
       "      <th>发车站</th>\n",
       "      <th>到达站</th>\n",
       "      <th>发车时间</th>\n",
       "      <th>商务特等座</th>\n",
       "      <th>动卧</th>\n",
       "      <th>一等座</th>\n",
       "      <th>二等座</th>\n",
       "      <th>无座</th>\n",
       "      <th>记录日期</th>\n",
       "      <th>记录时间</th>\n",
       "      <th>停售时间</th>\n",
       "    </tr>\n",
       "  </thead>\n",
       "  <tbody>\n",
       "    <tr>\n",
       "      <td>0</td>\n",
       "      <td>54000G702940</td>\n",
       "      <td>G7029</td>\n",
       "      <td>南京</td>\n",
       "      <td>镇江</td>\n",
       "      <td>05:49</td>\n",
       "      <td>0</td>\n",
       "      <td>0</td>\n",
       "      <td>94</td>\n",
       "      <td>993</td>\n",
       "      <td>0</td>\n",
       "      <td>2016-12-21</td>\n",
       "      <td>00:00</td>\n",
       "      <td>05:19</td>\n",
       "    </tr>\n",
       "    <tr>\n",
       "      <td>1</td>\n",
       "      <td>54000G703350</td>\n",
       "      <td>G7033</td>\n",
       "      <td>南京</td>\n",
       "      <td>镇江</td>\n",
       "      <td>06:06</td>\n",
       "      <td>0</td>\n",
       "      <td>0</td>\n",
       "      <td>43</td>\n",
       "      <td>493</td>\n",
       "      <td>160</td>\n",
       "      <td>2016-12-21</td>\n",
       "      <td>00:00</td>\n",
       "      <td>05:36</td>\n",
       "    </tr>\n",
       "    <tr>\n",
       "      <td>2</td>\n",
       "      <td>54000G710140</td>\n",
       "      <td>G7101</td>\n",
       "      <td>南京</td>\n",
       "      <td>镇江</td>\n",
       "      <td>06:11</td>\n",
       "      <td>0</td>\n",
       "      <td>0</td>\n",
       "      <td>46</td>\n",
       "      <td>509</td>\n",
       "      <td>164</td>\n",
       "      <td>2016-12-21</td>\n",
       "      <td>00:00</td>\n",
       "      <td>05:41</td>\n",
       "    </tr>\n",
       "    <tr>\n",
       "      <td>3</td>\n",
       "      <td>54000G703530</td>\n",
       "      <td>G7035</td>\n",
       "      <td>南京</td>\n",
       "      <td>镇江</td>\n",
       "      <td>06:31</td>\n",
       "      <td>0</td>\n",
       "      <td>0</td>\n",
       "      <td>48</td>\n",
       "      <td>493</td>\n",
       "      <td>167</td>\n",
       "      <td>2016-12-21</td>\n",
       "      <td>00:00</td>\n",
       "      <td>06:01</td>\n",
       "    </tr>\n",
       "    <tr>\n",
       "      <td>4</td>\n",
       "      <td>5l000G758100</td>\n",
       "      <td>G7581</td>\n",
       "      <td>南京南</td>\n",
       "      <td>镇江</td>\n",
       "      <td>06:45</td>\n",
       "      <td>10</td>\n",
       "      <td>0</td>\n",
       "      <td>24</td>\n",
       "      <td>417</td>\n",
       "      <td>147</td>\n",
       "      <td>2016-12-21</td>\n",
       "      <td>00:00</td>\n",
       "      <td>06:15</td>\n",
       "    </tr>\n",
       "  </tbody>\n",
       "</table>\n",
       "</div>"
      ],
      "text/plain": [
       "             编号     车次  发车站 到达站   发车时间  商务特等座  动卧  一等座  二等座   无座        记录日期  \\\n",
       "0  54000G702940  G7029   南京  镇江  05:49      0   0   94  993    0  2016-12-21   \n",
       "1  54000G703350  G7033   南京  镇江  06:06      0   0   43  493  160  2016-12-21   \n",
       "2  54000G710140  G7101   南京  镇江  06:11      0   0   46  509  164  2016-12-21   \n",
       "3  54000G703530  G7035   南京  镇江  06:31      0   0   48  493  167  2016-12-21   \n",
       "4  5l000G758100  G7581  南京南  镇江  06:45     10   0   24  417  147  2016-12-21   \n",
       "\n",
       "    记录时间   停售时间  \n",
       "0  00:00  05:19  \n",
       "1  00:00  05:36  \n",
       "2  00:00  05:41  \n",
       "3  00:00  06:01  \n",
       "4  00:00  06:15  "
      ]
     },
     "execution_count": 71,
     "metadata": {},
     "output_type": "execute_result"
    }
   ],
   "source": [
    "df_Ninghu.head()"
   ]
  },
  {
   "cell_type": "code",
   "execution_count": 72,
   "metadata": {},
   "outputs": [],
   "source": [
    "#过滤出在停售时间的记录\n",
    "df_Ninghu_use = df_Ninghu[df_Ninghu['记录时间'] == df_Ninghu['停售时间']]"
   ]
  },
  {
   "cell_type": "code",
   "execution_count": 74,
   "metadata": {},
   "outputs": [
    {
     "data": {
      "text/plain": [
       "2785"
      ]
     },
     "execution_count": 74,
     "metadata": {},
     "output_type": "execute_result"
    }
   ],
   "source": [
    "len(df_Ninghu_use)"
   ]
  },
  {
   "cell_type": "code",
   "execution_count": 75,
   "metadata": {},
   "outputs": [
    {
     "name": "stderr",
     "output_type": "stream",
     "text": [
      "C:\\Users\\cc\\Anaconda3\\lib\\site-packages\\ipykernel_launcher.py:3: SettingWithCopyWarning: \n",
      "A value is trying to be set on a copy of a slice from a DataFrame.\n",
      "Try using .loc[row_indexer,col_indexer] = value instead\n",
      "\n",
      "See the caveats in the documentation: http://pandas.pydata.org/pandas-docs/stable/user_guide/indexing.html#returning-a-view-versus-a-copy\n",
      "  This is separate from the ipykernel package so we can avoid doing imports until\n"
     ]
    }
   ],
   "source": [
    "#新增总余票量\n",
    "df_Ninghu_use['总票数'] = df_Ninghu_use['商务特等座'] + df_Ninghu_use['动卧'] +\\\n",
    "df_Ninghu_use['一等座'] + df_Ninghu_use['二等座'] + df_Ninghu_use['无座']"
   ]
  },
  {
   "cell_type": "code",
   "execution_count": 78,
   "metadata": {},
   "outputs": [],
   "source": [
    "df_Ninghu_use.to_csv(r'../../file/subject/df_Ninghu_use.csv')"
   ]
  },
  {
   "cell_type": "code",
   "execution_count": 77,
   "metadata": {},
   "outputs": [
    {
     "data": {
      "text/plain": [
       "'D:\\\\rui\\\\code_analysis\\\\homework\\\\专题研究'"
      ]
     },
     "execution_count": 77,
     "metadata": {},
     "output_type": "execute_result"
    }
   ],
   "source": [
    "os.getcwd()"
   ]
  },
  {
   "cell_type": "code",
   "execution_count": null,
   "metadata": {},
   "outputs": [],
   "source": []
  }
 ],
 "metadata": {
  "kernelspec": {
   "display_name": "Python 3",
   "language": "python",
   "name": "python3"
  },
  "language_info": {
   "codemirror_mode": {
    "name": "ipython",
    "version": 3
   },
   "file_extension": ".py",
   "mimetype": "text/x-python",
   "name": "python",
   "nbconvert_exporter": "python",
   "pygments_lexer": "ipython3",
   "version": "3.7.4"
  }
 },
 "nbformat": 4,
 "nbformat_minor": 2
}
