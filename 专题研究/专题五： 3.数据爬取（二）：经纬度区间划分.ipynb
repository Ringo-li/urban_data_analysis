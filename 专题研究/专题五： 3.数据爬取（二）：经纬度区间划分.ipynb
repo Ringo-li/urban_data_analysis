{
 "cells": [
  {
   "attachments": {},
   "cell_type": "markdown",
   "metadata": {},
   "source": [
    "### 1、爬取前需要明确的几个问题"
   ]
  },
  {
   "cell_type": "markdown",
   "metadata": {},
   "source": [
    "#### 1.1API请求的URL地址\n",
    "矩形区域检索\n",
    "http://api.map.baidu.com/place/v2/search?query=银行&bounds=39.915,116.404,39.975,116.414&output=json&ak={您的密钥} //GET请求"
   ]
  },
  {
   "cell_type": "markdown",
   "metadata": {},
   "source": [
    "#### 1.2网络大小相关尺寸\n",
    "> 1度：约等于111km，则0.1度约等于11km  \n",
    "> 0.05度方格面积约为：5.5km *5.5km  = 30.25km^2  \n",
    "> 0.02度方格面积约为 2.2km * 2.2km = 5km^2  \n",
    "\n",
    "http://lbsyun.baidu.com/index.php?title=lbscloud/poitags  \n",
    "http://lbsyun.baidu.com/index.php?title=webapi/guide/webservice-placeapi\n",
    "\n",
    "范围（百度坐标）：108.756009,34.16985,109.146952,34.395586"
   ]
  },
  {
   "cell_type": "markdown",
   "metadata": {},
   "source": [
    "### 2、网格划分"
   ]
  },
  {
   "cell_type": "markdown",
   "metadata": {},
   "source": [
    "#### 2.1经纬度切割"
   ]
  },
  {
   "cell_type": "code",
   "execution_count": 81,
   "metadata": {},
   "outputs": [],
   "source": [
    "import numpy as np"
   ]
  },
  {
   "cell_type": "code",
   "execution_count": 7,
   "metadata": {},
   "outputs": [
    {
     "name": "stdout",
     "output_type": "stream",
     "text": [
      "['39.31', '39.33', '39.35', '39.37', '39.39', '39.41', '39.43', '39.45', '39.47', '39.49', '39.51', '39.53']\n"
     ]
    }
   ],
   "source": [
    "a = 39.32\n",
    "b = 39.53\n",
    "ls = [str(b)]\n",
    "while a < b:\n",
    "    m = b - 0.02\n",
    "    ls.append('%.2f' % m)\n",
    "    b = m\n",
    "print(sorted(ls))"
   ]
  },
  {
   "cell_type": "code",
   "execution_count": 80,
   "metadata": {},
   "outputs": [
    {
     "name": "stdout",
     "output_type": "stream",
     "text": [
      "['1.00', '2.00', '3.00', '4']\n",
      "['1.00', '2.00', '3']\n",
      "[['1.00' '1.00' '2.00' '2.00']\n",
      " ['1.00' '2.00' '2.00' '3.00']\n",
      " ['1.00' '3.00' '2.00' '4']\n",
      " ['2.00' '1.00' '3' '2.00']\n",
      " ['2.00' '2.00' '3' '3.00']\n",
      " ['2.00' '3.00' '3' '4']]\n"
     ]
    }
   ],
   "source": [
    "class LocaDiv(object):\n",
    "    #创建初始化参数\n",
    "    def __init__(self,loc_all,divd):\n",
    "        self.loc_all =  loc_all\n",
    "        self.divd = divd\n",
    "        \n",
    "    #获取以divd分割的每个维度列表\n",
    "    def lat_all(self):\n",
    "        bl_lat = self.loc_all[0]\n",
    "        ur_lat = self.loc_all[2]\n",
    "        ls = [str(ur_lat)]\n",
    "        while bl_lat < ur_lat:\n",
    "            m = ur_lat - self.divd\n",
    "            ls.append('%.2f' % m)\n",
    "            ur_lat = m\n",
    "        return sorted(ls)\n",
    "\n",
    "    #获取以divd分割的每个经度列表\n",
    "    def lng_all(self):\n",
    "        bl_lng = self.loc_all[1]\n",
    "        ur_lng = self.loc_all[3]\n",
    "        ls = [str(ur_lng)]\n",
    "        while bl_lng < ur_lng:\n",
    "            m = ur_lng - self.divd\n",
    "            ls.append('%.2f' % m)\n",
    "            ur_lng = m\n",
    "        return sorted(ls)\n",
    "    \n",
    "    #依次组合每个方格左下到右上的点\n",
    "    def com_coor(self):\n",
    "        lat_lst = self.lat_all()\n",
    "        lng_lst = self.lng_all()\n",
    "        lst = []\n",
    "        for i in range(len(lat_lst)-1):\n",
    "            for j in range(len(lng_lst)-1):\n",
    "                lst.append(lat_lst[i])\n",
    "                lst.append(lng_lst[j])\n",
    "                lst.append(lat_lst[i+1])\n",
    "                lst.append(lng_lst[j+1]) \n",
    "        arr = np.array(lst).reshape(len(a)//4,4)\n",
    "        return arr\n",
    "    \n",
    "        \n",
    "if __name__ == \"__main__\":\n",
    "    coor = [1,1,3,4]#bl_lat,bl_lng,ur_lat,ur_lng\n",
    "    loc = LocaDiv(coor,1)\n",
    "    print(loc.lng_all())\n",
    "    print(loc.lat_all())\n",
    "    print(loc.com_coor())\n",
    "    \n",
    "        "
   ]
  },
  {
   "cell_type": "code",
   "execution_count": 29,
   "metadata": {},
   "outputs": [
    {
     "name": "stdout",
     "output_type": "stream",
     "text": [
      "['1.00', '2.00', '3.00', '4']\n"
     ]
    }
   ],
   "source": [
    "def lat_all(coor,divd):\n",
    "    a = coor[0]\n",
    "    b = coor[2]\n",
    "    ls = [str(b)]\n",
    "    while a < b:\n",
    "        m = b - divd\n",
    "        ls.append('%.2f' % m)\n",
    "        b = m\n",
    "    return sorted(ls)\n",
    "\n",
    "coor = [1,1,4,5]\n",
    "divd = 1\n",
    "a = lat_all(coor,divd)\n",
    "print(a)"
   ]
  },
  {
   "cell_type": "code",
   "execution_count": 32,
   "metadata": {},
   "outputs": [],
   "source": [
    "import numpy as np"
   ]
  },
  {
   "cell_type": "code",
   "execution_count": 63,
   "metadata": {},
   "outputs": [
    {
     "name": "stdout",
     "output_type": "stream",
     "text": [
      "[[ 0  1  2  3]\n",
      " [ 4  5  6  7]\n",
      " [ 8  9 10 11]]\n"
     ]
    },
    {
     "data": {
      "text/plain": [
       "array([[ 8,  9, 10, 11],\n",
       "       [ 4,  5,  6,  7],\n",
       "       [ 0,  1,  2,  3]])"
      ]
     },
     "execution_count": 63,
     "metadata": {},
     "output_type": "execute_result"
    }
   ],
   "source": [
    "a = numpy.arange(12).reshape(3,4)\n",
    "print(a)\n",
    "b = a[::-1]\n",
    "b"
   ]
  },
  {
   "cell_type": "code",
   "execution_count": 69,
   "metadata": {},
   "outputs": [
    {
     "data": {
      "text/plain": [
       "array(['1.00', '1.00', '2.00', '2.00', '1.00', '2.00', '2.00', '3.00',\n",
       "       '1.00', '3.00', '2.00', '4', '2.00', '1.00', '3', '2.00', '2.00',\n",
       "       '2.00', '3', '3.00', '2.00', '3.00', '3', '4'], dtype='<U4')"
      ]
     },
     "execution_count": 69,
     "metadata": {},
     "output_type": "execute_result"
    }
   ],
   "source": [
    "lst = ['1.00', '1.00', '2.00', '2.00', '1.00', '2.00', '2.00', '3.00', '1.00', '3.00', '2.00', '4', '2.00', '1.00', '3', '2.00', '2.00', '2.00', '3', '3.00', '2.00', '3.00', '3', '4']\n",
    "a = numpy.array(lst)\n",
    "a"
   ]
  },
  {
   "cell_type": "code",
   "execution_count": 75,
   "metadata": {},
   "outputs": [
    {
     "data": {
      "text/plain": [
       "6"
      ]
     },
     "execution_count": 75,
     "metadata": {},
     "output_type": "execute_result"
    }
   ],
   "source": [
    "len(a)//4"
   ]
  },
  {
   "cell_type": "code",
   "execution_count": 79,
   "metadata": {},
   "outputs": [
    {
     "data": {
      "text/plain": [
       "array(['1.00', '2.00', '2.00', '3.00'], dtype='<U4')"
      ]
     },
     "execution_count": 79,
     "metadata": {},
     "output_type": "execute_result"
    }
   ],
   "source": [
    "a.reshape(len(a)//4,4)[1]"
   ]
  },
  {
   "cell_type": "code",
   "execution_count": null,
   "metadata": {},
   "outputs": [],
   "source": []
  }
 ],
 "metadata": {
  "kernelspec": {
   "display_name": "Python 3",
   "language": "python",
   "name": "python3"
  },
  "language_info": {
   "codemirror_mode": {
    "name": "ipython",
    "version": 3
   },
   "file_extension": ".py",
   "mimetype": "text/x-python",
   "name": "python",
   "nbconvert_exporter": "python",
   "pygments_lexer": "ipython3",
   "version": "3.7.4"
  }
 },
 "nbformat": 4,
 "nbformat_minor": 2
}
