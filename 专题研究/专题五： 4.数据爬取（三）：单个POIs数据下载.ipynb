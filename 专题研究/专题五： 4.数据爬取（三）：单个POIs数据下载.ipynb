{
 "cells": [
  {
   "cell_type": "markdown",
   "metadata": {},
   "source": [
    "### 1.requests请求百度API，获取POIs"
   ]
  },
  {
   "cell_type": "markdown",
   "metadata": {},
   "source": [
    "#### API请求的URL地址\n",
    "矩形区域检索 http://api.map.baidu.com/place/v2/search?query=银行&bounds=39.915,116.404,39.975,116.414&output=json&ak=VYt6ipe4cG9t1CpURQr58ulXep2pcpY6&page_size=20&page_num=1 //GET请求"
   ]
  },
  {
   "cell_type": "code",
   "execution_count": 1,
   "metadata": {},
   "outputs": [],
   "source": [
    "import pandas as pd\n",
    "import requests \n",
    "import json\n",
    "import time"
   ]
  },
  {
   "cell_type": "code",
   "execution_count": 34,
   "metadata": {},
   "outputs": [
    {
     "name": "stdout",
     "output_type": "stream",
     "text": [
      "{'name': '中国工商银行24小时自助银行(安德里北街店)', 'location': {'lat': 39.963383, 'lng': 116.408833}, 'address': '北京市东城区安德里北街18', 'province': '北京市', 'city': '北京市', 'area': '东城区', 'street_id': '0962c342b60e0ab39fec2b5c', 'detail': 1, 'uid': '0962c342b60e0ab39fec2b5c'}\n"
     ]
    }
   ],
   "source": [
    "url = 'http://api.map.baidu.com/place/v2/search?query=银行&bounds=39.915,116.404,39.975,116.414&output=json&ak=VYt6ipe4cG9t1CpURQr58ulXep2pcpY6&page_size=20&page_num=0'\n",
    "res = requests.get(url).text\n",
    "json_obj = json.loads(res)\n",
    "print(json_obj['results'][-1])"
   ]
  },
  {
   "cell_type": "code",
   "execution_count": 35,
   "metadata": {},
   "outputs": [],
   "source": [
    "def get_data(json_obj):    \n",
    "    for item in json_obj['results']:\n",
    "        js = {}\n",
    "        js['name'] = item['name']\n",
    "        js['lat'] = item['location']['lat']\n",
    "        js['lng'] = item['location']['lng']\n",
    "        yield js"
   ]
  },
  {
   "cell_type": "code",
   "execution_count": 37,
   "metadata": {},
   "outputs": [
    {
     "data": {
      "text/html": [
       "<div>\n",
       "<style scoped>\n",
       "    .dataframe tbody tr th:only-of-type {\n",
       "        vertical-align: middle;\n",
       "    }\n",
       "\n",
       "    .dataframe tbody tr th {\n",
       "        vertical-align: top;\n",
       "    }\n",
       "\n",
       "    .dataframe thead th {\n",
       "        text-align: right;\n",
       "    }\n",
       "</style>\n",
       "<table border=\"1\" class=\"dataframe\">\n",
       "  <thead>\n",
       "    <tr style=\"text-align: right;\">\n",
       "      <th></th>\n",
       "      <th>name</th>\n",
       "      <th>lat</th>\n",
       "      <th>lng</th>\n",
       "    </tr>\n",
       "  </thead>\n",
       "  <tbody>\n",
       "    <tr>\n",
       "      <td>0</td>\n",
       "      <td>中国银行(安定门外支行)</td>\n",
       "      <td>39.958051</td>\n",
       "      <td>116.413457</td>\n",
       "    </tr>\n",
       "    <tr>\n",
       "      <td>1</td>\n",
       "      <td>中国工商银行(北京东华门支行)</td>\n",
       "      <td>39.921373</td>\n",
       "      <td>116.411402</td>\n",
       "    </tr>\n",
       "    <tr>\n",
       "      <td>2</td>\n",
       "      <td>交通银行(北京和平里支行)</td>\n",
       "      <td>39.968787</td>\n",
       "      <td>116.410049</td>\n",
       "    </tr>\n",
       "    <tr>\n",
       "      <td>3</td>\n",
       "      <td>中国工商银行(北京和平北路东口支行)</td>\n",
       "      <td>39.968629</td>\n",
       "      <td>116.410245</td>\n",
       "    </tr>\n",
       "    <tr>\n",
       "      <td>4</td>\n",
       "      <td>北京银行(中轴路支行)</td>\n",
       "      <td>39.957382</td>\n",
       "      <td>116.404191</td>\n",
       "    </tr>\n",
       "  </tbody>\n",
       "</table>\n",
       "</div>"
      ],
      "text/plain": [
       "                 name        lat         lng\n",
       "0        中国银行(安定门外支行)  39.958051  116.413457\n",
       "1     中国工商银行(北京东华门支行)  39.921373  116.411402\n",
       "2       交通银行(北京和平里支行)  39.968787  116.410049\n",
       "3  中国工商银行(北京和平北路东口支行)  39.968629  116.410245\n",
       "4         北京银行(中轴路支行)  39.957382  116.404191"
      ]
     },
     "execution_count": 37,
     "metadata": {},
     "output_type": "execute_result"
    }
   ],
   "source": [
    "pd.DataFrame(get_data(json_obj)).head()"
   ]
  },
  {
   "cell_type": "code",
   "execution_count": 4,
   "metadata": {
    "scrolled": false
   },
   "outputs": [
    {
     "name": "stdout",
     "output_type": "stream",
     "text": [
      "餐饮\n",
      "0 http://api.map.baidu.com/place/v2/search?query=餐饮&bounds=34.32016,108.962152,34.328478,108.972357&output=json&ak=VYt6ipe4cG9t1CpURQr58ulXep2pcpY6&page_size=20&page_num=0\n",
      "1 http://api.map.baidu.com/place/v2/search?query=餐饮&bounds=34.32016,108.962152,34.328478,108.972357&output=json&ak=VYt6ipe4cG9t1CpURQr58ulXep2pcpY6&page_size=20&page_num=1\n",
      "2 http://api.map.baidu.com/place/v2/search?query=餐饮&bounds=34.32016,108.962152,34.328478,108.972357&output=json&ak=VYt6ipe4cG9t1CpURQr58ulXep2pcpY6&page_size=20&page_num=2\n",
      "3 http://api.map.baidu.com/place/v2/search?query=餐饮&bounds=34.32016,108.962152,34.328478,108.972357&output=json&ak=VYt6ipe4cG9t1CpURQr58ulXep2pcpY6&page_size=20&page_num=3\n",
      "4 http://api.map.baidu.com/place/v2/search?query=餐饮&bounds=34.32016,108.962152,34.328478,108.972357&output=json&ak=VYt6ipe4cG9t1CpURQr58ulXep2pcpY6&page_size=20&page_num=4\n",
      "5 http://api.map.baidu.com/place/v2/search?query=餐饮&bounds=34.32016,108.962152,34.328478,108.972357&output=json&ak=VYt6ipe4cG9t1CpURQr58ulXep2pcpY6&page_size=20&page_num=5\n",
      "The data all has been processed!\n",
      "               name        lat         lng\n",
      "0         6号大院餐饮娱乐城  34.327826  108.965068\n",
      "1   同盛祥牛羊肉泡馍(凤鸣华府店)  34.324673  108.967323\n",
      "2       无理砂锅(凤城三路店)  34.327672  108.966267\n",
      "3              阿骆小厨  34.328248  108.965370\n",
      "4             大河宴鱼馆  34.327774  108.963670\n",
      "..              ...        ...         ...\n",
      "81             王博面馆  34.328266  108.965758\n",
      "82            麦兜爱披萨  34.321155  108.963287\n",
      "83            醉兴昌烤肉  34.327716  108.966300\n",
      "84            曾把氏烧烤  34.321588  108.962614\n",
      "85             天猫小店  34.325582  108.967246\n",
      "\n",
      "[86 rows x 3 columns]\n",
      "小区\n",
      "0 http://api.map.baidu.com/place/v2/search?query=小区&bounds=34.32016,108.962152,34.328478,108.972357&output=json&ak=VYt6ipe4cG9t1CpURQr58ulXep2pcpY6&page_size=20&page_num=0\n",
      "1 http://api.map.baidu.com/place/v2/search?query=小区&bounds=34.32016,108.962152,34.328478,108.972357&output=json&ak=VYt6ipe4cG9t1CpURQr58ulXep2pcpY6&page_size=20&page_num=1\n",
      "2 http://api.map.baidu.com/place/v2/search?query=小区&bounds=34.32016,108.962152,34.328478,108.972357&output=json&ak=VYt6ipe4cG9t1CpURQr58ulXep2pcpY6&page_size=20&page_num=2\n",
      "3 http://api.map.baidu.com/place/v2/search?query=小区&bounds=34.32016,108.962152,34.328478,108.972357&output=json&ak=VYt6ipe4cG9t1CpURQr58ulXep2pcpY6&page_size=20&page_num=3\n",
      "4 http://api.map.baidu.com/place/v2/search?query=小区&bounds=34.32016,108.962152,34.328478,108.972357&output=json&ak=VYt6ipe4cG9t1CpURQr58ulXep2pcpY6&page_size=20&page_num=4\n",
      "5 http://api.map.baidu.com/place/v2/search?query=小区&bounds=34.32016,108.962152,34.328478,108.972357&output=json&ak=VYt6ipe4cG9t1CpURQr58ulXep2pcpY6&page_size=20&page_num=5\n",
      "The data all has been processed!\n",
      "               name        lat         lng\n",
      "0       西铁大明宫小区(西区)  34.321934  108.970740\n",
      "1               颐和郡  34.324939  108.970902\n",
      "2              鼎新花园  34.321507  108.965210\n",
      "3            雅荷智能家园  34.322077  108.968166\n",
      "4              佳馨花园  34.326457  108.962505\n",
      "..              ...        ...         ...\n",
      "93             佳馨尊邸  34.325849  108.962884\n",
      "94    大明宫小区西区d区91号楼  34.322981  108.971111\n",
      "95  西铁大明宫小区西区-D区93栋  34.322988  108.969840\n",
      "96    西铁大明宫小区西区-停车场  34.320440  108.970796\n",
      "97       停车场(东新小区南)  34.320240  108.963492\n",
      "\n",
      "[98 rows x 3 columns]\n",
      "done\n"
     ]
    }
   ],
   "source": [
    "class Baidupoi(object):\n",
    "    def __init__(self,query,bounds):\n",
    "        self.query = query\n",
    "        self.bounds = bounds\n",
    "        \n",
    "    def get_urls(self):\n",
    "        urls = []\n",
    "        for i in range(20):\n",
    "            url = 'http://api.map.baidu.com/place/v2/search?query={}&bounds={}&output=json&\\\n",
    "ak=VYt6ipe4cG9t1CpURQr58ulXep2pcpY6&page_size=20&page_num={}'.format(self.query,self.bounds,i)\n",
    "            urls.append(url)\n",
    "        return urls\n",
    "\n",
    "    def get_data(self):\n",
    "        for i,url in enumerate(self.get_urls()):\n",
    "            try:\n",
    "                print(i,url)\n",
    "                js_obj = requests.get(url).text\n",
    "                data = json.loads(js_obj)\n",
    "                if data['total'] != 0 :\n",
    "                    for item in data['results']:\n",
    "                        js = {}\n",
    "                        js['name'] = item['name']\n",
    "                        js['lat'] = item['location']['lat']\n",
    "                        js['lng'] = item['location']['lng']\n",
    "                        yield js\n",
    "                else:\n",
    "                    print('The data all has been processed!')\n",
    "                    break\n",
    "                with open(r'../../file/subject/chapter5/log.txt','a') as file:\n",
    "                    file.write(time.ctime() + ' status:done'+'\\n'+ url + '\\n')\n",
    "            except:\n",
    "                print('error!')\n",
    "                with open(r'../../file/subject/chapter5/log.txt','a') as file:\n",
    "                    file.write(time.ctime() + ' status:error' +'\\n' + url + '\\n')\n",
    "                \n",
    "if __name__ == '__main__':\n",
    "    bounds = '34.32016,108.962152,34.328478,108.972357'\n",
    "    for query in ['餐饮','小区']:\n",
    "        par = Baidupoi(query,bounds)\n",
    "        print(query)\n",
    "        dt = par.get_data()\n",
    "        print(pd.DataFrame(dt)) \n",
    "    print('done')"
   ]
  },
  {
   "cell_type": "code",
   "execution_count": 14,
   "metadata": {},
   "outputs": [
    {
     "data": {
      "text/plain": [
       "'Fri Jun  5 22:53:19 2020'"
      ]
     },
     "execution_count": 14,
     "metadata": {},
     "output_type": "execute_result"
    }
   ],
   "source": [
    "time.ctime()"
   ]
  },
  {
   "cell_type": "code",
   "execution_count": null,
   "metadata": {},
   "outputs": [],
   "source": []
  }
 ],
 "metadata": {
  "kernelspec": {
   "display_name": "Python 3",
   "language": "python",
   "name": "python3"
  },
  "language_info": {
   "codemirror_mode": {
    "name": "ipython",
    "version": 3
   },
   "file_extension": ".py",
   "mimetype": "text/x-python",
   "name": "python",
   "nbconvert_exporter": "python",
   "pygments_lexer": "ipython3",
   "version": "3.7.4"
  }
 },
 "nbformat": 4,
 "nbformat_minor": 2
}
