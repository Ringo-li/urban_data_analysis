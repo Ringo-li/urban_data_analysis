{
 "cells": [
  {
   "cell_type": "markdown",
   "metadata": {},
   "source": [
    "#### 1.子公司数据归属地转换"
   ]
  },
  {
   "cell_type": "code",
   "execution_count": 1,
   "metadata": {},
   "outputs": [],
   "source": [
    "import pandas as pd\n",
    "import numpy as np"
   ]
  },
  {
   "cell_type": "code",
   "execution_count": 2,
   "metadata": {},
   "outputs": [
    {
     "data": {
      "text/plain": [
       "57432"
      ]
     },
     "execution_count": 2,
     "metadata": {},
     "output_type": "execute_result"
    }
   ],
   "source": [
    "company = pd.read_excel('../../file/subject/chapter3/company_all.xlsx')\n",
    "len(company)"
   ]
  },
  {
   "cell_type": "markdown",
   "metadata": {},
   "source": [
    "#### 1.1抽出一部分作为样本进行处理"
   ]
  },
  {
   "cell_type": "code",
   "execution_count": 9,
   "metadata": {},
   "outputs": [
    {
     "data": {
      "text/html": [
       "<div>\n",
       "<style scoped>\n",
       "    .dataframe tbody tr th:only-of-type {\n",
       "        vertical-align: middle;\n",
       "    }\n",
       "\n",
       "    .dataframe tbody tr th {\n",
       "        vertical-align: top;\n",
       "    }\n",
       "\n",
       "    .dataframe thead th {\n",
       "        text-align: right;\n",
       "    }\n",
       "</style>\n",
       "<table border=\"1\" class=\"dataframe\">\n",
       "  <thead>\n",
       "    <tr style=\"text-align: right;\">\n",
       "      <th></th>\n",
       "      <th>维度</th>\n",
       "      <th>经度</th>\n",
       "      <th>地址</th>\n",
       "    </tr>\n",
       "  </thead>\n",
       "  <tbody>\n",
       "    <tr>\n",
       "      <td>78</td>\n",
       "      <td>NaN</td>\n",
       "      <td>NaN</td>\n",
       "      <td>湖南省澧县王家厂镇建设街居委会渔场直属村008号</td>\n",
       "    </tr>\n",
       "    <tr>\n",
       "      <td>79</td>\n",
       "      <td>31.317361</td>\n",
       "      <td>121.610042</td>\n",
       "      <td>中国（上海）自由贸易试验区新灵路118号1202A室</td>\n",
       "    </tr>\n",
       "    <tr>\n",
       "      <td>80</td>\n",
       "      <td>23.370128</td>\n",
       "      <td>103.395561</td>\n",
       "      <td>库尔勒市人民西路瑞丰商场</td>\n",
       "    </tr>\n",
       "  </tbody>\n",
       "</table>\n",
       "</div>"
      ],
      "text/plain": [
       "           维度          经度                          地址\n",
       "78        NaN         NaN    湖南省澧县王家厂镇建设街居委会渔场直属村008号\n",
       "79  31.317361  121.610042  中国（上海）自由贸易试验区新灵路118号1202A室\n",
       "80  23.370128  103.395561                库尔勒市人民西路瑞丰商场"
      ]
     },
     "execution_count": 9,
     "metadata": {},
     "output_type": "execute_result"
    }
   ],
   "source": [
    "company.iloc[78:81,:][['维度','经度','地址']]"
   ]
  },
  {
   "cell_type": "markdown",
   "metadata": {},
   "source": [
    "#### 1.2填充没有经纬度的行"
   ]
  },
  {
   "cell_type": "code",
   "execution_count": 10,
   "metadata": {},
   "outputs": [],
   "source": [
    "import requests\n",
    "import json\n",
    "import re\n",
    "\n",
    "def company_lat_lng(x):\n",
    "    if x['维度'] == np.nan:\n",
    "        address = x['地址']\n",
    "        url = 'http://api.map.baidu.com/geocoding/v3/?address=' + address + '&output=json&ak=VYt6ipe4cG9t1CpURQr58ulXep2pcpY6&callback=showLocation'\n",
    "        data = requests.get(url).text\n",
    "        js = re.match('.*?\\((.*?)\\).*?',data).group(1)\n",
    "        js = json.loads(js)['result']['location']\n",
    "        return js"
   ]
  },
  {
   "cell_type": "code",
   "execution_count": 47,
   "metadata": {},
   "outputs": [],
   "source": [
    "company1 = company.iloc[78:81,:][['维度','经度','地址']]"
   ]
  },
  {
   "cell_type": "code",
   "execution_count": 14,
   "metadata": {},
   "outputs": [
    {
     "data": {
      "text/plain": [
       "78    None\n",
       "79    None\n",
       "80    None\n",
       "dtype: object"
      ]
     },
     "execution_count": 14,
     "metadata": {},
     "output_type": "execute_result"
    }
   ],
   "source": [
    "company1.apply(company_lat_lng,axis=1)"
   ]
  },
  {
   "cell_type": "code",
   "execution_count": 29,
   "metadata": {},
   "outputs": [
    {
     "data": {
      "text/plain": [
       "False"
      ]
     },
     "execution_count": 29,
     "metadata": {},
     "output_type": "execute_result"
    }
   ],
   "source": [
    "#全都没有获取数据，排查发现表格中的Nan并非numpy中的nan\n",
    "company1['维度'][78] == np.nan"
   ]
  },
  {
   "cell_type": "code",
   "execution_count": 37,
   "metadata": {},
   "outputs": [],
   "source": [
    "#将空值全部替换为0\n",
    "company2 = company1.fillna(0).copy()"
   ]
  },
  {
   "cell_type": "code",
   "execution_count": 39,
   "metadata": {},
   "outputs": [
    {
     "data": {
      "text/plain": [
       "True"
      ]
     },
     "execution_count": 39,
     "metadata": {},
     "output_type": "execute_result"
    }
   ],
   "source": [
    "company2['维度'][78]  == 0"
   ]
  },
  {
   "cell_type": "code",
   "execution_count": 45,
   "metadata": {},
   "outputs": [],
   "source": [
    "def company_lat_lng(x):\n",
    "    if x['维度'] == 0:\n",
    "        address = x['地址']\n",
    "        url = 'http://api.map.baidu.com/geocoding/v3/?address=' + address + '&output=json&ak=VYt6ipe4cG9t1CpURQr58ulXep2pcpY6&callback=showLocation'\n",
    "        data = requests.get(url).text\n",
    "        js = re.match('.*?\\((.*?)\\).*?',data).group(1)\n",
    "        js = json.loads(js)['result']['location']\n",
    "        return js"
   ]
  },
  {
   "cell_type": "code",
   "execution_count": 46,
   "metadata": {},
   "outputs": [
    {
     "data": {
      "text/plain": [
       "78    {'lng': 111.53989881872957, 'lat': 29.78702709...\n",
       "79                                                 None\n",
       "80                                                 None\n",
       "dtype: object"
      ]
     },
     "execution_count": 46,
     "metadata": {},
     "output_type": "execute_result"
    }
   ],
   "source": [
    "#成功判断并获取数据\n",
    "company2.apply(company_lat_lng,axis=1)"
   ]
  },
  {
   "cell_type": "markdown",
   "metadata": {},
   "source": [
    "#### 1.3优化代码"
   ]
  },
  {
   "cell_type": "code",
   "execution_count": 48,
   "metadata": {},
   "outputs": [],
   "source": [
    "import requests\n",
    "import json\n",
    "import re\n",
    "\n",
    "def company_lat_lng(x):\n",
    "    try:\n",
    "        if x['维度'] == 0:\n",
    "            address = x['地址']\n",
    "            url = 'http://api.map.baidu.com/geocoding/v3/?address=' + address + '&output=json&ak=VYt6ipe4cG9t1CpURQr58ulXep2pcpY6&callback=showLocation'\n",
    "            data = requests.get(url).text\n",
    "            js = re.match('.*?\\((.*?)\\).*?',data).group(1)\n",
    "            js = json.loads(js)['result']['location']\n",
    "            return js\n",
    "        else:\n",
    "            return(x[0])\n",
    "    except:\n",
    "        print(x['地址'])"
   ]
  },
  {
   "cell_type": "code",
   "execution_count": 50,
   "metadata": {},
   "outputs": [
    {
     "data": {
      "text/plain": [
       "78    {'lng': 111.53989881872957, 'lat': 29.78702709...\n",
       "79                                              31.3174\n",
       "80                                              23.3701\n",
       "dtype: object"
      ]
     },
     "execution_count": 50,
     "metadata": {},
     "output_type": "execute_result"
    }
   ],
   "source": [
    "company2.apply(company_lat_lng,axis=1)"
   ]
  },
  {
   "cell_type": "code",
   "execution_count": 51,
   "metadata": {},
   "outputs": [],
   "source": [
    "company.fillna(0,inplace=True)"
   ]
  },
  {
   "cell_type": "code",
   "execution_count": 53,
   "metadata": {},
   "outputs": [
    {
     "name": "stdout",
     "output_type": "stream",
     "text": [
      "西昌路\n",
      "汉沽区营城西街\n",
      "广中西路775号\n",
      "江油市太白东路江电路\n",
      "炉头村\n",
      "皂市镇\n",
      "长虹北路\n",
      "护林路\n",
      "泗洲镇\n",
      "武进路456号\n",
      "0\n",
      "东汉阳路296号\n",
      "河南北路369号4－24室\n",
      "保定路427号\n",
      "保定路417号\n",
      "望江西路1号\n",
      "河北省容城县锦泰花园B区商务7#-05\n",
      "月湖堤街379号\n",
      "玉泉南路17号\n",
      "黄浦大街88号\n",
      "四平路428号\n",
      "城东南路13号\n",
      "四川北路2261号8楼B座\n",
      "珞璜镇\n",
      "龙舟坪镇\n",
      "万荣路949号\n",
      "泽当镇三湘大道6号\n",
      "太仓市大连西路66号\n",
      "巴城镇城北西路2666号2幢\n",
      "羊市塔\n",
      "鄂前旗上海庙镇\n",
      "浙江省宁波市大榭开发区南岗商住4#楼201室\n",
      "南伞镇\n",
      "中城镇\n",
      "环城东路\n",
      "城中心镇\n",
      "清波路10号\n",
      "电厂经济开发区\n",
      "寺坪镇\n",
      "建设路\n",
      "镇平路\n",
      "汪集镇\n",
      "古田四路21号\n",
      "古田四路23号\n",
      "双桥街8号\n",
      "清河路\n",
      "中山北路2550号\n",
      "太仓市娄东街道洛阳东路81号\n",
      "黑龙江省佳木斯市向阳区江南社区（江南嘉苑居住组团F楼030#1单元1-3层101室）\n",
      "天津自贸试验区（东疆保税港区）洛阳道600号海丰物流园3幢2单元-101（天津东疆商务秘书服务有限公司托管第750号）\n",
      "安庆路219号\n",
      "北京东路813号\n",
      "九江路111号\n",
      "分乡镇\n",
      "分乡镇\n",
      "茅坪镇\n",
      "三斗坪镇\n",
      "九江路111号\n",
      "米林县福州东路8号\n",
      "浙江省温州市苍南县龙港镇中对口村灵宜公路以南、七字山以北（苍南伟明环保能源有限公司办公楼101室）\n",
      "番禺路667号5F座\n",
      "贵州六盘水钟山经济开发区红桥西片区纬一路北侧、十二号路东侧、经一路西侧（石桥公寓对面）\n",
      "解北路37号\n",
      "鱼洞镇\n",
      "福州市晋安区象园街道晋连路19号世欧王庄城C-a4地块2#楼45层05办公-9\n",
      "朝阳北路\n",
      "洋浦经济开发区吉浦路凯丰城市广场1#综合楼西单元6楼603号房\n",
      "江城路480号5楼\n",
      "尤溪镇\n",
      "曹桥街道\n",
      "沿山北路\n",
      "天津自贸试验区（东疆保税港区）洛阳道600号海丰物流园3幢2单元-102（天津东疆商服商务秘书服务有限公司托管第1437号）\n",
      "清远市清城区人民一路28号清远顺盈时代广场商业中心首层1202、1206、1208、1210号铺，二层2210号铺，三层3210号铺\n",
      "容城县城关镇南关村南环路50#\n",
      "大新县桃城镇德天大道470号\n",
      "河北省廊坊市固安县新兴产业示范区卫星导航产业园40号楼北侧第二层（科技大道北侧，规划三路西侧）\n",
      "桂林路396号29号楼708室\n",
      "合肥市高新区红枫路与天智路交口向东200米汽车广场汽配研发中心2#楼一层\n",
      "四川省绵阳市涪城区玉皇镇玉清街14#办公大楼3-1\n",
      "江西省南昌市南昌经济技术开发区经开大道2189号昌北钢材大市场3#楼113号商铺\n",
      "杨家埠镇\n",
      "溧阳市昆仑街道城北大道986-5号\n",
      "浙江省杭州市莫干山路1418-19号2#厂房四楼(上城科技工业基地)\n",
      "鄢陵县新区人民路2246号\n",
      "陕西省西安市沣东新城协同创新港研发中试楼9#楼101\n",
      "张浦镇滨江北路100号\n",
      "文星路\n",
      "均州二路\n",
      "应城市城南路1号A栋一楼1208室\n",
      "睢县湖东路与泰山路交汇处豫府公园5号9#楼102-103室\n",
      "共和新路912号1402-4室\n",
      "青海省格尔木市育红巷江源小区12#-4-102\n",
      "福州市鼓楼区华大街道北二环中路18号恒力博纳广场南区1#1615\n",
      "经济开发区临河街3300号北门718、721、723室\n",
      "太仓市娄东街道北京东路88号东P幢\n",
      "浙江省金华市婺城区永康街697号亚泰孵化基地1#581室\n",
      "周市镇黄浦江路219号6幢\n",
      "广州市海珠区广州大道南1601-1603号自编之二、之三、之四主楼展馆第三层3048之三十九房（自主申报）\n",
      "福建省福州市闽侯县上街镇科技东路3号创新园一期5#楼二层201室\n",
      "重庆市渝中区重庆村1号名义层8-9#\n",
      "城东南路13号\n"
     ]
    }
   ],
   "source": [
    "company['lat_lng'] = company[['维度','地址']].apply(company_lat_lng,axis=1)"
   ]
  },
  {
   "cell_type": "code",
   "execution_count": 57,
   "metadata": {},
   "outputs": [],
   "source": [
    "company3 = company.iloc[78:81,:][['维度','经度','地址','lat_lng']]\n",
    "company3"
   ]
  },
  {
   "cell_type": "code",
   "execution_count": 72,
   "metadata": {},
   "outputs": [],
   "source": [
    "company3.lat_lng = company3.apply(lambda x:company3.lat_lng if x['维度'] == x['lat_lng'] else 0,axis=1)"
   ]
  },
  {
   "cell_type": "code",
   "execution_count": 73,
   "metadata": {},
   "outputs": [
    {
     "data": {
      "text/html": [
       "<div>\n",
       "<style scoped>\n",
       "    .dataframe tbody tr th:only-of-type {\n",
       "        vertical-align: middle;\n",
       "    }\n",
       "\n",
       "    .dataframe tbody tr th {\n",
       "        vertical-align: top;\n",
       "    }\n",
       "\n",
       "    .dataframe thead th {\n",
       "        text-align: right;\n",
       "    }\n",
       "</style>\n",
       "<table border=\"1\" class=\"dataframe\">\n",
       "  <thead>\n",
       "    <tr style=\"text-align: right;\">\n",
       "      <th></th>\n",
       "      <th>维度</th>\n",
       "      <th>经度</th>\n",
       "      <th>地址</th>\n",
       "      <th>lat_lng</th>\n",
       "    </tr>\n",
       "  </thead>\n",
       "  <tbody>\n",
       "    <tr>\n",
       "      <td>78</td>\n",
       "      <td>0.000000</td>\n",
       "      <td>0.000000</td>\n",
       "      <td>湖南省澧县王家厂镇建设街居委会渔场直属村008号</td>\n",
       "      <td>0</td>\n",
       "    </tr>\n",
       "    <tr>\n",
       "      <td>79</td>\n",
       "      <td>31.317361</td>\n",
       "      <td>121.610042</td>\n",
       "      <td>中国（上海）自由贸易试验区新灵路118号1202A室</td>\n",
       "      <td>[0, [0, [0, [0 array(..., dtype=object) array(...</td>\n",
       "    </tr>\n",
       "    <tr>\n",
       "      <td>80</td>\n",
       "      <td>23.370128</td>\n",
       "      <td>103.395561</td>\n",
       "      <td>库尔勒市人民西路瑞丰商场</td>\n",
       "      <td>[0, [0, [0, [0 array(..., dtype=object) array(...</td>\n",
       "    </tr>\n",
       "  </tbody>\n",
       "</table>\n",
       "</div>"
      ],
      "text/plain": [
       "           维度          经度                          地址  \\\n",
       "78   0.000000    0.000000    湖南省澧县王家厂镇建设街居委会渔场直属村008号   \n",
       "79  31.317361  121.610042  中国（上海）自由贸易试验区新灵路118号1202A室   \n",
       "80  23.370128  103.395561                库尔勒市人民西路瑞丰商场   \n",
       "\n",
       "                                              lat_lng  \n",
       "78                                                  0  \n",
       "79  [0, [0, [0, [0 array(..., dtype=object) array(...  \n",
       "80  [0, [0, [0, [0 array(..., dtype=object) array(...  "
      ]
     },
     "execution_count": 73,
     "metadata": {},
     "output_type": "execute_result"
    }
   ],
   "source": [
    "company3"
   ]
  },
  {
   "cell_type": "code",
   "execution_count": null,
   "metadata": {},
   "outputs": [],
   "source": []
  }
 ],
 "metadata": {
  "kernelspec": {
   "display_name": "Python 3",
   "language": "python",
   "name": "python3"
  },
  "language_info": {
   "codemirror_mode": {
    "name": "ipython",
    "version": 3
   },
   "file_extension": ".py",
   "mimetype": "text/x-python",
   "name": "python",
   "nbconvert_exporter": "python",
   "pygments_lexer": "ipython3",
   "version": "3.7.4"
  }
 },
 "nbformat": 4,
 "nbformat_minor": 2
}
