{
 "cells": [
  {
   "cell_type": "code",
   "execution_count": 2,
   "metadata": {},
   "outputs": [],
   "source": [
    "import pandas as pd\n",
    "import numpy as np"
   ]
  },
  {
   "cell_type": "markdown",
   "metadata": {},
   "source": [
    "### 1.获取上市公司和子公司关系"
   ]
  },
  {
   "cell_type": "code",
   "execution_count": null,
   "metadata": {},
   "outputs": [],
   "source": []
  },
  {
   "cell_type": "code",
   "execution_count": 5,
   "metadata": {},
   "outputs": [],
   "source": [
    "df_com = pd.read_excel(r'../../file/subject/chapter3/SSGScompany04.xlsx',sheet_name='Sheet1')"
   ]
  },
  {
   "cell_type": "code",
   "execution_count": 7,
   "metadata": {},
   "outputs": [
    {
     "data": {
      "text/html": [
       "<div>\n",
       "<style scoped>\n",
       "    .dataframe tbody tr th:only-of-type {\n",
       "        vertical-align: middle;\n",
       "    }\n",
       "\n",
       "    .dataframe tbody tr th {\n",
       "        vertical-align: top;\n",
       "    }\n",
       "\n",
       "    .dataframe thead th {\n",
       "        text-align: right;\n",
       "    }\n",
       "</style>\n",
       "<table border=\"1\" class=\"dataframe\">\n",
       "  <thead>\n",
       "    <tr style=\"text-align: right;\">\n",
       "      <th></th>\n",
       "      <th>Unnamed: 0</th>\n",
       "      <th>Unnamed: 0.1</th>\n",
       "      <th>公司名称</th>\n",
       "      <th>地址</th>\n",
       "      <th>公司网址</th>\n",
       "      <th>爬取页</th>\n",
       "      <th>公司名称2</th>\n",
       "      <th>region</th>\n",
       "      <th>province</th>\n",
       "      <th>city</th>\n",
       "    </tr>\n",
       "  </thead>\n",
       "  <tbody>\n",
       "    <tr>\n",
       "      <td>0</td>\n",
       "      <td>0</td>\n",
       "      <td>1781</td>\n",
       "      <td>安徽华茂纺织股份有限公司</td>\n",
       "      <td>安徽省安庆市纺织南路80号</td>\n",
       "      <td>/orgcompany/searchitemdtl/5bc2e76fd05b73a3139c...</td>\n",
       "      <td>4</td>\n",
       "      <td>安徽华茂纺织股份有限公司</td>\n",
       "      <td>['安徽省', '安庆市', '大观区']</td>\n",
       "      <td>安徽省</td>\n",
       "      <td>安庆市</td>\n",
       "    </tr>\n",
       "  </tbody>\n",
       "</table>\n",
       "</div>"
      ],
      "text/plain": [
       "   Unnamed: 0  Unnamed: 0.1          公司名称             地址  \\\n",
       "0           0          1781  安徽华茂纺织股份有限公司  安徽省安庆市纺织南路80号   \n",
       "\n",
       "                                                公司网址  爬取页         公司名称2  \\\n",
       "0  /orgcompany/searchitemdtl/5bc2e76fd05b73a3139c...    4  安徽华茂纺织股份有限公司   \n",
       "\n",
       "                  region province city  \n",
       "0  ['安徽省', '安庆市', '大观区']      安徽省  安庆市  "
      ]
     },
     "execution_count": 7,
     "metadata": {},
     "output_type": "execute_result"
    }
   ],
   "source": [
    "df_com.head(1)"
   ]
  },
  {
   "cell_type": "code",
   "execution_count": 9,
   "metadata": {},
   "outputs": [],
   "source": [
    "df_son = pd.read_excel(r'../../file/subject/chapter3/company_info_all05.xlsx',sheet_name='Sheet1')"
   ]
  },
  {
   "cell_type": "code",
   "execution_count": 10,
   "metadata": {},
   "outputs": [
    {
     "data": {
      "text/html": [
       "<div>\n",
       "<style scoped>\n",
       "    .dataframe tbody tr th:only-of-type {\n",
       "        vertical-align: middle;\n",
       "    }\n",
       "\n",
       "    .dataframe tbody tr th {\n",
       "        vertical-align: top;\n",
       "    }\n",
       "\n",
       "    .dataframe thead th {\n",
       "        text-align: right;\n",
       "    }\n",
       "</style>\n",
       "<table border=\"1\" class=\"dataframe\">\n",
       "  <thead>\n",
       "    <tr style=\"text-align: right;\">\n",
       "      <th></th>\n",
       "      <th>Unnamed: 0</th>\n",
       "      <th>公司名称</th>\n",
       "      <th>上市公司名称</th>\n",
       "      <th>公司状态</th>\n",
       "      <th>注册资本</th>\n",
       "      <th>上市公司投资比例</th>\n",
       "      <th>province</th>\n",
       "      <th>city</th>\n",
       "    </tr>\n",
       "  </thead>\n",
       "  <tbody>\n",
       "    <tr>\n",
       "      <td>0</td>\n",
       "      <td>0</td>\n",
       "      <td>上海盛美投资咨询有限公司</td>\n",
       "      <td>甘肃亚盛实业(集团)股份有限公司</td>\n",
       "      <td>存续（在营、开业、在册）</td>\n",
       "      <td>500.0000(万人民币)</td>\n",
       "      <td>80%</td>\n",
       "      <td>上海市</td>\n",
       "      <td>上海市</td>\n",
       "    </tr>\n",
       "  </tbody>\n",
       "</table>\n",
       "</div>"
      ],
      "text/plain": [
       "   Unnamed: 0          公司名称            上市公司名称          公司状态            注册资本  \\\n",
       "0           0  上海盛美投资咨询有限公司  甘肃亚盛实业(集团)股份有限公司  存续（在营、开业、在册）  500.0000(万人民币)   \n",
       "\n",
       "  上市公司投资比例 province city  \n",
       "0      80%      上海市  上海市  "
      ]
     },
     "execution_count": 10,
     "metadata": {},
     "output_type": "execute_result"
    }
   ],
   "source": [
    "df_son.head(1)"
   ]
  },
  {
   "cell_type": "code",
   "execution_count": null,
   "metadata": {},
   "outputs": [],
   "source": []
  },
  {
   "cell_type": "code",
   "execution_count": 12,
   "metadata": {},
   "outputs": [],
   "source": [
    "df = pd.merge(df_son,df_com,left_on='上市公司名称',right_on='公司名称2').reset_index()"
   ]
  },
  {
   "cell_type": "code",
   "execution_count": null,
   "metadata": {},
   "outputs": [],
   "source": []
  }
 ],
 "metadata": {
  "kernelspec": {
   "display_name": "Python 3",
   "language": "python",
   "name": "python3"
  },
  "language_info": {
   "codemirror_mode": {
    "name": "ipython",
    "version": 3
   },
   "file_extension": ".py",
   "mimetype": "text/x-python",
   "name": "python",
   "nbconvert_exporter": "python",
   "pygments_lexer": "ipython3",
   "version": "3.7.4"
  }
 },
 "nbformat": 4,
 "nbformat_minor": 2
}
