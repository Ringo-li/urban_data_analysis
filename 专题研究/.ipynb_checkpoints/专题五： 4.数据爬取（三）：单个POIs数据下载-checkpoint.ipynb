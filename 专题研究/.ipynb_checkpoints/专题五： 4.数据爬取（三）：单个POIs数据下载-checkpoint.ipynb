{
 "cells": [
  {
   "cell_type": "markdown",
   "metadata": {},
   "source": [
    "### 1.requests请求百度API，获取POIs"
   ]
  },
  {
   "cell_type": "markdown",
   "metadata": {},
   "source": [
    "#### API请求的URL地址\n",
    "矩形区域检索 http://api.map.baidu.com/place/v2/search?query=银行&bounds=39.915,116.404,39.975,116.414&output=json&ak=VYt6ipe4cG9t1CpURQr58ulXep2pcpY6&page_size=20&page_num=1 //GET请求"
   ]
  },
  {
   "cell_type": "code",
   "execution_count": 1,
   "metadata": {},
   "outputs": [],
   "source": [
    "import pandas as pd\n",
    "import requests \n",
    "import json\n",
    "import time"
   ]
  },
  {
   "cell_type": "code",
   "execution_count": 34,
   "metadata": {},
   "outputs": [
    {
     "name": "stdout",
     "output_type": "stream",
     "text": [
      "{'name': '中国工商银行24小时自助银行(安德里北街店)', 'location': {'lat': 39.963383, 'lng': 116.408833}, 'address': '北京市东城区安德里北街18', 'province': '北京市', 'city': '北京市', 'area': '东城区', 'street_id': '0962c342b60e0ab39fec2b5c', 'detail': 1, 'uid': '0962c342b60e0ab39fec2b5c'}\n"
     ]
    }
   ],
   "source": [
    "url = 'http://api.map.baidu.com/place/v2/search?query=银行&bounds=39.915,116.404,39.975,116.414&output=json&ak=VYt6ipe4cG9t1CpURQr58ulXep2pcpY6&page_size=20&page_num=0'\n",
    "res = requests.get(url).text\n",
    "json_obj = json.loads(res)\n",
    "print(json_obj['results'][-1])"
   ]
  },
  {
   "cell_type": "code",
   "execution_count": 35,
   "metadata": {},
   "outputs": [],
   "source": [
    "def get_data(json_obj):    \n",
    "    for item in json_obj['results']:\n",
    "        js = {}\n",
    "        js['name'] = item['name']\n",
    "        js['lat'] = item['location']['lat']\n",
    "        js['lng'] = item['location']['lng']\n",
    "        yield js"
   ]
  },
  {
   "cell_type": "code",
   "execution_count": 37,
   "metadata": {},
   "outputs": [
    {
     "data": {
      "text/html": [
       "<div>\n",
       "<style scoped>\n",
       "    .dataframe tbody tr th:only-of-type {\n",
       "        vertical-align: middle;\n",
       "    }\n",
       "\n",
       "    .dataframe tbody tr th {\n",
       "        vertical-align: top;\n",
       "    }\n",
       "\n",
       "    .dataframe thead th {\n",
       "        text-align: right;\n",
       "    }\n",
       "</style>\n",
       "<table border=\"1\" class=\"dataframe\">\n",
       "  <thead>\n",
       "    <tr style=\"text-align: right;\">\n",
       "      <th></th>\n",
       "      <th>name</th>\n",
       "      <th>lat</th>\n",
       "      <th>lng</th>\n",
       "    </tr>\n",
       "  </thead>\n",
       "  <tbody>\n",
       "    <tr>\n",
       "      <td>0</td>\n",
       "      <td>中国银行(安定门外支行)</td>\n",
       "      <td>39.958051</td>\n",
       "      <td>116.413457</td>\n",
       "    </tr>\n",
       "    <tr>\n",
       "      <td>1</td>\n",
       "      <td>中国工商银行(北京东华门支行)</td>\n",
       "      <td>39.921373</td>\n",
       "      <td>116.411402</td>\n",
       "    </tr>\n",
       "    <tr>\n",
       "      <td>2</td>\n",
       "      <td>交通银行(北京和平里支行)</td>\n",
       "      <td>39.968787</td>\n",
       "      <td>116.410049</td>\n",
       "    </tr>\n",
       "    <tr>\n",
       "      <td>3</td>\n",
       "      <td>中国工商银行(北京和平北路东口支行)</td>\n",
       "      <td>39.968629</td>\n",
       "      <td>116.410245</td>\n",
       "    </tr>\n",
       "    <tr>\n",
       "      <td>4</td>\n",
       "      <td>北京银行(中轴路支行)</td>\n",
       "      <td>39.957382</td>\n",
       "      <td>116.404191</td>\n",
       "    </tr>\n",
       "  </tbody>\n",
       "</table>\n",
       "</div>"
      ],
      "text/plain": [
       "                 name        lat         lng\n",
       "0        中国银行(安定门外支行)  39.958051  116.413457\n",
       "1     中国工商银行(北京东华门支行)  39.921373  116.411402\n",
       "2       交通银行(北京和平里支行)  39.968787  116.410049\n",
       "3  中国工商银行(北京和平北路东口支行)  39.968629  116.410245\n",
       "4         北京银行(中轴路支行)  39.957382  116.404191"
      ]
     },
     "execution_count": 37,
     "metadata": {},
     "output_type": "execute_result"
    }
   ],
   "source": [
    "pd.DataFrame(get_data(json_obj)).head()"
   ]
  },
  {
   "cell_type": "code",
   "execution_count": 15,
   "metadata": {
    "scrolled": false
   },
   "outputs": [
    {
     "name": "stdout",
     "output_type": "stream",
     "text": [
      "小学\n",
      "0 http://api.map.baidu.com/place/v2/search?query=小学&bounds=39.915,116.404,39.975,116.414&output=json&ak=VYt6ipe4cG9t1CpURQr58ulXep2pcpY6&page_size=20&page_num=0\n",
      "1 http://api.map.baidu.com/place/v2/search?query=小学&bounds=39.915,116.404,39.975,116.414&output=json&ak=VYt6ipe4cG9t1CpURQr58ulXep2pcpY6&page_size=20&page_num=1\n",
      "The data all has been processed!\n",
      "               name        lat         lng\n",
      "0  北京市第一七一中学附属青年湖小学  39.963150  116.404876\n",
      "1           安华里第一小学  39.972813  116.405813\n",
      "2       北京市东城区分司厅小学  39.949670  116.412018\n",
      "3     北京市东城区黑芝麻胡同小学  39.944922  116.408148\n",
      "4            北锣鼓巷小学  39.954068  116.408069\n",
      "5      北京市东城区帽儿胡同小学  39.942804  116.406915\n",
      "6      灯市口小学北池子小学校区  39.925596  116.409736\n",
      "7          东城区织染局小学  39.937882  116.410996\n",
      "8     北京市东城区黑芝麻梧桐小学  39.944701  116.407457\n",
      "9            柴棒二十三号  39.952619  116.413468\n",
      "中学\n",
      "0 http://api.map.baidu.com/place/v2/search?query=中学&bounds=39.915,116.404,39.975,116.414&output=json&ak=VYt6ipe4cG9t1CpURQr58ulXep2pcpY6&page_size=20&page_num=0\n",
      "1 http://api.map.baidu.com/place/v2/search?query=中学&bounds=39.915,116.404,39.975,116.414&output=json&ak=VYt6ipe4cG9t1CpURQr58ulXep2pcpY6&page_size=20&page_num=1\n",
      "The data all has been processed!\n",
      "                name        lat         lng\n",
      "0          北京市第二十七中学  39.922633  116.411460\n",
      "1          北京市第六十五中学  39.927608  116.411612\n",
      "2            北京市第一中学  39.953763  116.406613\n",
      "3          北京市第五中学分校  39.940948  116.404478\n",
      "4          北京市第五中学分校  39.946487  116.407737\n",
      "5   北京国际职业教育学校(鼓楼校区)  39.952186  116.404901\n",
      "6      中国社会科学院附属实验学校  39.953276  116.406048\n",
      "7    北京市五路居第一中学安华里校区  39.972818  116.405789\n",
      "8       北京市第一中学-经正书院  39.953238  116.406050\n",
      "9        北京市财经学校(东址)  39.949537  116.412906\n",
      "10    北京市东城区职业教育中心学校  39.971760  116.411308\n",
      "11         京师公立第一中学校  39.953467  116.406028\n",
      "12         中国教科院实验学校  39.971794  116.412673\n",
      "银行\n",
      "0 http://api.map.baidu.com/place/v2/search?query=银行&bounds=39.915,116.404,39.975,116.414&output=json&ak=VYt6ipe4cG9t1CpURQr58ulXep2pcpY6&page_size=20&page_num=0\n",
      "1 http://api.map.baidu.com/place/v2/search?query=银行&bounds=39.915,116.404,39.975,116.414&output=json&ak=VYt6ipe4cG9t1CpURQr58ulXep2pcpY6&page_size=20&page_num=1\n",
      "2 http://api.map.baidu.com/place/v2/search?query=银行&bounds=39.915,116.404,39.975,116.414&output=json&ak=VYt6ipe4cG9t1CpURQr58ulXep2pcpY6&page_size=20&page_num=2\n",
      "The data all has been processed!\n",
      "                                name        lat         lng\n",
      "0                       中国银行(安定门外支行)  39.958051  116.413457\n",
      "1                    中国工商银行(北京东华门支行)  39.921373  116.411402\n",
      "2                      交通银行(北京和平里支行)  39.968787  116.410049\n",
      "3                 中国工商银行(北京和平北路东口支行)  39.968629  116.410245\n",
      "4                        北京银行(中轴路支行)  39.957382  116.404191\n",
      "5                     中国工商银行(北京地坛支行)  39.966786  116.413857\n",
      "6                      中国民生银行(安定门支行)  39.971315  116.413576\n",
      "7             中国工商银行24小时自助银行(鼓楼东大街店)  39.947070  116.407390\n",
      "8             中国工商银行(北京和平里支行安德公路储蓄所)  39.958072  116.407072\n",
      "9                         北京银行(沙滩支行)  39.929203  116.412428\n",
      "10                     中国进出口银行(北京分行)  39.934898  116.411758\n",
      "11                            中国民生银行  39.963635  116.409989\n",
      "12            中国银行24小时自助银行服务(东华门大街店)  39.921443  116.410409\n",
      "13                     中国民生银行(什刹海支行)  39.939504  116.411636\n",
      "14  中国工商银行24小时自助银行服务(北京和平里支行安德公路储蓄所)  39.958004  116.407134\n",
      "15               北京银行24小时自助银行(中轴路支行)  39.957469  116.404178\n",
      "16            中国工商银行24小时自助银行(北街地坛支行)  39.966726  116.413570\n",
      "17                     中国工商银行(黄寺分理处)  39.966678  116.406210\n",
      "18            中国工商银行24小时自助银行服务(南锣鼓巷)  39.943182  116.409373\n",
      "19            中国工商银行24小时自助银行(安德里北街店)  39.963383  116.408833\n",
      "20    中国工商银行离行式自助服务区(北京分行东城支行安定门外大街)  39.963608  116.413037\n",
      "21       中国工商银行附行式自助银行(北京分行王府井支行东华门)  39.921398  116.411576\n",
      "22        中国工商银行24小时自助银行(北京和平北路东口支行)  39.968650  116.410309\n",
      "23                北京银行24小时自助银行(沙滩支行)  39.929248  116.412427\n",
      "24             中国民生银行24小时自助银行(什刹海支行)  39.939541  116.411716\n",
      "25           中国民生银行24小时自助银行服务(安定门支行)  39.971709  116.413792\n",
      "26                    中国工商银行(自动柜员机店)  39.924803  116.406137\n",
      "27                    中国银行ATM(故宫东门外)  39.925401  116.405044\n",
      "28           交通银行24小时自助银行服务(北京和平里支行)  39.968791  116.410043\n",
      "done\n"
     ]
    }
   ],
   "source": [
    "def get_urls(query,bounds):\n",
    "    urls = []\n",
    "    for i in range(20):\n",
    "        url = 'http://api.map.baidu.com/place/v2/search?query={}&bounds={}&output=json&\\\n",
    "ak=VYt6ipe4cG9t1CpURQr58ulXep2pcpY6&page_size=20&page_num={}'.format(query,bounds,i)\n",
    "        urls.append(url)\n",
    "    return urls\n",
    "\n",
    "def get_data(query,bounds):\n",
    "    for i,url in enumerate(get_urls(query,bounds)):\n",
    "        try:\n",
    "            print(i,url)\n",
    "            js_obj = requests.get(url).text\n",
    "            data = json.loads(js_obj)\n",
    "            if data['total'] != 0 :\n",
    "                for item in data['results']:\n",
    "                    js = {}\n",
    "                    js['name'] = item['name']\n",
    "                    js['lat'] = item['location']['lat']\n",
    "                    js['lng'] = item['location']['lng']\n",
    "                    yield js\n",
    "            else:\n",
    "                print('The data all has been processed!')\n",
    "                break\n",
    "            with open(r'../../file/subject/chapter5/log.txt','a') as file:\n",
    "                file.write(time.ctime() + ' station:done'+'\\n'+ url + '\\n')\n",
    "        except:\n",
    "            print('error!')\n",
    "            with open(r'../../file/subject/chapter5/log.txt','a') as file:\n",
    "                file.write(time.ctime() + ' station:error' +'\\n' + url + '\\n')\n",
    "                \n",
    "if __name__ == '__main__':\n",
    "    bounds = '39.915,116.404,39.975,116.414'\n",
    "    for query in ['小学','中学','银行']:\n",
    "        print(query)\n",
    "        dt = get_data(query,bounds)\n",
    "        print(pd.DataFrame(dt)) \n",
    "    print('done')"
   ]
  },
  {
   "cell_type": "code",
   "execution_count": 14,
   "metadata": {},
   "outputs": [
    {
     "data": {
      "text/plain": [
       "'Fri Jun  5 22:53:19 2020'"
      ]
     },
     "execution_count": 14,
     "metadata": {},
     "output_type": "execute_result"
    }
   ],
   "source": [
    "time.ctime()"
   ]
  },
  {
   "cell_type": "code",
   "execution_count": null,
   "metadata": {},
   "outputs": [],
   "source": []
  }
 ],
 "metadata": {
  "kernelspec": {
   "display_name": "Python 3",
   "language": "python",
   "name": "python3"
  },
  "language_info": {
   "codemirror_mode": {
    "name": "ipython",
    "version": 3
   },
   "file_extension": ".py",
   "mimetype": "text/x-python",
   "name": "python",
   "nbconvert_exporter": "python",
   "pygments_lexer": "ipython3",
   "version": "3.7.4"
  }
 },
 "nbformat": 4,
 "nbformat_minor": 2
}
