{
 "cells": [
  {
   "cell_type": "code",
   "execution_count": 2,
   "metadata": {},
   "outputs": [],
   "source": [
    "import pandas as pd\n",
    "import numpy as np\n",
    "import matplotlib.pyplot as plt\n",
    "%matplotlib inline"
   ]
  },
  {
   "cell_type": "code",
   "execution_count": 18,
   "metadata": {},
   "outputs": [],
   "source": [
    "df = pd.read_json(r'Project/art_crawl/article/article/spiders/author_use.json')"
   ]
  },
  {
   "cell_type": "code",
   "execution_count": 20,
   "metadata": {},
   "outputs": [
    {
     "data": {
      "text/html": [
       "<div>\n",
       "<style scoped>\n",
       "    .dataframe tbody tr th:only-of-type {\n",
       "        vertical-align: middle;\n",
       "    }\n",
       "\n",
       "    .dataframe tbody tr th {\n",
       "        vertical-align: top;\n",
       "    }\n",
       "\n",
       "    .dataframe thead th {\n",
       "        text-align: right;\n",
       "    }\n",
       "</style>\n",
       "<table border=\"1\" class=\"dataframe\">\n",
       "  <thead>\n",
       "    <tr style=\"text-align: right;\">\n",
       "      <th></th>\n",
       "      <th>title</th>\n",
       "      <th>abstract</th>\n",
       "      <th>author</th>\n",
       "      <th>ins</th>\n",
       "      <th>author_num</th>\n",
       "      <th>date</th>\n",
       "      <th>keywords</th>\n",
       "      <th>fund</th>\n",
       "      <th>participation</th>\n",
       "      <th>Unnamed: 0</th>\n",
       "      <th>province</th>\n",
       "      <th>city</th>\n",
       "    </tr>\n",
       "  </thead>\n",
       "  <tbody>\n",
       "    <tr>\n",
       "      <td>0</td>\n",
       "      <td>新型城镇化的关键改革与突破口选择</td>\n",
       "      <td>新型城镇化的实施需要一个统筹城乡的系统性改革框架。目前已经出台的改革方案和政策仍然存在较为严...</td>\n",
       "      <td>王瑞民</td>\n",
       "      <td>中国人民大学</td>\n",
       "      <td>14</td>\n",
       "      <td>2015年01期</td>\n",
       "      <td>[新型城镇化, 户籍制度, 城中村土地制度改革, 工业用地重整, 农地整理]</td>\n",
       "      <td>[]</td>\n",
       "      <td>0.50</td>\n",
       "      <td>0</td>\n",
       "      <td>北京</td>\n",
       "      <td>北京</td>\n",
       "    </tr>\n",
       "    <tr>\n",
       "      <td>1</td>\n",
       "      <td>新型城镇化的关键改革与突破口选择</td>\n",
       "      <td>新型城镇化的实施需要一个统筹城乡的系统性改革框架。目前已经出台的改革方案和政策仍然存在较为严...</td>\n",
       "      <td>陶然</td>\n",
       "      <td>中国人民大学</td>\n",
       "      <td>81</td>\n",
       "      <td>2015年01期</td>\n",
       "      <td>[新型城镇化, 户籍制度, 城中村土地制度改革, 工业用地重整, 农地整理]</td>\n",
       "      <td>[]</td>\n",
       "      <td>0.50</td>\n",
       "      <td>0</td>\n",
       "      <td>北京</td>\n",
       "      <td>北京</td>\n",
       "    </tr>\n",
       "    <tr>\n",
       "      <td>2</td>\n",
       "      <td>规划教育——从学位教育到职业发展</td>\n",
       "      <td>&lt;正&gt;非常欢迎大家参加这个关于教育和人才的论坛。参加组织这个讨论的有四家机构的代表,城市规划...</td>\n",
       "      <td>叶裕民</td>\n",
       "      <td>中国人民大学</td>\n",
       "      <td>120</td>\n",
       "      <td>2015年01期</td>\n",
       "      <td>[]</td>\n",
       "      <td>[]</td>\n",
       "      <td>1.00</td>\n",
       "      <td>0</td>\n",
       "      <td>北京</td>\n",
       "      <td>北京</td>\n",
       "    </tr>\n",
       "    <tr>\n",
       "      <td>3</td>\n",
       "      <td>我国乡村治理的本原模式研究——以巴林左旗后兴隆地村为例</td>\n",
       "      <td>乡村治理多方参与主体包括政府、企业、规划师和农民,在乡村治理公共政策制定实施过程中,我国普遍...</td>\n",
       "      <td>郐艳丽</td>\n",
       "      <td>中国人民大学</td>\n",
       "      <td>49</td>\n",
       "      <td>2015年06期</td>\n",
       "      <td>[乡村治理, 本原模式, 农民置上, 农民置下]</td>\n",
       "      <td>[]</td>\n",
       "      <td>1.00</td>\n",
       "      <td>0</td>\n",
       "      <td>北京</td>\n",
       "      <td>北京</td>\n",
       "    </tr>\n",
       "    <tr>\n",
       "      <td>4</td>\n",
       "      <td>城市群空间集聚和扩散的特征与机制——以长三角城市群、武汉城市群和成渝城市群为例</td>\n",
       "      <td>城市群在国家和地区发展中具有重要的经济社会地位,也是区域空间格局演变的重要形式。本文以分别位...</td>\n",
       "      <td>刘涛</td>\n",
       "      <td>中国人民大学</td>\n",
       "      <td>48</td>\n",
       "      <td>2016年02期</td>\n",
       "      <td>[城市群, 集聚, 扩散, 驱动机制]</td>\n",
       "      <td>[国家自然科学基金项目(41371166)阶段性成果]</td>\n",
       "      <td>0.33</td>\n",
       "      <td>0</td>\n",
       "      <td>北京</td>\n",
       "      <td>北京</td>\n",
       "    </tr>\n",
       "  </tbody>\n",
       "</table>\n",
       "</div>"
      ],
      "text/plain": [
       "                                     title  \\\n",
       "0                         新型城镇化的关键改革与突破口选择   \n",
       "1                         新型城镇化的关键改革与突破口选择   \n",
       "2                         规划教育——从学位教育到职业发展   \n",
       "3              我国乡村治理的本原模式研究——以巴林左旗后兴隆地村为例   \n",
       "4  城市群空间集聚和扩散的特征与机制——以长三角城市群、武汉城市群和成渝城市群为例   \n",
       "\n",
       "                                            abstract author     ins  \\\n",
       "0  新型城镇化的实施需要一个统筹城乡的系统性改革框架。目前已经出台的改革方案和政策仍然存在较为严...    王瑞民  中国人民大学   \n",
       "1  新型城镇化的实施需要一个统筹城乡的系统性改革框架。目前已经出台的改革方案和政策仍然存在较为严...     陶然  中国人民大学   \n",
       "2  <正>非常欢迎大家参加这个关于教育和人才的论坛。参加组织这个讨论的有四家机构的代表,城市规划...    叶裕民  中国人民大学   \n",
       "3  乡村治理多方参与主体包括政府、企业、规划师和农民,在乡村治理公共政策制定实施过程中,我国普遍...    郐艳丽  中国人民大学   \n",
       "4  城市群在国家和地区发展中具有重要的经济社会地位,也是区域空间格局演变的重要形式。本文以分别位...     刘涛  中国人民大学   \n",
       "\n",
       "   author_num      date                                keywords  \\\n",
       "0          14  2015年01期  [新型城镇化, 户籍制度, 城中村土地制度改革, 工业用地重整, 农地整理]   \n",
       "1          81  2015年01期  [新型城镇化, 户籍制度, 城中村土地制度改革, 工业用地重整, 农地整理]   \n",
       "2         120  2015年01期                                      []   \n",
       "3          49  2015年06期                [乡村治理, 本原模式, 农民置上, 农民置下]   \n",
       "4          48  2016年02期                     [城市群, 集聚, 扩散, 驱动机制]   \n",
       "\n",
       "                          fund  participation  Unnamed: 0 province city  \n",
       "0                           []           0.50           0       北京   北京  \n",
       "1                           []           0.50           0       北京   北京  \n",
       "2                           []           1.00           0       北京   北京  \n",
       "3                           []           1.00           0       北京   北京  \n",
       "4  [国家自然科学基金项目(41371166)阶段性成果]           0.33           0       北京   北京  "
      ]
     },
     "execution_count": 20,
     "metadata": {},
     "output_type": "execute_result"
    }
   ],
   "source": [
    "df.head()"
   ]
  },
  {
   "cell_type": "code",
   "execution_count": 22,
   "metadata": {},
   "outputs": [],
   "source": [
    "#数据去重\n",
    "df = df.drop_duplicates(subset='title')"
   ]
  },
  {
   "cell_type": "code",
   "execution_count": 23,
   "metadata": {
    "scrolled": false
   },
   "outputs": [
    {
     "data": {
      "text/html": [
       "<div>\n",
       "<style scoped>\n",
       "    .dataframe tbody tr th:only-of-type {\n",
       "        vertical-align: middle;\n",
       "    }\n",
       "\n",
       "    .dataframe tbody tr th {\n",
       "        vertical-align: top;\n",
       "    }\n",
       "\n",
       "    .dataframe thead th {\n",
       "        text-align: right;\n",
       "    }\n",
       "</style>\n",
       "<table border=\"1\" class=\"dataframe\">\n",
       "  <thead>\n",
       "    <tr style=\"text-align: right;\">\n",
       "      <th></th>\n",
       "      <th>title</th>\n",
       "      <th>keywords</th>\n",
       "      <th>date</th>\n",
       "    </tr>\n",
       "  </thead>\n",
       "  <tbody>\n",
       "    <tr>\n",
       "      <td>0</td>\n",
       "      <td>新型城镇化的关键改革与突破口选择</td>\n",
       "      <td>[新型城镇化, 户籍制度, 城中村土地制度改革, 工业用地重整, 农地整理]</td>\n",
       "      <td>2015年01期</td>\n",
       "    </tr>\n",
       "    <tr>\n",
       "      <td>2</td>\n",
       "      <td>规划教育——从学位教育到职业发展</td>\n",
       "      <td>[]</td>\n",
       "      <td>2015年01期</td>\n",
       "    </tr>\n",
       "    <tr>\n",
       "      <td>3</td>\n",
       "      <td>我国乡村治理的本原模式研究——以巴林左旗后兴隆地村为例</td>\n",
       "      <td>[乡村治理, 本原模式, 农民置上, 农民置下]</td>\n",
       "      <td>2015年06期</td>\n",
       "    </tr>\n",
       "    <tr>\n",
       "      <td>4</td>\n",
       "      <td>城市群空间集聚和扩散的特征与机制——以长三角城市群、武汉城市群和成渝城市群为例</td>\n",
       "      <td>[城市群, 集聚, 扩散, 驱动机制]</td>\n",
       "      <td>2016年02期</td>\n",
       "    </tr>\n",
       "    <tr>\n",
       "      <td>5</td>\n",
       "      <td>面向存量规划的我国城市公共物品生产模式变革</td>\n",
       "      <td>[存量规划, 城市公共物品, 生产模式, 激励性区划, 政策与制度建议]</td>\n",
       "      <td>2016年03期</td>\n",
       "    </tr>\n",
       "  </tbody>\n",
       "</table>\n",
       "</div>"
      ],
      "text/plain": [
       "                                     title  \\\n",
       "0                         新型城镇化的关键改革与突破口选择   \n",
       "2                         规划教育——从学位教育到职业发展   \n",
       "3              我国乡村治理的本原模式研究——以巴林左旗后兴隆地村为例   \n",
       "4  城市群空间集聚和扩散的特征与机制——以长三角城市群、武汉城市群和成渝城市群为例   \n",
       "5                    面向存量规划的我国城市公共物品生产模式变革   \n",
       "\n",
       "                                 keywords      date  \n",
       "0  [新型城镇化, 户籍制度, 城中村土地制度改革, 工业用地重整, 农地整理]  2015年01期  \n",
       "2                                      []  2015年01期  \n",
       "3                [乡村治理, 本原模式, 农民置上, 农民置下]  2015年06期  \n",
       "4                     [城市群, 集聚, 扩散, 驱动机制]  2016年02期  \n",
       "5    [存量规划, 城市公共物品, 生产模式, 激励性区划, 政策与制度建议]  2016年03期  "
      ]
     },
     "execution_count": 23,
     "metadata": {},
     "output_type": "execute_result"
    }
   ],
   "source": [
    "df = df[['title','keywords','date']]\n",
    "df.head()"
   ]
  },
  {
   "cell_type": "code",
   "execution_count": 27,
   "metadata": {},
   "outputs": [],
   "source": [
    "#日期变数字\n",
    "df.date = df.date.apply(lambda x:int(x.split('年')[0]))"
   ]
  },
  {
   "cell_type": "code",
   "execution_count": 28,
   "metadata": {},
   "outputs": [
    {
     "data": {
      "text/html": [
       "<div>\n",
       "<style scoped>\n",
       "    .dataframe tbody tr th:only-of-type {\n",
       "        vertical-align: middle;\n",
       "    }\n",
       "\n",
       "    .dataframe tbody tr th {\n",
       "        vertical-align: top;\n",
       "    }\n",
       "\n",
       "    .dataframe thead th {\n",
       "        text-align: right;\n",
       "    }\n",
       "</style>\n",
       "<table border=\"1\" class=\"dataframe\">\n",
       "  <thead>\n",
       "    <tr style=\"text-align: right;\">\n",
       "      <th></th>\n",
       "      <th>title</th>\n",
       "      <th>keywords</th>\n",
       "      <th>date</th>\n",
       "    </tr>\n",
       "  </thead>\n",
       "  <tbody>\n",
       "    <tr>\n",
       "      <td>0</td>\n",
       "      <td>新型城镇化的关键改革与突破口选择</td>\n",
       "      <td>[新型城镇化, 户籍制度, 城中村土地制度改革, 工业用地重整, 农地整理]</td>\n",
       "      <td>2015</td>\n",
       "    </tr>\n",
       "    <tr>\n",
       "      <td>2</td>\n",
       "      <td>规划教育——从学位教育到职业发展</td>\n",
       "      <td>[]</td>\n",
       "      <td>2015</td>\n",
       "    </tr>\n",
       "    <tr>\n",
       "      <td>3</td>\n",
       "      <td>我国乡村治理的本原模式研究——以巴林左旗后兴隆地村为例</td>\n",
       "      <td>[乡村治理, 本原模式, 农民置上, 农民置下]</td>\n",
       "      <td>2015</td>\n",
       "    </tr>\n",
       "    <tr>\n",
       "      <td>4</td>\n",
       "      <td>城市群空间集聚和扩散的特征与机制——以长三角城市群、武汉城市群和成渝城市群为例</td>\n",
       "      <td>[城市群, 集聚, 扩散, 驱动机制]</td>\n",
       "      <td>2016</td>\n",
       "    </tr>\n",
       "    <tr>\n",
       "      <td>5</td>\n",
       "      <td>面向存量规划的我国城市公共物品生产模式变革</td>\n",
       "      <td>[存量规划, 城市公共物品, 生产模式, 激励性区划, 政策与制度建议]</td>\n",
       "      <td>2016</td>\n",
       "    </tr>\n",
       "  </tbody>\n",
       "</table>\n",
       "</div>"
      ],
      "text/plain": [
       "                                     title  \\\n",
       "0                         新型城镇化的关键改革与突破口选择   \n",
       "2                         规划教育——从学位教育到职业发展   \n",
       "3              我国乡村治理的本原模式研究——以巴林左旗后兴隆地村为例   \n",
       "4  城市群空间集聚和扩散的特征与机制——以长三角城市群、武汉城市群和成渝城市群为例   \n",
       "5                    面向存量规划的我国城市公共物品生产模式变革   \n",
       "\n",
       "                                 keywords  date  \n",
       "0  [新型城镇化, 户籍制度, 城中村土地制度改革, 工业用地重整, 农地整理]  2015  \n",
       "2                                      []  2015  \n",
       "3                [乡村治理, 本原模式, 农民置上, 农民置下]  2015  \n",
       "4                     [城市群, 集聚, 扩散, 驱动机制]  2016  \n",
       "5    [存量规划, 城市公共物品, 生产模式, 激励性区划, 政策与制度建议]  2016  "
      ]
     },
     "execution_count": 28,
     "metadata": {},
     "output_type": "execute_result"
    }
   ],
   "source": [
    "df.head()"
   ]
  },
  {
   "cell_type": "code",
   "execution_count": 79,
   "metadata": {},
   "outputs": [
    {
     "data": {
      "text/html": [
       "<div style=\"float: left;padding: 10px;\">\n",
       "    <p style='font-family:\"Courier New\",Courier,monospace'>a1</p><div>\n",
       "<style scoped>\n",
       "    .dataframe tbody tr th:only-of-type {\n",
       "        vertical-align: middle;\n",
       "    }\n",
       "\n",
       "    .dataframe tbody tr th {\n",
       "        vertical-align: top;\n",
       "    }\n",
       "\n",
       "    .dataframe thead th {\n",
       "        text-align: right;\n",
       "    }\n",
       "</style>\n",
       "<table border=\"1\" class=\"dataframe\">\n",
       "  <thead>\n",
       "    <tr style=\"text-align: right;\">\n",
       "      <th></th>\n",
       "      <th>a</th>\n",
       "      <th>b</th>\n",
       "    </tr>\n",
       "  </thead>\n",
       "  <tbody>\n",
       "    <tr>\n",
       "      <td>0</td>\n",
       "      <td>1</td>\n",
       "      <td>2</td>\n",
       "    </tr>\n",
       "    <tr>\n",
       "      <td>1</td>\n",
       "      <td>2</td>\n",
       "      <td>3</td>\n",
       "    </tr>\n",
       "    <tr>\n",
       "      <td>2</td>\n",
       "      <td>[3, 4]</td>\n",
       "      <td>[4, 5]</td>\n",
       "    </tr>\n",
       "  </tbody>\n",
       "</table>\n",
       "</div>\n",
       "    </div>\n",
       "<div style=\"float: left;padding: 10px;\">\n",
       "    <p style='font-family:\"Courier New\",Courier,monospace'>a2</p><div>\n",
       "<style scoped>\n",
       "    .dataframe tbody tr th:only-of-type {\n",
       "        vertical-align: middle;\n",
       "    }\n",
       "\n",
       "    .dataframe tbody tr th {\n",
       "        vertical-align: top;\n",
       "    }\n",
       "\n",
       "    .dataframe thead th {\n",
       "        text-align: right;\n",
       "    }\n",
       "</style>\n",
       "<table border=\"1\" class=\"dataframe\">\n",
       "  <thead>\n",
       "    <tr style=\"text-align: right;\">\n",
       "      <th></th>\n",
       "      <th>a</th>\n",
       "      <th>b</th>\n",
       "      <th>c</th>\n",
       "    </tr>\n",
       "  </thead>\n",
       "  <tbody>\n",
       "    <tr>\n",
       "      <td>0</td>\n",
       "      <td>1</td>\n",
       "      <td>2</td>\n",
       "      <td>[3, 4]</td>\n",
       "    </tr>\n",
       "    <tr>\n",
       "      <td>1</td>\n",
       "      <td>2</td>\n",
       "      <td>3</td>\n",
       "      <td>[4, 5]</td>\n",
       "    </tr>\n",
       "  </tbody>\n",
       "</table>\n",
       "</div>\n",
       "    </div>\n",
       "<div style=\"float: left;padding: 10px;\">\n",
       "    <p style='font-family:\"Courier New\",Courier,monospace'>a3</p><div>\n",
       "<style scoped>\n",
       "    .dataframe tbody tr th:only-of-type {\n",
       "        vertical-align: middle;\n",
       "    }\n",
       "\n",
       "    .dataframe tbody tr th {\n",
       "        vertical-align: top;\n",
       "    }\n",
       "\n",
       "    .dataframe thead th {\n",
       "        text-align: right;\n",
       "    }\n",
       "</style>\n",
       "<table border=\"1\" class=\"dataframe\">\n",
       "  <thead>\n",
       "    <tr style=\"text-align: right;\">\n",
       "      <th></th>\n",
       "      <th>a</th>\n",
       "    </tr>\n",
       "  </thead>\n",
       "  <tbody>\n",
       "    <tr>\n",
       "      <td>0</td>\n",
       "      <td>1</td>\n",
       "    </tr>\n",
       "    <tr>\n",
       "      <td>1</td>\n",
       "      <td>2</td>\n",
       "    </tr>\n",
       "    <tr>\n",
       "      <td>2</td>\n",
       "      <td>[3, 4]</td>\n",
       "    </tr>\n",
       "    <tr>\n",
       "      <td>3</td>\n",
       "      <td>2</td>\n",
       "    </tr>\n",
       "    <tr>\n",
       "      <td>4</td>\n",
       "      <td>3</td>\n",
       "    </tr>\n",
       "    <tr>\n",
       "      <td>5</td>\n",
       "      <td>[4, 5]</td>\n",
       "    </tr>\n",
       "  </tbody>\n",
       "</table>\n",
       "</div>\n",
       "    </div>"
      ],
      "text/plain": [
       "a1\n",
       "        a       b\n",
       "0       1       2\n",
       "1       2       3\n",
       "2  [3, 4]  [4, 5]\n",
       "\n",
       "a2\n",
       "   a  b       c\n",
       "0  1  2  [3, 4]\n",
       "1  2  3  [4, 5]\n",
       "\n",
       "a3\n",
       "        a\n",
       "0       1\n",
       "1       2\n",
       "2  [3, 4]\n",
       "3       2\n",
       "4       3\n",
       "5  [4, 5]"
      ]
     },
     "execution_count": 79,
     "metadata": {},
     "output_type": "execute_result"
    }
   ],
   "source": [
    "class display():\n",
    "    template=\"\"\"<div style=\"float: left;padding: 10px;\">\n",
    "    <p style='font-family:\"Courier New\",Courier,monospace'>{0}</p>{1}\n",
    "    </div>\"\"\"\n",
    "    def __init__(self,*args):\n",
    "        self.args = args\n",
    "    \n",
    "    def _repr_html_(self):\n",
    "        return '\\n'.join(self.template.format(a,eval(a)._repr_html_())\n",
    "                         for a in self.args)\n",
    "    \n",
    "    def __repr__(self):\n",
    "        return '\\n\\n'.join(a + '\\n' + repr(eval(a))\n",
    "                          for a in self.args)\n",
    "a = np.array((1,2,[3,4]))\n",
    "b = np.array((2,3,[4,5]))\n",
    "a1 = pd.DataFrame(np.column_stack((a,b)),columns=['a','b'])\n",
    "a2 = pd.DataFrame(np.vstack((a,b)),columns=['a','b','c'])\n",
    "a3 = pd.DataFrame(np.hstack((a,b)),columns=['a',])\n",
    "display('a1','a2','a3')"
   ]
  },
  {
   "cell_type": "code",
   "execution_count": 83,
   "metadata": {},
   "outputs": [
    {
     "data": {
      "text/plain": [
       "array([1, 1, 2, 2], dtype=object)"
      ]
     },
     "execution_count": 83,
     "metadata": {},
     "output_type": "execute_result"
    }
   ],
   "source": [
    "a2.a.values.repeat(2)"
   ]
  },
  {
   "cell_type": "code",
   "execution_count": 84,
   "metadata": {},
   "outputs": [
    {
     "data": {
      "text/plain": [
       "0    1\n",
       "0    1\n",
       "1    2\n",
       "1    2\n",
       "Name: a, dtype: object"
      ]
     },
     "execution_count": 84,
     "metadata": {},
     "output_type": "execute_result"
    }
   ],
   "source": [
    "a2.a.repeat(2)"
   ]
  },
  {
   "cell_type": "code",
   "execution_count": 85,
   "metadata": {
    "scrolled": true
   },
   "outputs": [
    {
     "data": {
      "text/plain": [
       "array([1, 1, 2, 2], dtype=object)"
      ]
     },
     "execution_count": 85,
     "metadata": {},
     "output_type": "execute_result"
    }
   ],
   "source": [
    "a2.a.values.repeat(2,axis=0)"
   ]
  },
  {
   "cell_type": "code",
   "execution_count": 86,
   "metadata": {},
   "outputs": [
    {
     "data": {
      "text/plain": [
       "array([1, 1, 2, 2], dtype=object)"
      ]
     },
     "execution_count": 86,
     "metadata": {},
     "output_type": "execute_result"
    }
   ],
   "source": [
    "a2.a.values.repeat(len(a2.c))"
   ]
  },
  {
   "cell_type": "code",
   "execution_count": null,
   "metadata": {},
   "outputs": [],
   "source": []
  },
  {
   "cell_type": "code",
   "execution_count": null,
   "metadata": {},
   "outputs": [],
   "source": []
  },
  {
   "cell_type": "code",
   "execution_count": null,
   "metadata": {},
   "outputs": [],
   "source": [
    "#DataFrame列表对象拆分\n",
    "df_keywords = pd.DataFrame(\\\n",
    "                          np.column_stack((\\\n",
    "                                          df[['title','date']].values.repeat(),df.))\n",
    "                          )"
   ]
  },
  {
   "cell_type": "code",
   "execution_count": null,
   "metadata": {},
   "outputs": [],
   "source": []
  }
 ],
 "metadata": {
  "kernelspec": {
   "display_name": "Python 3",
   "language": "python",
   "name": "python3"
  },
  "language_info": {
   "codemirror_mode": {
    "name": "ipython",
    "version": 3
   },
   "file_extension": ".py",
   "mimetype": "text/x-python",
   "name": "python",
   "nbconvert_exporter": "python",
   "pygments_lexer": "ipython3",
   "version": "3.7.4"
  }
 },
 "nbformat": 4,
 "nbformat_minor": 2
}
