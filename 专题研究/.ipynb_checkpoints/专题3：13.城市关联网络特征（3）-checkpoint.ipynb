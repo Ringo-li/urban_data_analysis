{
 "cells": [
  {
   "cell_type": "code",
   "execution_count": 1,
   "metadata": {},
   "outputs": [],
   "source": [
    "import pandas as pd\n",
    "import numpy as np\n",
    "import matplotlib.pyplot as plt\n",
    "import networkx as nx\n",
    "import geopandas as gpd\n",
    "%matplotlib inline"
   ]
  },
  {
   "cell_type": "markdown",
   "metadata": {},
   "source": [
    "### 1.前10对网络关联"
   ]
  },
  {
   "cell_type": "code",
   "execution_count": 2,
   "metadata": {},
   "outputs": [],
   "source": [
    "#step1.读取上市公司和子公司数据，并进行连接\n",
    "df_com = pd.read_excel(r'../../file/subject/chapter3/SSGScompany04.xlsx')\n",
    "df_son = pd.read_excel(r'../../file/subject/chapter3/company_info_all05.xlsx')\n",
    "df = pd.merge(df_son,df_com,left_on='上市公司名称',right_on='公司名称2').reset_index()"
   ]
  },
  {
   "cell_type": "code",
   "execution_count": 3,
   "metadata": {},
   "outputs": [],
   "source": [
    "#step2.筛选正常营业公司\n",
    "df['公司状态'] = df['公司状态'].apply(lambda x:'开业' if x == 0 else x)\n",
    "df = df[-df['公司状态'].str.startswith('吊销')]"
   ]
  },
  {
   "cell_type": "code",
   "execution_count": 4,
   "metadata": {},
   "outputs": [
    {
     "data": {
      "text/plain": [
       "Index(['index', 'Unnamed: 0_x', '公司名称_x', '上市公司名称', '公司状态', '注册资本', '上市公司投资比例',\n",
       "       'province_x', 'city_x', 'Unnamed: 0_y', 'Unnamed: 0.1', '公司名称_y', '地址',\n",
       "       '公司网址', '爬取页', '公司名称2', 'region', 'province_y', 'city_y'],\n",
       "      dtype='object')"
      ]
     },
     "execution_count": 4,
     "metadata": {},
     "output_type": "execute_result"
    }
   ],
   "source": [
    "df.columns"
   ]
  },
  {
   "cell_type": "code",
   "execution_count": 68,
   "metadata": {},
   "outputs": [],
   "source": [
    "#step3.筛选非同城公司以建立关联\n",
    "city_net = df[['city_x','city_y']].rename(columns={'city_x':'ZGS_city','city_y':'SSGS_city'})\n",
    "city_net['count'] = 1\n",
    "city_net = city_net[-(city_net['ZGS_city'] == city_net['SSGS_city'])]"
   ]
  },
  {
   "cell_type": "code",
   "execution_count": 69,
   "metadata": {},
   "outputs": [],
   "source": [
    "#step4.处理错误城市数据\n",
    "city_net = city_net[-(city_net.ZGS_city.isin([0,'','']) | city_net.ZGS_city.isna())]\n",
    "city_net.ZGS_city = city_net.ZGS_city.apply(lambda x:np.nan if x.isascii() else x)\n",
    "city_net.dropna(inplace=True)"
   ]
  },
  {
   "cell_type": "code",
   "execution_count": 76,
   "metadata": {},
   "outputs": [
    {
     "data": {
      "text/html": [
       "<div>\n",
       "<style scoped>\n",
       "    .dataframe tbody tr th:only-of-type {\n",
       "        vertical-align: middle;\n",
       "    }\n",
       "\n",
       "    .dataframe tbody tr th {\n",
       "        vertical-align: top;\n",
       "    }\n",
       "\n",
       "    .dataframe thead th {\n",
       "        text-align: right;\n",
       "    }\n",
       "</style>\n",
       "<table border=\"1\" class=\"dataframe\">\n",
       "  <thead>\n",
       "    <tr style=\"text-align: right;\">\n",
       "      <th></th>\n",
       "      <th>SSGS_city</th>\n",
       "      <th>ZGS_city</th>\n",
       "      <th>count</th>\n",
       "    </tr>\n",
       "  </thead>\n",
       "  <tbody>\n",
       "    <tr>\n",
       "      <td>1136</td>\n",
       "      <td>北京市</td>\n",
       "      <td>深圳市</td>\n",
       "      <td>885</td>\n",
       "    </tr>\n",
       "    <tr>\n",
       "      <td>952</td>\n",
       "      <td>北京市</td>\n",
       "      <td>上海市</td>\n",
       "      <td>423</td>\n",
       "    </tr>\n",
       "    <tr>\n",
       "      <td>181</td>\n",
       "      <td>上海市</td>\n",
       "      <td>深圳市</td>\n",
       "      <td>270</td>\n",
       "    </tr>\n",
       "    <tr>\n",
       "      <td>1026</td>\n",
       "      <td>北京市</td>\n",
       "      <td>天津市</td>\n",
       "      <td>239</td>\n",
       "    </tr>\n",
       "    <tr>\n",
       "      <td>5267</td>\n",
       "      <td>深圳市</td>\n",
       "      <td>北京市</td>\n",
       "      <td>224</td>\n",
       "    </tr>\n",
       "    <tr>\n",
       "      <td>5241</td>\n",
       "      <td>深圳市</td>\n",
       "      <td>上海市</td>\n",
       "      <td>218</td>\n",
       "    </tr>\n",
       "    <tr>\n",
       "      <td>1110</td>\n",
       "      <td>北京市</td>\n",
       "      <td>武汉市</td>\n",
       "      <td>176</td>\n",
       "    </tr>\n",
       "    <tr>\n",
       "      <td>1073</td>\n",
       "      <td>北京市</td>\n",
       "      <td>成都市</td>\n",
       "      <td>169</td>\n",
       "    </tr>\n",
       "    <tr>\n",
       "      <td>1225</td>\n",
       "      <td>北京市</td>\n",
       "      <td>重庆市</td>\n",
       "      <td>166</td>\n",
       "    </tr>\n",
       "    <tr>\n",
       "      <td>68</td>\n",
       "      <td>上海市</td>\n",
       "      <td>北京市</td>\n",
       "      <td>142</td>\n",
       "    </tr>\n",
       "  </tbody>\n",
       "</table>\n",
       "</div>"
      ],
      "text/plain": [
       "     SSGS_city ZGS_city  count\n",
       "1136       北京市      深圳市    885\n",
       "952        北京市      上海市    423\n",
       "181        上海市      深圳市    270\n",
       "1026       北京市      天津市    239\n",
       "5267       深圳市      北京市    224\n",
       "5241       深圳市      上海市    218\n",
       "1110       北京市      武汉市    176\n",
       "1073       北京市      成都市    169\n",
       "1225       北京市      重庆市    166\n",
       "68         上海市      北京市    142"
      ]
     },
     "execution_count": 76,
     "metadata": {},
     "output_type": "execute_result"
    }
   ],
   "source": [
    "#step5.聚合城市数据，统计连接次数，筛选出前N条连接\n",
    "city_net = city_net.groupby(by=['SSGS_city','ZGS_city']).sum().reset_index()\n",
    "city_net_10 = city_net.sort_values(by='count',ascending=False).head(10)\n",
    "city_net_10"
   ]
  },
  {
   "cell_type": "code",
   "execution_count": 93,
   "metadata": {},
   "outputs": [
    {
     "data": {
      "text/plain": [
       "['武汉市', '北京市', '天津市', '成都市', '重庆市', '上海市', '深圳市']"
      ]
     },
     "execution_count": 93,
     "metadata": {},
     "output_type": "execute_result"
    }
   ],
   "source": [
    "#step6.利用集合去重，便于获取城市坐标\n",
    "city_lst = []\n",
    "for i in ['ZGS_city','SSGS_city']:\n",
    "    for j in city_net_10[i]:\n",
    "        city_lst.append(j)\n",
    "city_lst = list(set(city_lst))\n",
    "city_lst"
   ]
  },
  {
   "cell_type": "code",
   "execution_count": 88,
   "metadata": {},
   "outputs": [
    {
     "data": {
      "text/html": [
       "<div>\n",
       "<style scoped>\n",
       "    .dataframe tbody tr th:only-of-type {\n",
       "        vertical-align: middle;\n",
       "    }\n",
       "\n",
       "    .dataframe tbody tr th {\n",
       "        vertical-align: top;\n",
       "    }\n",
       "\n",
       "    .dataframe thead th {\n",
       "        text-align: right;\n",
       "    }\n",
       "</style>\n",
       "<table border=\"1\" class=\"dataframe\">\n",
       "  <thead>\n",
       "    <tr style=\"text-align: right;\">\n",
       "      <th></th>\n",
       "      <th>SSGS_city</th>\n",
       "      <th>ZGS_city</th>\n",
       "    </tr>\n",
       "  </thead>\n",
       "  <tbody>\n",
       "    <tr>\n",
       "      <td>952</td>\n",
       "      <td>北京市</td>\n",
       "      <td>上海市</td>\n",
       "    </tr>\n",
       "    <tr>\n",
       "      <td>181</td>\n",
       "      <td>上海市</td>\n",
       "      <td>深圳市</td>\n",
       "    </tr>\n",
       "  </tbody>\n",
       "</table>\n",
       "</div>"
      ],
      "text/plain": [
       "    SSGS_city ZGS_city\n",
       "952       北京市      上海市\n",
       "181       上海市      深圳市"
      ]
     },
     "execution_count": 88,
     "metadata": {},
     "output_type": "execute_result"
    }
   ],
   "source": [
    "city_net_10.iloc[1:3,:2]"
   ]
  },
  {
   "cell_type": "code",
   "execution_count": null,
   "metadata": {},
   "outputs": [],
   "source": []
  },
  {
   "cell_type": "code",
   "execution_count": null,
   "metadata": {},
   "outputs": [],
   "source": []
  },
  {
   "cell_type": "markdown",
   "metadata": {},
   "source": [
    "### 2.前50对网络关联"
   ]
  },
  {
   "cell_type": "markdown",
   "metadata": {},
   "source": [
    "### 3.前100对网络关联"
   ]
  }
 ],
 "metadata": {
  "kernelspec": {
   "display_name": "Python 3",
   "language": "python",
   "name": "python3"
  },
  "language_info": {
   "codemirror_mode": {
    "name": "ipython",
    "version": 3
   },
   "file_extension": ".py",
   "mimetype": "text/x-python",
   "name": "python",
   "nbconvert_exporter": "python",
   "pygments_lexer": "ipython3",
   "version": "3.7.4"
  }
 },
 "nbformat": 4,
 "nbformat_minor": 2
}
