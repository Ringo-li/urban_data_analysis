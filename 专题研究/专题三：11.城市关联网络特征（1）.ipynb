{
 "cells": [
  {
   "cell_type": "code",
   "execution_count": 2,
   "metadata": {},
   "outputs": [],
   "source": [
    "import pandas as pd\n",
    "import numpy as np"
   ]
  },
  {
   "cell_type": "markdown",
   "metadata": {},
   "source": [
    "### 1.获取上市公司和子公司所在城市"
   ]
  },
  {
   "cell_type": "markdown",
   "metadata": {},
   "source": [
    "#### 1.1数据读取"
   ]
  },
  {
   "cell_type": "code",
   "execution_count": 5,
   "metadata": {},
   "outputs": [],
   "source": [
    "df_com = pd.read_excel(r'../../file/subject/chapter3/SSGScompany04.xlsx',sheet_name='Sheet1')"
   ]
  },
  {
   "cell_type": "code",
   "execution_count": 7,
   "metadata": {},
   "outputs": [
    {
     "data": {
      "text/html": [
       "<div>\n",
       "<style scoped>\n",
       "    .dataframe tbody tr th:only-of-type {\n",
       "        vertical-align: middle;\n",
       "    }\n",
       "\n",
       "    .dataframe tbody tr th {\n",
       "        vertical-align: top;\n",
       "    }\n",
       "\n",
       "    .dataframe thead th {\n",
       "        text-align: right;\n",
       "    }\n",
       "</style>\n",
       "<table border=\"1\" class=\"dataframe\">\n",
       "  <thead>\n",
       "    <tr style=\"text-align: right;\">\n",
       "      <th></th>\n",
       "      <th>Unnamed: 0</th>\n",
       "      <th>Unnamed: 0.1</th>\n",
       "      <th>公司名称</th>\n",
       "      <th>地址</th>\n",
       "      <th>公司网址</th>\n",
       "      <th>爬取页</th>\n",
       "      <th>公司名称2</th>\n",
       "      <th>region</th>\n",
       "      <th>province</th>\n",
       "      <th>city</th>\n",
       "    </tr>\n",
       "  </thead>\n",
       "  <tbody>\n",
       "    <tr>\n",
       "      <td>0</td>\n",
       "      <td>0</td>\n",
       "      <td>1781</td>\n",
       "      <td>安徽华茂纺织股份有限公司</td>\n",
       "      <td>安徽省安庆市纺织南路80号</td>\n",
       "      <td>/orgcompany/searchitemdtl/5bc2e76fd05b73a3139c...</td>\n",
       "      <td>4</td>\n",
       "      <td>安徽华茂纺织股份有限公司</td>\n",
       "      <td>['安徽省', '安庆市', '大观区']</td>\n",
       "      <td>安徽省</td>\n",
       "      <td>安庆市</td>\n",
       "    </tr>\n",
       "  </tbody>\n",
       "</table>\n",
       "</div>"
      ],
      "text/plain": [
       "   Unnamed: 0  Unnamed: 0.1          公司名称             地址  \\\n",
       "0           0          1781  安徽华茂纺织股份有限公司  安徽省安庆市纺织南路80号   \n",
       "\n",
       "                                                公司网址  爬取页         公司名称2  \\\n",
       "0  /orgcompany/searchitemdtl/5bc2e76fd05b73a3139c...    4  安徽华茂纺织股份有限公司   \n",
       "\n",
       "                  region province city  \n",
       "0  ['安徽省', '安庆市', '大观区']      安徽省  安庆市  "
      ]
     },
     "execution_count": 7,
     "metadata": {},
     "output_type": "execute_result"
    }
   ],
   "source": [
    "df_com.head(1)"
   ]
  },
  {
   "cell_type": "code",
   "execution_count": 9,
   "metadata": {},
   "outputs": [],
   "source": [
    "df_son = pd.read_excel(r'../../file/subject/chapter3/company_info_all05.xlsx',sheet_name='Sheet1')"
   ]
  },
  {
   "cell_type": "code",
   "execution_count": 10,
   "metadata": {},
   "outputs": [
    {
     "data": {
      "text/html": [
       "<div>\n",
       "<style scoped>\n",
       "    .dataframe tbody tr th:only-of-type {\n",
       "        vertical-align: middle;\n",
       "    }\n",
       "\n",
       "    .dataframe tbody tr th {\n",
       "        vertical-align: top;\n",
       "    }\n",
       "\n",
       "    .dataframe thead th {\n",
       "        text-align: right;\n",
       "    }\n",
       "</style>\n",
       "<table border=\"1\" class=\"dataframe\">\n",
       "  <thead>\n",
       "    <tr style=\"text-align: right;\">\n",
       "      <th></th>\n",
       "      <th>Unnamed: 0</th>\n",
       "      <th>公司名称</th>\n",
       "      <th>上市公司名称</th>\n",
       "      <th>公司状态</th>\n",
       "      <th>注册资本</th>\n",
       "      <th>上市公司投资比例</th>\n",
       "      <th>province</th>\n",
       "      <th>city</th>\n",
       "    </tr>\n",
       "  </thead>\n",
       "  <tbody>\n",
       "    <tr>\n",
       "      <td>0</td>\n",
       "      <td>0</td>\n",
       "      <td>上海盛美投资咨询有限公司</td>\n",
       "      <td>甘肃亚盛实业(集团)股份有限公司</td>\n",
       "      <td>存续（在营、开业、在册）</td>\n",
       "      <td>500.0000(万人民币)</td>\n",
       "      <td>80%</td>\n",
       "      <td>上海市</td>\n",
       "      <td>上海市</td>\n",
       "    </tr>\n",
       "  </tbody>\n",
       "</table>\n",
       "</div>"
      ],
      "text/plain": [
       "   Unnamed: 0          公司名称            上市公司名称          公司状态            注册资本  \\\n",
       "0           0  上海盛美投资咨询有限公司  甘肃亚盛实业(集团)股份有限公司  存续（在营、开业、在册）  500.0000(万人民币)   \n",
       "\n",
       "  上市公司投资比例 province city  \n",
       "0      80%      上海市  上海市  "
      ]
     },
     "execution_count": 10,
     "metadata": {},
     "output_type": "execute_result"
    }
   ],
   "source": [
    "df_son.head(1)"
   ]
  },
  {
   "cell_type": "markdown",
   "metadata": {},
   "source": [
    "#### 1.2数据清洗"
   ]
  },
  {
   "cell_type": "code",
   "execution_count": 12,
   "metadata": {},
   "outputs": [],
   "source": [
    "#将上市公司和子公司数据链接\n",
    "df = pd.merge(df_son,df_com,left_on='上市公司名称',right_on='公司名称2').reset_index()"
   ]
  },
  {
   "cell_type": "code",
   "execution_count": 16,
   "metadata": {},
   "outputs": [],
   "source": [
    "#判断子公司状态，空值设置为开业\n",
    "df.公司状态 = df.公司状态.apply(lambda x:'开业' if x == 0 else x)"
   ]
  },
  {
   "cell_type": "code",
   "execution_count": 17,
   "metadata": {},
   "outputs": [
    {
     "data": {
      "text/plain": [
       "57262"
      ]
     },
     "execution_count": 17,
     "metadata": {},
     "output_type": "execute_result"
    }
   ],
   "source": [
    "len(df)"
   ]
  },
  {
   "cell_type": "code",
   "execution_count": 20,
   "metadata": {},
   "outputs": [
    {
     "data": {
      "text/plain": [
       "938"
      ]
     },
     "execution_count": 20,
     "metadata": {},
     "output_type": "execute_result"
    }
   ],
   "source": [
    "#筛选掉吊销状态的公司\n",
    "len(df[df.公司状态.str.contains('吊销')])"
   ]
  },
  {
   "cell_type": "code",
   "execution_count": 21,
   "metadata": {},
   "outputs": [
    {
     "data": {
      "text/plain": [
       "56324"
      ]
     },
     "execution_count": 21,
     "metadata": {},
     "output_type": "execute_result"
    }
   ],
   "source": [
    "df = df[-df.公司状态.str.contains('吊销')]\n",
    "len(df)"
   ]
  },
  {
   "cell_type": "code",
   "execution_count": 23,
   "metadata": {},
   "outputs": [],
   "source": [
    "#获取上市公司和子公司所在城市\n",
    "city_net = df[['city_y','city_x']]"
   ]
  },
  {
   "cell_type": "code",
   "execution_count": 25,
   "metadata": {},
   "outputs": [
    {
     "data": {
      "text/html": [
       "<div>\n",
       "<style scoped>\n",
       "    .dataframe tbody tr th:only-of-type {\n",
       "        vertical-align: middle;\n",
       "    }\n",
       "\n",
       "    .dataframe tbody tr th {\n",
       "        vertical-align: top;\n",
       "    }\n",
       "\n",
       "    .dataframe thead th {\n",
       "        text-align: right;\n",
       "    }\n",
       "</style>\n",
       "<table border=\"1\" class=\"dataframe\">\n",
       "  <thead>\n",
       "    <tr style=\"text-align: right;\">\n",
       "      <th></th>\n",
       "      <th>city_y</th>\n",
       "      <th>city_x</th>\n",
       "    </tr>\n",
       "  </thead>\n",
       "  <tbody>\n",
       "    <tr>\n",
       "      <td>0</td>\n",
       "      <td>兰州市</td>\n",
       "      <td>上海市</td>\n",
       "    </tr>\n",
       "    <tr>\n",
       "      <td>3</td>\n",
       "      <td>兰州市</td>\n",
       "      <td>兰州市</td>\n",
       "    </tr>\n",
       "    <tr>\n",
       "      <td>6</td>\n",
       "      <td>兰州市</td>\n",
       "      <td>兰州市</td>\n",
       "    </tr>\n",
       "    <tr>\n",
       "      <td>9</td>\n",
       "      <td>兰州市</td>\n",
       "      <td>张掖市</td>\n",
       "    </tr>\n",
       "    <tr>\n",
       "      <td>10</td>\n",
       "      <td>兰州市</td>\n",
       "      <td>兰州市</td>\n",
       "    </tr>\n",
       "  </tbody>\n",
       "</table>\n",
       "</div>"
      ],
      "text/plain": [
       "   city_y city_x\n",
       "0     兰州市    上海市\n",
       "3     兰州市    兰州市\n",
       "6     兰州市    兰州市\n",
       "9     兰州市    张掖市\n",
       "10    兰州市    兰州市"
      ]
     },
     "execution_count": 25,
     "metadata": {},
     "output_type": "execute_result"
    }
   ],
   "source": [
    "city_net.head()"
   ]
  },
  {
   "cell_type": "markdown",
   "metadata": {},
   "source": [
    "### 2.统计各城市上市公司和子公司对应关系"
   ]
  },
  {
   "cell_type": "code",
   "execution_count": 26,
   "metadata": {
    "scrolled": true
   },
   "outputs": [
    {
     "name": "stderr",
     "output_type": "stream",
     "text": [
      "C:\\Users\\cc\\Anaconda3\\lib\\site-packages\\ipykernel_launcher.py:1: SettingWithCopyWarning: \n",
      "A value is trying to be set on a copy of a slice from a DataFrame.\n",
      "Try using .loc[row_indexer,col_indexer] = value instead\n",
      "\n",
      "See the caveats in the documentation: http://pandas.pydata.org/pandas-docs/stable/user_guide/indexing.html#returning-a-view-versus-a-copy\n",
      "  \"\"\"Entry point for launching an IPython kernel.\n"
     ]
    }
   ],
   "source": [
    "city_net['count'] = 1"
   ]
  },
  {
   "cell_type": "code",
   "execution_count": 28,
   "metadata": {},
   "outputs": [
    {
     "data": {
      "text/html": [
       "<div>\n",
       "<style scoped>\n",
       "    .dataframe tbody tr th:only-of-type {\n",
       "        vertical-align: middle;\n",
       "    }\n",
       "\n",
       "    .dataframe tbody tr th {\n",
       "        vertical-align: top;\n",
       "    }\n",
       "\n",
       "    .dataframe thead th {\n",
       "        text-align: right;\n",
       "    }\n",
       "</style>\n",
       "<table border=\"1\" class=\"dataframe\">\n",
       "  <thead>\n",
       "    <tr style=\"text-align: right;\">\n",
       "      <th></th>\n",
       "      <th>city_y</th>\n",
       "      <th>city_x</th>\n",
       "      <th>count</th>\n",
       "    </tr>\n",
       "  </thead>\n",
       "  <tbody>\n",
       "    <tr>\n",
       "      <td>0</td>\n",
       "      <td>兰州市</td>\n",
       "      <td>上海市</td>\n",
       "      <td>1</td>\n",
       "    </tr>\n",
       "    <tr>\n",
       "      <td>3</td>\n",
       "      <td>兰州市</td>\n",
       "      <td>兰州市</td>\n",
       "      <td>1</td>\n",
       "    </tr>\n",
       "    <tr>\n",
       "      <td>6</td>\n",
       "      <td>兰州市</td>\n",
       "      <td>兰州市</td>\n",
       "      <td>1</td>\n",
       "    </tr>\n",
       "    <tr>\n",
       "      <td>9</td>\n",
       "      <td>兰州市</td>\n",
       "      <td>张掖市</td>\n",
       "      <td>1</td>\n",
       "    </tr>\n",
       "    <tr>\n",
       "      <td>10</td>\n",
       "      <td>兰州市</td>\n",
       "      <td>兰州市</td>\n",
       "      <td>1</td>\n",
       "    </tr>\n",
       "  </tbody>\n",
       "</table>\n",
       "</div>"
      ],
      "text/plain": [
       "   city_y city_x  count\n",
       "0     兰州市    上海市      1\n",
       "3     兰州市    兰州市      1\n",
       "6     兰州市    兰州市      1\n",
       "9     兰州市    张掖市      1\n",
       "10    兰州市    兰州市      1"
      ]
     },
     "execution_count": 28,
     "metadata": {},
     "output_type": "execute_result"
    }
   ],
   "source": [
    "city_net.head()"
   ]
  },
  {
   "cell_type": "code",
   "execution_count": 32,
   "metadata": {},
   "outputs": [
    {
     "data": {
      "text/plain": [
       "56324"
      ]
     },
     "execution_count": 32,
     "metadata": {},
     "output_type": "execute_result"
    }
   ],
   "source": [
    "len(city_net)"
   ]
  },
  {
   "cell_type": "markdown",
   "metadata": {},
   "source": [
    "#### 2.1去掉上市公司和子公司同城的数据"
   ]
  },
  {
   "cell_type": "code",
   "execution_count": 36,
   "metadata": {},
   "outputs": [],
   "source": [
    "city_net = city_net[-(city_net['city_y']==city_net['city_x'])]"
   ]
  },
  {
   "cell_type": "code",
   "execution_count": 37,
   "metadata": {},
   "outputs": [
    {
     "data": {
      "text/plain": [
       "33809"
      ]
     },
     "execution_count": 37,
     "metadata": {},
     "output_type": "execute_result"
    }
   ],
   "source": [
    "len(city_net)"
   ]
  },
  {
   "cell_type": "markdown",
   "metadata": {},
   "source": [
    "#### 2.2聚合上市公司和子公司所在城市，得到对应数据"
   ]
  },
  {
   "cell_type": "code",
   "execution_count": 45,
   "metadata": {},
   "outputs": [
    {
     "data": {
      "text/html": [
       "<div>\n",
       "<style scoped>\n",
       "    .dataframe tbody tr th:only-of-type {\n",
       "        vertical-align: middle;\n",
       "    }\n",
       "\n",
       "    .dataframe tbody tr th {\n",
       "        vertical-align: top;\n",
       "    }\n",
       "\n",
       "    .dataframe thead th {\n",
       "        text-align: right;\n",
       "    }\n",
       "</style>\n",
       "<table border=\"1\" class=\"dataframe\">\n",
       "  <thead>\n",
       "    <tr style=\"text-align: right;\">\n",
       "      <th></th>\n",
       "      <th>city_y</th>\n",
       "      <th>city_x</th>\n",
       "      <th>count</th>\n",
       "    </tr>\n",
       "  </thead>\n",
       "  <tbody>\n",
       "    <tr>\n",
       "      <td>0</td>\n",
       "      <td>七台河市</td>\n",
       "      <td>北京市</td>\n",
       "      <td>1</td>\n",
       "    </tr>\n",
       "    <tr>\n",
       "      <td>1</td>\n",
       "      <td>七台河市</td>\n",
       "      <td>双鸭山市</td>\n",
       "      <td>2</td>\n",
       "    </tr>\n",
       "    <tr>\n",
       "      <td>2</td>\n",
       "      <td>七台河市</td>\n",
       "      <td>鸡西市</td>\n",
       "      <td>1</td>\n",
       "    </tr>\n",
       "    <tr>\n",
       "      <td>3</td>\n",
       "      <td>三亚市</td>\n",
       "      <td>上海市</td>\n",
       "      <td>5</td>\n",
       "    </tr>\n",
       "    <tr>\n",
       "      <td>4</td>\n",
       "      <td>三亚市</td>\n",
       "      <td>九江市</td>\n",
       "      <td>1</td>\n",
       "    </tr>\n",
       "    <tr>\n",
       "      <td>...</td>\n",
       "      <td>...</td>\n",
       "      <td>...</td>\n",
       "      <td>...</td>\n",
       "    </tr>\n",
       "    <tr>\n",
       "      <td>8134</td>\n",
       "      <td>龙岩市</td>\n",
       "      <td>遵义市</td>\n",
       "      <td>1</td>\n",
       "    </tr>\n",
       "    <tr>\n",
       "      <td>8135</td>\n",
       "      <td>龙岩市</td>\n",
       "      <td>长春市</td>\n",
       "      <td>1</td>\n",
       "    </tr>\n",
       "    <tr>\n",
       "      <td>8136</td>\n",
       "      <td>龙岩市</td>\n",
       "      <td>阿坝藏族羌族自治州</td>\n",
       "      <td>1</td>\n",
       "    </tr>\n",
       "    <tr>\n",
       "      <td>8137</td>\n",
       "      <td>龙岩市</td>\n",
       "      <td>陇南市</td>\n",
       "      <td>1</td>\n",
       "    </tr>\n",
       "    <tr>\n",
       "      <td>8138</td>\n",
       "      <td>龙岩市</td>\n",
       "      <td>韶关市</td>\n",
       "      <td>1</td>\n",
       "    </tr>\n",
       "  </tbody>\n",
       "</table>\n",
       "<p>8139 rows × 3 columns</p>\n",
       "</div>"
      ],
      "text/plain": [
       "     city_y     city_x  count\n",
       "0      七台河市        北京市      1\n",
       "1      七台河市       双鸭山市      2\n",
       "2      七台河市        鸡西市      1\n",
       "3       三亚市        上海市      5\n",
       "4       三亚市        九江市      1\n",
       "...     ...        ...    ...\n",
       "8134    龙岩市        遵义市      1\n",
       "8135    龙岩市        长春市      1\n",
       "8136    龙岩市  阿坝藏族羌族自治州      1\n",
       "8137    龙岩市        陇南市      1\n",
       "8138    龙岩市        韶关市      1\n",
       "\n",
       "[8139 rows x 3 columns]"
      ]
     },
     "execution_count": 45,
     "metadata": {},
     "output_type": "execute_result"
    }
   ],
   "source": [
    "city_net.groupby(by=['city_y','city_x']).sum().reset_index()"
   ]
  },
  {
   "cell_type": "code",
   "execution_count": 46,
   "metadata": {},
   "outputs": [
    {
     "data": {
      "text/html": [
       "<div>\n",
       "<style scoped>\n",
       "    .dataframe tbody tr th:only-of-type {\n",
       "        vertical-align: middle;\n",
       "    }\n",
       "\n",
       "    .dataframe tbody tr th {\n",
       "        vertical-align: top;\n",
       "    }\n",
       "\n",
       "    .dataframe thead th {\n",
       "        text-align: right;\n",
       "    }\n",
       "</style>\n",
       "<table border=\"1\" class=\"dataframe\">\n",
       "  <thead>\n",
       "    <tr style=\"text-align: right;\">\n",
       "      <th></th>\n",
       "      <th>city_y</th>\n",
       "      <th>city_x</th>\n",
       "      <th>count</th>\n",
       "    </tr>\n",
       "  </thead>\n",
       "  <tbody>\n",
       "    <tr>\n",
       "      <td>1142</td>\n",
       "      <td>北京市</td>\n",
       "      <td>深圳市</td>\n",
       "      <td>885</td>\n",
       "    </tr>\n",
       "    <tr>\n",
       "      <td>958</td>\n",
       "      <td>北京市</td>\n",
       "      <td>上海市</td>\n",
       "      <td>423</td>\n",
       "    </tr>\n",
       "    <tr>\n",
       "      <td>182</td>\n",
       "      <td>上海市</td>\n",
       "      <td>深圳市</td>\n",
       "      <td>270</td>\n",
       "    </tr>\n",
       "    <tr>\n",
       "      <td>1032</td>\n",
       "      <td>北京市</td>\n",
       "      <td>天津市</td>\n",
       "      <td>239</td>\n",
       "    </tr>\n",
       "    <tr>\n",
       "      <td>5285</td>\n",
       "      <td>深圳市</td>\n",
       "      <td>北京市</td>\n",
       "      <td>224</td>\n",
       "    </tr>\n",
       "    <tr>\n",
       "      <td>...</td>\n",
       "      <td>...</td>\n",
       "      <td>...</td>\n",
       "      <td>...</td>\n",
       "    </tr>\n",
       "    <tr>\n",
       "      <td>3708</td>\n",
       "      <td>成都市</td>\n",
       "      <td>绥化市</td>\n",
       "      <td>1</td>\n",
       "    </tr>\n",
       "    <tr>\n",
       "      <td>3707</td>\n",
       "      <td>成都市</td>\n",
       "      <td>绍兴市</td>\n",
       "      <td>1</td>\n",
       "    </tr>\n",
       "    <tr>\n",
       "      <td>3706</td>\n",
       "      <td>成都市</td>\n",
       "      <td>红河哈尼族彝族自治州</td>\n",
       "      <td>1</td>\n",
       "    </tr>\n",
       "    <tr>\n",
       "      <td>3705</td>\n",
       "      <td>成都市</td>\n",
       "      <td>秦皇岛市</td>\n",
       "      <td>1</td>\n",
       "    </tr>\n",
       "    <tr>\n",
       "      <td>8138</td>\n",
       "      <td>龙岩市</td>\n",
       "      <td>韶关市</td>\n",
       "      <td>1</td>\n",
       "    </tr>\n",
       "  </tbody>\n",
       "</table>\n",
       "<p>8139 rows × 3 columns</p>\n",
       "</div>"
      ],
      "text/plain": [
       "     city_y      city_x  count\n",
       "1142    北京市         深圳市    885\n",
       "958     北京市         上海市    423\n",
       "182     上海市         深圳市    270\n",
       "1032    北京市         天津市    239\n",
       "5285    深圳市         北京市    224\n",
       "...     ...         ...    ...\n",
       "3708    成都市         绥化市      1\n",
       "3707    成都市         绍兴市      1\n",
       "3706    成都市  红河哈尼族彝族自治州      1\n",
       "3705    成都市        秦皇岛市      1\n",
       "8138    龙岩市         韶关市      1\n",
       "\n",
       "[8139 rows x 3 columns]"
      ]
     },
     "execution_count": 46,
     "metadata": {},
     "output_type": "execute_result"
    }
   ],
   "source": [
    "city_net.groupby(by=['city_y','city_x']).sum().reset_index().sort_values(by='count',ascending=False)"
   ]
  },
  {
   "cell_type": "markdown",
   "metadata": {},
   "source": [
    "### 3.可视化"
   ]
  },
  {
   "cell_type": "code",
   "execution_count": 51,
   "metadata": {},
   "outputs": [],
   "source": [
    "import networkx as nx\n",
    "import matplotlib.pyplot as plt\n",
    "%matplotlib inline"
   ]
  },
  {
   "cell_type": "code",
   "execution_count": null,
   "metadata": {},
   "outputs": [],
   "source": [
    "author_lst = []\n",
    "for i in author_use_sum['from']:\n",
    "    author_lst.append(i)\n",
    "for i in author_use_sum['to']:\n",
    "    author_lst.append(i) \n",
    "\n",
    "author_dic = {}\n",
    "nodelst = []\n",
    "sizes = []\n",
    "weights = []\n",
    "for i in author_lst:\n",
    "    author_dic[i] = author_lst.count(i)\n",
    "for k,v in author_dic.items():\n",
    "    nodelst.append(k)\n",
    "    sizes.append(v*1000)\n",
    "    weights.append(v*2)\n",
    "\n",
    "labels = {}\n",
    "for k,v in author_dic.items():\n",
    "    if v >= 3:\n",
    "        labels[k] = k"
   ]
  },
  {
   "cell_type": "code",
   "execution_count": null,
   "metadata": {},
   "outputs": [],
   "source": [
    "GA = nx.from_pandas_edgelist(author_use_sum.head(100),source='from',target='to',edge_attr='weight')\n",
    "plt.figure(figsize=(25,25))\n",
    "pos = nx.spring_layout(GA,k=0.25)\n",
    "\n",
    "nx.draw(GA,pos,nodelist=nodelst,node_size=sizes,alpha=0.6)\n",
    "nx.draw_networkx_labels(GA,pos,labels,font_family='SimHei',font_size=20,font_color='black')\n",
    "nx.draw_networkx_edges(GA,pos,width=weights,alpha=0.5)\n",
    "plt.savefig('../file/专题一network.png')"
   ]
  }
 ],
 "metadata": {
  "kernelspec": {
   "display_name": "Python 3",
   "language": "python",
   "name": "python3"
  },
  "language_info": {
   "codemirror_mode": {
    "name": "ipython",
    "version": 3
   },
   "file_extension": ".py",
   "mimetype": "text/x-python",
   "name": "python",
   "nbconvert_exporter": "python",
   "pygments_lexer": "ipython3",
   "version": "3.7.4"
  }
 },
 "nbformat": 4,
 "nbformat_minor": 2
}
