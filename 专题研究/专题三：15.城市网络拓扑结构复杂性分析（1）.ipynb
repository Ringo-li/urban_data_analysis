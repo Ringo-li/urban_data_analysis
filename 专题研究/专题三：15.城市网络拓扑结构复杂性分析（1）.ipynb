{
 "cells": [
  {
   "cell_type": "code",
   "execution_count": 23,
   "metadata": {},
   "outputs": [],
   "source": [
    "import pandas as pd\n",
    "import numpy as np\n",
    "import matplotlib.pyplot as plt\n",
    "%matplotlib inline\n",
    "plt.style.use('ggplot')\n",
    "plt.rcParams['font.sans-serif']=['SimHei']#显示中文字体为黑体\n",
    "plt.rcParams['axes.unicode_minus']=False#显示负号"
   ]
  },
  {
   "cell_type": "code",
   "execution_count": 4,
   "metadata": {
    "scrolled": false
   },
   "outputs": [
    {
     "data": {
      "text/html": [
       "<div>\n",
       "<style scoped>\n",
       "    .dataframe tbody tr th:only-of-type {\n",
       "        vertical-align: middle;\n",
       "    }\n",
       "\n",
       "    .dataframe tbody tr th {\n",
       "        vertical-align: top;\n",
       "    }\n",
       "\n",
       "    .dataframe thead th {\n",
       "        text-align: right;\n",
       "    }\n",
       "</style>\n",
       "<table border=\"1\" class=\"dataframe\">\n",
       "  <thead>\n",
       "    <tr style=\"text-align: right;\">\n",
       "      <th></th>\n",
       "      <th>Unnamed: 0</th>\n",
       "      <th>ZGS_city</th>\n",
       "      <th>in</th>\n",
       "      <th>out</th>\n",
       "      <th>all</th>\n",
       "    </tr>\n",
       "  </thead>\n",
       "  <tbody>\n",
       "    <tr>\n",
       "      <td>0</td>\n",
       "      <td>0</td>\n",
       "      <td>上海市</td>\n",
       "      <td>2569</td>\n",
       "      <td>2114</td>\n",
       "      <td>4683</td>\n",
       "    </tr>\n",
       "    <tr>\n",
       "      <td>1</td>\n",
       "      <td>1</td>\n",
       "      <td>深圳市</td>\n",
       "      <td>2458</td>\n",
       "      <td>2763</td>\n",
       "      <td>5221</td>\n",
       "    </tr>\n",
       "    <tr>\n",
       "      <td>2</td>\n",
       "      <td>2</td>\n",
       "      <td>北京市</td>\n",
       "      <td>2244</td>\n",
       "      <td>6760</td>\n",
       "      <td>9004</td>\n",
       "    </tr>\n",
       "    <tr>\n",
       "      <td>3</td>\n",
       "      <td>3</td>\n",
       "      <td>杭州市</td>\n",
       "      <td>846</td>\n",
       "      <td>1025</td>\n",
       "      <td>1871</td>\n",
       "    </tr>\n",
       "    <tr>\n",
       "      <td>4</td>\n",
       "      <td>4</td>\n",
       "      <td>天津市</td>\n",
       "      <td>795</td>\n",
       "      <td>361</td>\n",
       "      <td>1156</td>\n",
       "    </tr>\n",
       "  </tbody>\n",
       "</table>\n",
       "</div>"
      ],
      "text/plain": [
       "   Unnamed: 0 ZGS_city    in   out   all\n",
       "0           0      上海市  2569  2114  4683\n",
       "1           1      深圳市  2458  2763  5221\n",
       "2           2      北京市  2244  6760  9004\n",
       "3           3      杭州市   846  1025  1871\n",
       "4           4      天津市   795   361  1156"
      ]
     },
     "execution_count": 4,
     "metadata": {},
     "output_type": "execute_result"
    }
   ],
   "source": [
    "df = pd.read_excel(r'../../file/subject/chapter3/in_out.xlsx',sheet_name='Sheet1')\n",
    "df.head()"
   ]
  },
  {
   "cell_type": "code",
   "execution_count": 5,
   "metadata": {},
   "outputs": [],
   "source": [
    "df = df.sort_values(by='all',ascending=False).reset_index()"
   ]
  },
  {
   "cell_type": "code",
   "execution_count": 7,
   "metadata": {},
   "outputs": [
    {
     "data": {
      "text/plain": [
       "9004"
      ]
     },
     "execution_count": 7,
     "metadata": {},
     "output_type": "execute_result"
    }
   ],
   "source": [
    "max(df['all'])"
   ]
  },
  {
   "cell_type": "code",
   "execution_count": 10,
   "metadata": {},
   "outputs": [
    {
     "data": {
      "text/plain": [
       "65762"
      ]
     },
     "execution_count": 10,
     "metadata": {},
     "output_type": "execute_result"
    }
   ],
   "source": [
    "sum(df['all'])"
   ]
  },
  {
   "cell_type": "markdown",
   "metadata": {},
   "source": [
    "#### 1.网络度的统计"
   ]
  },
  {
   "cell_type": "code",
   "execution_count": 11,
   "metadata": {},
   "outputs": [],
   "source": [
    "ana_01 = df.copy()"
   ]
  },
  {
   "cell_type": "code",
   "execution_count": 12,
   "metadata": {},
   "outputs": [],
   "source": [
    "#每个城市出现的概率\n",
    "ana_01['prob'] = 1/len(ana_01)"
   ]
  },
  {
   "cell_type": "code",
   "execution_count": 13,
   "metadata": {},
   "outputs": [],
   "source": [
    "#生成在X轴上的标识位置\n",
    "ana_01['ind'] = ana_01['all']*len(ana_01)/max(ana_01['all'])"
   ]
  },
  {
   "cell_type": "code",
   "execution_count": 14,
   "metadata": {},
   "outputs": [
    {
     "data": {
      "text/html": [
       "<div>\n",
       "<style scoped>\n",
       "    .dataframe tbody tr th:only-of-type {\n",
       "        vertical-align: middle;\n",
       "    }\n",
       "\n",
       "    .dataframe tbody tr th {\n",
       "        vertical-align: top;\n",
       "    }\n",
       "\n",
       "    .dataframe thead th {\n",
       "        text-align: right;\n",
       "    }\n",
       "</style>\n",
       "<table border=\"1\" class=\"dataframe\">\n",
       "  <thead>\n",
       "    <tr style=\"text-align: right;\">\n",
       "      <th></th>\n",
       "      <th>index</th>\n",
       "      <th>Unnamed: 0</th>\n",
       "      <th>ZGS_city</th>\n",
       "      <th>in</th>\n",
       "      <th>out</th>\n",
       "      <th>all</th>\n",
       "      <th>prob</th>\n",
       "      <th>ind</th>\n",
       "    </tr>\n",
       "  </thead>\n",
       "  <tbody>\n",
       "    <tr>\n",
       "      <td>0</td>\n",
       "      <td>2</td>\n",
       "      <td>2</td>\n",
       "      <td>北京市</td>\n",
       "      <td>2244</td>\n",
       "      <td>6760</td>\n",
       "      <td>9004</td>\n",
       "      <td>0.003759</td>\n",
       "      <td>266.000000</td>\n",
       "    </tr>\n",
       "    <tr>\n",
       "      <td>1</td>\n",
       "      <td>1</td>\n",
       "      <td>1</td>\n",
       "      <td>深圳市</td>\n",
       "      <td>2458</td>\n",
       "      <td>2763</td>\n",
       "      <td>5221</td>\n",
       "      <td>0.003759</td>\n",
       "      <td>154.241004</td>\n",
       "    </tr>\n",
       "    <tr>\n",
       "      <td>2</td>\n",
       "      <td>0</td>\n",
       "      <td>0</td>\n",
       "      <td>上海市</td>\n",
       "      <td>2569</td>\n",
       "      <td>2114</td>\n",
       "      <td>4683</td>\n",
       "      <td>0.003759</td>\n",
       "      <td>138.347179</td>\n",
       "    </tr>\n",
       "    <tr>\n",
       "      <td>3</td>\n",
       "      <td>3</td>\n",
       "      <td>3</td>\n",
       "      <td>杭州市</td>\n",
       "      <td>846</td>\n",
       "      <td>1025</td>\n",
       "      <td>1871</td>\n",
       "      <td>0.003759</td>\n",
       "      <td>55.273878</td>\n",
       "    </tr>\n",
       "    <tr>\n",
       "      <td>4</td>\n",
       "      <td>5</td>\n",
       "      <td>5</td>\n",
       "      <td>广州市</td>\n",
       "      <td>761</td>\n",
       "      <td>937</td>\n",
       "      <td>1698</td>\n",
       "      <td>0.003759</td>\n",
       "      <td>50.163039</td>\n",
       "    </tr>\n",
       "  </tbody>\n",
       "</table>\n",
       "</div>"
      ],
      "text/plain": [
       "   index  Unnamed: 0 ZGS_city    in   out   all      prob         ind\n",
       "0      2           2      北京市  2244  6760  9004  0.003759  266.000000\n",
       "1      1           1      深圳市  2458  2763  5221  0.003759  154.241004\n",
       "2      0           0      上海市  2569  2114  4683  0.003759  138.347179\n",
       "3      3           3      杭州市   846  1025  1871  0.003759   55.273878\n",
       "4      5           5      广州市   761   937  1698  0.003759   50.163039"
      ]
     },
     "execution_count": 14,
     "metadata": {},
     "output_type": "execute_result"
    }
   ],
   "source": [
    "ana_01.head()"
   ]
  },
  {
   "cell_type": "code",
   "execution_count": 15,
   "metadata": {},
   "outputs": [],
   "source": [
    " ana_01.set_index('ind',inplace=True)"
   ]
  },
  {
   "cell_type": "code",
   "execution_count": 28,
   "metadata": {},
   "outputs": [
    {
     "data": {
      "image/png": "[encoded data removed]",
      "text/plain": [
       "<Figure size 1152x648 with 1 Axes>"
      ]
     },
     "metadata": {},
     "output_type": "display_data"
    }
   ],
   "source": [
    "ana_01['prob'].cumsum().plot(style='b--o',figsize=(16,9),alpha=0.5,xlim=(-10,270))\n",
    "plt.title('网络度累计统计分析',fontsize=16)\n",
    "plt.xlabel('度',fontsize=15)\n",
    "plt.ylabel('累计概率分布',fontsize=15)\n",
    "plt.show()"
   ]
  },
  {
   "cell_type": "code",
   "execution_count": 29,
   "metadata": {},
   "outputs": [],
   "source": [
    "ana_02 = df.copy()"
   ]
  },
  {
   "cell_type": "code",
   "execution_count": 30,
   "metadata": {},
   "outputs": [
    {
     "data": {
      "text/html": [
       "<div>\n",
       "<style scoped>\n",
       "    .dataframe tbody tr th:only-of-type {\n",
       "        vertical-align: middle;\n",
       "    }\n",
       "\n",
       "    .dataframe tbody tr th {\n",
       "        vertical-align: top;\n",
       "    }\n",
       "\n",
       "    .dataframe thead th {\n",
       "        text-align: right;\n",
       "    }\n",
       "</style>\n",
       "<table border=\"1\" class=\"dataframe\">\n",
       "  <thead>\n",
       "    <tr style=\"text-align: right;\">\n",
       "      <th></th>\n",
       "      <th>index</th>\n",
       "      <th>Unnamed: 0</th>\n",
       "      <th>ZGS_city</th>\n",
       "      <th>in</th>\n",
       "      <th>out</th>\n",
       "      <th>all</th>\n",
       "    </tr>\n",
       "  </thead>\n",
       "  <tbody>\n",
       "    <tr>\n",
       "      <td>0</td>\n",
       "      <td>2</td>\n",
       "      <td>2</td>\n",
       "      <td>北京市</td>\n",
       "      <td>2244</td>\n",
       "      <td>6760</td>\n",
       "      <td>9004</td>\n",
       "    </tr>\n",
       "    <tr>\n",
       "      <td>1</td>\n",
       "      <td>1</td>\n",
       "      <td>1</td>\n",
       "      <td>深圳市</td>\n",
       "      <td>2458</td>\n",
       "      <td>2763</td>\n",
       "      <td>5221</td>\n",
       "    </tr>\n",
       "    <tr>\n",
       "      <td>2</td>\n",
       "      <td>0</td>\n",
       "      <td>0</td>\n",
       "      <td>上海市</td>\n",
       "      <td>2569</td>\n",
       "      <td>2114</td>\n",
       "      <td>4683</td>\n",
       "    </tr>\n",
       "    <tr>\n",
       "      <td>3</td>\n",
       "      <td>3</td>\n",
       "      <td>3</td>\n",
       "      <td>杭州市</td>\n",
       "      <td>846</td>\n",
       "      <td>1025</td>\n",
       "      <td>1871</td>\n",
       "    </tr>\n",
       "    <tr>\n",
       "      <td>4</td>\n",
       "      <td>5</td>\n",
       "      <td>5</td>\n",
       "      <td>广州市</td>\n",
       "      <td>761</td>\n",
       "      <td>937</td>\n",
       "      <td>1698</td>\n",
       "    </tr>\n",
       "  </tbody>\n",
       "</table>\n",
       "</div>"
      ],
      "text/plain": [
       "   index  Unnamed: 0 ZGS_city    in   out   all\n",
       "0      2           2      北京市  2244  6760  9004\n",
       "1      1           1      深圳市  2458  2763  5221\n",
       "2      0           0      上海市  2569  2114  4683\n",
       "3      3           3      杭州市   846  1025  1871\n",
       "4      5           5      广州市   761   937  1698"
      ]
     },
     "execution_count": 30,
     "metadata": {},
     "output_type": "execute_result"
    }
   ],
   "source": [
    "ana_02.head()"
   ]
  },
  {
   "cell_type": "code",
   "execution_count": 34,
   "metadata": {},
   "outputs": [
    {
     "data": {
      "text/html": [
       "<div>\n",
       "<style scoped>\n",
       "    .dataframe tbody tr th:only-of-type {\n",
       "        vertical-align: middle;\n",
       "    }\n",
       "\n",
       "    .dataframe tbody tr th {\n",
       "        vertical-align: top;\n",
       "    }\n",
       "\n",
       "    .dataframe thead th {\n",
       "        text-align: right;\n",
       "    }\n",
       "</style>\n",
       "<table border=\"1\" class=\"dataframe\">\n",
       "  <thead>\n",
       "    <tr style=\"text-align: right;\">\n",
       "      <th></th>\n",
       "      <th>ZGS_city</th>\n",
       "      <th>in</th>\n",
       "      <th>out</th>\n",
       "      <th>all</th>\n",
       "    </tr>\n",
       "  </thead>\n",
       "  <tbody>\n",
       "    <tr>\n",
       "      <td>0</td>\n",
       "      <td>北京市</td>\n",
       "      <td>2244</td>\n",
       "      <td>6760</td>\n",
       "      <td>9004</td>\n",
       "    </tr>\n",
       "    <tr>\n",
       "      <td>1</td>\n",
       "      <td>深圳市</td>\n",
       "      <td>2458</td>\n",
       "      <td>2763</td>\n",
       "      <td>5221</td>\n",
       "    </tr>\n",
       "    <tr>\n",
       "      <td>2</td>\n",
       "      <td>上海市</td>\n",
       "      <td>2569</td>\n",
       "      <td>2114</td>\n",
       "      <td>4683</td>\n",
       "    </tr>\n",
       "    <tr>\n",
       "      <td>3</td>\n",
       "      <td>杭州市</td>\n",
       "      <td>846</td>\n",
       "      <td>1025</td>\n",
       "      <td>1871</td>\n",
       "    </tr>\n",
       "    <tr>\n",
       "      <td>4</td>\n",
       "      <td>广州市</td>\n",
       "      <td>761</td>\n",
       "      <td>937</td>\n",
       "      <td>1698</td>\n",
       "    </tr>\n",
       "  </tbody>\n",
       "</table>\n",
       "</div>"
      ],
      "text/plain": [
       "  ZGS_city    in   out   all\n",
       "0      北京市  2244  6760  9004\n",
       "1      深圳市  2458  2763  5221\n",
       "2      上海市  2569  2114  4683\n",
       "3      杭州市   846  1025  1871\n",
       "4      广州市   761   937  1698"
      ]
     },
     "execution_count": 34,
     "metadata": {},
     "output_type": "execute_result"
    }
   ],
   "source": [
    "ana_02 = ana_02.drop(['index','Unnamed: 0'],axis=1)\n",
    "ana_02.head()"
   ]
  },
  {
   "cell_type": "code",
   "execution_count": 35,
   "metadata": {},
   "outputs": [
    {
     "data": {
      "text/html": [
       "<div>\n",
       "<style scoped>\n",
       "    .dataframe tbody tr th:only-of-type {\n",
       "        vertical-align: middle;\n",
       "    }\n",
       "\n",
       "    .dataframe tbody tr th {\n",
       "        vertical-align: top;\n",
       "    }\n",
       "\n",
       "    .dataframe thead th {\n",
       "        text-align: right;\n",
       "    }\n",
       "</style>\n",
       "<table border=\"1\" class=\"dataframe\">\n",
       "  <thead>\n",
       "    <tr style=\"text-align: right;\">\n",
       "      <th></th>\n",
       "      <th>ZGS_city</th>\n",
       "      <th>in</th>\n",
       "      <th>out</th>\n",
       "      <th>all</th>\n",
       "      <th>prob</th>\n",
       "    </tr>\n",
       "  </thead>\n",
       "  <tbody>\n",
       "    <tr>\n",
       "      <td>0</td>\n",
       "      <td>北京市</td>\n",
       "      <td>2244</td>\n",
       "      <td>6760</td>\n",
       "      <td>9004</td>\n",
       "      <td>0.136918</td>\n",
       "    </tr>\n",
       "    <tr>\n",
       "      <td>1</td>\n",
       "      <td>深圳市</td>\n",
       "      <td>2458</td>\n",
       "      <td>2763</td>\n",
       "      <td>5221</td>\n",
       "      <td>0.079392</td>\n",
       "    </tr>\n",
       "    <tr>\n",
       "      <td>2</td>\n",
       "      <td>上海市</td>\n",
       "      <td>2569</td>\n",
       "      <td>2114</td>\n",
       "      <td>4683</td>\n",
       "      <td>0.071211</td>\n",
       "    </tr>\n",
       "    <tr>\n",
       "      <td>3</td>\n",
       "      <td>杭州市</td>\n",
       "      <td>846</td>\n",
       "      <td>1025</td>\n",
       "      <td>1871</td>\n",
       "      <td>0.028451</td>\n",
       "    </tr>\n",
       "    <tr>\n",
       "      <td>4</td>\n",
       "      <td>广州市</td>\n",
       "      <td>761</td>\n",
       "      <td>937</td>\n",
       "      <td>1698</td>\n",
       "      <td>0.025820</td>\n",
       "    </tr>\n",
       "  </tbody>\n",
       "</table>\n",
       "</div>"
      ],
      "text/plain": [
       "  ZGS_city    in   out   all      prob\n",
       "0      北京市  2244  6760  9004  0.136918\n",
       "1      深圳市  2458  2763  5221  0.079392\n",
       "2      上海市  2569  2114  4683  0.071211\n",
       "3      杭州市   846  1025  1871  0.028451\n",
       "4      广州市   761   937  1698  0.025820"
      ]
     },
     "execution_count": 35,
     "metadata": {},
     "output_type": "execute_result"
    }
   ],
   "source": [
    "ana_02['prob'] = ana_02['all'] / sum(ana_02['all'])\n",
    "ana_02.head()"
   ]
  },
  {
   "cell_type": "code",
   "execution_count": null,
   "metadata": {},
   "outputs": [],
   "source": [
    "ana_02.set_index('all',inplace=True)"
   ]
  },
  {
   "cell_type": "code",
   "execution_count": 41,
   "metadata": {},
   "outputs": [
    {
     "data": {
      "image/png": "[encoded data removed]",
      "text/plain": [
       "<Figure size 1152x648 with 1 Axes>"
      ]
     },
     "metadata": {},
     "output_type": "display_data"
    }
   ],
   "source": [
    "ana_02['prob'].cumsum().plot(style='b--o',figsize=(16,9),alpha=0.5,xlim=(-100,9100))\n",
    "plt.title('网络强度累计统计分析',fontsize=16)\n",
    "plt.xlabel('强度',fontsize=15)\n",
    "plt.ylabel('累计概率分布',fontsize=15)\n",
    "plt.show()"
   ]
  },
  {
   "cell_type": "code",
   "execution_count": null,
   "metadata": {},
   "outputs": [],
   "source": []
  }
 ],
 "metadata": {
  "kernelspec": {
   "display_name": "Python 3",
   "language": "python",
   "name": "python3"
  },
  "language_info": {
   "codemirror_mode": {
    "name": "ipython",
    "version": 3
   },
   "file_extension": ".py",
   "mimetype": "text/x-python",
   "name": "python",
   "nbconvert_exporter": "python",
   "pygments_lexer": "ipython3",
   "version": "3.7.4"
  }
 },
 "nbformat": 4,
 "nbformat_minor": 2
}
