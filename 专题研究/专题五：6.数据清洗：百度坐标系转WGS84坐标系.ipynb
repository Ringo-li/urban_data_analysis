{
 "cells": [
  {
   "cell_type": "markdown",
   "metadata": {},
   "source": [
    "### 1.多个文件合并成一个文件"
   ]
  },
  {
   "cell_type": "code",
   "execution_count": 2,
   "metadata": {},
   "outputs": [],
   "source": [
    "import pandas as pd\n",
    "from sqlalchemy import create_engine "
   ]
  },
  {
   "cell_type": "code",
   "execution_count": 3,
   "metadata": {},
   "outputs": [],
   "source": [
    "'''create_engine()用来初始化数据库连接，括号内为连接信息：\n",
    "（“数据库类型+数据库驱动名称：//用户名：密码@数据库服务器的名称或IP地址：端口号/\n",
    "数据库名称?driver=SQL+Server+Native+Client+11.0',encoding='utf-8',echo=False,poolclass=NullPool）'''\n",
    "\n",
    "engine = create_engine('mssql+pyodbc://:@CLAIRE/baidu_poi?driver=SQL server')"
   ]
  },
  {
   "cell_type": "code",
   "execution_count": 4,
   "metadata": {},
   "outputs": [
    {
     "data": {
      "text/plain": [
       "['baidu_poi_房地产',\n",
       " 'baidu_poi_公司企业',\n",
       " 'baidu_poi_购物',\n",
       " 'baidu_poi_交通设施',\n",
       " 'baidu_poi_教育培训',\n",
       " 'baidu_poi_金融',\n",
       " 'baidu_poi_酒店',\n",
       " 'baidu_poi_丽人',\n",
       " 'baidu_poi_旅游景点',\n",
       " 'baidu_poi_美食',\n",
       " 'baidu_poi_汽车服务',\n",
       " 'baidu_poi_生活服务',\n",
       " 'baidu_poi_文化传媒',\n",
       " 'baidu_poi_休闲娱乐',\n",
       " 'baidu_poi_医疗',\n",
       " 'baidu_poi_运动健身',\n",
       " 'baidu_poi_政府机构']"
      ]
     },
     "execution_count": 4,
     "metadata": {},
     "output_type": "execute_result"
    }
   ],
   "source": [
    " engine.table_names() "
   ]
  },
  {
   "cell_type": "code",
   "execution_count": 5,
   "metadata": {},
   "outputs": [],
   "source": [
    "def concat_file(table):\n",
    "    with engine.connect() as conn,conn.begin():\n",
    "        data = pd.read_sql_table(table,conn)\n",
    "        return data"
   ]
  },
  {
   "cell_type": "code",
   "execution_count": 6,
   "metadata": {},
   "outputs": [],
   "source": [
    "df_list = [concat_file(poi) for poi in engine.table_names()]"
   ]
  },
  {
   "cell_type": "code",
   "execution_count": 8,
   "metadata": {},
   "outputs": [],
   "source": [
    "all_data = pd.concat(df_list)"
   ]
  },
  {
   "cell_type": "code",
   "execution_count": 9,
   "metadata": {},
   "outputs": [
    {
     "data": {
      "text/html": [
       "<div>\n",
       "<style scoped>\n",
       "    .dataframe tbody tr th:only-of-type {\n",
       "        vertical-align: middle;\n",
       "    }\n",
       "\n",
       "    .dataframe tbody tr th {\n",
       "        vertical-align: top;\n",
       "    }\n",
       "\n",
       "    .dataframe thead th {\n",
       "        text-align: right;\n",
       "    }\n",
       "</style>\n",
       "<table border=\"1\" class=\"dataframe\">\n",
       "  <thead>\n",
       "    <tr style=\"text-align: right;\">\n",
       "      <th></th>\n",
       "      <th>index</th>\n",
       "      <th>name</th>\n",
       "      <th>lat</th>\n",
       "      <th>lng</th>\n",
       "      <th>sort1</th>\n",
       "      <th>sort2</th>\n",
       "    </tr>\n",
       "  </thead>\n",
       "  <tbody>\n",
       "    <tr>\n",
       "      <td>0</td>\n",
       "      <td>0</td>\n",
       "      <td>丰泽科技园-2号楼</td>\n",
       "      <td>34.176428</td>\n",
       "      <td>108.816795</td>\n",
       "      <td>房地产</td>\n",
       "      <td>写字楼</td>\n",
       "    </tr>\n",
       "    <tr>\n",
       "      <td>1</td>\n",
       "      <td>1</td>\n",
       "      <td>高新新区</td>\n",
       "      <td>34.173326</td>\n",
       "      <td>108.827928</td>\n",
       "      <td>房地产</td>\n",
       "      <td>写字楼</td>\n",
       "    </tr>\n",
       "    <tr>\n",
       "      <td>2</td>\n",
       "      <td>0</td>\n",
       "      <td>丰泽科技园-5号楼</td>\n",
       "      <td>34.175525</td>\n",
       "      <td>108.817244</td>\n",
       "      <td>房地产</td>\n",
       "      <td>住宅区</td>\n",
       "    </tr>\n",
       "    <tr>\n",
       "      <td>3</td>\n",
       "      <td>1</td>\n",
       "      <td>丰泽科技路3号楼</td>\n",
       "      <td>34.175989</td>\n",
       "      <td>108.817210</td>\n",
       "      <td>房地产</td>\n",
       "      <td>住宅区</td>\n",
       "    </tr>\n",
       "    <tr>\n",
       "      <td>4</td>\n",
       "      <td>2</td>\n",
       "      <td>鑫垚新区</td>\n",
       "      <td>34.174688</td>\n",
       "      <td>108.815573</td>\n",
       "      <td>房地产</td>\n",
       "      <td>住宅区</td>\n",
       "    </tr>\n",
       "  </tbody>\n",
       "</table>\n",
       "</div>"
      ],
      "text/plain": [
       "   index       name        lat         lng sort1 sort2\n",
       "0      0  丰泽科技园-2号楼  34.176428  108.816795   房地产   写字楼\n",
       "1      1       高新新区  34.173326  108.827928   房地产   写字楼\n",
       "2      0  丰泽科技园-5号楼  34.175525  108.817244   房地产   住宅区\n",
       "3      1   丰泽科技路3号楼  34.175989  108.817210   房地产   住宅区\n",
       "4      2       鑫垚新区  34.174688  108.815573   房地产   住宅区"
      ]
     },
     "execution_count": 9,
     "metadata": {},
     "output_type": "execute_result"
    }
   ],
   "source": [
    "all_data.head()"
   ]
  },
  {
   "cell_type": "code",
   "execution_count": 10,
   "metadata": {},
   "outputs": [
    {
     "data": {
      "text/plain": [
       "178481"
      ]
     },
     "execution_count": 10,
     "metadata": {},
     "output_type": "execute_result"
    }
   ],
   "source": [
    "len(all_data)"
   ]
  },
  {
   "cell_type": "markdown",
   "metadata": {},
   "source": [
    "### 2.删除重复项"
   ]
  },
  {
   "cell_type": "code",
   "execution_count": 13,
   "metadata": {},
   "outputs": [],
   "source": [
    "all_data01 = all_data.drop_duplicates(subset = ['name','lat','lng'])"
   ]
  },
  {
   "cell_type": "code",
   "execution_count": 14,
   "metadata": {},
   "outputs": [
    {
     "data": {
      "text/plain": [
       "140146"
      ]
     },
     "execution_count": 14,
     "metadata": {},
     "output_type": "execute_result"
    }
   ],
   "source": [
    "len(all_data01)"
   ]
  },
  {
   "cell_type": "code",
   "execution_count": 15,
   "metadata": {},
   "outputs": [],
   "source": [
    "all_data01.to_csv(r'../../file/subject/chapter5/all_data.csv')"
   ]
  },
  {
   "cell_type": "markdown",
   "metadata": {},
   "source": [
    "### 3.坐标转换，BD09转WGS84"
   ]
  },
  {
   "cell_type": "markdown",
   "metadata": {},
   "source": [
    "长文件，在IDE里写"
   ]
  },
  {
   "cell_type": "code",
   "execution_count": 3,
   "metadata": {},
   "outputs": [],
   "source": [
    "data = pd.read_csv(r'../../file/subject/chapter5/检查.csv')"
   ]
  },
  {
   "cell_type": "code",
   "execution_count": 4,
   "metadata": {},
   "outputs": [
    {
     "data": {
      "text/html": [
       "<div>\n",
       "<style scoped>\n",
       "    .dataframe tbody tr th:only-of-type {\n",
       "        vertical-align: middle;\n",
       "    }\n",
       "\n",
       "    .dataframe tbody tr th {\n",
       "        vertical-align: top;\n",
       "    }\n",
       "\n",
       "    .dataframe thead th {\n",
       "        text-align: right;\n",
       "    }\n",
       "</style>\n",
       "<table border=\"1\" class=\"dataframe\">\n",
       "  <thead>\n",
       "    <tr style=\"text-align: right;\">\n",
       "      <th></th>\n",
       "      <th>index</th>\n",
       "      <th>name</th>\n",
       "      <th>lat</th>\n",
       "      <th>lng</th>\n",
       "      <th>sort1</th>\n",
       "      <th>sort2</th>\n",
       "    </tr>\n",
       "  </thead>\n",
       "  <tbody>\n",
       "    <tr>\n",
       "      <td>0</td>\n",
       "      <td>0</td>\n",
       "      <td>爱骑行爱生活单车运动协作会</td>\n",
       "      <td>34.170078</td>\n",
       "      <td>108.831835</td>\n",
       "      <td>政府机构</td>\n",
       "      <td>党派团体</td>\n",
       "    </tr>\n",
       "    <tr>\n",
       "      <td>1</td>\n",
       "      <td>0</td>\n",
       "      <td>西安市教育考试中心</td>\n",
       "      <td>34.317549</td>\n",
       "      <td>108.944790</td>\n",
       "      <td>政府机构</td>\n",
       "      <td>政治教育机构</td>\n",
       "    </tr>\n",
       "    <tr>\n",
       "      <td>2</td>\n",
       "      <td>1</td>\n",
       "      <td>西安市教育考试中心</td>\n",
       "      <td>34.243562</td>\n",
       "      <td>108.958364</td>\n",
       "      <td>政府机构</td>\n",
       "      <td>政治教育机构</td>\n",
       "    </tr>\n",
       "    <tr>\n",
       "      <td>3</td>\n",
       "      <td>2</td>\n",
       "      <td>西安教育</td>\n",
       "      <td>34.312222</td>\n",
       "      <td>109.124069</td>\n",
       "      <td>政府机构</td>\n",
       "      <td>政治教育机构</td>\n",
       "    </tr>\n",
       "    <tr>\n",
       "      <td>4</td>\n",
       "      <td>3</td>\n",
       "      <td>教育培训基地</td>\n",
       "      <td>34.306449</td>\n",
       "      <td>109.066230</td>\n",
       "      <td>政府机构</td>\n",
       "      <td>政治教育机构</td>\n",
       "    </tr>\n",
       "  </tbody>\n",
       "</table>\n",
       "</div>"
      ],
      "text/plain": [
       "   index           name        lat         lng sort1   sort2\n",
       "0      0  爱骑行爱生活单车运动协作会  34.170078  108.831835  政府机构    党派团体\n",
       "1      0      西安市教育考试中心  34.317549  108.944790  政府机构  政治教育机构\n",
       "2      1      西安市教育考试中心  34.243562  108.958364  政府机构  政治教育机构\n",
       "3      2           西安教育  34.312222  109.124069  政府机构  政治教育机构\n",
       "4      3         教育培训基地  34.306449  109.066230  政府机构  政治教育机构"
      ]
     },
     "execution_count": 4,
     "metadata": {},
     "output_type": "execute_result"
    }
   ],
   "source": [
    "data[:5]"
   ]
  },
  {
   "cell_type": "code",
   "execution_count": 5,
   "metadata": {},
   "outputs": [
    {
     "data": {
      "text/html": [
       "<div>\n",
       "<style scoped>\n",
       "    .dataframe tbody tr th:only-of-type {\n",
       "        vertical-align: middle;\n",
       "    }\n",
       "\n",
       "    .dataframe tbody tr th {\n",
       "        vertical-align: top;\n",
       "    }\n",
       "\n",
       "    .dataframe thead th {\n",
       "        text-align: right;\n",
       "    }\n",
       "</style>\n",
       "<table border=\"1\" class=\"dataframe\">\n",
       "  <thead>\n",
       "    <tr style=\"text-align: right;\">\n",
       "      <th></th>\n",
       "      <th>index</th>\n",
       "      <th>name</th>\n",
       "      <th>lat</th>\n",
       "      <th>lng</th>\n",
       "      <th>sort1</th>\n",
       "      <th>sort2</th>\n",
       "      <th>lat_wgs84</th>\n",
       "      <th>lng_wgs84</th>\n",
       "    </tr>\n",
       "  </thead>\n",
       "  <tbody>\n",
       "    <tr>\n",
       "      <td>0</td>\n",
       "      <td>0</td>\n",
       "      <td>爱骑行爱生活单车运动协作会</td>\n",
       "      <td>34.170078</td>\n",
       "      <td>108.831835</td>\n",
       "      <td>政府机构</td>\n",
       "      <td>党派团体</td>\n",
       "      <td>0.0</td>\n",
       "      <td>0.0</td>\n",
       "    </tr>\n",
       "    <tr>\n",
       "      <td>1</td>\n",
       "      <td>0</td>\n",
       "      <td>西安市教育考试中心</td>\n",
       "      <td>34.317549</td>\n",
       "      <td>108.944790</td>\n",
       "      <td>政府机构</td>\n",
       "      <td>政治教育机构</td>\n",
       "      <td>0.0</td>\n",
       "      <td>0.0</td>\n",
       "    </tr>\n",
       "    <tr>\n",
       "      <td>2</td>\n",
       "      <td>1</td>\n",
       "      <td>西安市教育考试中心</td>\n",
       "      <td>34.243562</td>\n",
       "      <td>108.958364</td>\n",
       "      <td>政府机构</td>\n",
       "      <td>政治教育机构</td>\n",
       "      <td>0.0</td>\n",
       "      <td>0.0</td>\n",
       "    </tr>\n",
       "    <tr>\n",
       "      <td>3</td>\n",
       "      <td>2</td>\n",
       "      <td>西安教育</td>\n",
       "      <td>34.312222</td>\n",
       "      <td>109.124069</td>\n",
       "      <td>政府机构</td>\n",
       "      <td>政治教育机构</td>\n",
       "      <td>0.0</td>\n",
       "      <td>0.0</td>\n",
       "    </tr>\n",
       "    <tr>\n",
       "      <td>4</td>\n",
       "      <td>3</td>\n",
       "      <td>教育培训基地</td>\n",
       "      <td>34.306449</td>\n",
       "      <td>109.066230</td>\n",
       "      <td>政府机构</td>\n",
       "      <td>政治教育机构</td>\n",
       "      <td>0.0</td>\n",
       "      <td>0.0</td>\n",
       "    </tr>\n",
       "    <tr>\n",
       "      <td>...</td>\n",
       "      <td>...</td>\n",
       "      <td>...</td>\n",
       "      <td>...</td>\n",
       "      <td>...</td>\n",
       "      <td>...</td>\n",
       "      <td>...</td>\n",
       "      <td>...</td>\n",
       "      <td>...</td>\n",
       "    </tr>\n",
       "    <tr>\n",
       "      <td>3040</td>\n",
       "      <td>0</td>\n",
       "      <td>西安市灞桥区灞桥街道黄邓社区居委会</td>\n",
       "      <td>34.342635</td>\n",
       "      <td>109.060927</td>\n",
       "      <td>政府机构</td>\n",
       "      <td>居民委员会</td>\n",
       "      <td>0.0</td>\n",
       "      <td>0.0</td>\n",
       "    </tr>\n",
       "    <tr>\n",
       "      <td>3041</td>\n",
       "      <td>1</td>\n",
       "      <td>西安市灞桥区灞桥街道康家村村民委员会</td>\n",
       "      <td>34.345189</td>\n",
       "      <td>109.053803</td>\n",
       "      <td>政府机构</td>\n",
       "      <td>居民委员会</td>\n",
       "      <td>0.0</td>\n",
       "      <td>0.0</td>\n",
       "    </tr>\n",
       "    <tr>\n",
       "      <td>3042</td>\n",
       "      <td>2</td>\n",
       "      <td>谢一村委会</td>\n",
       "      <td>34.358072</td>\n",
       "      <td>109.061272</td>\n",
       "      <td>政府机构</td>\n",
       "      <td>居民委员会</td>\n",
       "      <td>0.0</td>\n",
       "      <td>0.0</td>\n",
       "    </tr>\n",
       "    <tr>\n",
       "      <td>3043</td>\n",
       "      <td>3</td>\n",
       "      <td>中国共产党灞桥区灞桥街道务西村支部委员会</td>\n",
       "      <td>34.351687</td>\n",
       "      <td>109.069085</td>\n",
       "      <td>政府机构</td>\n",
       "      <td>居民委员会</td>\n",
       "      <td>0.0</td>\n",
       "      <td>0.0</td>\n",
       "    </tr>\n",
       "    <tr>\n",
       "      <td>3044</td>\n",
       "      <td>0</td>\n",
       "      <td>香胡湾村村委会</td>\n",
       "      <td>34.341789</td>\n",
       "      <td>109.070026</td>\n",
       "      <td>政府机构</td>\n",
       "      <td>各级政府</td>\n",
       "      <td>0.0</td>\n",
       "      <td>0.0</td>\n",
       "    </tr>\n",
       "  </tbody>\n",
       "</table>\n",
       "<p>3045 rows × 8 columns</p>\n",
       "</div>"
      ],
      "text/plain": [
       "      index                  name        lat         lng sort1   sort2  \\\n",
       "0         0         爱骑行爱生活单车运动协作会  34.170078  108.831835  政府机构    党派团体   \n",
       "1         0             西安市教育考试中心  34.317549  108.944790  政府机构  政治教育机构   \n",
       "2         1             西安市教育考试中心  34.243562  108.958364  政府机构  政治教育机构   \n",
       "3         2                  西安教育  34.312222  109.124069  政府机构  政治教育机构   \n",
       "4         3                教育培训基地  34.306449  109.066230  政府机构  政治教育机构   \n",
       "...     ...                   ...        ...         ...   ...     ...   \n",
       "3040      0     西安市灞桥区灞桥街道黄邓社区居委会  34.342635  109.060927  政府机构   居民委员会   \n",
       "3041      1    西安市灞桥区灞桥街道康家村村民委员会  34.345189  109.053803  政府机构   居民委员会   \n",
       "3042      2                 谢一村委会  34.358072  109.061272  政府机构   居民委员会   \n",
       "3043      3  中国共产党灞桥区灞桥街道务西村支部委员会  34.351687  109.069085  政府机构   居民委员会   \n",
       "3044      0               香胡湾村村委会  34.341789  109.070026  政府机构    各级政府   \n",
       "\n",
       "      lat_wgs84  lng_wgs84  \n",
       "0           0.0        0.0  \n",
       "1           0.0        0.0  \n",
       "2           0.0        0.0  \n",
       "3           0.0        0.0  \n",
       "4           0.0        0.0  \n",
       "...         ...        ...  \n",
       "3040        0.0        0.0  \n",
       "3041        0.0        0.0  \n",
       "3042        0.0        0.0  \n",
       "3043        0.0        0.0  \n",
       "3044        0.0        0.0  \n",
       "\n",
       "[3045 rows x 8 columns]"
      ]
     },
     "execution_count": 5,
     "metadata": {},
     "output_type": "execute_result"
    }
   ],
   "source": [
    "data['lat_wgs84'] = 0.00\n",
    "data['lng_wgs84'] = 0.00\n",
    "data"
   ]
  },
  {
   "cell_type": "code",
   "execution_count": 7,
   "metadata": {
    "scrolled": true
   },
   "outputs": [],
   "source": [
    "data02 = data.copy()"
   ]
  },
  {
   "cell_type": "code",
   "execution_count": 74,
   "metadata": {},
   "outputs": [],
   "source": [
    "#定义一个函数，能够修改pandas对象的值"
   ]
  },
  {
   "cell_type": "code",
   "execution_count": 20,
   "metadata": {},
   "outputs": [
    {
     "data": {
      "text/plain": [
       "45"
      ]
     },
     "execution_count": 20,
     "metadata": {},
     "output_type": "execute_result"
    }
   ],
   "source": [
    "len(data02)%100"
   ]
  },
  {
   "cell_type": "code",
   "execution_count": 58,
   "metadata": {},
   "outputs": [],
   "source": [
    "for i in range(len(data02)-(len(data02)%100),len(data02)):\n",
    "    data02.loc[i:i,('lat_wgs84','lng_wgs84')] = [i-1,i+1]"
   ]
  },
  {
   "cell_type": "code",
   "execution_count": 71,
   "metadata": {},
   "outputs": [
    {
     "data": {
      "text/html": [
       "<div>\n",
       "<style scoped>\n",
       "    .dataframe tbody tr th:only-of-type {\n",
       "        vertical-align: middle;\n",
       "    }\n",
       "\n",
       "    .dataframe tbody tr th {\n",
       "        vertical-align: top;\n",
       "    }\n",
       "\n",
       "    .dataframe thead th {\n",
       "        text-align: right;\n",
       "    }\n",
       "</style>\n",
       "<table border=\"1\" class=\"dataframe\">\n",
       "  <thead>\n",
       "    <tr style=\"text-align: right;\">\n",
       "      <th></th>\n",
       "      <th>index</th>\n",
       "      <th>name</th>\n",
       "      <th>lat</th>\n",
       "      <th>lng</th>\n",
       "      <th>sort1</th>\n",
       "      <th>sort2</th>\n",
       "      <th>lat_wgs84</th>\n",
       "      <th>lng_wgs84</th>\n",
       "    </tr>\n",
       "  </thead>\n",
       "  <tbody>\n",
       "    <tr>\n",
       "      <td>3000</td>\n",
       "      <td>2</td>\n",
       "      <td>谭家街道文学艺术界联合会</td>\n",
       "      <td>34.340529</td>\n",
       "      <td>108.984108</td>\n",
       "      <td>政府机构</td>\n",
       "      <td>社会团体</td>\n",
       "      <td>2999</td>\n",
       "      <td>3001.0</td>\n",
       "    </tr>\n",
       "    <tr>\n",
       "      <td>3001</td>\n",
       "      <td>3</td>\n",
       "      <td>陕西省国际标准舞学会</td>\n",
       "      <td>34.353181</td>\n",
       "      <td>108.974071</td>\n",
       "      <td>政府机构</td>\n",
       "      <td>社会团体</td>\n",
       "      <td>3000</td>\n",
       "      <td>3002.0</td>\n",
       "    </tr>\n",
       "    <tr>\n",
       "      <td>3002</td>\n",
       "      <td>4</td>\n",
       "      <td>西安市未央区张家堡街道办事处五龙汤社区老年协会</td>\n",
       "      <td>34.355846</td>\n",
       "      <td>108.978418</td>\n",
       "      <td>政府机构</td>\n",
       "      <td>社会团体</td>\n",
       "      <td>3001</td>\n",
       "      <td>3003.0</td>\n",
       "    </tr>\n",
       "  </tbody>\n",
       "</table>\n",
       "</div>"
      ],
      "text/plain": [
       "      index                     name        lat         lng sort1 sort2  \\\n",
       "3000      2             谭家街道文学艺术界联合会  34.340529  108.984108  政府机构  社会团体   \n",
       "3001      3               陕西省国际标准舞学会  34.353181  108.974071  政府机构  社会团体   \n",
       "3002      4  西安市未央区张家堡街道办事处五龙汤社区老年协会  34.355846  108.978418  政府机构  社会团体   \n",
       "\n",
       "      lat_wgs84  lng_wgs84  \n",
       "3000       2999     3001.0  \n",
       "3001       3000     3002.0  \n",
       "3002       3001     3003.0  "
      ]
     },
     "execution_count": 71,
     "metadata": {},
     "output_type": "execute_result"
    }
   ],
   "source": [
    "data02[3000:3003]"
   ]
  },
  {
   "cell_type": "code",
   "execution_count": 75,
   "metadata": {},
   "outputs": [
    {
     "name": "stdout",
     "output_type": "stream",
     "text": [
      "time use:45.426859617233276\n"
     ]
    }
   ],
   "source": [
    "import time\n",
    "#前100整数个对象\n",
    "start_time = time.time()\n",
    "for i in range(len(data02)//100+1):\n",
    "    def coor_trans():\n",
    "        for j in  range(i*100):\n",
    "            data02.loc[j:j,('lat_wgs84','lng_wgs84')] = [j-2,j+2]\n",
    "    coor_trans()\n",
    "#最后一个非100整数对象\n",
    "for i in range(len(data02)-(len(data02)%100),len(data02)):\n",
    "    data02.loc[i:i,('lat_wgs84','lng_wgs84')] = [i-2,i+2]\n",
    "end_time = time.time()\n",
    "print('time use:{}'.format(end_time-start_time))"
   ]
  },
  {
   "cell_type": "code",
   "execution_count": 76,
   "metadata": {
    "scrolled": true
   },
   "outputs": [
    {
     "data": {
      "text/html": [
       "<div>\n",
       "<style scoped>\n",
       "    .dataframe tbody tr th:only-of-type {\n",
       "        vertical-align: middle;\n",
       "    }\n",
       "\n",
       "    .dataframe tbody tr th {\n",
       "        vertical-align: top;\n",
       "    }\n",
       "\n",
       "    .dataframe thead th {\n",
       "        text-align: right;\n",
       "    }\n",
       "</style>\n",
       "<table border=\"1\" class=\"dataframe\">\n",
       "  <thead>\n",
       "    <tr style=\"text-align: right;\">\n",
       "      <th></th>\n",
       "      <th>index</th>\n",
       "      <th>name</th>\n",
       "      <th>lat</th>\n",
       "      <th>lng</th>\n",
       "      <th>sort1</th>\n",
       "      <th>sort2</th>\n",
       "      <th>lat_wgs84</th>\n",
       "      <th>lng_wgs84</th>\n",
       "    </tr>\n",
       "  </thead>\n",
       "  <tbody>\n",
       "    <tr>\n",
       "      <td>2995</td>\n",
       "      <td>5</td>\n",
       "      <td>谭家街道文学艺术界联合会</td>\n",
       "      <td>34.340529</td>\n",
       "      <td>108.984108</td>\n",
       "      <td>政府机构</td>\n",
       "      <td>党派团体</td>\n",
       "      <td>2993</td>\n",
       "      <td>2997.0</td>\n",
       "    </tr>\n",
       "    <tr>\n",
       "      <td>2996</td>\n",
       "      <td>6</td>\n",
       "      <td>中共五龙汤社区支部委员会</td>\n",
       "      <td>34.356650</td>\n",
       "      <td>108.975046</td>\n",
       "      <td>政府机构</td>\n",
       "      <td>党派团体</td>\n",
       "      <td>2994</td>\n",
       "      <td>2998.0</td>\n",
       "    </tr>\n",
       "    <tr>\n",
       "      <td>2997</td>\n",
       "      <td>7</td>\n",
       "      <td>西安市未央区张家堡街道办事处五龙汤社区老年协会</td>\n",
       "      <td>34.355846</td>\n",
       "      <td>108.978418</td>\n",
       "      <td>政府机构</td>\n",
       "      <td>党派团体</td>\n",
       "      <td>2995</td>\n",
       "      <td>2999.0</td>\n",
       "    </tr>\n",
       "    <tr>\n",
       "      <td>2998</td>\n",
       "      <td>8</td>\n",
       "      <td>中国共产党西安未央康乐医院支部委员会</td>\n",
       "      <td>34.352732</td>\n",
       "      <td>108.971605</td>\n",
       "      <td>政府机构</td>\n",
       "      <td>党派团体</td>\n",
       "      <td>2996</td>\n",
       "      <td>3000.0</td>\n",
       "    </tr>\n",
       "    <tr>\n",
       "      <td>2999</td>\n",
       "      <td>1</td>\n",
       "      <td>西安市示范基层老年协会</td>\n",
       "      <td>34.356742</td>\n",
       "      <td>108.975105</td>\n",
       "      <td>政府机构</td>\n",
       "      <td>社会团体</td>\n",
       "      <td>2997</td>\n",
       "      <td>3001.0</td>\n",
       "    </tr>\n",
       "    <tr>\n",
       "      <td>3000</td>\n",
       "      <td>2</td>\n",
       "      <td>谭家街道文学艺术界联合会</td>\n",
       "      <td>34.340529</td>\n",
       "      <td>108.984108</td>\n",
       "      <td>政府机构</td>\n",
       "      <td>社会团体</td>\n",
       "      <td>2998</td>\n",
       "      <td>3002.0</td>\n",
       "    </tr>\n",
       "    <tr>\n",
       "      <td>3001</td>\n",
       "      <td>3</td>\n",
       "      <td>陕西省国际标准舞学会</td>\n",
       "      <td>34.353181</td>\n",
       "      <td>108.974071</td>\n",
       "      <td>政府机构</td>\n",
       "      <td>社会团体</td>\n",
       "      <td>2999</td>\n",
       "      <td>3003.0</td>\n",
       "    </tr>\n",
       "    <tr>\n",
       "      <td>3002</td>\n",
       "      <td>4</td>\n",
       "      <td>西安市未央区张家堡街道办事处五龙汤社区老年协会</td>\n",
       "      <td>34.355846</td>\n",
       "      <td>108.978418</td>\n",
       "      <td>政府机构</td>\n",
       "      <td>社会团体</td>\n",
       "      <td>3000</td>\n",
       "      <td>3004.0</td>\n",
       "    </tr>\n",
       "    <tr>\n",
       "      <td>3003</td>\n",
       "      <td>5</td>\n",
       "      <td>航空行业第十三职业技能鉴定站操作技能培训考试基地</td>\n",
       "      <td>34.357061</td>\n",
       "      <td>108.972291</td>\n",
       "      <td>政府机构</td>\n",
       "      <td>社会团体</td>\n",
       "      <td>3001</td>\n",
       "      <td>3005.0</td>\n",
       "    </tr>\n",
       "  </tbody>\n",
       "</table>\n",
       "</div>"
      ],
      "text/plain": [
       "      index                      name        lat         lng sort1 sort2  \\\n",
       "2995      5              谭家街道文学艺术界联合会  34.340529  108.984108  政府机构  党派团体   \n",
       "2996      6              中共五龙汤社区支部委员会  34.356650  108.975046  政府机构  党派团体   \n",
       "2997      7   西安市未央区张家堡街道办事处五龙汤社区老年协会  34.355846  108.978418  政府机构  党派团体   \n",
       "2998      8        中国共产党西安未央康乐医院支部委员会  34.352732  108.971605  政府机构  党派团体   \n",
       "2999      1               西安市示范基层老年协会  34.356742  108.975105  政府机构  社会团体   \n",
       "3000      2              谭家街道文学艺术界联合会  34.340529  108.984108  政府机构  社会团体   \n",
       "3001      3                陕西省国际标准舞学会  34.353181  108.974071  政府机构  社会团体   \n",
       "3002      4   西安市未央区张家堡街道办事处五龙汤社区老年协会  34.355846  108.978418  政府机构  社会团体   \n",
       "3003      5  航空行业第十三职业技能鉴定站操作技能培训考试基地  34.357061  108.972291  政府机构  社会团体   \n",
       "\n",
       "      lat_wgs84  lng_wgs84  \n",
       "2995       2993     2997.0  \n",
       "2996       2994     2998.0  \n",
       "2997       2995     2999.0  \n",
       "2998       2996     3000.0  \n",
       "2999       2997     3001.0  \n",
       "3000       2998     3002.0  \n",
       "3001       2999     3003.0  \n",
       "3002       3000     3004.0  \n",
       "3003       3001     3005.0  "
      ]
     },
     "execution_count": 76,
     "metadata": {},
     "output_type": "execute_result"
    }
   ],
   "source": [
    "data02.loc[2995:3003]"
   ]
  }
 ],
 "metadata": {
  "kernelspec": {
   "display_name": "Python 3",
   "language": "python",
   "name": "python3"
  },
  "language_info": {
   "codemirror_mode": {
    "name": "ipython",
    "version": 3
   },
   "file_extension": ".py",
   "mimetype": "text/x-python",
   "name": "python",
   "nbconvert_exporter": "python",
   "pygments_lexer": "ipython3",
   "version": "3.7.4"
  }
 },
 "nbformat": 4,
 "nbformat_minor": 2
}
