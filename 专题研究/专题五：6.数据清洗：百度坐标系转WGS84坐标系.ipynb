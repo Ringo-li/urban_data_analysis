{
 "cells": [
  {
   "cell_type": "markdown",
   "metadata": {},
   "source": [
    "### 1.多个文件合并成一个文件"
   ]
  },
  {
   "cell_type": "code",
   "execution_count": 45,
   "metadata": {},
   "outputs": [],
   "source": [
    "import pandas as pd\n",
    "from sqlalchemy import create_engine "
   ]
  },
  {
   "cell_type": "code",
   "execution_count": 46,
   "metadata": {},
   "outputs": [],
   "source": [
    "'''create_engine()用来初始化数据库连接，括号内为连接信息：\n",
    "（“数据库类型+数据库驱动名称：//用户名：密码@数据库服务器的名称或IP地址：端口号/\n",
    "数据库名称?driver=SQL+Server+Native+Client+11.0',encoding='utf-8',echo=False,poolclass=NullPool）'''\n",
    "\n",
    "engine = create_engine('mssql+pyodbc://:@CLAIRE/baidu_poi?driver=SQL server')"
   ]
  },
  {
   "cell_type": "code",
   "execution_count": 47,
   "metadata": {},
   "outputs": [
    {
     "data": {
      "text/plain": [
       "['baidu_poi_房地产',\n",
       " 'baidu_poi_公司企业',\n",
       " 'baidu_poi_购物',\n",
       " 'baidu_poi_交通设施',\n",
       " 'baidu_poi_教育培训',\n",
       " 'baidu_poi_金融',\n",
       " 'baidu_poi_酒店',\n",
       " 'baidu_poi_丽人',\n",
       " 'baidu_poi_旅游景点',\n",
       " 'baidu_poi_美食',\n",
       " 'baidu_poi_汽车服务',\n",
       " 'baidu_poi_生活服务',\n",
       " 'baidu_poi_文化传媒',\n",
       " 'baidu_poi_休闲娱乐',\n",
       " 'baidu_poi_医疗',\n",
       " 'baidu_poi_运动健身',\n",
       " 'baidu_poi_政府机构']"
      ]
     },
     "execution_count": 47,
     "metadata": {},
     "output_type": "execute_result"
    }
   ],
   "source": [
    " engine.table_names() "
   ]
  },
  {
   "cell_type": "code",
   "execution_count": 48,
   "metadata": {},
   "outputs": [],
   "source": [
    "def concat_file(table):\n",
    "    with engine.connect() as conn,conn.begin():\n",
    "        data = pd.read_sql_table(table,conn)\n",
    "        return data"
   ]
  },
  {
   "cell_type": "code",
   "execution_count": 49,
   "metadata": {},
   "outputs": [],
   "source": [
    "df_list = [concat_file(poi) for poi in engine.table_names()]"
   ]
  },
  {
   "cell_type": "code",
   "execution_count": 50,
   "metadata": {},
   "outputs": [],
   "source": [
    "all_data = pd.concat(df_list)"
   ]
  },
  {
   "cell_type": "code",
   "execution_count": 51,
   "metadata": {},
   "outputs": [
    {
     "data": {
      "text/html": [
       "<div>\n",
       "<style scoped>\n",
       "    .dataframe tbody tr th:only-of-type {\n",
       "        vertical-align: middle;\n",
       "    }\n",
       "\n",
       "    .dataframe tbody tr th {\n",
       "        vertical-align: top;\n",
       "    }\n",
       "\n",
       "    .dataframe thead th {\n",
       "        text-align: right;\n",
       "    }\n",
       "</style>\n",
       "<table border=\"1\" class=\"dataframe\">\n",
       "  <thead>\n",
       "    <tr style=\"text-align: right;\">\n",
       "      <th></th>\n",
       "      <th>index</th>\n",
       "      <th>name</th>\n",
       "      <th>lat</th>\n",
       "      <th>lng</th>\n",
       "      <th>sort1</th>\n",
       "      <th>sort2</th>\n",
       "    </tr>\n",
       "  </thead>\n",
       "  <tbody>\n",
       "    <tr>\n",
       "      <td>0</td>\n",
       "      <td>0</td>\n",
       "      <td>丰泽科技园-2号楼</td>\n",
       "      <td>34.176428</td>\n",
       "      <td>108.816795</td>\n",
       "      <td>房地产</td>\n",
       "      <td>写字楼</td>\n",
       "    </tr>\n",
       "    <tr>\n",
       "      <td>1</td>\n",
       "      <td>1</td>\n",
       "      <td>高新新区</td>\n",
       "      <td>34.173326</td>\n",
       "      <td>108.827928</td>\n",
       "      <td>房地产</td>\n",
       "      <td>写字楼</td>\n",
       "    </tr>\n",
       "    <tr>\n",
       "      <td>2</td>\n",
       "      <td>0</td>\n",
       "      <td>丰泽科技园-5号楼</td>\n",
       "      <td>34.175525</td>\n",
       "      <td>108.817244</td>\n",
       "      <td>房地产</td>\n",
       "      <td>住宅区</td>\n",
       "    </tr>\n",
       "    <tr>\n",
       "      <td>3</td>\n",
       "      <td>1</td>\n",
       "      <td>丰泽科技路3号楼</td>\n",
       "      <td>34.175989</td>\n",
       "      <td>108.817210</td>\n",
       "      <td>房地产</td>\n",
       "      <td>住宅区</td>\n",
       "    </tr>\n",
       "    <tr>\n",
       "      <td>4</td>\n",
       "      <td>2</td>\n",
       "      <td>鑫垚新区</td>\n",
       "      <td>34.174688</td>\n",
       "      <td>108.815573</td>\n",
       "      <td>房地产</td>\n",
       "      <td>住宅区</td>\n",
       "    </tr>\n",
       "  </tbody>\n",
       "</table>\n",
       "</div>"
      ],
      "text/plain": [
       "   index       name        lat         lng sort1 sort2\n",
       "0      0  丰泽科技园-2号楼  34.176428  108.816795   房地产   写字楼\n",
       "1      1       高新新区  34.173326  108.827928   房地产   写字楼\n",
       "2      0  丰泽科技园-5号楼  34.175525  108.817244   房地产   住宅区\n",
       "3      1   丰泽科技路3号楼  34.175989  108.817210   房地产   住宅区\n",
       "4      2       鑫垚新区  34.174688  108.815573   房地产   住宅区"
      ]
     },
     "execution_count": 51,
     "metadata": {},
     "output_type": "execute_result"
    }
   ],
   "source": [
    "all_data.head()"
   ]
  },
  {
   "cell_type": "code",
   "execution_count": 52,
   "metadata": {},
   "outputs": [
    {
     "data": {
      "text/plain": [
       "244961"
      ]
     },
     "execution_count": 52,
     "metadata": {},
     "output_type": "execute_result"
    }
   ],
   "source": [
    "len(all_data)"
   ]
  },
  {
   "cell_type": "markdown",
   "metadata": {},
   "source": [
    "### 2.删除重复项"
   ]
  },
  {
   "cell_type": "code",
   "execution_count": 53,
   "metadata": {},
   "outputs": [],
   "source": [
    "all_data01 = all_data.drop_duplicates(subset = ['name','lat','lng'])"
   ]
  },
  {
   "cell_type": "code",
   "execution_count": 54,
   "metadata": {},
   "outputs": [
    {
     "data": {
      "text/plain": [
       "169792"
      ]
     },
     "execution_count": 54,
     "metadata": {},
     "output_type": "execute_result"
    }
   ],
   "source": [
    "len(all_data01)"
   ]
  },
  {
   "cell_type": "code",
   "execution_count": 60,
   "metadata": {},
   "outputs": [
    {
     "data": {
      "text/html": [
       "<div>\n",
       "<style scoped>\n",
       "    .dataframe tbody tr th:only-of-type {\n",
       "        vertical-align: middle;\n",
       "    }\n",
       "\n",
       "    .dataframe tbody tr th {\n",
       "        vertical-align: top;\n",
       "    }\n",
       "\n",
       "    .dataframe thead th {\n",
       "        text-align: right;\n",
       "    }\n",
       "</style>\n",
       "<table border=\"1\" class=\"dataframe\">\n",
       "  <thead>\n",
       "    <tr style=\"text-align: right;\">\n",
       "      <th></th>\n",
       "      <th>index</th>\n",
       "      <th>name</th>\n",
       "      <th>lat</th>\n",
       "      <th>lng</th>\n",
       "      <th>sort1</th>\n",
       "      <th>sort2</th>\n",
       "    </tr>\n",
       "  </thead>\n",
       "  <tbody>\n",
       "    <tr>\n",
       "      <td>0</td>\n",
       "      <td>0</td>\n",
       "      <td>丰泽科技园-2号楼</td>\n",
       "      <td>34.176428</td>\n",
       "      <td>108.816795</td>\n",
       "      <td>房地产</td>\n",
       "      <td>写字楼</td>\n",
       "    </tr>\n",
       "    <tr>\n",
       "      <td>1</td>\n",
       "      <td>1</td>\n",
       "      <td>高新新区</td>\n",
       "      <td>34.173326</td>\n",
       "      <td>108.827928</td>\n",
       "      <td>房地产</td>\n",
       "      <td>写字楼</td>\n",
       "    </tr>\n",
       "    <tr>\n",
       "      <td>2</td>\n",
       "      <td>0</td>\n",
       "      <td>丰泽科技园-5号楼</td>\n",
       "      <td>34.175525</td>\n",
       "      <td>108.817244</td>\n",
       "      <td>房地产</td>\n",
       "      <td>住宅区</td>\n",
       "    </tr>\n",
       "    <tr>\n",
       "      <td>3</td>\n",
       "      <td>1</td>\n",
       "      <td>丰泽科技路3号楼</td>\n",
       "      <td>34.175989</td>\n",
       "      <td>108.817210</td>\n",
       "      <td>房地产</td>\n",
       "      <td>住宅区</td>\n",
       "    </tr>\n",
       "    <tr>\n",
       "      <td>4</td>\n",
       "      <td>2</td>\n",
       "      <td>鑫垚新区</td>\n",
       "      <td>34.174688</td>\n",
       "      <td>108.815573</td>\n",
       "      <td>房地产</td>\n",
       "      <td>住宅区</td>\n",
       "    </tr>\n",
       "  </tbody>\n",
       "</table>\n",
       "</div>"
      ],
      "text/plain": [
       "   index       name        lat         lng sort1 sort2\n",
       "0      0  丰泽科技园-2号楼  34.176428  108.816795   房地产   写字楼\n",
       "1      1       高新新区  34.173326  108.827928   房地产   写字楼\n",
       "2      0  丰泽科技园-5号楼  34.175525  108.817244   房地产   住宅区\n",
       "3      1   丰泽科技路3号楼  34.175989  108.817210   房地产   住宅区\n",
       "4      2       鑫垚新区  34.174688  108.815573   房地产   住宅区"
      ]
     },
     "execution_count": 60,
     "metadata": {},
     "output_type": "execute_result"
    }
   ],
   "source": [
    "all_data01.head()"
   ]
  },
  {
   "cell_type": "markdown",
   "metadata": {},
   "source": [
    "#### 3.删除范围之外的数据\n",
    "34.16985,108.756009,34.395586,109.146952"
   ]
  },
  {
   "cell_type": "code",
   "execution_count": 70,
   "metadata": {},
   "outputs": [],
   "source": [
    "all_data_02 = all_data01[(all_data01['lat'] > 34.16985) & (all_data01['lat'] < 34.395586)\\\n",
    "           & (all_data01['lng'] > 108.756009) & (all_data01['lng'] < 109.146952)]"
   ]
  },
  {
   "cell_type": "code",
   "execution_count": 71,
   "metadata": {},
   "outputs": [
    {
     "data": {
      "text/plain": [
       "163257"
      ]
     },
     "execution_count": 71,
     "metadata": {},
     "output_type": "execute_result"
    }
   ],
   "source": [
    "len(all_data_02)"
   ]
  },
  {
   "cell_type": "code",
   "execution_count": 72,
   "metadata": {},
   "outputs": [],
   "source": [
    "all_data_02.to_csv(r'../../file/subject/chapter5/all_data_2.csv')"
   ]
  },
  {
   "cell_type": "markdown",
   "metadata": {},
   "source": [
    "### 3.坐标转换，BD09转WGS84"
   ]
  },
  {
   "cell_type": "markdown",
   "metadata": {},
   "source": [
    "长文件，在IDE里写"
   ]
  },
  {
   "cell_type": "code",
   "execution_count": 3,
   "metadata": {},
   "outputs": [],
   "source": [
    "data = pd.read_csv(r'../../file/subject/chapter5/检查.csv')"
   ]
  },
  {
   "cell_type": "code",
   "execution_count": 4,
   "metadata": {},
   "outputs": [
    {
     "data": {
      "text/html": [
       "<div>\n",
       "<style scoped>\n",
       "    .dataframe tbody tr th:only-of-type {\n",
       "        vertical-align: middle;\n",
       "    }\n",
       "\n",
       "    .dataframe tbody tr th {\n",
       "        vertical-align: top;\n",
       "    }\n",
       "\n",
       "    .dataframe thead th {\n",
       "        text-align: right;\n",
       "    }\n",
       "</style>\n",
       "<table border=\"1\" class=\"dataframe\">\n",
       "  <thead>\n",
       "    <tr style=\"text-align: right;\">\n",
       "      <th></th>\n",
       "      <th>index</th>\n",
       "      <th>name</th>\n",
       "      <th>lat</th>\n",
       "      <th>lng</th>\n",
       "      <th>sort1</th>\n",
       "      <th>sort2</th>\n",
       "    </tr>\n",
       "  </thead>\n",
       "  <tbody>\n",
       "    <tr>\n",
       "      <td>0</td>\n",
       "      <td>0</td>\n",
       "      <td>爱骑行爱生活单车运动协作会</td>\n",
       "      <td>34.170078</td>\n",
       "      <td>108.831835</td>\n",
       "      <td>政府机构</td>\n",
       "      <td>党派团体</td>\n",
       "    </tr>\n",
       "    <tr>\n",
       "      <td>1</td>\n",
       "      <td>0</td>\n",
       "      <td>西安市教育考试中心</td>\n",
       "      <td>34.317549</td>\n",
       "      <td>108.944790</td>\n",
       "      <td>政府机构</td>\n",
       "      <td>政治教育机构</td>\n",
       "    </tr>\n",
       "    <tr>\n",
       "      <td>2</td>\n",
       "      <td>1</td>\n",
       "      <td>西安市教育考试中心</td>\n",
       "      <td>34.243562</td>\n",
       "      <td>108.958364</td>\n",
       "      <td>政府机构</td>\n",
       "      <td>政治教育机构</td>\n",
       "    </tr>\n",
       "    <tr>\n",
       "      <td>3</td>\n",
       "      <td>2</td>\n",
       "      <td>西安教育</td>\n",
       "      <td>34.312222</td>\n",
       "      <td>109.124069</td>\n",
       "      <td>政府机构</td>\n",
       "      <td>政治教育机构</td>\n",
       "    </tr>\n",
       "    <tr>\n",
       "      <td>4</td>\n",
       "      <td>3</td>\n",
       "      <td>教育培训基地</td>\n",
       "      <td>34.306449</td>\n",
       "      <td>109.066230</td>\n",
       "      <td>政府机构</td>\n",
       "      <td>政治教育机构</td>\n",
       "    </tr>\n",
       "  </tbody>\n",
       "</table>\n",
       "</div>"
      ],
      "text/plain": [
       "   index           name        lat         lng sort1   sort2\n",
       "0      0  爱骑行爱生活单车运动协作会  34.170078  108.831835  政府机构    党派团体\n",
       "1      0      西安市教育考试中心  34.317549  108.944790  政府机构  政治教育机构\n",
       "2      1      西安市教育考试中心  34.243562  108.958364  政府机构  政治教育机构\n",
       "3      2           西安教育  34.312222  109.124069  政府机构  政治教育机构\n",
       "4      3         教育培训基地  34.306449  109.066230  政府机构  政治教育机构"
      ]
     },
     "execution_count": 4,
     "metadata": {},
     "output_type": "execute_result"
    }
   ],
   "source": [
    "data[:5]"
   ]
  },
  {
   "cell_type": "code",
   "execution_count": 73,
   "metadata": {},
   "outputs": [
    {
     "data": {
      "text/html": [
       "<div>\n",
       "<style scoped>\n",
       "    .dataframe tbody tr th:only-of-type {\n",
       "        vertical-align: middle;\n",
       "    }\n",
       "\n",
       "    .dataframe tbody tr th {\n",
       "        vertical-align: top;\n",
       "    }\n",
       "\n",
       "    .dataframe thead th {\n",
       "        text-align: right;\n",
       "    }\n",
       "</style>\n",
       "<table border=\"1\" class=\"dataframe\">\n",
       "  <thead>\n",
       "    <tr style=\"text-align: right;\">\n",
       "      <th></th>\n",
       "      <th>index</th>\n",
       "      <th>name</th>\n",
       "      <th>lat</th>\n",
       "      <th>lng</th>\n",
       "      <th>sort1</th>\n",
       "      <th>sort2</th>\n",
       "      <th>lat_wgs84</th>\n",
       "      <th>lng_wgs84</th>\n",
       "    </tr>\n",
       "  </thead>\n",
       "  <tbody>\n",
       "    <tr>\n",
       "      <td>0</td>\n",
       "      <td>0</td>\n",
       "      <td>爱骑行爱生活单车运动协作会</td>\n",
       "      <td>34.170078</td>\n",
       "      <td>108.831835</td>\n",
       "      <td>政府机构</td>\n",
       "      <td>党派团体</td>\n",
       "      <td>0.0</td>\n",
       "      <td>0.0</td>\n",
       "    </tr>\n",
       "    <tr>\n",
       "      <td>1</td>\n",
       "      <td>0</td>\n",
       "      <td>西安市教育考试中心</td>\n",
       "      <td>34.317549</td>\n",
       "      <td>108.944790</td>\n",
       "      <td>政府机构</td>\n",
       "      <td>政治教育机构</td>\n",
       "      <td>0.0</td>\n",
       "      <td>0.0</td>\n",
       "    </tr>\n",
       "    <tr>\n",
       "      <td>2</td>\n",
       "      <td>1</td>\n",
       "      <td>西安市教育考试中心</td>\n",
       "      <td>34.243562</td>\n",
       "      <td>108.958364</td>\n",
       "      <td>政府机构</td>\n",
       "      <td>政治教育机构</td>\n",
       "      <td>0.0</td>\n",
       "      <td>0.0</td>\n",
       "    </tr>\n",
       "    <tr>\n",
       "      <td>3</td>\n",
       "      <td>2</td>\n",
       "      <td>西安教育</td>\n",
       "      <td>34.312222</td>\n",
       "      <td>109.124069</td>\n",
       "      <td>政府机构</td>\n",
       "      <td>政治教育机构</td>\n",
       "      <td>0.0</td>\n",
       "      <td>0.0</td>\n",
       "    </tr>\n",
       "    <tr>\n",
       "      <td>4</td>\n",
       "      <td>3</td>\n",
       "      <td>教育培训基地</td>\n",
       "      <td>34.306449</td>\n",
       "      <td>109.066230</td>\n",
       "      <td>政府机构</td>\n",
       "      <td>政治教育机构</td>\n",
       "      <td>0.0</td>\n",
       "      <td>0.0</td>\n",
       "    </tr>\n",
       "  </tbody>\n",
       "</table>\n",
       "</div>"
      ],
      "text/plain": [
       "   index           name        lat         lng sort1   sort2  lat_wgs84  \\\n",
       "0      0  爱骑行爱生活单车运动协作会  34.170078  108.831835  政府机构    党派团体        0.0   \n",
       "1      0      西安市教育考试中心  34.317549  108.944790  政府机构  政治教育机构        0.0   \n",
       "2      1      西安市教育考试中心  34.243562  108.958364  政府机构  政治教育机构        0.0   \n",
       "3      2           西安教育  34.312222  109.124069  政府机构  政治教育机构        0.0   \n",
       "4      3         教育培训基地  34.306449  109.066230  政府机构  政治教育机构        0.0   \n",
       "\n",
       "   lng_wgs84  \n",
       "0        0.0  \n",
       "1        0.0  \n",
       "2        0.0  \n",
       "3        0.0  \n",
       "4        0.0  "
      ]
     },
     "execution_count": 73,
     "metadata": {},
     "output_type": "execute_result"
    }
   ],
   "source": [
    "data['lat_wgs84'] = 0.00\n",
    "data['lng_wgs84'] = 0.00\n",
    "data.head()"
   ]
  },
  {
   "cell_type": "code",
   "execution_count": 7,
   "metadata": {
    "scrolled": true
   },
   "outputs": [],
   "source": [
    "data02 = data.copy()"
   ]
  },
  {
   "cell_type": "code",
   "execution_count": 74,
   "metadata": {},
   "outputs": [],
   "source": [
    "#定义一个函数，能够修改pandas对象的值"
   ]
  },
  {
   "cell_type": "code",
   "execution_count": 20,
   "metadata": {},
   "outputs": [
    {
     "data": {
      "text/plain": [
       "45"
      ]
     },
     "execution_count": 20,
     "metadata": {},
     "output_type": "execute_result"
    }
   ],
   "source": [
    "len(data02)%100"
   ]
  },
  {
   "cell_type": "code",
   "execution_count": 58,
   "metadata": {},
   "outputs": [],
   "source": [
    "for i in range(len(data02)-(len(data02)%100),len(data02)):\n",
    "    data02.loc[i:i,('lat_wgs84','lng_wgs84')] = [i-1,i+1]"
   ]
  },
  {
   "cell_type": "code",
   "execution_count": 71,
   "metadata": {},
   "outputs": [
    {
     "data": {
      "text/html": [
       "<div>\n",
       "<style scoped>\n",
       "    .dataframe tbody tr th:only-of-type {\n",
       "        vertical-align: middle;\n",
       "    }\n",
       "\n",
       "    .dataframe tbody tr th {\n",
       "        vertical-align: top;\n",
       "    }\n",
       "\n",
       "    .dataframe thead th {\n",
       "        text-align: right;\n",
       "    }\n",
       "</style>\n",
       "<table border=\"1\" class=\"dataframe\">\n",
       "  <thead>\n",
       "    <tr style=\"text-align: right;\">\n",
       "      <th></th>\n",
       "      <th>index</th>\n",
       "      <th>name</th>\n",
       "      <th>lat</th>\n",
       "      <th>lng</th>\n",
       "      <th>sort1</th>\n",
       "      <th>sort2</th>\n",
       "      <th>lat_wgs84</th>\n",
       "      <th>lng_wgs84</th>\n",
       "    </tr>\n",
       "  </thead>\n",
       "  <tbody>\n",
       "    <tr>\n",
       "      <td>3000</td>\n",
       "      <td>2</td>\n",
       "      <td>谭家街道文学艺术界联合会</td>\n",
       "      <td>34.340529</td>\n",
       "      <td>108.984108</td>\n",
       "      <td>政府机构</td>\n",
       "      <td>社会团体</td>\n",
       "      <td>2999</td>\n",
       "      <td>3001.0</td>\n",
       "    </tr>\n",
       "    <tr>\n",
       "      <td>3001</td>\n",
       "      <td>3</td>\n",
       "      <td>陕西省国际标准舞学会</td>\n",
       "      <td>34.353181</td>\n",
       "      <td>108.974071</td>\n",
       "      <td>政府机构</td>\n",
       "      <td>社会团体</td>\n",
       "      <td>3000</td>\n",
       "      <td>3002.0</td>\n",
       "    </tr>\n",
       "    <tr>\n",
       "      <td>3002</td>\n",
       "      <td>4</td>\n",
       "      <td>西安市未央区张家堡街道办事处五龙汤社区老年协会</td>\n",
       "      <td>34.355846</td>\n",
       "      <td>108.978418</td>\n",
       "      <td>政府机构</td>\n",
       "      <td>社会团体</td>\n",
       "      <td>3001</td>\n",
       "      <td>3003.0</td>\n",
       "    </tr>\n",
       "  </tbody>\n",
       "</table>\n",
       "</div>"
      ],
      "text/plain": [
       "      index                     name        lat         lng sort1 sort2  \\\n",
       "3000      2             谭家街道文学艺术界联合会  34.340529  108.984108  政府机构  社会团体   \n",
       "3001      3               陕西省国际标准舞学会  34.353181  108.974071  政府机构  社会团体   \n",
       "3002      4  西安市未央区张家堡街道办事处五龙汤社区老年协会  34.355846  108.978418  政府机构  社会团体   \n",
       "\n",
       "      lat_wgs84  lng_wgs84  \n",
       "3000       2999     3001.0  \n",
       "3001       3000     3002.0  \n",
       "3002       3001     3003.0  "
      ]
     },
     "execution_count": 71,
     "metadata": {},
     "output_type": "execute_result"
    }
   ],
   "source": [
    "data02[3000:3003]"
   ]
  },
  {
   "cell_type": "code",
   "execution_count": 11,
   "metadata": {},
   "outputs": [
    {
     "name": "stdout",
     "output_type": "stream",
     "text": [
      "time use:7.165005207061768\n"
     ]
    }
   ],
   "source": [
    "import time\n",
    "#前100整数个对象\n",
    "start_time = time.time()\n",
    "for i in range(29,31):\n",
    "    def coor_trans():\n",
    "        for j in  range(i*100):\n",
    "            data02.loc[j:j,('lat_wgs84','lng_wgs84')] = [j-2,j+2]\n",
    "    coor_trans()\n",
    "#最后一个非100整数对象\n",
    "for i in range(len(data02)-(len(data02)%100),len(data02)):\n",
    "    data02.loc[i:i,('lat_wgs84','lng_wgs84')] = [i-2,i+2]\n",
    "end_time = time.time()\n",
    "print('time use:{}'.format(end_time-start_time))"
   ]
  },
  {
   "cell_type": "code",
   "execution_count": 12,
   "metadata": {
    "scrolled": false
   },
   "outputs": [
    {
     "data": {
      "text/html": [
       "<div>\n",
       "<style scoped>\n",
       "    .dataframe tbody tr th:only-of-type {\n",
       "        vertical-align: middle;\n",
       "    }\n",
       "\n",
       "    .dataframe tbody tr th {\n",
       "        vertical-align: top;\n",
       "    }\n",
       "\n",
       "    .dataframe thead th {\n",
       "        text-align: right;\n",
       "    }\n",
       "</style>\n",
       "<table border=\"1\" class=\"dataframe\">\n",
       "  <thead>\n",
       "    <tr style=\"text-align: right;\">\n",
       "      <th></th>\n",
       "      <th>index</th>\n",
       "      <th>name</th>\n",
       "      <th>lat</th>\n",
       "      <th>lng</th>\n",
       "      <th>sort1</th>\n",
       "      <th>sort2</th>\n",
       "      <th>lat_wgs84</th>\n",
       "      <th>lng_wgs84</th>\n",
       "    </tr>\n",
       "  </thead>\n",
       "  <tbody>\n",
       "    <tr>\n",
       "      <td>2995</td>\n",
       "      <td>5</td>\n",
       "      <td>谭家街道文学艺术界联合会</td>\n",
       "      <td>34.340529</td>\n",
       "      <td>108.984108</td>\n",
       "      <td>政府机构</td>\n",
       "      <td>党派团体</td>\n",
       "      <td>2993.0</td>\n",
       "      <td>2997.0</td>\n",
       "    </tr>\n",
       "    <tr>\n",
       "      <td>2996</td>\n",
       "      <td>6</td>\n",
       "      <td>中共五龙汤社区支部委员会</td>\n",
       "      <td>34.356650</td>\n",
       "      <td>108.975046</td>\n",
       "      <td>政府机构</td>\n",
       "      <td>党派团体</td>\n",
       "      <td>2994.0</td>\n",
       "      <td>2998.0</td>\n",
       "    </tr>\n",
       "    <tr>\n",
       "      <td>2997</td>\n",
       "      <td>7</td>\n",
       "      <td>西安市未央区张家堡街道办事处五龙汤社区老年协会</td>\n",
       "      <td>34.355846</td>\n",
       "      <td>108.978418</td>\n",
       "      <td>政府机构</td>\n",
       "      <td>党派团体</td>\n",
       "      <td>2995.0</td>\n",
       "      <td>2999.0</td>\n",
       "    </tr>\n",
       "    <tr>\n",
       "      <td>2998</td>\n",
       "      <td>8</td>\n",
       "      <td>中国共产党西安未央康乐医院支部委员会</td>\n",
       "      <td>34.352732</td>\n",
       "      <td>108.971605</td>\n",
       "      <td>政府机构</td>\n",
       "      <td>党派团体</td>\n",
       "      <td>2996.0</td>\n",
       "      <td>3000.0</td>\n",
       "    </tr>\n",
       "    <tr>\n",
       "      <td>2999</td>\n",
       "      <td>1</td>\n",
       "      <td>西安市示范基层老年协会</td>\n",
       "      <td>34.356742</td>\n",
       "      <td>108.975105</td>\n",
       "      <td>政府机构</td>\n",
       "      <td>社会团体</td>\n",
       "      <td>2997.0</td>\n",
       "      <td>3001.0</td>\n",
       "    </tr>\n",
       "    <tr>\n",
       "      <td>3000</td>\n",
       "      <td>2</td>\n",
       "      <td>谭家街道文学艺术界联合会</td>\n",
       "      <td>34.340529</td>\n",
       "      <td>108.984108</td>\n",
       "      <td>政府机构</td>\n",
       "      <td>社会团体</td>\n",
       "      <td>2998.0</td>\n",
       "      <td>3002.0</td>\n",
       "    </tr>\n",
       "    <tr>\n",
       "      <td>3001</td>\n",
       "      <td>3</td>\n",
       "      <td>陕西省国际标准舞学会</td>\n",
       "      <td>34.353181</td>\n",
       "      <td>108.974071</td>\n",
       "      <td>政府机构</td>\n",
       "      <td>社会团体</td>\n",
       "      <td>2999.0</td>\n",
       "      <td>3003.0</td>\n",
       "    </tr>\n",
       "    <tr>\n",
       "      <td>3002</td>\n",
       "      <td>4</td>\n",
       "      <td>西安市未央区张家堡街道办事处五龙汤社区老年协会</td>\n",
       "      <td>34.355846</td>\n",
       "      <td>108.978418</td>\n",
       "      <td>政府机构</td>\n",
       "      <td>社会团体</td>\n",
       "      <td>3000.0</td>\n",
       "      <td>3004.0</td>\n",
       "    </tr>\n",
       "    <tr>\n",
       "      <td>3003</td>\n",
       "      <td>5</td>\n",
       "      <td>航空行业第十三职业技能鉴定站操作技能培训考试基地</td>\n",
       "      <td>34.357061</td>\n",
       "      <td>108.972291</td>\n",
       "      <td>政府机构</td>\n",
       "      <td>社会团体</td>\n",
       "      <td>3001.0</td>\n",
       "      <td>3005.0</td>\n",
       "    </tr>\n",
       "  </tbody>\n",
       "</table>\n",
       "</div>"
      ],
      "text/plain": [
       "      index                      name        lat         lng sort1 sort2  \\\n",
       "2995      5              谭家街道文学艺术界联合会  34.340529  108.984108  政府机构  党派团体   \n",
       "2996      6              中共五龙汤社区支部委员会  34.356650  108.975046  政府机构  党派团体   \n",
       "2997      7   西安市未央区张家堡街道办事处五龙汤社区老年协会  34.355846  108.978418  政府机构  党派团体   \n",
       "2998      8        中国共产党西安未央康乐医院支部委员会  34.352732  108.971605  政府机构  党派团体   \n",
       "2999      1               西安市示范基层老年协会  34.356742  108.975105  政府机构  社会团体   \n",
       "3000      2              谭家街道文学艺术界联合会  34.340529  108.984108  政府机构  社会团体   \n",
       "3001      3                陕西省国际标准舞学会  34.353181  108.974071  政府机构  社会团体   \n",
       "3002      4   西安市未央区张家堡街道办事处五龙汤社区老年协会  34.355846  108.978418  政府机构  社会团体   \n",
       "3003      5  航空行业第十三职业技能鉴定站操作技能培训考试基地  34.357061  108.972291  政府机构  社会团体   \n",
       "\n",
       "      lat_wgs84  lng_wgs84  \n",
       "2995     2993.0     2997.0  \n",
       "2996     2994.0     2998.0  \n",
       "2997     2995.0     2999.0  \n",
       "2998     2996.0     3000.0  \n",
       "2999     2997.0     3001.0  \n",
       "3000     2998.0     3002.0  \n",
       "3001     2999.0     3003.0  \n",
       "3002     3000.0     3004.0  \n",
       "3003     3001.0     3005.0  "
      ]
     },
     "execution_count": 12,
     "metadata": {},
     "output_type": "execute_result"
    }
   ],
   "source": [
    "data02.loc[2995:3003]"
   ]
  },
  {
   "cell_type": "code",
   "execution_count": 21,
   "metadata": {},
   "outputs": [
    {
     "data": {
      "text/plain": [
       "34.340529"
      ]
     },
     "execution_count": 21,
     "metadata": {},
     "output_type": "execute_result"
    }
   ],
   "source": [
    "data02['lat'][3000]"
   ]
  },
  {
   "cell_type": "markdown",
   "metadata": {},
   "source": [
    "#### 将两次转换结果进行合并"
   ]
  },
  {
   "cell_type": "code",
   "execution_count": 85,
   "metadata": {
    "scrolled": false
   },
   "outputs": [
    {
     "data": {
      "text/html": [
       "<div>\n",
       "<style scoped>\n",
       "    .dataframe tbody tr th:only-of-type {\n",
       "        vertical-align: middle;\n",
       "    }\n",
       "\n",
       "    .dataframe tbody tr th {\n",
       "        vertical-align: top;\n",
       "    }\n",
       "\n",
       "    .dataframe thead th {\n",
       "        text-align: right;\n",
       "    }\n",
       "</style>\n",
       "<table border=\"1\" class=\"dataframe\">\n",
       "  <thead>\n",
       "    <tr style=\"text-align: right;\">\n",
       "      <th></th>\n",
       "      <th>Unnamed: 0</th>\n",
       "      <th>Unnamed: 0.1</th>\n",
       "      <th>index</th>\n",
       "      <th>name</th>\n",
       "      <th>lat</th>\n",
       "      <th>lng</th>\n",
       "      <th>sort1</th>\n",
       "      <th>sort2</th>\n",
       "      <th>lat_wgs84</th>\n",
       "      <th>lng_wgs84</th>\n",
       "    </tr>\n",
       "  </thead>\n",
       "  <tbody>\n",
       "    <tr>\n",
       "      <td>0</td>\n",
       "      <td>0</td>\n",
       "      <td>0</td>\n",
       "      <td>0</td>\n",
       "      <td>丰泽科技园-2号楼</td>\n",
       "      <td>34.176428</td>\n",
       "      <td>108.816795</td>\n",
       "      <td>房地产</td>\n",
       "      <td>写字楼</td>\n",
       "      <td>34.169933</td>\n",
       "      <td>108.810814</td>\n",
       "    </tr>\n",
       "    <tr>\n",
       "      <td>1</td>\n",
       "      <td>1</td>\n",
       "      <td>1</td>\n",
       "      <td>1</td>\n",
       "      <td>高新新区</td>\n",
       "      <td>34.173326</td>\n",
       "      <td>108.827928</td>\n",
       "      <td>房地产</td>\n",
       "      <td>写字楼</td>\n",
       "      <td>34.166777</td>\n",
       "      <td>108.821960</td>\n",
       "    </tr>\n",
       "    <tr>\n",
       "      <td>2</td>\n",
       "      <td>2</td>\n",
       "      <td>2</td>\n",
       "      <td>0</td>\n",
       "      <td>丰泽科技园-5号楼</td>\n",
       "      <td>34.175525</td>\n",
       "      <td>108.817244</td>\n",
       "      <td>房地产</td>\n",
       "      <td>住宅区</td>\n",
       "      <td>34.169014</td>\n",
       "      <td>108.811268</td>\n",
       "    </tr>\n",
       "    <tr>\n",
       "      <td>3</td>\n",
       "      <td>3</td>\n",
       "      <td>3</td>\n",
       "      <td>1</td>\n",
       "      <td>丰泽科技路3号楼</td>\n",
       "      <td>34.175989</td>\n",
       "      <td>108.817210</td>\n",
       "      <td>房地产</td>\n",
       "      <td>住宅区</td>\n",
       "      <td>34.169486</td>\n",
       "      <td>108.811232</td>\n",
       "    </tr>\n",
       "    <tr>\n",
       "      <td>4</td>\n",
       "      <td>4</td>\n",
       "      <td>4</td>\n",
       "      <td>2</td>\n",
       "      <td>鑫垚新区</td>\n",
       "      <td>34.174688</td>\n",
       "      <td>108.815573</td>\n",
       "      <td>房地产</td>\n",
       "      <td>住宅区</td>\n",
       "      <td>34.168163</td>\n",
       "      <td>108.809602</td>\n",
       "    </tr>\n",
       "  </tbody>\n",
       "</table>\n",
       "</div>"
      ],
      "text/plain": [
       "   Unnamed: 0  Unnamed: 0.1  index       name        lat         lng sort1  \\\n",
       "0           0             0      0  丰泽科技园-2号楼  34.176428  108.816795   房地产   \n",
       "1           1             1      1       高新新区  34.173326  108.827928   房地产   \n",
       "2           2             2      0  丰泽科技园-5号楼  34.175525  108.817244   房地产   \n",
       "3           3             3      1   丰泽科技路3号楼  34.175989  108.817210   房地产   \n",
       "4           4             4      2       鑫垚新区  34.174688  108.815573   房地产   \n",
       "\n",
       "  sort2  lat_wgs84   lng_wgs84  \n",
       "0   写字楼  34.169933  108.810814  \n",
       "1   写字楼  34.166777  108.821960  \n",
       "2   住宅区  34.169014  108.811268  \n",
       "3   住宅区  34.169486  108.811232  \n",
       "4   住宅区  34.168163  108.809602  "
      ]
     },
     "execution_count": 85,
     "metadata": {},
     "output_type": "execute_result"
    }
   ],
   "source": [
    "df = pd.read_csv(r'../../file/subject/chapter5/all_wgs84_2.csv')\n",
    "df.head()"
   ]
  },
  {
   "cell_type": "code",
   "execution_count": 195,
   "metadata": {},
   "outputs": [
    {
     "data": {
      "text/plain": [
       "163257"
      ]
     },
     "execution_count": 195,
     "metadata": {},
     "output_type": "execute_result"
    }
   ],
   "source": [
    "len(df)"
   ]
  },
  {
   "cell_type": "code",
   "execution_count": 89,
   "metadata": {
    "scrolled": false
   },
   "outputs": [
    {
     "data": {
      "text/html": [
       "<div>\n",
       "<style scoped>\n",
       "    .dataframe tbody tr th:only-of-type {\n",
       "        vertical-align: middle;\n",
       "    }\n",
       "\n",
       "    .dataframe tbody tr th {\n",
       "        vertical-align: top;\n",
       "    }\n",
       "\n",
       "    .dataframe thead th {\n",
       "        text-align: right;\n",
       "    }\n",
       "</style>\n",
       "<table border=\"1\" class=\"dataframe\">\n",
       "  <thead>\n",
       "    <tr style=\"text-align: right;\">\n",
       "      <th></th>\n",
       "      <th>Unnamed: 0</th>\n",
       "      <th>Unnamed: 0.1</th>\n",
       "      <th>index</th>\n",
       "      <th>name</th>\n",
       "      <th>lat</th>\n",
       "      <th>lng</th>\n",
       "      <th>sort1</th>\n",
       "      <th>sort2</th>\n",
       "      <th>lat_wgs84</th>\n",
       "      <th>lng_wgs84</th>\n",
       "    </tr>\n",
       "  </thead>\n",
       "  <tbody>\n",
       "    <tr>\n",
       "      <td>0</td>\n",
       "      <td>0</td>\n",
       "      <td>0</td>\n",
       "      <td>0</td>\n",
       "      <td>丰泽科技园-2号楼</td>\n",
       "      <td>34.176428</td>\n",
       "      <td>108.816795</td>\n",
       "      <td>房地产</td>\n",
       "      <td>写字楼</td>\n",
       "      <td>34.169933</td>\n",
       "      <td>108.810814</td>\n",
       "    </tr>\n",
       "    <tr>\n",
       "      <td>1</td>\n",
       "      <td>1</td>\n",
       "      <td>1</td>\n",
       "      <td>1</td>\n",
       "      <td>高新新区</td>\n",
       "      <td>34.173326</td>\n",
       "      <td>108.827928</td>\n",
       "      <td>房地产</td>\n",
       "      <td>写字楼</td>\n",
       "      <td>34.166777</td>\n",
       "      <td>108.821960</td>\n",
       "    </tr>\n",
       "    <tr>\n",
       "      <td>2</td>\n",
       "      <td>2</td>\n",
       "      <td>2</td>\n",
       "      <td>0</td>\n",
       "      <td>丰泽科技园-5号楼</td>\n",
       "      <td>34.175525</td>\n",
       "      <td>108.817244</td>\n",
       "      <td>房地产</td>\n",
       "      <td>住宅区</td>\n",
       "      <td>34.169014</td>\n",
       "      <td>108.811268</td>\n",
       "    </tr>\n",
       "    <tr>\n",
       "      <td>3</td>\n",
       "      <td>3</td>\n",
       "      <td>3</td>\n",
       "      <td>1</td>\n",
       "      <td>丰泽科技路3号楼</td>\n",
       "      <td>34.175989</td>\n",
       "      <td>108.817210</td>\n",
       "      <td>房地产</td>\n",
       "      <td>住宅区</td>\n",
       "      <td>34.169486</td>\n",
       "      <td>108.811232</td>\n",
       "    </tr>\n",
       "    <tr>\n",
       "      <td>4</td>\n",
       "      <td>4</td>\n",
       "      <td>4</td>\n",
       "      <td>2</td>\n",
       "      <td>鑫垚新区</td>\n",
       "      <td>34.174688</td>\n",
       "      <td>108.815573</td>\n",
       "      <td>房地产</td>\n",
       "      <td>住宅区</td>\n",
       "      <td>34.168163</td>\n",
       "      <td>108.809602</td>\n",
       "    </tr>\n",
       "  </tbody>\n",
       "</table>\n",
       "</div>"
      ],
      "text/plain": [
       "   Unnamed: 0  Unnamed: 0.1  index       name        lat         lng sort1  \\\n",
       "0           0             0      0  丰泽科技园-2号楼  34.176428  108.816795   房地产   \n",
       "1           1             1      1       高新新区  34.173326  108.827928   房地产   \n",
       "2           2             2      0  丰泽科技园-5号楼  34.175525  108.817244   房地产   \n",
       "3           3             3      1   丰泽科技路3号楼  34.175989  108.817210   房地产   \n",
       "4           4             4      2       鑫垚新区  34.174688  108.815573   房地产   \n",
       "\n",
       "  sort2  lat_wgs84   lng_wgs84  \n",
       "0   写字楼  34.169933  108.810814  \n",
       "1   写字楼  34.166777  108.821960  \n",
       "2   住宅区  34.169014  108.811268  \n",
       "3   住宅区  34.169486  108.811232  \n",
       "4   住宅区  34.168163  108.809602  "
      ]
     },
     "execution_count": 89,
     "metadata": {},
     "output_type": "execute_result"
    }
   ],
   "source": [
    "df2 = pd.read_csv(r'../../file/subject/chapter5/all_wgs84.csv')\n",
    "df2.head()"
   ]
  },
  {
   "cell_type": "code",
   "execution_count": 196,
   "metadata": {},
   "outputs": [
    {
     "data": {
      "text/plain": [
       "140146"
      ]
     },
     "execution_count": 196,
     "metadata": {},
     "output_type": "execute_result"
    }
   ],
   "source": [
    "len(df2)"
   ]
  },
  {
   "cell_type": "code",
   "execution_count": 93,
   "metadata": {},
   "outputs": [
    {
     "data": {
      "text/plain": [
       "Index(['Unnamed: 0', 'Unnamed: 0.1', 'index', 'name', 'lat', 'lng', 'sort1',\n",
       "       'sort2', 'lat_wgs84', 'lng_wgs84'],\n",
       "      dtype='object')"
      ]
     },
     "execution_count": 93,
     "metadata": {},
     "output_type": "execute_result"
    }
   ],
   "source": [
    "df.columns"
   ]
  },
  {
   "cell_type": "code",
   "execution_count": 207,
   "metadata": {},
   "outputs": [
    {
     "data": {
      "text/html": [
       "<div>\n",
       "<style scoped>\n",
       "    .dataframe tbody tr th:only-of-type {\n",
       "        vertical-align: middle;\n",
       "    }\n",
       "\n",
       "    .dataframe tbody tr th {\n",
       "        vertical-align: top;\n",
       "    }\n",
       "\n",
       "    .dataframe thead th {\n",
       "        text-align: right;\n",
       "    }\n",
       "</style>\n",
       "<table border=\"1\" class=\"dataframe\">\n",
       "  <thead>\n",
       "    <tr style=\"text-align: right;\">\n",
       "      <th></th>\n",
       "      <th>Unnamed: 0</th>\n",
       "      <th>Unnamed: 0.1</th>\n",
       "      <th>index</th>\n",
       "      <th>name</th>\n",
       "      <th>lat</th>\n",
       "      <th>lng</th>\n",
       "      <th>sort1</th>\n",
       "      <th>sort2</th>\n",
       "      <th>lat_wgs84</th>\n",
       "      <th>lng_wgs84</th>\n",
       "    </tr>\n",
       "  </thead>\n",
       "  <tbody>\n",
       "    <tr>\n",
       "      <td>6</td>\n",
       "      <td>6</td>\n",
       "      <td>6</td>\n",
       "      <td>0</td>\n",
       "      <td>3号院住宅楼-4号楼</td>\n",
       "      <td>34.278397</td>\n",
       "      <td>109.006899</td>\n",
       "      <td>房地产</td>\n",
       "      <td>内部楼栋</td>\n",
       "      <td>0.0</td>\n",
       "      <td>0.0</td>\n",
       "    </tr>\n",
       "    <tr>\n",
       "      <td>7</td>\n",
       "      <td>7</td>\n",
       "      <td>7</td>\n",
       "      <td>1</td>\n",
       "      <td>北院门-158号楼</td>\n",
       "      <td>34.268386</td>\n",
       "      <td>108.949779</td>\n",
       "      <td>房地产</td>\n",
       "      <td>内部楼栋</td>\n",
       "      <td>0.0</td>\n",
       "      <td>0.0</td>\n",
       "    </tr>\n",
       "    <tr>\n",
       "      <td>8</td>\n",
       "      <td>8</td>\n",
       "      <td>8</td>\n",
       "      <td>2</td>\n",
       "      <td>北院门-55号楼</td>\n",
       "      <td>34.267452</td>\n",
       "      <td>108.949956</td>\n",
       "      <td>房地产</td>\n",
       "      <td>内部楼栋</td>\n",
       "      <td>0.0</td>\n",
       "      <td>0.0</td>\n",
       "    </tr>\n",
       "    <tr>\n",
       "      <td>9</td>\n",
       "      <td>9</td>\n",
       "      <td>9</td>\n",
       "      <td>3</td>\n",
       "      <td>北院门-202号楼</td>\n",
       "      <td>34.269206</td>\n",
       "      <td>108.949990</td>\n",
       "      <td>房地产</td>\n",
       "      <td>内部楼栋</td>\n",
       "      <td>0.0</td>\n",
       "      <td>0.0</td>\n",
       "    </tr>\n",
       "    <tr>\n",
       "      <td>10</td>\n",
       "      <td>10</td>\n",
       "      <td>10</td>\n",
       "      <td>4</td>\n",
       "      <td>北院门-108号楼</td>\n",
       "      <td>34.267762</td>\n",
       "      <td>108.949932</td>\n",
       "      <td>房地产</td>\n",
       "      <td>内部楼栋</td>\n",
       "      <td>0.0</td>\n",
       "      <td>0.0</td>\n",
       "    </tr>\n",
       "    <tr>\n",
       "      <td>...</td>\n",
       "      <td>...</td>\n",
       "      <td>...</td>\n",
       "      <td>...</td>\n",
       "      <td>...</td>\n",
       "      <td>...</td>\n",
       "      <td>...</td>\n",
       "      <td>...</td>\n",
       "      <td>...</td>\n",
       "      <td>...</td>\n",
       "      <td>...</td>\n",
       "    </tr>\n",
       "    <tr>\n",
       "      <td>162244</td>\n",
       "      <td>162244</td>\n",
       "      <td>7907</td>\n",
       "      <td>1</td>\n",
       "      <td>西安国际港务区行政审批服务局</td>\n",
       "      <td>34.384616</td>\n",
       "      <td>109.076859</td>\n",
       "      <td>政府机构</td>\n",
       "      <td>行政单位</td>\n",
       "      <td>0.0</td>\n",
       "      <td>0.0</td>\n",
       "    </tr>\n",
       "    <tr>\n",
       "      <td>162245</td>\n",
       "      <td>162245</td>\n",
       "      <td>7908</td>\n",
       "      <td>2</td>\n",
       "      <td>西安市城市管理综合行政执法局国际港务区分局</td>\n",
       "      <td>34.384409</td>\n",
       "      <td>109.080262</td>\n",
       "      <td>政府机构</td>\n",
       "      <td>行政单位</td>\n",
       "      <td>0.0</td>\n",
       "      <td>0.0</td>\n",
       "    </tr>\n",
       "    <tr>\n",
       "      <td>162246</td>\n",
       "      <td>162246</td>\n",
       "      <td>7909</td>\n",
       "      <td>3</td>\n",
       "      <td>西安国际港务区管委会征迁安置协调服务办公室</td>\n",
       "      <td>34.384238</td>\n",
       "      <td>109.079422</td>\n",
       "      <td>政府机构</td>\n",
       "      <td>行政单位</td>\n",
       "      <td>0.0</td>\n",
       "      <td>0.0</td>\n",
       "    </tr>\n",
       "    <tr>\n",
       "      <td>162247</td>\n",
       "      <td>162247</td>\n",
       "      <td>7916</td>\n",
       "      <td>0</td>\n",
       "      <td>西安市灞桥区新筑街道办事处新寇村民委员会</td>\n",
       "      <td>34.392327</td>\n",
       "      <td>109.092758</td>\n",
       "      <td>政府机构</td>\n",
       "      <td>各级政府</td>\n",
       "      <td>0.0</td>\n",
       "      <td>0.0</td>\n",
       "    </tr>\n",
       "    <tr>\n",
       "      <td>162663</td>\n",
       "      <td>162663</td>\n",
       "      <td>8805</td>\n",
       "      <td>1</td>\n",
       "      <td>灞桥区政府</td>\n",
       "      <td>34.279599</td>\n",
       "      <td>109.070984</td>\n",
       "      <td>政府机构</td>\n",
       "      <td>各级政府</td>\n",
       "      <td>0.0</td>\n",
       "      <td>0.0</td>\n",
       "    </tr>\n",
       "  </tbody>\n",
       "</table>\n",
       "<p>106811 rows × 10 columns</p>\n",
       "</div>"
      ],
      "text/plain": [
       "        Unnamed: 0  Unnamed: 0.1  index                   name        lat  \\\n",
       "6                6             6      0             3号院住宅楼-4号楼  34.278397   \n",
       "7                7             7      1              北院门-158号楼  34.268386   \n",
       "8                8             8      2               北院门-55号楼  34.267452   \n",
       "9                9             9      3              北院门-202号楼  34.269206   \n",
       "10              10            10      4              北院门-108号楼  34.267762   \n",
       "...            ...           ...    ...                    ...        ...   \n",
       "162244      162244          7907      1         西安国际港务区行政审批服务局  34.384616   \n",
       "162245      162245          7908      2  西安市城市管理综合行政执法局国际港务区分局  34.384409   \n",
       "162246      162246          7909      3  西安国际港务区管委会征迁安置协调服务办公室  34.384238   \n",
       "162247      162247          7916      0   西安市灞桥区新筑街道办事处新寇村民委员会  34.392327   \n",
       "162663      162663          8805      1                  灞桥区政府  34.279599   \n",
       "\n",
       "               lng sort1 sort2  lat_wgs84  lng_wgs84  \n",
       "6       109.006899   房地产  内部楼栋        0.0        0.0  \n",
       "7       108.949779   房地产  内部楼栋        0.0        0.0  \n",
       "8       108.949956   房地产  内部楼栋        0.0        0.0  \n",
       "9       108.949990   房地产  内部楼栋        0.0        0.0  \n",
       "10      108.949932   房地产  内部楼栋        0.0        0.0  \n",
       "...            ...   ...   ...        ...        ...  \n",
       "162244  109.076859  政府机构  行政单位        0.0        0.0  \n",
       "162245  109.080262  政府机构  行政单位        0.0        0.0  \n",
       "162246  109.079422  政府机构  行政单位        0.0        0.0  \n",
       "162247  109.092758  政府机构  各级政府        0.0        0.0  \n",
       "162663  109.070984  政府机构  各级政府        0.0        0.0  \n",
       "\n",
       "[106811 rows x 10 columns]"
      ]
     },
     "execution_count": 207,
     "metadata": {},
     "output_type": "execute_result"
    }
   ],
   "source": [
    "df[df.lat_wgs84 == 0]"
   ]
  },
  {
   "cell_type": "code",
   "execution_count": 219,
   "metadata": {},
   "outputs": [
    {
     "data": {
      "text/plain": [
       "169876"
      ]
     },
     "execution_count": 219,
     "metadata": {},
     "output_type": "execute_result"
    }
   ],
   "source": [
    "df_all = df.merge(df2,on=[ 'name', 'lat', 'lng', 'sort1','sort2'],how='outer')\n",
    "len(df_all)"
   ]
  },
  {
   "cell_type": "code",
   "execution_count": 225,
   "metadata": {},
   "outputs": [],
   "source": [
    "df_all.drop_duplicates(subset=['name', 'lat', 'lng'],inplace=True)"
   ]
  },
  {
   "cell_type": "code",
   "execution_count": 226,
   "metadata": {},
   "outputs": [
    {
     "data": {
      "text/plain": [
       "Index(['Unnamed: 0_x', 'Unnamed: 0.1_x', 'index_x', 'name', 'lat', 'lng',\n",
       "       'sort1', 'sort2', 'lat_wgs84_x', 'lng_wgs84_x', 'Unnamed: 0_y',\n",
       "       'Unnamed: 0.1_y', 'index_y', 'lat_wgs84_y', 'lng_wgs84_y'],\n",
       "      dtype='object')"
      ]
     },
     "execution_count": 226,
     "metadata": {},
     "output_type": "execute_result"
    }
   ],
   "source": [
    "df_all.columns"
   ]
  },
  {
   "cell_type": "code",
   "execution_count": 233,
   "metadata": {},
   "outputs": [],
   "source": [
    "df_all01 = df_all[[ 'name', 'lat', 'lng',\n",
    "       'sort1', 'sort2', 'lat_wgs84_x', 'lng_wgs84_x', 'lat_wgs84_y', 'lng_wgs84_y']]"
   ]
  },
  {
   "cell_type": "code",
   "execution_count": 235,
   "metadata": {},
   "outputs": [],
   "source": [
    "df_all02 = df_all01.copy()"
   ]
  },
  {
   "cell_type": "code",
   "execution_count": 236,
   "metadata": {},
   "outputs": [],
   "source": [
    "df_all02.drop_duplicates(subset=['name', 'lat', 'lng'],inplace=True)"
   ]
  },
  {
   "cell_type": "code",
   "execution_count": 237,
   "metadata": {},
   "outputs": [
    {
     "data": {
      "text/plain": [
       "169775"
      ]
     },
     "execution_count": 237,
     "metadata": {},
     "output_type": "execute_result"
    }
   ],
   "source": [
    "len(df_all02)"
   ]
  },
  {
   "cell_type": "markdown",
   "metadata": {},
   "source": [
    "#### 填充空值"
   ]
  },
  {
   "cell_type": "code",
   "execution_count": 241,
   "metadata": {
    "scrolled": true
   },
   "outputs": [],
   "source": [
    "df_all02.fillna(0,inplace=True)"
   ]
  },
  {
   "cell_type": "code",
   "execution_count": 242,
   "metadata": {},
   "outputs": [
    {
     "data": {
      "text/html": [
       "<div>\n",
       "<style scoped>\n",
       "    .dataframe tbody tr th:only-of-type {\n",
       "        vertical-align: middle;\n",
       "    }\n",
       "\n",
       "    .dataframe tbody tr th {\n",
       "        vertical-align: top;\n",
       "    }\n",
       "\n",
       "    .dataframe thead th {\n",
       "        text-align: right;\n",
       "    }\n",
       "</style>\n",
       "<table border=\"1\" class=\"dataframe\">\n",
       "  <thead>\n",
       "    <tr style=\"text-align: right;\">\n",
       "      <th></th>\n",
       "      <th>name</th>\n",
       "      <th>lat</th>\n",
       "      <th>lng</th>\n",
       "      <th>sort1</th>\n",
       "      <th>sort2</th>\n",
       "      <th>lat_wgs84_x</th>\n",
       "      <th>lng_wgs84_x</th>\n",
       "      <th>lat_wgs84_y</th>\n",
       "      <th>lng_wgs84_y</th>\n",
       "    </tr>\n",
       "  </thead>\n",
       "  <tbody>\n",
       "    <tr>\n",
       "      <td>0</td>\n",
       "      <td>丰泽科技园-2号楼</td>\n",
       "      <td>34.176428</td>\n",
       "      <td>108.816795</td>\n",
       "      <td>房地产</td>\n",
       "      <td>写字楼</td>\n",
       "      <td>34.169933</td>\n",
       "      <td>108.810814</td>\n",
       "      <td>34.169933</td>\n",
       "      <td>108.810814</td>\n",
       "    </tr>\n",
       "    <tr>\n",
       "      <td>1</td>\n",
       "      <td>高新新区</td>\n",
       "      <td>34.173326</td>\n",
       "      <td>108.827928</td>\n",
       "      <td>房地产</td>\n",
       "      <td>写字楼</td>\n",
       "      <td>34.166777</td>\n",
       "      <td>108.821960</td>\n",
       "      <td>34.166777</td>\n",
       "      <td>108.821960</td>\n",
       "    </tr>\n",
       "    <tr>\n",
       "      <td>2</td>\n",
       "      <td>丰泽科技园-5号楼</td>\n",
       "      <td>34.175525</td>\n",
       "      <td>108.817244</td>\n",
       "      <td>房地产</td>\n",
       "      <td>住宅区</td>\n",
       "      <td>34.169014</td>\n",
       "      <td>108.811268</td>\n",
       "      <td>34.169014</td>\n",
       "      <td>108.811268</td>\n",
       "    </tr>\n",
       "    <tr>\n",
       "      <td>3</td>\n",
       "      <td>丰泽科技路3号楼</td>\n",
       "      <td>34.175989</td>\n",
       "      <td>108.817210</td>\n",
       "      <td>房地产</td>\n",
       "      <td>住宅区</td>\n",
       "      <td>34.169486</td>\n",
       "      <td>108.811232</td>\n",
       "      <td>34.169486</td>\n",
       "      <td>108.811232</td>\n",
       "    </tr>\n",
       "    <tr>\n",
       "      <td>4</td>\n",
       "      <td>鑫垚新区</td>\n",
       "      <td>34.174688</td>\n",
       "      <td>108.815573</td>\n",
       "      <td>房地产</td>\n",
       "      <td>住宅区</td>\n",
       "      <td>34.168163</td>\n",
       "      <td>108.809602</td>\n",
       "      <td>34.168163</td>\n",
       "      <td>108.809602</td>\n",
       "    </tr>\n",
       "    <tr>\n",
       "      <td>...</td>\n",
       "      <td>...</td>\n",
       "      <td>...</td>\n",
       "      <td>...</td>\n",
       "      <td>...</td>\n",
       "      <td>...</td>\n",
       "      <td>...</td>\n",
       "      <td>...</td>\n",
       "      <td>...</td>\n",
       "      <td>...</td>\n",
       "    </tr>\n",
       "    <tr>\n",
       "      <td>169871</td>\n",
       "      <td>渭阳街道办事处滨河社区居民委员会</td>\n",
       "      <td>34.354146</td>\n",
       "      <td>108.754023</td>\n",
       "      <td>政府机构</td>\n",
       "      <td>居民委员会</td>\n",
       "      <td>0.000000</td>\n",
       "      <td>0.000000</td>\n",
       "      <td>34.347680</td>\n",
       "      <td>108.747991</td>\n",
       "    </tr>\n",
       "    <tr>\n",
       "      <td>169872</td>\n",
       "      <td>中共金家庄村支部委员会(泰禾馨苑西南)</td>\n",
       "      <td>34.352485</td>\n",
       "      <td>108.753392</td>\n",
       "      <td>政府机构</td>\n",
       "      <td>居民委员会</td>\n",
       "      <td>0.000000</td>\n",
       "      <td>0.000000</td>\n",
       "      <td>34.346047</td>\n",
       "      <td>108.747352</td>\n",
       "    </tr>\n",
       "    <tr>\n",
       "      <td>169873</td>\n",
       "      <td>李家堡村委会</td>\n",
       "      <td>34.361152</td>\n",
       "      <td>108.754856</td>\n",
       "      <td>政府机构</td>\n",
       "      <td>各级政府</td>\n",
       "      <td>0.000000</td>\n",
       "      <td>0.000000</td>\n",
       "      <td>34.354567</td>\n",
       "      <td>108.748862</td>\n",
       "    </tr>\n",
       "    <tr>\n",
       "      <td>169874</td>\n",
       "      <td>咸阳市渭城区渭阳街道李家堡社区居民监督委员会</td>\n",
       "      <td>34.363030</td>\n",
       "      <td>108.753303</td>\n",
       "      <td>政府机构</td>\n",
       "      <td>行政单位</td>\n",
       "      <td>0.000000</td>\n",
       "      <td>0.000000</td>\n",
       "      <td>34.356415</td>\n",
       "      <td>108.747319</td>\n",
       "    </tr>\n",
       "    <tr>\n",
       "      <td>169875</td>\n",
       "      <td>渭城党校</td>\n",
       "      <td>34.364251</td>\n",
       "      <td>108.750124</td>\n",
       "      <td>政府机构</td>\n",
       "      <td>政治教育机构</td>\n",
       "      <td>0.000000</td>\n",
       "      <td>0.000000</td>\n",
       "      <td>34.357616</td>\n",
       "      <td>108.744147</td>\n",
       "    </tr>\n",
       "  </tbody>\n",
       "</table>\n",
       "<p>169775 rows × 9 columns</p>\n",
       "</div>"
      ],
      "text/plain": [
       "                          name        lat         lng sort1   sort2  \\\n",
       "0                    丰泽科技园-2号楼  34.176428  108.816795   房地产     写字楼   \n",
       "1                         高新新区  34.173326  108.827928   房地产     写字楼   \n",
       "2                    丰泽科技园-5号楼  34.175525  108.817244   房地产     住宅区   \n",
       "3                     丰泽科技路3号楼  34.175989  108.817210   房地产     住宅区   \n",
       "4                         鑫垚新区  34.174688  108.815573   房地产     住宅区   \n",
       "...                        ...        ...         ...   ...     ...   \n",
       "169871        渭阳街道办事处滨河社区居民委员会  34.354146  108.754023  政府机构   居民委员会   \n",
       "169872     中共金家庄村支部委员会(泰禾馨苑西南)  34.352485  108.753392  政府机构   居民委员会   \n",
       "169873                  李家堡村委会  34.361152  108.754856  政府机构    各级政府   \n",
       "169874  咸阳市渭城区渭阳街道李家堡社区居民监督委员会  34.363030  108.753303  政府机构    行政单位   \n",
       "169875                    渭城党校  34.364251  108.750124  政府机构  政治教育机构   \n",
       "\n",
       "        lat_wgs84_x  lng_wgs84_x  lat_wgs84_y  lng_wgs84_y  \n",
       "0         34.169933   108.810814    34.169933   108.810814  \n",
       "1         34.166777   108.821960    34.166777   108.821960  \n",
       "2         34.169014   108.811268    34.169014   108.811268  \n",
       "3         34.169486   108.811232    34.169486   108.811232  \n",
       "4         34.168163   108.809602    34.168163   108.809602  \n",
       "...             ...          ...          ...          ...  \n",
       "169871     0.000000     0.000000    34.347680   108.747991  \n",
       "169872     0.000000     0.000000    34.346047   108.747352  \n",
       "169873     0.000000     0.000000    34.354567   108.748862  \n",
       "169874     0.000000     0.000000    34.356415   108.747319  \n",
       "169875     0.000000     0.000000    34.357616   108.744147  \n",
       "\n",
       "[169775 rows x 9 columns]"
      ]
     },
     "execution_count": 242,
     "metadata": {},
     "output_type": "execute_result"
    }
   ],
   "source": [
    "df_all02"
   ]
  },
  {
   "cell_type": "code",
   "execution_count": 249,
   "metadata": {},
   "outputs": [],
   "source": [
    "df_all02.lat_wgs84_x = df_all02.apply(lambda x:'%.6f'%x['lat_wgs84_y'] if x['lat_wgs84_x'] == 0 else x.lat_wgs84_x, axis=1)\n",
    "df_all02.lng_wgs84_x = df_all02.apply(lambda x:'%.6f'%x['lng_wgs84_y'] if x['lng_wgs84_x'] == 0 else x.lng_wgs84_x, axis=1)"
   ]
  },
  {
   "cell_type": "code",
   "execution_count": null,
   "metadata": {
    "scrolled": false
   },
   "outputs": [],
   "source": [
    "df_all02.drop(['lat_wgs84_y','lng_wgs84_y'],inplace=True,axis=1)"
   ]
  },
  {
   "cell_type": "code",
   "execution_count": 261,
   "metadata": {},
   "outputs": [],
   "source": [
    "df_all02.rename(columns={'lat_wgs84_x':'lat_wgs84','lng_wgs84_x':'lng_wgs84'},inplace=True)"
   ]
  },
  {
   "cell_type": "code",
   "execution_count": 267,
   "metadata": {
    "scrolled": true
   },
   "outputs": [],
   "source": [
    "df_all02.to_csv(r'../../file/subject/chapter5/all_wgs84_3.csv')"
   ]
  },
  {
   "cell_type": "code",
   "execution_count": null,
   "metadata": {},
   "outputs": [],
   "source": []
  },
  {
   "cell_type": "code",
   "execution_count": null,
   "metadata": {},
   "outputs": [],
   "source": []
  },
  {
   "cell_type": "code",
   "execution_count": null,
   "metadata": {},
   "outputs": [],
   "source": []
  },
  {
   "cell_type": "code",
   "execution_count": null,
   "metadata": {},
   "outputs": [],
   "source": []
  },
  {
   "cell_type": "code",
   "execution_count": null,
   "metadata": {},
   "outputs": [],
   "source": []
  }
 ],
 "metadata": {
  "kernelspec": {
   "display_name": "Python 3",
   "language": "python",
   "name": "python3"
  },
  "language_info": {
   "codemirror_mode": {
    "name": "ipython",
    "version": 3
   },
   "file_extension": ".py",
   "mimetype": "text/x-python",
   "name": "python",
   "nbconvert_exporter": "python",
   "pygments_lexer": "ipython3",
   "version": "3.7.4"
  }
 },
 "nbformat": 4,
 "nbformat_minor": 2
}
