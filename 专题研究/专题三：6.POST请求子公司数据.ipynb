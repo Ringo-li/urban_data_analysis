{
 "cells": [
  {
   "cell_type": "code",
   "execution_count": 1,
   "metadata": {},
   "outputs": [],
   "source": [
    "import requests\n",
    "import json\n",
    "import time"
   ]
  },
  {
   "cell_type": "code",
   "execution_count": 27,
   "metadata": {},
   "outputs": [],
   "source": [
    "def get_proxy():\n",
    "    url = 'http://http.tiqu.alicdns.com/getip3?num=1&type=2&pro=&city=0&yys=0&port=1&pack=94107&ts=0&ys=0&cs=0&lb=1&sb=0&pb=4&mr=1&regions=&gm=4'\n",
    "    cont =  requests.get(url).text\n",
    "    js = json.loads(cont)\n",
    "    ip = js['data'][0]\n",
    "    return ip"
   ]
  },
  {
   "cell_type": "code",
   "execution_count": 3,
   "metadata": {},
   "outputs": [],
   "source": [
    "def get_data(company,page):\n",
    "    ip = get_proxy()\n",
    "    #########################################################\n",
    "    proxyHost = ip['ip']\n",
    "    proxyPort = ip['port']\n",
    "    \n",
    "    proxyMeta = \"http://{host}:{port}\".format(**{\"host\":proxyHost,\"port\":proxyPort})\n",
    "    proxies = {\n",
    "        \"http\":proxyMeta,\n",
    "        \"https\":proxyMeta\n",
    "    }\n",
    "    print(proxies)\n",
    "    #########################################################\n",
    "    url = 'https://www.qixin.com/api/enterprise/getInvestment'\n",
    "    payload = {\"eid\": company,\"page\":str(page)}\n",
    "    headers = {\n",
    "        \"User-Agent\": \"Mozilla/5.0 (Windows NT 10.0; Win64; x64) AppleWebKit/537.36 (KHTML, like Gecko) Chrome/81.0.4044.122 Safari/537.36\"\n",
    "    }\n",
    "    try:\n",
    "        response = requests.post(url,headers=headers,data=payload,proxies=proxies)\n",
    "        if response.status_code == 200:\n",
    "            print(response.json())\n",
    "        else:\n",
    "            print('changing proxy')\n",
    "            return get_data(company,page)\n",
    "            time.sleep(1)\n",
    "    except:\n",
    "        print('error')\n",
    "        return get_data(company,page)"
   ]
  },
  {
   "cell_type": "code",
   "execution_count": null,
   "metadata": {},
   "outputs": [
    {
     "name": "stdout",
     "output_type": "stream",
     "text": [
      "{'http': 'http://58.218.214.152:5000', 'https': 'http://58.218.214.152:5000'}\n",
      "changing proxy\n",
      "{'http': 'http://58.218.214.148:16516', 'https': 'http://58.218.214.148:16516'}\n",
      "changing proxy\n",
      "{'http': 'http://58.218.92.168:3563', 'https': 'http://58.218.92.168:3563'}\n",
      "error\n",
      "{'http': 'http://58.218.92.172:4560', 'https': 'http://58.218.92.172:4560'}\n",
      "changing proxy\n",
      "{'http': 'http://58.218.92.74:7523', 'https': 'http://58.218.92.74:7523'}\n",
      "changing proxy\n",
      "{'http': 'http://58.218.92.171:4672', 'https': 'http://58.218.92.171:4672'}\n",
      "changing proxy\n",
      "error\n",
      "error\n",
      "error\n",
      "error\n",
      "{'http': 'http://58.218.214.152:4536', 'https': 'http://58.218.214.152:4536'}\n"
     ]
    }
   ],
   "source": [
    "company = 'ded71407-3f49-4c5f-bb06-87f518524879'\n",
    "page = 4\n",
    "get_data(company,page)"
   ]
  },
  {
   "cell_type": "code",
   "execution_count": 27,
   "metadata": {},
   "outputs": [
    {
     "name": "stdout",
     "output_type": "stream",
     "text": [
      "changing proxy\n"
     ]
    }
   ],
   "source": [
    "company = 'ded71407-3f49-4c5f-bb06-87f518524879'\n",
    "page = 4\n",
    "url = 'https://www.qixin.com/api/enterprise/getInvestment'\n",
    "payload = {\"eid\": company,\"page\":str(page)}\n",
    "headers = {\n",
    "    \"User-Agent\": \"Mozilla/5.0 (Windows NT 10.0; Win64; x64) AppleWebKit/537.36 (KHTML, like Gecko) Chrome/81.0.4044.122 Safari/537.36\"\n",
    "}\n",
    "try:\n",
    "    response = requests.post(url,headers=headers,data=payload)\n",
    "    if response.status_code == 200:\n",
    "        print(response.json())\n",
    "    else:\n",
    "        print('changing proxy')\n",
    "        time.sleep(1)\n",
    "except:\n",
    "    print('error')"
   ]
  },
  {
   "cell_type": "code",
   "execution_count": null,
   "metadata": {},
   "outputs": [],
   "source": []
  }
 ],
 "metadata": {
  "kernelspec": {
   "display_name": "Python 3",
   "language": "python",
   "name": "python3"
  },
  "language_info": {
   "codemirror_mode": {
    "name": "ipython",
    "version": 3
   },
   "file_extension": ".py",
   "mimetype": "text/x-python",
   "name": "python",
   "nbconvert_exporter": "python",
   "pygments_lexer": "ipython3",
   "version": "3.7.4"
  }
 },
 "nbformat": 4,
 "nbformat_minor": 2
}
