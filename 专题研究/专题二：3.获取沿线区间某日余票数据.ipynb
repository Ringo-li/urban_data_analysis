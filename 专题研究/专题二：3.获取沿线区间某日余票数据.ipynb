{
 "cells": [
  {
   "cell_type": "code",
   "execution_count": 1,
   "metadata": {},
   "outputs": [],
   "source": [
    "import json\n",
    "import pandas as pd"
   ]
  },
  {
   "cell_type": "code",
   "execution_count": 2,
   "metadata": {},
   "outputs": [],
   "source": [
    "#通过“抓取12306上火车站点英文缩写”获取站点信息\n",
    "text = open(r'./ceshi_result.txt','r').readlines()"
   ]
  },
  {
   "cell_type": "code",
   "execution_count": 9,
   "metadata": {},
   "outputs": [],
   "source": [
    "#数组或对象之中的字符串必须使用双引号，不能使用单引号\n",
    "text_use = text[0].replace('\\'','\\\"')\n",
    "zd = json.loads(text_use)"
   ]
  },
  {
   "cell_type": "code",
   "execution_count": 45,
   "metadata": {},
   "outputs": [
    {
     "data": {
      "text/plain": [
       "'2020-04-15 16:46:39'"
      ]
     },
     "execution_count": 45,
     "metadata": {},
     "output_type": "execute_result"
    }
   ],
   "source": [
    "#arrow格式转换\n",
    "import arrow\n",
    "arrow.now().format('YYYY-MM-DD HH:mm:ss')"
   ]
  },
  {
   "cell_type": "code",
   "execution_count": 33,
   "metadata": {},
   "outputs": [
    {
     "data": {
      "text/plain": [
       "'镇江'"
      ]
     },
     "execution_count": 33,
     "metadata": {},
     "output_type": "execute_result"
    }
   ],
   "source": [
    "#根据字典的value找key\n",
    "list(zd.keys())[list(zd.values()).index('ZJH')]"
   ]
  },
  {
   "cell_type": "code",
   "execution_count": 28,
   "metadata": {},
   "outputs": [
    {
     "data": {
      "text/plain": [
       "380"
      ]
     },
     "execution_count": 28,
     "metadata": {},
     "output_type": "execute_result"
    }
   ],
   "source": [
    "list(zd.values()).index('SZH')"
   ]
  },
  {
   "cell_type": "code",
   "execution_count": 34,
   "metadata": {},
   "outputs": [
    {
     "data": {
      "text/plain": [
       "['SHH', 'KNH', 'SZH', 'WXH', 'CZH', 'DYH', 'ZJH', 'NJH']"
      ]
     },
     "execution_count": 34,
     "metadata": {},
     "output_type": "execute_result"
    }
   ],
   "source": [
    "hu_ning = [zd['上海'],zd['昆山南'],zd['苏州'],zd['无锡'],zd['常州'],zd['丹阳'],zd['镇江'],zd['南京']]\n",
    "hu_ning"
   ]
  },
  {
   "cell_type": "code",
   "execution_count": 46,
   "metadata": {},
   "outputs": [
    {
     "data": {
      "text/plain": [
       "[('SHH', 'KNH'), ('SHH', 'SZH'), ('SHH', 'WXH')]"
      ]
     },
     "execution_count": 46,
     "metadata": {},
     "output_type": "execute_result"
    }
   ],
   "source": [
    "#对站点进行两两组合\n",
    "from itertools import combinations\n",
    "\n",
    "com = combinations(hu_ning,2)\n",
    "list(com)[:3]"
   ]
  },
  {
   "cell_type": "markdown",
   "metadata": {},
   "source": [
    "#### 代码优化"
   ]
  },
  {
   "cell_type": "code",
   "execution_count": 55,
   "metadata": {},
   "outputs": [
    {
     "name": "stdout",
     "output_type": "stream",
     "text": [
      "SHH to KNH finished!\n",
      "SHH to SZH finished!\n",
      "SHH to WXH finished!\n",
      "SHH to CZH finished!\n",
      "SHH to DYH finished!\n",
      "SHH to ZJH finished!\n",
      "SHH to NJH finished!\n",
      "KNH to SZH finished!\n",
      "KNH to WXH finished!\n",
      "KNH to CZH finished!\n",
      "KNH to DYH finished!\n",
      "KNH to ZJH finished!\n",
      "KNH to NJH finished!\n",
      "SZH to WXH finished!\n",
      "SZH to CZH finished!\n",
      "SZH to DYH finished!\n",
      "SZH to ZJH finished!\n",
      "SZH to NJH finished!\n",
      "WXH to CZH finished!\n",
      "WXH to DYH finished!\n",
      "WXH to ZJH finished!\n",
      "WXH to NJH finished!\n",
      "CZH to DYH finished!\n",
      "CZH to ZJH finished!\n",
      "CZH to NJH finished!\n",
      "DYH to ZJH finished!\n",
      "DYH to NJH finished!\n",
      "ZJH to NJH finished!\n",
      "finished!\n"
     ]
    }
   ],
   "source": [
    "import requests\n",
    "import json\n",
    "import pandas\n",
    "import arrow\n",
    "from itertools import combinations\n",
    "import time\n",
    "\n",
    "class HighSpeed(object):\n",
    "    #定义实例化后的初始参数\n",
    "    def __init__(self,date,from_station,to_station):\n",
    "        self.date = date\n",
    "        self.from_station = from_station\n",
    "        self.to_station = to_station\n",
    "        \n",
    "    def get_pd(self):\n",
    "        headers={\n",
    "        \"Accept\": \"text/html, application/xhtml+xml, application/xml; q=0.9, */*; q=0.8\",\n",
    "        \"Connection\": \"Keep-Alive\",\n",
    "        \"Cookie\": \"JSESSIONID=CE1E0910299807B0B5D6CE1AE4B37318; RAIL_DEVICEID=KIGorQUspNUQqHtpHqI4qcn_7n8neHBX58xwMxWqPc26JQIimw-uxozqOZEOb_cizOpzFiNc04ZF_sK3raRaFjH3Ao-IO7KIEkB24NnWaD_4ME1YfS8KrNhz637Z2NQIjcjzvKENUq6HfF0Thy8UHfZpscWtyFJf; RAIL_EXPIRATION=1587115346591; route=6f50b51faa11b987e576cdb301e545c4; BIGipServerotn=1490616586.50210.0000; _jc_save_toStation=%u5170%u5DDE%2CLZJ; _jc_save_wfdc_flag=dc; _jc_save_toDate=2020-04-14; _jc_save_fromDate=2020-04-14; _jc_save_fromStation=%u897F%u5B89%2CXAY\",\n",
    "        \"User-Agent\": \"Mozilla/5.0 (Windows NT 10.0; Win64; x64) AppleWebKit/537.36 (KHTML, like Gecko) Chrome/70.0.3538.102 Safari/537.36 Edge/18.18362\"\n",
    "        }\n",
    "        url = 'https://kyfw.12306.cn/otn/leftTicket/query?leftTicketDTO.train_date='\\\n",
    "        +self.date+'&leftTicketDTO.from_station='+self.from_station+'&leftTicketDTO.to_station='+self.to_station+'&purpose_codes=ADULT'\n",
    "\n",
    "        text = requests.get(url,headers=headers).text\n",
    "        return text\n",
    "\n",
    "    def to_csv(self):\n",
    "        text = self.get_pd()\n",
    "        js = json.loads(text)\n",
    "        data = js['data']['result']\n",
    "        dt_all = []\n",
    "        for dt in data:\n",
    "            dt_all.append(dt.split('|'))\n",
    "\n",
    "        df_use = pd.DataFrame(dt_all)\n",
    "        df_use = df_use[df_use[3].str.contains('D') | df_use[3].str.contains('G')]\n",
    "        df_use = df_use[[2,3,6,7,8,9,22,26,30,31,32,33]]\n",
    "        df_use = df_use.rename(columns={2:'编号',3:'车次',6:'发车站',7:'到达站',\n",
    "                                    8:'发车时间',9:'到达时间',22:'其他',26:'无座',\n",
    "                                    30:'二等座',31:'一等座',32:'商务特等座',33:'动卧'})\n",
    "        df_use.replace('',0,inplace=True)\n",
    "        tm = arrow.now().format('HH:mm')\n",
    "        df_use['record_time'] = tm\n",
    "        print('{} to {} finished!'.format(self.from_station,self.to_station))\n",
    "        \n",
    "        df_use.to_csv(r'../../file/subject/sj2_data{}.csv'.format(self.date),mode='a',index=False)\n",
    "        time.sleep(2)\n",
    "\n",
    "if __name__ == '__main__':\n",
    "    date = arrow.now().format('YYYY-MM-DD')\n",
    "    hu_ning = ['SHH', 'KNH', 'SZH', 'WXH', 'CZH', 'DYH', 'ZJH', 'NJH']\n",
    "#     hu_ning = ['SHH', 'KNH', 'SZH']\n",
    "    com = combinations(hu_ning,2)\n",
    "    for ls in com:\n",
    "        hspeed = HighSpeed(date,ls[0],ls[1])\n",
    "        hspeed.to_csv()\n",
    "    print('finished!')"
   ]
  },
  {
   "cell_type": "markdown",
   "metadata": {},
   "source": []
  }
 ],
 "metadata": {
  "kernelspec": {
   "display_name": "Python 3",
   "language": "python",
   "name": "python3"
  },
  "language_info": {
   "codemirror_mode": {
    "name": "ipython",
    "version": 3
   },
   "file_extension": ".py",
   "mimetype": "text/x-python",
   "name": "python",
   "nbconvert_exporter": "python",
   "pygments_lexer": "ipython3",
   "version": "3.7.4"
  }
 },
 "nbformat": 4,
 "nbformat_minor": 2
}
