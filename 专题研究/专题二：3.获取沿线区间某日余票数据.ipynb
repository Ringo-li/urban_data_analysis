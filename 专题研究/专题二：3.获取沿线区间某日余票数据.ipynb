{
 "cells": [
  {
   "cell_type": "code",
   "execution_count": null,
   "metadata": {},
   "outputs": [],
   "source": [
    "import requests\n",
    "import json\n",
    "import pandas\n",
    "\n",
    "def get_pd(url,headers):\n",
    "    text = requests.get(url,headers=headers).text\n",
    "    return text\n",
    "\n",
    "def to_csv(text):\n",
    "    js = json.loads(text)\n",
    "    data = js['data']['result']\n",
    "    dt_all = []\n",
    "    for dt in data:\n",
    "        dt_all.append(dt.split('|'))\n",
    "    \n",
    "    df_use = pd.DataFrame(dt_all)\n",
    "    df_use = df_use[df_use[3].str.contains('D') | df_use[3].str.contains('G')]\n",
    "    df_use = df_use[[2,3,6,7,8,9,22,26,30,31,32,33]]\n",
    "    df_use = df_use.rename(columns={2:'编号',3:'车次',6:'发车站',7:'到达站',\n",
    "                                8:'发车时间',9:'到达时间',22:'其他',26:'无座',\n",
    "                                30:'二等座',31:'一等座',32:'商务特等座',33:'动卧'})\n",
    "    df_use.replace('',0,inplace=True)\n",
    "    df_use.to_csv(r'../../file/subject/sj2_data01.csv')\n",
    "    \n",
    "if __name__ == '__main__':\n",
    "    headers={\n",
    "    \"Accept\": \"text/html, application/xhtml+xml, application/xml; q=0.9, */*; q=0.8\",\n",
    "    \"Connection\": \"Keep-Alive\",\n",
    "    \"Cookie\": \"JSESSIONID=CE1E0910299807B0B5D6CE1AE4B37318; RAIL_DEVICEID=KIGorQUspNUQqHtpHqI4qcn_7n8neHBX58xwMxWqPc26JQIimw-uxozqOZEOb_cizOpzFiNc04ZF_sK3raRaFjH3Ao-IO7KIEkB24NnWaD_4ME1YfS8KrNhz637Z2NQIjcjzvKENUq6HfF0Thy8UHfZpscWtyFJf; RAIL_EXPIRATION=1587115346591; route=6f50b51faa11b987e576cdb301e545c4; BIGipServerotn=1490616586.50210.0000; _jc_save_toStation=%u5170%u5DDE%2CLZJ; _jc_save_wfdc_flag=dc; _jc_save_toDate=2020-04-14; _jc_save_fromDate=2020-04-14; _jc_save_fromStation=%u897F%u5B89%2CXAY\",\n",
    "    \"User-Agent\": \"Mozilla/5.0 (Windows NT 10.0; Win64; x64) AppleWebKit/537.36 (KHTML, like Gecko) Chrome/70.0.3538.102 Safari/537.36 Edge/18.18362\"\n",
    "        }\n",
    "    url = 'https://kyfw.12306.cn/otn/leftTicket/query?leftTicketDTO.train_date=2020-04-25&leftTicketDTO.from_station=SHH&leftTicketDTO.to_station=NJH&purpose_codes=ADULT'\n",
    "    text = get_pd(url,headers)\n",
    "    to_csv(text)\n",
    "    print('finished!')"
   ]
  },
  {
   "cell_type": "code",
   "execution_count": 1,
   "metadata": {},
   "outputs": [
    {
     "name": "stdout",
     "output_type": "stream",
     "text": [
      "Response HTTP Status Code: 200\n"
     ]
    },
    {
     "data": {
      "text/plain": [
       "40446"
      ]
     },
     "execution_count": 1,
     "metadata": {},
     "output_type": "execute_result"
    }
   ],
   "source": []
  },
  {
   "cell_type": "code",
   "execution_count": null,
   "metadata": {},
   "outputs": [],
   "source": []
  }
 ],
 "metadata": {
  "kernelspec": {
   "display_name": "Python 3",
   "language": "python",
   "name": "python3"
  },
  "language_info": {
   "codemirror_mode": {
    "name": "ipython",
    "version": 3
   },
   "file_extension": ".py",
   "mimetype": "text/x-python",
   "name": "python",
   "nbconvert_exporter": "python",
   "pygments_lexer": "ipython3",
   "version": "3.7.4"
  }
 },
 "nbformat": 4,
 "nbformat_minor": 2
}
