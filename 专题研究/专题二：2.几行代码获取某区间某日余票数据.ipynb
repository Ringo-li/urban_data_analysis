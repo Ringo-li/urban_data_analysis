{
 "cells": [
  {
   "cell_type": "code",
   "execution_count": 23,
   "metadata": {},
   "outputs": [],
   "source": [
    "import requests\n",
    "import json\n",
    "import pandas as pd"
   ]
  },
  {
   "cell_type": "code",
   "execution_count": 4,
   "metadata": {},
   "outputs": [],
   "source": [
    "#通过12306网站搜索时network中显示的网址，能够获取目标数据\n",
    "url = 'https://kyfw.12306.cn/otn/leftTicket/query?leftTicketDTO.train_date=2020-04-25&leftTicketDTO.from_station=SHH&leftTicketDTO.to_station=NJH&purpose_codes=ADULT'"
   ]
  },
  {
   "cell_type": "code",
   "execution_count": 11,
   "metadata": {},
   "outputs": [],
   "source": [
    "#发现直接有requests无法获取到信息，构建一个headers\n",
    "headers={\n",
    "    \"Accept\": \"text/html, application/xhtml+xml, application/xml; q=0.9, */*; q=0.8\",\n",
    "    \"Connection\": \"Keep-Alive\",\n",
    "    \"Cookie\": \"JSESSIONID=CE1E0910299807B0B5D6CE1AE4B37318; RAIL_DEVICEID=KIGorQUspNUQqHtpHqI4qcn_7n8neHBX58xwMxWqPc26JQIimw-uxozqOZEOb_cizOpzFiNc04ZF_sK3raRaFjH3Ao-IO7KIEkB24NnWaD_4ME1YfS8KrNhz637Z2NQIjcjzvKENUq6HfF0Thy8UHfZpscWtyFJf; RAIL_EXPIRATION=1587115346591; route=6f50b51faa11b987e576cdb301e545c4; BIGipServerotn=1490616586.50210.0000; _jc_save_toStation=%u5170%u5DDE%2CLZJ; _jc_save_wfdc_flag=dc; _jc_save_toDate=2020-04-14; _jc_save_fromDate=2020-04-14; _jc_save_fromStation=%u897F%u5B89%2CXAY\",\n",
    "    \"User-Agent\": \"Mozilla/5.0 (Windows NT 10.0; Win64; x64) AppleWebKit/537.36 (KHTML, like Gecko) Chrome/70.0.3538.102 Safari/537.36 Edge/18.18362\"\n",
    "        }"
   ]
  },
  {
   "cell_type": "code",
   "execution_count": 13,
   "metadata": {
    "scrolled": true
   },
   "outputs": [],
   "source": [
    "js = requests.get(url,headers=headers).text"
   ]
  },
  {
   "cell_type": "code",
   "execution_count": 14,
   "metadata": {},
   "outputs": [],
   "source": [
    "#将数据转换为json格式\n",
    "js2 =  json.loads(js)"
   ]
  },
  {
   "cell_type": "code",
   "execution_count": 18,
   "metadata": {},
   "outputs": [],
   "source": [
    "#获取目标数据\n",
    "data = js2['data']['result']"
   ]
  },
  {
   "cell_type": "code",
   "execution_count": 29,
   "metadata": {},
   "outputs": [],
   "source": [
    "#将数据分行分列存入列表中\n",
    "dt_all = []\n",
    "for dt in data:\n",
    "    dt_all.append(dt.split('|'))"
   ]
  },
  {
   "cell_type": "code",
   "execution_count": 33,
   "metadata": {},
   "outputs": [],
   "source": [
    "#数据是列表套列表的二维数组，导入pandas\n",
    "df_use = pd.DataFrame(dt_all)"
   ]
  },
  {
   "cell_type": "code",
   "execution_count": 34,
   "metadata": {},
   "outputs": [],
   "source": [
    "#过滤掉不是高铁的行\n",
    "df_use = df_use[df_use[3].str.contains('D') | df_use[3].str.contains('G')]"
   ]
  },
  {
   "cell_type": "code",
   "execution_count": 35,
   "metadata": {},
   "outputs": [],
   "source": [
    "#取出有用的列\n",
    "df_use = df_use[[2,3,6,7,8,9,22,26,30,31,32,33]]"
   ]
  },
  {
   "cell_type": "code",
   "execution_count": 36,
   "metadata": {},
   "outputs": [],
   "source": [
    "#更改列名\n",
    "df_use = df_use.rename(columns={2:'编号',3:'车次',6:'发车站',7:'到达站',\n",
    "                                8:'发车时间',9:'到达时间',22:'其他',26:'无座',\n",
    "                                30:'二等座',31:'一等座',32:'商务特等座',33:'动卧'})"
   ]
  },
  {
   "cell_type": "code",
   "execution_count": 37,
   "metadata": {},
   "outputs": [
    {
     "data": {
      "text/html": [
       "<div>\n",
       "<style scoped>\n",
       "    .dataframe tbody tr th:only-of-type {\n",
       "        vertical-align: middle;\n",
       "    }\n",
       "\n",
       "    .dataframe tbody tr th {\n",
       "        vertical-align: top;\n",
       "    }\n",
       "\n",
       "    .dataframe thead th {\n",
       "        text-align: right;\n",
       "    }\n",
       "</style>\n",
       "<table border=\"1\" class=\"dataframe\">\n",
       "  <thead>\n",
       "    <tr style=\"text-align: right;\">\n",
       "      <th></th>\n",
       "      <th>编号</th>\n",
       "      <th>车次</th>\n",
       "      <th>发车站</th>\n",
       "      <th>到达站</th>\n",
       "      <th>发车时间</th>\n",
       "      <th>到达时间</th>\n",
       "      <th>其他</th>\n",
       "      <th>无座</th>\n",
       "      <th>二等座</th>\n",
       "      <th>一等座</th>\n",
       "      <th>商务特等座</th>\n",
       "      <th>动卧</th>\n",
       "    </tr>\n",
       "  </thead>\n",
       "  <tbody>\n",
       "    <tr>\n",
       "      <td>2</td>\n",
       "      <td>55000G7072B0</td>\n",
       "      <td>G7072</td>\n",
       "      <td>SHH</td>\n",
       "      <td>NKH</td>\n",
       "      <td>05:48</td>\n",
       "      <td>07:50</td>\n",
       "      <td></td>\n",
       "      <td>无</td>\n",
       "      <td>有</td>\n",
       "      <td>20</td>\n",
       "      <td>5</td>\n",
       "      <td></td>\n",
       "    </tr>\n",
       "    <tr>\n",
       "      <td>3</td>\n",
       "      <td>55000G703260</td>\n",
       "      <td>G7032</td>\n",
       "      <td>SHH</td>\n",
       "      <td>NJH</td>\n",
       "      <td>05:53</td>\n",
       "      <td>07:53</td>\n",
       "      <td></td>\n",
       "      <td>无</td>\n",
       "      <td>有</td>\n",
       "      <td>有</td>\n",
       "      <td>9</td>\n",
       "      <td></td>\n",
       "    </tr>\n",
       "    <tr>\n",
       "      <td>4</td>\n",
       "      <td>5l0000G45650</td>\n",
       "      <td>G456</td>\n",
       "      <td>AOH</td>\n",
       "      <td>NKH</td>\n",
       "      <td>06:05</td>\n",
       "      <td>07:32</td>\n",
       "      <td></td>\n",
       "      <td></td>\n",
       "      <td>有</td>\n",
       "      <td>有</td>\n",
       "      <td>14</td>\n",
       "      <td></td>\n",
       "    </tr>\n",
       "    <tr>\n",
       "      <td>5</td>\n",
       "      <td>5l000G197050</td>\n",
       "      <td>G1970</td>\n",
       "      <td>AOH</td>\n",
       "      <td>NKH</td>\n",
       "      <td>24:00</td>\n",
       "      <td>24:00</td>\n",
       "      <td></td>\n",
       "      <td></td>\n",
       "      <td></td>\n",
       "      <td></td>\n",
       "      <td></td>\n",
       "      <td></td>\n",
       "    </tr>\n",
       "    <tr>\n",
       "      <td>6</td>\n",
       "      <td>5l0000D352A0</td>\n",
       "      <td>D352</td>\n",
       "      <td>AOH</td>\n",
       "      <td>NKH</td>\n",
       "      <td>06:13</td>\n",
       "      <td>08:25</td>\n",
       "      <td></td>\n",
       "      <td>无</td>\n",
       "      <td>有</td>\n",
       "      <td>有</td>\n",
       "      <td></td>\n",
       "      <td></td>\n",
       "    </tr>\n",
       "  </tbody>\n",
       "</table>\n",
       "</div>"
      ],
      "text/plain": [
       "             编号     车次  发车站  到达站   发车时间   到达时间 其他 无座 二等座 一等座 商务特等座 动卧\n",
       "2  55000G7072B0  G7072  SHH  NKH  05:48  07:50     无   有  20     5   \n",
       "3  55000G703260  G7032  SHH  NJH  05:53  07:53     无   有   有     9   \n",
       "4  5l0000G45650   G456  AOH  NKH  06:05  07:32         有   有    14   \n",
       "5  5l000G197050  G1970  AOH  NKH  24:00  24:00                       \n",
       "6  5l0000D352A0   D352  AOH  NKH  06:13  08:25     无   有   有         "
      ]
     },
     "execution_count": 37,
     "metadata": {},
     "output_type": "execute_result"
    }
   ],
   "source": [
    "df_use.head()"
   ]
  },
  {
   "cell_type": "code",
   "execution_count": 41,
   "metadata": {},
   "outputs": [],
   "source": [
    "#空数据填充0值\n",
    "df_use.replace('',0,inplace=True)"
   ]
  },
  {
   "cell_type": "code",
   "execution_count": 43,
   "metadata": {},
   "outputs": [],
   "source": [
    "df_use.to_csv(r'../../file/subject/sj2_data.csv')"
   ]
  },
  {
   "cell_type": "markdown",
   "metadata": {},
   "source": [
    "#### 代码整理"
   ]
  },
  {
   "cell_type": "code",
   "execution_count": 62,
   "metadata": {},
   "outputs": [
    {
     "name": "stdout",
     "output_type": "stream",
     "text": [
      "finished!\n"
     ]
    }
   ],
   "source": [
    "import requests\n",
    "import json\n",
    "import pandas\n",
    "\n",
    "def get_pd(url,headers):\n",
    "    text = requests.get(url,headers=headers).text\n",
    "    return text\n",
    "\n",
    "def to_csv(text):\n",
    "    js = json.loads(text)\n",
    "    data = js['data']['result']\n",
    "    dt_all = []\n",
    "    for dt in data:\n",
    "        dt_all.append(dt.split('|'))\n",
    "    \n",
    "    df_use = pd.DataFrame(dt_all)\n",
    "    df_use = df_use[df_use[3].str.contains('D') | df_use[3].str.contains('G')]\n",
    "    df_use = df_use[[2,3,6,7,8,9,22,26,30,31,32,33]]\n",
    "    df_use = df_use.rename(columns={2:'编号',3:'车次',6:'发车站',7:'到达站',\n",
    "                                8:'发车时间',9:'到达时间',22:'其他',26:'无座',\n",
    "                                30:'二等座',31:'一等座',32:'商务特等座',33:'动卧'})\n",
    "    df_use.replace('',0,inplace=True)\n",
    "    df_use.to_csv(r'../../file/subject/sj2_data01.csv')\n",
    "    \n",
    "if __name__ == '__main__':\n",
    "    headers={\n",
    "    \"Accept\": \"text/html, application/xhtml+xml, application/xml; q=0.9, */*; q=0.8\",\n",
    "    \"Connection\": \"Keep-Alive\",\n",
    "    \"Cookie\": \"JSESSIONID=CE1E0910299807B0B5D6CE1AE4B37318; RAIL_DEVICEID=KIGorQUspNUQqHtpHqI4qcn_7n8neHBX58xwMxWqPc26JQIimw-uxozqOZEOb_cizOpzFiNc04ZF_sK3raRaFjH3Ao-IO7KIEkB24NnWaD_4ME1YfS8KrNhz637Z2NQIjcjzvKENUq6HfF0Thy8UHfZpscWtyFJf; RAIL_EXPIRATION=1587115346591; route=6f50b51faa11b987e576cdb301e545c4; BIGipServerotn=1490616586.50210.0000; _jc_save_toStation=%u5170%u5DDE%2CLZJ; _jc_save_wfdc_flag=dc; _jc_save_toDate=2020-04-14; _jc_save_fromDate=2020-04-14; _jc_save_fromStation=%u897F%u5B89%2CXAY\",\n",
    "    \"User-Agent\": \"Mozilla/5.0 (Windows NT 10.0; Win64; x64) AppleWebKit/537.36 (KHTML, like Gecko) Chrome/70.0.3538.102 Safari/537.36 Edge/18.18362\"\n",
    "        }\n",
    "    url = 'https://kyfw.12306.cn/otn/leftTicket/query?leftTicketDTO.train_date=2020-04-25&leftTicketDTO.from_station=SHH&leftTicketDTO.to_station=NJH&purpose_codes=ADULT'\n",
    "    text = get_pd(url,headers)\n",
    "    to_csv(text)\n",
    "    print('finished!')"
   ]
  },
  {
   "cell_type": "code",
   "execution_count": 52,
   "metadata": {},
   "outputs": [],
   "source": []
  },
  {
   "cell_type": "code",
   "execution_count": null,
   "metadata": {},
   "outputs": [],
   "source": []
  }
 ],
 "metadata": {
  "kernelspec": {
   "display_name": "Python 3",
   "language": "python",
   "name": "python3"
  },
  "language_info": {
   "codemirror_mode": {
    "name": "ipython",
    "version": 3
   },
   "file_extension": ".py",
   "mimetype": "text/x-python",
   "name": "python",
   "nbconvert_exporter": "python",
   "pygments_lexer": "ipython3",
   "version": "3.7.4"
  }
 },
 "nbformat": 4,
 "nbformat_minor": 2
}
