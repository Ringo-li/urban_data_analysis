{
 "cells": [
  {
   "cell_type": "code",
   "execution_count": 1,
   "metadata": {},
   "outputs": [],
   "source": [
    "import pandas as pd\n",
    "import numpy as np\n",
    "import matplotlib.pyplot as plt\n",
    "import networkx as nx\n",
    "import geopandas as gpd\n",
    "%matplotlib inline"
   ]
  },
  {
   "cell_type": "markdown",
   "metadata": {},
   "source": [
    "### 1.前10对网络关联"
   ]
  },
  {
   "cell_type": "code",
   "execution_count": null,
   "metadata": {},
   "outputs": [],
   "source": [
    "#step1.读取上市公司和子公司数据，并进行连接\n",
    "df_com = pd.read_excel(r'../../file/subject/chapter3/SSGScompany04.xlsx')\n",
    "df_son = pd.read_excel(r'../../file/subject/chapter3/company_info_all05.xlsx')\n",
    "df = pd.merge(df_son,df_com,left_on='上市公司名称',right_on='公司名称2').reset_index()"
   ]
  },
  {
   "cell_type": "code",
   "execution_count": 14,
   "metadata": {},
   "outputs": [],
   "source": [
    "#step2.筛选正常营业公司\n",
    "df['公司状态'] = df['公司状态'].apply(lambda x:'开业' if x == 0 else x)\n",
    "df = df[-df['公司状态'].str.startswith('吊销')]"
   ]
  },
  {
   "cell_type": "code",
   "execution_count": 16,
   "metadata": {},
   "outputs": [
    {
     "data": {
      "text/plain": [
       "Index(['index', 'Unnamed: 0_x', '公司名称_x', '上市公司名称', '公司状态', '注册资本', '上市公司投资比例',\n",
       "       'province_x', 'city_x', 'Unnamed: 0_y', 'Unnamed: 0.1', '公司名称_y', '地址',\n",
       "       '公司网址', '爬取页', '公司名称2', 'region', 'province_y', 'city_y'],\n",
       "      dtype='object')"
      ]
     },
     "execution_count": 16,
     "metadata": {},
     "output_type": "execute_result"
    }
   ],
   "source": [
    "df.columns"
   ]
  },
  {
   "cell_type": "code",
   "execution_count": 17,
   "metadata": {},
   "outputs": [
    {
     "data": {
      "text/html": [
       "<div>\n",
       "<style scoped>\n",
       "    .dataframe tbody tr th:only-of-type {\n",
       "        vertical-align: middle;\n",
       "    }\n",
       "\n",
       "    .dataframe tbody tr th {\n",
       "        vertical-align: top;\n",
       "    }\n",
       "\n",
       "    .dataframe thead th {\n",
       "        text-align: right;\n",
       "    }\n",
       "</style>\n",
       "<table border=\"1\" class=\"dataframe\">\n",
       "  <thead>\n",
       "    <tr style=\"text-align: right;\">\n",
       "      <th></th>\n",
       "      <th>city_x</th>\n",
       "      <th>city_y</th>\n",
       "    </tr>\n",
       "  </thead>\n",
       "  <tbody>\n",
       "    <tr>\n",
       "      <td>0</td>\n",
       "      <td>上海市</td>\n",
       "      <td>兰州市</td>\n",
       "    </tr>\n",
       "    <tr>\n",
       "      <td>3</td>\n",
       "      <td>兰州市</td>\n",
       "      <td>兰州市</td>\n",
       "    </tr>\n",
       "    <tr>\n",
       "      <td>6</td>\n",
       "      <td>兰州市</td>\n",
       "      <td>兰州市</td>\n",
       "    </tr>\n",
       "    <tr>\n",
       "      <td>9</td>\n",
       "      <td>张掖市</td>\n",
       "      <td>兰州市</td>\n",
       "    </tr>\n",
       "    <tr>\n",
       "      <td>10</td>\n",
       "      <td>兰州市</td>\n",
       "      <td>兰州市</td>\n",
       "    </tr>\n",
       "    <tr>\n",
       "      <td>...</td>\n",
       "      <td>...</td>\n",
       "      <td>...</td>\n",
       "    </tr>\n",
       "    <tr>\n",
       "      <td>57257</td>\n",
       "      <td>东莞市</td>\n",
       "      <td>宁德市</td>\n",
       "    </tr>\n",
       "    <tr>\n",
       "      <td>57258</td>\n",
       "      <td>北京市</td>\n",
       "      <td>宁德市</td>\n",
       "    </tr>\n",
       "    <tr>\n",
       "      <td>57259</td>\n",
       "      <td>武汉市</td>\n",
       "      <td>宁德市</td>\n",
       "    </tr>\n",
       "    <tr>\n",
       "      <td>57260</td>\n",
       "      <td>北京市</td>\n",
       "      <td>宁德市</td>\n",
       "    </tr>\n",
       "    <tr>\n",
       "      <td>57261</td>\n",
       "      <td>泉州市</td>\n",
       "      <td>宁德市</td>\n",
       "    </tr>\n",
       "  </tbody>\n",
       "</table>\n",
       "<p>56327 rows × 2 columns</p>\n",
       "</div>"
      ],
      "text/plain": [
       "      city_x city_y\n",
       "0        上海市    兰州市\n",
       "3        兰州市    兰州市\n",
       "6        兰州市    兰州市\n",
       "9        张掖市    兰州市\n",
       "10       兰州市    兰州市\n",
       "...      ...    ...\n",
       "57257    东莞市    宁德市\n",
       "57258    北京市    宁德市\n",
       "57259    武汉市    宁德市\n",
       "57260    北京市    宁德市\n",
       "57261    泉州市    宁德市\n",
       "\n",
       "[56327 rows x 2 columns]"
      ]
     },
     "execution_count": 17,
     "metadata": {},
     "output_type": "execute_result"
    }
   ],
   "source": [
    "#step3.筛选非同城公司以建立关联\n",
    "city_net = df[['city_x','city_y']].rename({'city_x':'ZGS_city','city_y':'SSGS_city'})\n",
    "city_net"
   ]
  },
  {
   "cell_type": "code",
   "execution_count": null,
   "metadata": {},
   "outputs": [],
   "source": [
    "#step4.处理错误城市数据"
   ]
  },
  {
   "cell_type": "code",
   "execution_count": null,
   "metadata": {},
   "outputs": [],
   "source": [
    "#step5.聚合城市数据，统计连接次数，筛选出前N条连接"
   ]
  },
  {
   "cell_type": "code",
   "execution_count": null,
   "metadata": {},
   "outputs": [],
   "source": []
  },
  {
   "cell_type": "code",
   "execution_count": null,
   "metadata": {},
   "outputs": [],
   "source": []
  },
  {
   "cell_type": "code",
   "execution_count": null,
   "metadata": {},
   "outputs": [],
   "source": []
  },
  {
   "cell_type": "code",
   "execution_count": null,
   "metadata": {},
   "outputs": [],
   "source": []
  },
  {
   "cell_type": "code",
   "execution_count": null,
   "metadata": {},
   "outputs": [],
   "source": []
  },
  {
   "cell_type": "markdown",
   "metadata": {},
   "source": [
    "### 2.前50对网络关联"
   ]
  },
  {
   "cell_type": "markdown",
   "metadata": {},
   "source": [
    "### 3.前100对网络关联"
   ]
  }
 ],
 "metadata": {
  "kernelspec": {
   "display_name": "Python 3",
   "language": "python",
   "name": "python3"
  },
  "language_info": {
   "codemirror_mode": {
    "name": "ipython",
    "version": 3
   },
   "file_extension": ".py",
   "mimetype": "text/x-python",
   "name": "python",
   "nbconvert_exporter": "python",
   "pygments_lexer": "ipython3",
   "version": "3.7.4"
  }
 },
 "nbformat": 4,
 "nbformat_minor": 2
}
