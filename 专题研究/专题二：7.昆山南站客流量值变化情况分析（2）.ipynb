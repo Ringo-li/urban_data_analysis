{
 "cells": [
  {
   "cell_type": "code",
   "execution_count": 1,
   "metadata": {},
   "outputs": [],
   "source": [
    "import pandas as pd\n",
    "import numpy as np\n",
    "import matplotlib.pyplot as plt\n",
    "%matplotlib inline"
   ]
  },
  {
   "cell_type": "markdown",
   "metadata": {},
   "source": [
    "### 1.读取数据"
   ]
  },
  {
   "cell_type": "code",
   "execution_count": 5,
   "metadata": {
    "scrolled": true
   },
   "outputs": [
    {
     "data": {
      "text/html": [
       "<div>\n",
       "<style scoped>\n",
       "    .dataframe tbody tr th:only-of-type {\n",
       "        vertical-align: middle;\n",
       "    }\n",
       "\n",
       "    .dataframe tbody tr th {\n",
       "        vertical-align: top;\n",
       "    }\n",
       "\n",
       "    .dataframe thead th {\n",
       "        text-align: right;\n",
       "    }\n",
       "</style>\n",
       "<table border=\"1\" class=\"dataframe\">\n",
       "  <thead>\n",
       "    <tr style=\"text-align: right;\">\n",
       "      <th></th>\n",
       "      <th>Unnamed: 0</th>\n",
       "      <th>编号</th>\n",
       "      <th>车次</th>\n",
       "      <th>发车站</th>\n",
       "      <th>到达站</th>\n",
       "      <th>发车时间</th>\n",
       "      <th>商务特等座</th>\n",
       "      <th>动卧</th>\n",
       "      <th>一等座</th>\n",
       "      <th>二等座</th>\n",
       "      <th>无座</th>\n",
       "      <th>记录日期</th>\n",
       "      <th>记录时间</th>\n",
       "      <th>余票总数</th>\n",
       "      <th>停售时间</th>\n",
       "      <th>始终站</th>\n",
       "      <th>停靠站</th>\n",
       "      <th>相邻站</th>\n",
       "    </tr>\n",
       "  </thead>\n",
       "  <tbody>\n",
       "    <tr>\n",
       "      <td>0</td>\n",
       "      <td>0</td>\n",
       "      <td>4f0000D3080F</td>\n",
       "      <td>D305</td>\n",
       "      <td>南京</td>\n",
       "      <td>苏州</td>\n",
       "      <td>03:30</td>\n",
       "      <td>0</td>\n",
       "      <td>0</td>\n",
       "      <td>0</td>\n",
       "      <td>117</td>\n",
       "      <td>18</td>\n",
       "      <td>2016-12-21</td>\n",
       "      <td>03:00</td>\n",
       "      <td>135</td>\n",
       "      <td>03:00</td>\n",
       "      <td>['南京', '苏州']</td>\n",
       "      <td>['西安北', '渭南北', '华山北', '三门峡南', '洛阳龙门', '郑州东', '...</td>\n",
       "      <td>[['西安北', '渭南北'], ['渭南北', '华山北'], ['华山北', '三门峡南...</td>\n",
       "    </tr>\n",
       "    <tr>\n",
       "      <td>1</td>\n",
       "      <td>2</td>\n",
       "      <td>4f0000D3080F</td>\n",
       "      <td>D305</td>\n",
       "      <td>苏州</td>\n",
       "      <td>上海</td>\n",
       "      <td>05:34</td>\n",
       "      <td>0</td>\n",
       "      <td>0</td>\n",
       "      <td>0</td>\n",
       "      <td>84</td>\n",
       "      <td>18</td>\n",
       "      <td>2016-12-21</td>\n",
       "      <td>05:04</td>\n",
       "      <td>102</td>\n",
       "      <td>05:04</td>\n",
       "      <td>['苏州', '上海']</td>\n",
       "      <td>['西安北', '渭南北', '华山北', '三门峡南', '洛阳龙门', '郑州东', '...</td>\n",
       "      <td>[['西安北', '渭南北'], ['渭南北', '华山北'], ['华山北', '三门峡南...</td>\n",
       "    </tr>\n",
       "  </tbody>\n",
       "</table>\n",
       "</div>"
      ],
      "text/plain": [
       "   Unnamed: 0            编号    车次 发车站 到达站   发车时间  商务特等座  动卧  一等座  二等座  无座  \\\n",
       "0           0  4f0000D3080F  D305  南京  苏州  03:30      0   0    0  117  18   \n",
       "1           2  4f0000D3080F  D305  苏州  上海  05:34      0   0    0   84  18   \n",
       "\n",
       "         记录日期   记录时间  余票总数   停售时间           始终站  \\\n",
       "0  2016-12-21  03:00   135  03:00  ['南京', '苏州']   \n",
       "1  2016-12-21  05:04   102  05:04  ['苏州', '上海']   \n",
       "\n",
       "                                                 停靠站  \\\n",
       "0  ['西安北', '渭南北', '华山北', '三门峡南', '洛阳龙门', '郑州东', '...   \n",
       "1  ['西安北', '渭南北', '华山北', '三门峡南', '洛阳龙门', '郑州东', '...   \n",
       "\n",
       "                                                 相邻站  \n",
       "0  [['西安北', '渭南北'], ['渭南北', '华山北'], ['华山北', '三门峡南...  \n",
       "1  [['西安北', '渭南北'], ['渭南北', '华山北'], ['华山北', '三门峡南...  "
      ]
     },
     "execution_count": 5,
     "metadata": {},
     "output_type": "execute_result"
    }
   ],
   "source": [
    "df_neighbor = pd.read_csv(r'../../file/subject/station_ana.csv')\n",
    "df_neighbor.head(2)"
   ]
  },
  {
   "cell_type": "markdown",
   "metadata": {},
   "source": [
    "### 2.获取某站上下乘客数，以昆山为例"
   ]
  },
  {
   "cell_type": "markdown",
   "metadata": {},
   "source": [
    "#### 2.1.获取到达和出发数据"
   ]
  },
  {
   "cell_type": "code",
   "execution_count": 6,
   "metadata": {},
   "outputs": [],
   "source": [
    "df_to_kunshan = df_neighbor[df_neighbor['到达站'].str.contains('昆山')]\n",
    "df_from_kunshan = df_neighbor[df_neighbor['发车站'].str.contains('昆山')]"
   ]
  },
  {
   "cell_type": "markdown",
   "metadata": {},
   "source": [
    "#### 2.2合并数据"
   ]
  },
  {
   "cell_type": "code",
   "execution_count": 7,
   "metadata": {},
   "outputs": [
    {
     "data": {
      "text/plain": [
       "Index(['Unnamed: 0_x', '编号', '车次_x', '发车站_x', '到达站_x', '发车时间_x', '商务特等座_x',\n",
       "       '动卧_x', '一等座_x', '二等座_x', '无座_x', '记录日期_x', '记录时间_x', '余票总数_x',\n",
       "       '停售时间_x', '始终站_x', '停靠站_x', '相邻站_x', 'Unnamed: 0_y', '车次_y', '发车站_y',\n",
       "       '到达站_y', '发车时间_y', '商务特等座_y', '动卧_y', '一等座_y', '二等座_y', '无座_y',\n",
       "       '记录日期_y', '记录时间_y', '余票总数_y', '停售时间_y', '始终站_y', '停靠站_y', '相邻站_y'],\n",
       "      dtype='object')"
      ]
     },
     "execution_count": 7,
     "metadata": {},
     "output_type": "execute_result"
    }
   ],
   "source": [
    "df_kunshan = pd.merge(df_to_kunshan,df_from_kunshan,on='编号')\n",
    "df_kunshan.columns"
   ]
  },
  {
   "cell_type": "markdown",
   "metadata": {},
   "source": [
    "#### 2.3获取乘客流量"
   ]
  },
  {
   "cell_type": "code",
   "execution_count": 12,
   "metadata": {},
   "outputs": [],
   "source": [
    "#apply应用\n",
    "df_kunshan['乘客流量'] = df_kunshan.apply(lambda x:x['余票总数_x'] - x['余票总数_y'],axis=1)"
   ]
  },
  {
   "cell_type": "code",
   "execution_count": 14,
   "metadata": {},
   "outputs": [
    {
     "data": {
      "text/html": [
       "<div>\n",
       "<style scoped>\n",
       "    .dataframe tbody tr th:only-of-type {\n",
       "        vertical-align: middle;\n",
       "    }\n",
       "\n",
       "    .dataframe tbody tr th {\n",
       "        vertical-align: top;\n",
       "    }\n",
       "\n",
       "    .dataframe thead th {\n",
       "        text-align: right;\n",
       "    }\n",
       "</style>\n",
       "<table border=\"1\" class=\"dataframe\">\n",
       "  <thead>\n",
       "    <tr style=\"text-align: right;\">\n",
       "      <th></th>\n",
       "      <th>Unnamed: 0_x</th>\n",
       "      <th>编号</th>\n",
       "      <th>车次_x</th>\n",
       "      <th>发车站_x</th>\n",
       "      <th>到达站_x</th>\n",
       "      <th>发车时间_x</th>\n",
       "      <th>商务特等座_x</th>\n",
       "      <th>动卧_x</th>\n",
       "      <th>一等座_x</th>\n",
       "      <th>二等座_x</th>\n",
       "      <th>...</th>\n",
       "      <th>二等座_y</th>\n",
       "      <th>无座_y</th>\n",
       "      <th>记录日期_y</th>\n",
       "      <th>记录时间_y</th>\n",
       "      <th>余票总数_y</th>\n",
       "      <th>停售时间_y</th>\n",
       "      <th>始终站_y</th>\n",
       "      <th>停靠站_y</th>\n",
       "      <th>相邻站_y</th>\n",
       "      <th>乘客流量</th>\n",
       "    </tr>\n",
       "  </thead>\n",
       "  <tbody>\n",
       "    <tr>\n",
       "      <td>65</td>\n",
       "      <td>2660</td>\n",
       "      <td>490000G45805</td>\n",
       "      <td>G455</td>\n",
       "      <td>无锡东</td>\n",
       "      <td>昆山南</td>\n",
       "      <td>21:41</td>\n",
       "      <td>19</td>\n",
       "      <td>0</td>\n",
       "      <td>141</td>\n",
       "      <td>423</td>\n",
       "      <td>...</td>\n",
       "      <td>490</td>\n",
       "      <td>0</td>\n",
       "      <td>2016-12-21</td>\n",
       "      <td>21:28</td>\n",
       "      <td>651</td>\n",
       "      <td>21:28</td>\n",
       "      <td>['昆山南', '上海虹桥']</td>\n",
       "      <td>['荣成', '威海', '牟平', '烟台南', '莱阳', '即墨北', '潍坊', '...</td>\n",
       "      <td>[['荣成', '威海'], ['威海', '牟平'], ['牟平', '烟台南'], ['...</td>\n",
       "      <td>-68</td>\n",
       "    </tr>\n",
       "    <tr>\n",
       "      <td>66</td>\n",
       "      <td>2723</td>\n",
       "      <td>11000G125607</td>\n",
       "      <td>G1257</td>\n",
       "      <td>苏州北</td>\n",
       "      <td>昆山南</td>\n",
       "      <td>22:20</td>\n",
       "      <td>0</td>\n",
       "      <td>10</td>\n",
       "      <td>30</td>\n",
       "      <td>295</td>\n",
       "      <td>...</td>\n",
       "      <td>405</td>\n",
       "      <td>0</td>\n",
       "      <td>2016-12-21</td>\n",
       "      <td>22:07</td>\n",
       "      <td>450</td>\n",
       "      <td>22:07</td>\n",
       "      <td>['昆山南', '上海虹桥']</td>\n",
       "      <td>['长春', '公主岭南', '四平东', '铁岭西', '沈阳北', '绥中北', '秦皇...</td>\n",
       "      <td>[['长春', '公主岭南'], ['公主岭南', '四平东'], ['四平东', '铁岭西...</td>\n",
       "      <td>-115</td>\n",
       "    </tr>\n",
       "  </tbody>\n",
       "</table>\n",
       "<p>2 rows × 36 columns</p>\n",
       "</div>"
      ],
      "text/plain": [
       "    Unnamed: 0_x            编号   车次_x 发车站_x 到达站_x 发车时间_x  商务特等座_x  动卧_x  \\\n",
       "65          2660  490000G45805   G455   无锡东   昆山南  21:41       19     0   \n",
       "66          2723  11000G125607  G1257   苏州北   昆山南  22:20        0    10   \n",
       "\n",
       "    一等座_x  二等座_x  ...  二等座_y 无座_y      记录日期_y  记录时间_y 余票总数_y 停售时间_y  \\\n",
       "65    141    423  ...    490    0  2016-12-21   21:28    651  21:28   \n",
       "66     30    295  ...    405    0  2016-12-21   22:07    450  22:07   \n",
       "\n",
       "              始终站_y                                              停靠站_y  \\\n",
       "65  ['昆山南', '上海虹桥']  ['荣成', '威海', '牟平', '烟台南', '莱阳', '即墨北', '潍坊', '...   \n",
       "66  ['昆山南', '上海虹桥']  ['长春', '公主岭南', '四平东', '铁岭西', '沈阳北', '绥中北', '秦皇...   \n",
       "\n",
       "                                                相邻站_y 乘客流量  \n",
       "65  [['荣成', '威海'], ['威海', '牟平'], ['牟平', '烟台南'], ['...  -68  \n",
       "66  [['长春', '公主岭南'], ['公主岭南', '四平东'], ['四平东', '铁岭西... -115  \n",
       "\n",
       "[2 rows x 36 columns]"
      ]
     },
     "execution_count": 14,
     "metadata": {},
     "output_type": "execute_result"
    }
   ],
   "source": [
    "#更简洁的方法\n",
    "df_kunshan['乘客流量'] = df_kunshan['余票总数_x'] - df_kunshan['余票总数_y']\n",
    "df_kunshan.tail(2)"
   ]
  },
  {
   "cell_type": "code",
   "execution_count": 15,
   "metadata": {},
   "outputs": [
    {
     "data": {
      "text/html": [
       "<div>\n",
       "<style scoped>\n",
       "    .dataframe tbody tr th:only-of-type {\n",
       "        vertical-align: middle;\n",
       "    }\n",
       "\n",
       "    .dataframe tbody tr th {\n",
       "        vertical-align: top;\n",
       "    }\n",
       "\n",
       "    .dataframe thead th {\n",
       "        text-align: right;\n",
       "    }\n",
       "</style>\n",
       "<table border=\"1\" class=\"dataframe\">\n",
       "  <thead>\n",
       "    <tr style=\"text-align: right;\">\n",
       "      <th></th>\n",
       "      <th>发车时间_x</th>\n",
       "      <th>乘客流量</th>\n",
       "    </tr>\n",
       "  </thead>\n",
       "  <tbody>\n",
       "    <tr>\n",
       "      <td>0</td>\n",
       "      <td>07:21</td>\n",
       "      <td>310</td>\n",
       "    </tr>\n",
       "    <tr>\n",
       "      <td>1</td>\n",
       "      <td>07:48</td>\n",
       "      <td>122</td>\n",
       "    </tr>\n",
       "    <tr>\n",
       "      <td>2</td>\n",
       "      <td>08:03</td>\n",
       "      <td>200</td>\n",
       "    </tr>\n",
       "    <tr>\n",
       "      <td>3</td>\n",
       "      <td>08:28</td>\n",
       "      <td>49</td>\n",
       "    </tr>\n",
       "    <tr>\n",
       "      <td>4</td>\n",
       "      <td>08:25</td>\n",
       "      <td>174</td>\n",
       "    </tr>\n",
       "  </tbody>\n",
       "</table>\n",
       "</div>"
      ],
      "text/plain": [
       "  发车时间_x  乘客流量\n",
       "0  07:21   310\n",
       "1  07:48   122\n",
       "2  08:03   200\n",
       "3  08:28    49\n",
       "4  08:25   174"
      ]
     },
     "execution_count": 15,
     "metadata": {},
     "output_type": "execute_result"
    }
   ],
   "source": [
    "df_kunshan_use = df_kunshan[['发车时间_x','乘客流量']]\n",
    "df_kunshan_use.head()"
   ]
  },
  {
   "cell_type": "markdown",
   "metadata": {},
   "source": [
    "### 3.可视化"
   ]
  },
  {
   "cell_type": "code",
   "execution_count": 24,
   "metadata": {},
   "outputs": [
    {
     "data": {
      "image/png": "[encoded data removed]",
      "text/plain": [
       "<Figure size 1152x360 with 1 Axes>"
      ]
     },
     "metadata": {},
     "output_type": "display_data"
    }
   ],
   "source": [
    "plt.rcParams['font.sans-serif']=['SimHei']#显示中文字体为黑体\n",
    "plt.rcParams['axes.unicode_minus']=False#显示负号\n",
    "plt.style.use('ggplot')\n",
    "df_kunshan_use.plot(x='发车时间_x',y='乘客流量',kind='bar',figsize=(16,5),alpha=0.6)\n",
    "plt.xlabel('时间',size=12)\n",
    "plt.ylabel('上下客流值（单位：人）',size=12)\n",
    "plt.title('昆山南站（南京至上海）',size=14)\n",
    "plt.show()"
   ]
  },
  {
   "cell_type": "code",
   "execution_count": null,
   "metadata": {},
   "outputs": [],
   "source": []
  }
 ],
 "metadata": {
  "kernelspec": {
   "display_name": "Python 3",
   "language": "python",
   "name": "python3"
  },
  "language_info": {
   "codemirror_mode": {
    "name": "ipython",
    "version": 3
   },
   "file_extension": ".py",
   "mimetype": "text/x-python",
   "name": "python",
   "nbconvert_exporter": "python",
   "pygments_lexer": "ipython3",
   "version": "3.7.4"
  }
 },
 "nbformat": 4,
 "nbformat_minor": 2
}
