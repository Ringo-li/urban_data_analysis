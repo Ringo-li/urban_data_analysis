{
 "cells": [
  {
   "cell_type": "markdown",
   "metadata": {},
   "source": [
    "### 1.schedule库的基本用法"
   ]
  },
  {
   "cell_type": "code",
   "execution_count": null,
   "metadata": {
    "scrolled": true
   },
   "outputs": [],
   "source": [
    "#schedule库的使用：每两秒执行一次job\n",
    "import schedule\n",
    "import time\n",
    "\n",
    "def job():\n",
    "    print(\"i'm working...\")\n",
    "\n",
    "schedule.every(2).seconds.do(job)\n",
    "\n",
    "while True:\n",
    "    schedule.run_pending()\n",
    "    time.sleep(1)"
   ]
  },
  {
   "cell_type": "markdown",
   "metadata": {},
   "source": [
    "### 2.代码优化\n",
    "    1.加入try...except保证程序正常运行\n",
    "    2.加入判断，分开执行宁沪线和沪宁线\n",
    "    3.将运行过程保存到日志\n",
    "    4.多线程处理\n",
    "    5.加入无限循环\n",
    "    6.加入计时任务"
   ]
  },
  {
   "cell_type": "code",
   "execution_count": null,
   "metadata": {
    "scrolled": true
   },
   "outputs": [],
   "source": [
    "import requests\n",
    "import json\n",
    "import pandas as pd\n",
    "import arrow\n",
    "from itertools import combinations\n",
    "import time\n",
    "import schedule\n",
    "import threading\n",
    "\n",
    "class HighSpeed(object):\n",
    "    #定义实例化后的初始参数\n",
    "    def __init__(self,date,from_station,to_station,direction):\n",
    "        self.date = date\n",
    "        self.from_station = from_station\n",
    "        self.to_station = to_station\n",
    "        self.direction = direction\n",
    "        \n",
    "    def get_pd(self):\n",
    "        try:\n",
    "            headers={\n",
    "            \"Accept\": \"text/html, application/xhtml+xml, application/xml; q=0.9, */*; q=0.8\",\n",
    "            \"Connection\": \"Keep-Alive\",\n",
    "            \"Cookie\": \"JSESSIONID=CE1E0910299807B0B5D6CE1AE4B37318; RAIL_DEVICEID=KIGorQUspNUQqHtpHqI4qcn_7n8neHBX58xwMxWqPc26JQIimw-uxozqOZEOb_cizOpzFiNc04ZF_sK3raRaFjH3Ao-IO7KIEkB24NnWaD_4ME1YfS8KrNhz637Z2NQIjcjzvKENUq6HfF0Thy8UHfZpscWtyFJf; RAIL_EXPIRATION=1587115346591; route=6f50b51faa11b987e576cdb301e545c4; BIGipServerotn=1490616586.50210.0000; _jc_save_toStation=%u5170%u5DDE%2CLZJ; _jc_save_wfdc_flag=dc; _jc_save_toDate=2020-04-14; _jc_save_fromDate=2020-04-14; _jc_save_fromStation=%u897F%u5B89%2CXAY\",\n",
    "            \"User-Agent\": \"Mozilla/5.0 (Windows NT 10.0; Win64; x64) AppleWebKit/537.36 (KHTML, like Gecko) Chrome/70.0.3538.102 Safari/537.36 Edge/18.18362\"\n",
    "            }\n",
    "            url = 'https://kyfw.12306.cn/otn/leftTicket/query?leftTicketDTO.train_date='\\\n",
    "            +self.date+'&leftTicketDTO.from_station='+self.from_station+'&leftTicketDTO.to_station='+self.to_station+'&purpose_codes=ADULT'\n",
    "            text = requests.get(url,headers=headers).text\n",
    "            return text\n",
    "        except:\n",
    "            log_file = open(r'../../file/subject/log/log{}.txt'.format(self.date),'a')\n",
    "            log_file.write('error'+str(arrow.now().format('HH:mm'))+'\\n')\n",
    "            log_file.close()\n",
    "            \n",
    "\n",
    "    def to_csv(self):\n",
    "        try:\n",
    "            text = self.get_pd()\n",
    "            js = json.loads(text)\n",
    "            data = js['data']['result']\n",
    "            dt_all = []\n",
    "            for dt in data:\n",
    "                dt_all.append(dt.split('|'))\n",
    "\n",
    "            df_use = pd.DataFrame(dt_all)\n",
    "            df_use = df_use[df_use[3].str.contains('D') | df_use[3].str.contains('G')]\n",
    "            df_use = df_use[[2,3,6,7,8,9,22,26,30,31,32,33]]\n",
    "            df_use = df_use.rename(columns={2:'编号',3:'车次',6:'发车站',7:'到达站',\n",
    "                                        8:'发车时间',9:'到达时间',22:'其他',26:'无座',\n",
    "                                        30:'二等座',31:'一等座',32:'商务特等座',33:'动卧'})\n",
    "            df_use.replace('',0,inplace=True)\n",
    "            tm = arrow.now().format('HH:mm')\n",
    "            df_use['record_time'] = tm\n",
    "\n",
    "            df_use.to_csv(r'../../file/subject/{}_data{}.csv'.format(self.direction,self.date),mode='a',header=False)\n",
    "            \n",
    "            log_file = open(r'../../file/subject/log/log{}.txt'.format(self.date),'a')\n",
    "            log_file.write('info:{} {} to {} finished! \\n'.format(str(arrow.now().format('HH:mm')),self.from_station,self.to_station))\n",
    "            log_file.close()\n",
    "            time.sleep(2)\n",
    "        except:\n",
    "            print('no data')\n",
    "\n",
    "\n",
    "        print('I am working')\n",
    "            \n",
    "\n",
    "if __name__ == '__main__':\n",
    "    def process_huning():\n",
    "        date = arrow.now().format('YYYY-MM-DD')\n",
    "        hu_ning = ['SHH', 'KNH', 'SZH', 'WXH', 'CZH', 'DYH', 'ZJH', 'NJH']\n",
    "        com = combinations(hu_ning,2)\n",
    "        for ls in com:\n",
    "            hspeed = HighSpeed(date,ls[0],ls[1],'hu_ning')\n",
    "            hspeed.to_csv()\n",
    "    def process_ninghu():\n",
    "        date = arrow.now().format('YYYY-MM-DD')\n",
    "        ning_hu = ['SHH', 'KNH', 'SZH', 'WXH', 'CZH', 'DYH', 'ZJH', 'NJH'][::-1]\n",
    "        com = combinations(ning_hu,2)\n",
    "        for ls in com:\n",
    "            hspeed = HighSpeed(date,ls[0],ls[1],'ning_hu')\n",
    "            hspeed.to_csv() \n",
    "    def run_threaded(job_func):\n",
    "        job_thread =  threading.Thread(target=job_func)\n",
    "        job_thread.start()\n",
    "    \n",
    "    schedule.every(1).minutes.do(run_threaded,process_huning)\n",
    "    schedule.every(1).minutes.do(run_threaded,process_ninghu)\n",
    "    \n",
    "    while True:\n",
    "        schedule.run_pending()\n",
    "        time.sleep(1)"
   ]
  },
  {
   "cell_type": "code",
   "execution_count": null,
   "metadata": {},
   "outputs": [],
   "source": []
  }
 ],
 "metadata": {
  "kernelspec": {
   "display_name": "Python 3",
   "language": "python",
   "name": "python3"
  },
  "language_info": {
   "codemirror_mode": {
    "name": "ipython",
    "version": 3
   },
   "file_extension": ".py",
   "mimetype": "text/x-python",
   "name": "python",
   "nbconvert_exporter": "python",
   "pygments_lexer": "ipython3",
   "version": "3.7.4"
  }
 },
 "nbformat": 4,
 "nbformat_minor": 2
}
