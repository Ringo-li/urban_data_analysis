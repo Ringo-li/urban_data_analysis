{
 "cells": [
  {
   "cell_type": "code",
   "execution_count": 2,
   "metadata": {},
   "outputs": [],
   "source": [
    "import pandas as pd\n",
    "import numpy as np\n",
    "import networkx as nx"
   ]
  },
  {
   "cell_type": "code",
   "execution_count": 3,
   "metadata": {},
   "outputs": [
    {
     "name": "stdout",
     "output_type": "stream",
     "text": [
      "Done\n"
     ]
    }
   ],
   "source": [
    "#step1.读取上市公司和子公司数据，并进行连接\n",
    "df_com = pd.read_excel(r'../../file/subject/chapter3/SSGScompany04.xlsx')\n",
    "df_son = pd.read_excel(r'../../file/subject/chapter3/company_info_all05.xlsx')\n",
    "df = pd.merge(df_son,df_com,left_on='上市公司名称',right_on='公司名称2').reset_index()\n",
    "#step2.筛选正常营业公司\n",
    "df['公司状态'] = df['公司状态'].apply(lambda x:'开业' if x == 0 else x)\n",
    "df = df[-df['公司状态'].str.startswith('吊销')]\n",
    "#step3.筛选非同城公司以建立关联\n",
    "city_net = df[['city_x','city_y']].rename(columns={'city_x':'ZGS_city','city_y':'SSGS_city'})\n",
    "city_net['count'] = 1\n",
    "city_net = city_net[-(city_net['ZGS_city'] == city_net['SSGS_city'])]\n",
    "#step4.处理错误城市数据\n",
    "city_net = city_net[-(city_net.ZGS_city.isin([0,'','']) | city_net.ZGS_city.isna())]\n",
    "city_net.ZGS_city = city_net.ZGS_city.apply(lambda x:np.nan if x.isascii() else x)\n",
    "city_net.dropna(inplace=True)\n",
    "#step5.聚合城市数据，统计连接次数\n",
    "city_net = city_net.groupby(by=['SSGS_city','ZGS_city']).sum().reset_index()\n",
    "city_net_all = city_net.sort_values(by='count',ascending=False)\n",
    "#step6.生成GA数据\n",
    "GA = nx.from_pandas_edgelist(city_net_all,source='SSGS_city',target='ZGS_city',edge_attr='count')\n",
    "print('Done')"
   ]
  },
  {
   "cell_type": "markdown",
   "metadata": {},
   "source": [
    "#### 计算平均最短路径\n",
    "average_shortest_path_length(G, weight=None, method=None)\n",
    "https://networkx.github.io/documentation/stable/reference/algorithms/generated/networkx.algorithms.shortest_paths.generic.average_shortest_path_length.html?highlight=shortest#networkx-algorithms-shortest-paths-generic-average-shortest-path-length"
   ]
  },
  {
   "cell_type": "code",
   "execution_count": 4,
   "metadata": {},
   "outputs": [
    {
     "data": {
      "text/plain": [
       "1.960957217605417"
      ]
     },
     "execution_count": 4,
     "metadata": {},
     "output_type": "execute_result"
    }
   ],
   "source": [
    "nx.average_shortest_path_length(GA)"
   ]
  },
  {
   "cell_type": "markdown",
   "metadata": {},
   "source": [
    "#### 计算所有城市最短路径\n",
    "all_pairs_shortest_path_length(G, cutoff=None)\n",
    "https://networkx.github.io/documentation/stable/reference/algorithms/generated/networkx.algorithms.shortest_paths.unweighted.all_pairs_shortest_path_length.html?highlight=all%20pairs%20shortest%20path%20length#networkx-algorithms-shortest-paths-unweighted-all-pairs-shortest-path-length"
   ]
  },
  {
   "cell_type": "code",
   "execution_count": 17,
   "metadata": {},
   "outputs": [],
   "source": [
    "#获取整个路径的长度对象\n",
    "length = nx.all_pairs_shortest_path_length(GA)"
   ]
  },
  {
   "cell_type": "code",
   "execution_count": null,
   "metadata": {},
   "outputs": [],
   "source": [
    "#将路径长度分别加载到列表中\n",
    "lst = []\n",
    "for i in length:\n",
    "    for k,v in i[1].items():\n",
    "        ls = []\n",
    "        ls.append(k)\n",
    "        ls.append(v)\n",
    "        lst.append(ls)     "
   ]
  },
  {
   "cell_type": "code",
   "execution_count": 23,
   "metadata": {},
   "outputs": [
    {
     "data": {
      "text/html": [
       "<div>\n",
       "<style scoped>\n",
       "    .dataframe tbody tr th:only-of-type {\n",
       "        vertical-align: middle;\n",
       "    }\n",
       "\n",
       "    .dataframe tbody tr th {\n",
       "        vertical-align: top;\n",
       "    }\n",
       "\n",
       "    .dataframe thead th {\n",
       "        text-align: right;\n",
       "    }\n",
       "</style>\n",
       "<table border=\"1\" class=\"dataframe\">\n",
       "  <thead>\n",
       "    <tr style=\"text-align: right;\">\n",
       "      <th></th>\n",
       "      <th>city</th>\n",
       "      <th>path</th>\n",
       "    </tr>\n",
       "  </thead>\n",
       "  <tbody>\n",
       "    <tr>\n",
       "      <td>0</td>\n",
       "      <td>深圳市</td>\n",
       "      <td>0</td>\n",
       "    </tr>\n",
       "    <tr>\n",
       "      <td>1</td>\n",
       "      <td>北京市</td>\n",
       "      <td>1</td>\n",
       "    </tr>\n",
       "    <tr>\n",
       "      <td>2</td>\n",
       "      <td>上海市</td>\n",
       "      <td>1</td>\n",
       "    </tr>\n",
       "    <tr>\n",
       "      <td>3</td>\n",
       "      <td>广州市</td>\n",
       "      <td>1</td>\n",
       "    </tr>\n",
       "    <tr>\n",
       "      <td>4</td>\n",
       "      <td>苏州市</td>\n",
       "      <td>1</td>\n",
       "    </tr>\n",
       "  </tbody>\n",
       "</table>\n",
       "</div>"
      ],
      "text/plain": [
       "  city  path\n",
       "0  深圳市     0\n",
       "1  北京市     1\n",
       "2  上海市     1\n",
       "3  广州市     1\n",
       "4  苏州市     1"
      ]
     },
     "execution_count": 23,
     "metadata": {},
     "output_type": "execute_result"
    }
   ],
   "source": [
    "#将这个二维数值丢入DataFrame对象中\n",
    "df = pd.DataFrame(lst,columns=['city','path'])\n",
    "df.head()"
   ]
  },
  {
   "cell_type": "code",
   "execution_count": 24,
   "metadata": {},
   "outputs": [
    {
     "data": {
      "text/plain": [
       "129960"
      ]
     },
     "execution_count": 24,
     "metadata": {},
     "output_type": "execute_result"
    }
   ],
   "source": [
    "len(df)"
   ]
  },
  {
   "cell_type": "code",
   "execution_count": 32,
   "metadata": {},
   "outputs": [
    {
     "data": {
      "text/plain": [
       "129600"
      ]
     },
     "execution_count": 32,
     "metadata": {},
     "output_type": "execute_result"
    }
   ],
   "source": [
    "#筛选出非同城既path=0的个数\n",
    "len(df[df['path'] != 0])"
   ]
  },
  {
   "cell_type": "code",
   "execution_count": 33,
   "metadata": {},
   "outputs": [
    {
     "data": {
      "text/plain": [
       "12872"
      ]
     },
     "execution_count": 33,
     "metadata": {},
     "output_type": "execute_result"
    }
   ],
   "source": [
    "#筛选出城市直连path=1的个数\n",
    "len(df[df['path'] == 1])"
   ]
  },
  {
   "cell_type": "code",
   "execution_count": 34,
   "metadata": {},
   "outputs": [
    {
     "data": {
      "text/plain": [
       "0.09932098765432099"
      ]
     },
     "execution_count": 34,
     "metadata": {},
     "output_type": "execute_result"
    }
   ],
   "source": [
    "#计算城市直接联系百分比\n",
    "len(df[df['path'] == 1]) / len(df[df['path'] != 0])"
   ]
  },
  {
   "cell_type": "code",
   "execution_count": 37,
   "metadata": {},
   "outputs": [
    {
     "data": {
      "text/plain": [
       "0.9373456790123457"
      ]
     },
     "execution_count": 37,
     "metadata": {},
     "output_type": "execute_result"
    }
   ],
   "source": [
    "#计算城市直接联系和跨一步联系百分比\n",
    "len(df[(df['path'] == 1) | (df['path'] == 2)]) / len(df[df['path'] != 0])"
   ]
  },
  {
   "cell_type": "markdown",
   "metadata": {},
   "source": [
    "#### 计算平均聚类系数\n",
    "average_clustering(G, nodes=None, mode='dot')\n",
    "https://networkx.github.io/documentation/stable/reference/algorithms/generated/networkx.algorithms.bipartite.cluster.average_clustering.html?highlight=cluster#networkx-algorithms-bipartite-cluster-average-clustering"
   ]
  },
  {
   "cell_type": "code",
   "execution_count": 40,
   "metadata": {},
   "outputs": [
    {
     "data": {
      "text/plain": [
       "0.5971283696065839"
      ]
     },
     "execution_count": 40,
     "metadata": {},
     "output_type": "execute_result"
    }
   ],
   "source": [
    "nx.average_clustering(GA)"
   ]
  },
  {
   "cell_type": "markdown",
   "metadata": {},
   "source": [
    "#### 每个城市聚类系数"
   ]
  },
  {
   "cell_type": "code",
   "execution_count": null,
   "metadata": {},
   "outputs": [],
   "source": [
    "nx.clustering(GA)"
   ]
  },
  {
   "cell_type": "code",
   "execution_count": null,
   "metadata": {},
   "outputs": [],
   "source": []
  }
 ],
 "metadata": {
  "kernelspec": {
   "display_name": "Python 3",
   "language": "python",
   "name": "python3"
  },
  "language_info": {
   "codemirror_mode": {
    "name": "ipython",
    "version": 3
   },
   "file_extension": ".py",
   "mimetype": "text/x-python",
   "name": "python",
   "nbconvert_exporter": "python",
   "pygments_lexer": "ipython3",
   "version": "3.7.4"
  }
 },
 "nbformat": 4,
 "nbformat_minor": 2
}
