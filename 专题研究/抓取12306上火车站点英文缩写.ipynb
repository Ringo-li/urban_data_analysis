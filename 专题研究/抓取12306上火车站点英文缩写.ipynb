{
 "cells": [
  {
   "cell_type": "code",
   "execution_count": 3,
   "metadata": {},
   "outputs": [
    {
     "name": "stdout",
     "output_type": "stream",
     "text": [
      "Response HTTP Status Code: 200\n"
     ]
    },
    {
     "data": {
      "text/plain": [
       "40446"
      ]
     },
     "execution_count": 3,
     "metadata": {},
     "output_type": "execute_result"
    }
   ],
   "source": [
    "# -*- coding: UTF-8 -*-\n",
    "\n",
    "import requests\n",
    "import re\n",
    "\n",
    "def send_request():\n",
    "    \n",
    "    try:\n",
    "        response = requests.get(\n",
    "            url=\"https://kyfw.12306.cn/otn/resources/js/framework/station_name.js?station_version=1.9053\",\n",
    "        )\n",
    "        print('Response HTTP Status Code: {status_code}'.format(\n",
    "            status_code=response.status_code))\n",
    "                \n",
    "        strr = str(response.content,encoding=\"utf8\")\n",
    "        f = open(\"ceshi.txt\",'w+')\n",
    "        f.truncate()\n",
    "        f.write(strr)\n",
    "        \n",
    "    except requests.exceptions.RequestException:\n",
    "        print('HTTP Request failed')\n",
    "\n",
    "send_request() \n",
    "\n",
    "\n",
    "\n",
    "for line2 in open(\"ceshi.txt\"):  \n",
    "    clean_data = line2.split('|')  #先根据'|'分隔数据\n",
    "\n",
    "dictx = {}\n",
    "\n",
    "resultx = clean_data[1:len(clean_data):5]   #观察数据后,切片,从i=1开始,每次间隔5个,做字典key\n",
    "resulty = clean_data[2:len(clean_data):5] #观察数据后,切片,从i=2开始,每次间隔5个,做字典value\n",
    "\n",
    "for i in range(len(resultx)):\n",
    "    dictx[resultx[i]] = resulty[i]\n",
    "    \n",
    "\n",
    "f = open(\"ceshi_result.txt\",'w+')  #最终数据写入文件\n",
    "f.truncate()\n",
    "f.write(str(dictx))"
   ]
  },
  {
   "cell_type": "code",
   "execution_count": null,
   "metadata": {},
   "outputs": [],
   "source": []
  }
 ],
 "metadata": {
  "kernelspec": {
   "display_name": "Python 3",
   "language": "python",
   "name": "python3"
  },
  "language_info": {
   "codemirror_mode": {
    "name": "ipython",
    "version": 3
   },
   "file_extension": ".py",
   "mimetype": "text/x-python",
   "name": "python",
   "nbconvert_exporter": "python",
   "pygments_lexer": "ipython3",
   "version": "3.7.4"
  }
 },
 "nbformat": 4,
 "nbformat_minor": 2
}
