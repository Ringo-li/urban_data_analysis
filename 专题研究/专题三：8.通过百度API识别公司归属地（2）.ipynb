{
 "cells": [
  {
   "cell_type": "markdown",
   "metadata": {},
   "source": [
    "#### 1.子公司数据归属地转换"
   ]
  },
  {
   "cell_type": "code",
   "execution_count": 1,
   "metadata": {},
   "outputs": [],
   "source": [
    "import pandas as pd\n",
    "import numpy as np"
   ]
  },
  {
   "cell_type": "code",
   "execution_count": 2,
   "metadata": {},
   "outputs": [
    {
     "data": {
      "text/plain": [
       "57432"
      ]
     },
     "execution_count": 2,
     "metadata": {},
     "output_type": "execute_result"
    }
   ],
   "source": [
    "company = pd.read_excel('../../file/subject/chapter3/company_all.xlsx')\n",
    "len(company)"
   ]
  },
  {
   "cell_type": "markdown",
   "metadata": {},
   "source": [
    "#### 1.1抽出一部分作为样本进行处理"
   ]
  },
  {
   "cell_type": "code",
   "execution_count": 3,
   "metadata": {},
   "outputs": [
    {
     "data": {
      "text/html": [
       "<div>\n",
       "<style scoped>\n",
       "    .dataframe tbody tr th:only-of-type {\n",
       "        vertical-align: middle;\n",
       "    }\n",
       "\n",
       "    .dataframe tbody tr th {\n",
       "        vertical-align: top;\n",
       "    }\n",
       "\n",
       "    .dataframe thead th {\n",
       "        text-align: right;\n",
       "    }\n",
       "</style>\n",
       "<table border=\"1\" class=\"dataframe\">\n",
       "  <thead>\n",
       "    <tr style=\"text-align: right;\">\n",
       "      <th></th>\n",
       "      <th>维度</th>\n",
       "      <th>经度</th>\n",
       "      <th>地址</th>\n",
       "    </tr>\n",
       "  </thead>\n",
       "  <tbody>\n",
       "    <tr>\n",
       "      <td>78</td>\n",
       "      <td>NaN</td>\n",
       "      <td>NaN</td>\n",
       "      <td>湖南省澧县王家厂镇建设街居委会渔场直属村008号</td>\n",
       "    </tr>\n",
       "    <tr>\n",
       "      <td>79</td>\n",
       "      <td>31.317361</td>\n",
       "      <td>121.610042</td>\n",
       "      <td>中国（上海）自由贸易试验区新灵路118号1202A室</td>\n",
       "    </tr>\n",
       "    <tr>\n",
       "      <td>80</td>\n",
       "      <td>23.370128</td>\n",
       "      <td>103.395561</td>\n",
       "      <td>库尔勒市人民西路瑞丰商场</td>\n",
       "    </tr>\n",
       "  </tbody>\n",
       "</table>\n",
       "</div>"
      ],
      "text/plain": [
       "           维度          经度                          地址\n",
       "78        NaN         NaN    湖南省澧县王家厂镇建设街居委会渔场直属村008号\n",
       "79  31.317361  121.610042  中国（上海）自由贸易试验区新灵路118号1202A室\n",
       "80  23.370128  103.395561                库尔勒市人民西路瑞丰商场"
      ]
     },
     "execution_count": 3,
     "metadata": {},
     "output_type": "execute_result"
    }
   ],
   "source": [
    "company.iloc[78:81,:][['维度','经度','地址']]"
   ]
  },
  {
   "cell_type": "markdown",
   "metadata": {},
   "source": [
    "#### 1.2填充没有经纬度的行"
   ]
  },
  {
   "cell_type": "code",
   "execution_count": 10,
   "metadata": {},
   "outputs": [],
   "source": [
    "import requests\n",
    "import json\n",
    "import re\n",
    "\n",
    "def company_lat_lng(x):\n",
    "    if x['维度'] == np.nan:\n",
    "        address = x['地址']\n",
    "        url = 'http://api.map.baidu.com/geocoding/v3/?address=' + address + '&output=json&ak=VYt6ipe4cG9t1CpURQr58ulXep2pcpY6&callback=showLocation'\n",
    "        data = requests.get(url).text\n",
    "        js = re.match('.*?\\((.*?)\\).*?',data).group(1)\n",
    "        js = json.loads(js)['result']['location']\n",
    "        return js"
   ]
  },
  {
   "cell_type": "code",
   "execution_count": 5,
   "metadata": {},
   "outputs": [],
   "source": [
    "company1 = company.iloc[78:81,:][['维度','经度','地址']]"
   ]
  },
  {
   "cell_type": "code",
   "execution_count": 14,
   "metadata": {},
   "outputs": [
    {
     "data": {
      "text/plain": [
       "78    None\n",
       "79    None\n",
       "80    None\n",
       "dtype: object"
      ]
     },
     "execution_count": 14,
     "metadata": {},
     "output_type": "execute_result"
    }
   ],
   "source": [
    "company1.apply(company_lat_lng,axis=1)"
   ]
  },
  {
   "cell_type": "code",
   "execution_count": 29,
   "metadata": {},
   "outputs": [
    {
     "data": {
      "text/plain": [
       "False"
      ]
     },
     "execution_count": 29,
     "metadata": {},
     "output_type": "execute_result"
    }
   ],
   "source": [
    "#全都没有获取数据，排查发现表格中的Nan并非numpy中的nan\n",
    "company1['维度'][78] == np.nan"
   ]
  },
  {
   "cell_type": "code",
   "execution_count": 6,
   "metadata": {},
   "outputs": [],
   "source": [
    "#将空值全部替换为0\n",
    "company2 = company1.fillna(0).copy()"
   ]
  },
  {
   "cell_type": "code",
   "execution_count": 7,
   "metadata": {},
   "outputs": [
    {
     "data": {
      "text/plain": [
       "True"
      ]
     },
     "execution_count": 7,
     "metadata": {},
     "output_type": "execute_result"
    }
   ],
   "source": [
    "company2['维度'][78]  == 0"
   ]
  },
  {
   "cell_type": "code",
   "execution_count": 45,
   "metadata": {},
   "outputs": [],
   "source": [
    "def company_lat_lng(x):\n",
    "    if x['维度'] == 0:\n",
    "        address = x['地址']\n",
    "        url = 'http://api.map.baidu.com/geocoding/v3/?address=' + address + '&output=json&ak=VYt6ipe4cG9t1CpURQr58ulXep2pcpY6&callback=showLocation'\n",
    "        data = requests.get(url).text\n",
    "        js = re.match('.*?\\((.*?)\\).*?',data).group(1)\n",
    "        js = json.loads(js)['result']['location']\n",
    "        return js"
   ]
  },
  {
   "cell_type": "code",
   "execution_count": 8,
   "metadata": {},
   "outputs": [
    {
     "data": {
      "text/plain": [
       "78    {'lng': 111.53989881872957, 'lat': 29.78702709...\n",
       "79                                                    0\n",
       "80                                                    0\n",
       "dtype: object"
      ]
     },
     "execution_count": 8,
     "metadata": {},
     "output_type": "execute_result"
    }
   ],
   "source": [
    "#成功判断并获取数据\n",
    "company2.apply(company_lat_lng,axis=1)"
   ]
  },
  {
   "cell_type": "markdown",
   "metadata": {},
   "source": [
    "#### 1.3优化代码"
   ]
  },
  {
   "cell_type": "code",
   "execution_count": 4,
   "metadata": {},
   "outputs": [],
   "source": [
    "import requests\n",
    "import json\n",
    "import re\n",
    "\n",
    "def company_lat_lng(x):\n",
    "    try:\n",
    "        if x['维度'] == 0:\n",
    "            address = x['地址']\n",
    "            url = 'http://api.map.baidu.com/geocoding/v3/?address=' + address + '&output=json&ak=VYt6ipe4cG9t1CpURQr58ulXep2pcpY6&callback=showLocation'\n",
    "            data = requests.get(url).text\n",
    "            js = re.match('.*?\\((.*?)\\).*?',data).group(1)\n",
    "            js = json.loads(js)['result']['location']\n",
    "            return js\n",
    "        else:\n",
    "            return 0\n",
    "    except:\n",
    "        print(x['地址'])"
   ]
  },
  {
   "cell_type": "code",
   "execution_count": 9,
   "metadata": {},
   "outputs": [
    {
     "data": {
      "text/plain": [
       "78    {'lng': 111.53989881872957, 'lat': 29.78702709...\n",
       "79                                                    0\n",
       "80                                                    0\n",
       "dtype: object"
      ]
     },
     "execution_count": 9,
     "metadata": {},
     "output_type": "execute_result"
    }
   ],
   "source": [
    "company2.apply(company_lat_lng,axis=1)"
   ]
  },
  {
   "cell_type": "code",
   "execution_count": 5,
   "metadata": {},
   "outputs": [],
   "source": [
    "company.fillna(0,inplace=True)"
   ]
  },
  {
   "cell_type": "code",
   "execution_count": null,
   "metadata": {
    "scrolled": true
   },
   "outputs": [],
   "source": [
    "company['lat_lng'] = company[['维度','地址']].apply(company_lat_lng,axis=1)"
   ]
  },
  {
   "cell_type": "code",
   "execution_count": 8,
   "metadata": {},
   "outputs": [
    {
     "data": {
      "text/html": [
       "<div>\n",
       "<style scoped>\n",
       "    .dataframe tbody tr th:only-of-type {\n",
       "        vertical-align: middle;\n",
       "    }\n",
       "\n",
       "    .dataframe tbody tr th {\n",
       "        vertical-align: top;\n",
       "    }\n",
       "\n",
       "    .dataframe thead th {\n",
       "        text-align: right;\n",
       "    }\n",
       "</style>\n",
       "<table border=\"1\" class=\"dataframe\">\n",
       "  <thead>\n",
       "    <tr style=\"text-align: right;\">\n",
       "      <th></th>\n",
       "      <th>维度</th>\n",
       "      <th>经度</th>\n",
       "      <th>地址</th>\n",
       "      <th>lat_lng</th>\n",
       "    </tr>\n",
       "  </thead>\n",
       "  <tbody>\n",
       "    <tr>\n",
       "      <td>78</td>\n",
       "      <td>0.000000</td>\n",
       "      <td>0.000000</td>\n",
       "      <td>湖南省澧县王家厂镇建设街居委会渔场直属村008号</td>\n",
       "      <td>{'lng': 111.53989881872957, 'lat': 29.78702709...</td>\n",
       "    </tr>\n",
       "    <tr>\n",
       "      <td>79</td>\n",
       "      <td>31.317361</td>\n",
       "      <td>121.610042</td>\n",
       "      <td>中国（上海）自由贸易试验区新灵路118号1202A室</td>\n",
       "      <td>0</td>\n",
       "    </tr>\n",
       "    <tr>\n",
       "      <td>80</td>\n",
       "      <td>23.370128</td>\n",
       "      <td>103.395561</td>\n",
       "      <td>库尔勒市人民西路瑞丰商场</td>\n",
       "      <td>0</td>\n",
       "    </tr>\n",
       "  </tbody>\n",
       "</table>\n",
       "</div>"
      ],
      "text/plain": [
       "           维度          经度                          地址  \\\n",
       "78   0.000000    0.000000    湖南省澧县王家厂镇建设街居委会渔场直属村008号   \n",
       "79  31.317361  121.610042  中国（上海）自由贸易试验区新灵路118号1202A室   \n",
       "80  23.370128  103.395561                库尔勒市人民西路瑞丰商场   \n",
       "\n",
       "                                              lat_lng  \n",
       "78  {'lng': 111.53989881872957, 'lat': 29.78702709...  \n",
       "79                                                  0  \n",
       "80                                                  0  "
      ]
     },
     "execution_count": 8,
     "metadata": {},
     "output_type": "execute_result"
    }
   ],
   "source": [
    "company3 = company.iloc[78:81,:][['维度','经度','地址','lat_lng']].copy()\n",
    "company3"
   ]
  },
  {
   "cell_type": "code",
   "execution_count": 9,
   "metadata": {},
   "outputs": [],
   "source": [
    "company3.lat_lng = company3.apply(lambda x:x.lat_lng if x['维度'] == 0 else np.nan,axis=1)"
   ]
  },
  {
   "cell_type": "code",
   "execution_count": 13,
   "metadata": {
    "scrolled": true
   },
   "outputs": [
    {
     "data": {
      "text/html": [
       "<div>\n",
       "<style scoped>\n",
       "    .dataframe tbody tr th:only-of-type {\n",
       "        vertical-align: middle;\n",
       "    }\n",
       "\n",
       "    .dataframe tbody tr th {\n",
       "        vertical-align: top;\n",
       "    }\n",
       "\n",
       "    .dataframe thead th {\n",
       "        text-align: right;\n",
       "    }\n",
       "</style>\n",
       "<table border=\"1\" class=\"dataframe\">\n",
       "  <thead>\n",
       "    <tr style=\"text-align: right;\">\n",
       "      <th></th>\n",
       "      <th>维度</th>\n",
       "      <th>经度</th>\n",
       "      <th>地址</th>\n",
       "      <th>lat_lng</th>\n",
       "    </tr>\n",
       "  </thead>\n",
       "  <tbody>\n",
       "    <tr>\n",
       "      <td>78</td>\n",
       "      <td>0.000000</td>\n",
       "      <td>0.000000</td>\n",
       "      <td>湖南省澧县王家厂镇建设街居委会渔场直属村008号</td>\n",
       "      <td>{'lng': 111.53989881872957, 'lat': 29.78702709...</td>\n",
       "    </tr>\n",
       "    <tr>\n",
       "      <td>79</td>\n",
       "      <td>31.317361</td>\n",
       "      <td>121.610042</td>\n",
       "      <td>中国（上海）自由贸易试验区新灵路118号1202A室</td>\n",
       "      <td>NaN</td>\n",
       "    </tr>\n",
       "    <tr>\n",
       "      <td>80</td>\n",
       "      <td>23.370128</td>\n",
       "      <td>103.395561</td>\n",
       "      <td>库尔勒市人民西路瑞丰商场</td>\n",
       "      <td>NaN</td>\n",
       "    </tr>\n",
       "  </tbody>\n",
       "</table>\n",
       "</div>"
      ],
      "text/plain": [
       "           维度          经度                          地址  \\\n",
       "78   0.000000    0.000000    湖南省澧县王家厂镇建设街居委会渔场直属村008号   \n",
       "79  31.317361  121.610042  中国（上海）自由贸易试验区新灵路118号1202A室   \n",
       "80  23.370128  103.395561                库尔勒市人民西路瑞丰商场   \n",
       "\n",
       "                                              lat_lng  \n",
       "78  {'lng': 111.53989881872957, 'lat': 29.78702709...  \n",
       "79                                                NaN  \n",
       "80                                                NaN  "
      ]
     },
     "execution_count": 13,
     "metadata": {},
     "output_type": "execute_result"
    }
   ],
   "source": [
    "company3"
   ]
  },
  {
   "cell_type": "code",
   "execution_count": 33,
   "metadata": {},
   "outputs": [],
   "source": [
    "company3.维度 = company3.apply(lambda x:x.lat_lng['lat'] if type(x.lat_lng) == dict else x.维度,axis=1)\n",
    "company3.经度 = company3.apply(lambda x:x.lat_lng['lng'] if type(x.lat_lng) == dict else x.经度,axis=1)"
   ]
  },
  {
   "cell_type": "code",
   "execution_count": 55,
   "metadata": {
    "scrolled": true
   },
   "outputs": [
    {
     "data": {
      "text/html": [
       "<div>\n",
       "<style scoped>\n",
       "    .dataframe tbody tr th:only-of-type {\n",
       "        vertical-align: middle;\n",
       "    }\n",
       "\n",
       "    .dataframe tbody tr th {\n",
       "        vertical-align: top;\n",
       "    }\n",
       "\n",
       "    .dataframe thead th {\n",
       "        text-align: right;\n",
       "    }\n",
       "</style>\n",
       "<table border=\"1\" class=\"dataframe\">\n",
       "  <thead>\n",
       "    <tr style=\"text-align: right;\">\n",
       "      <th></th>\n",
       "      <th>维度</th>\n",
       "      <th>经度</th>\n",
       "      <th>地址</th>\n",
       "      <th>lat_lng</th>\n",
       "    </tr>\n",
       "  </thead>\n",
       "  <tbody>\n",
       "    <tr>\n",
       "      <td>78</td>\n",
       "      <td>29.787027</td>\n",
       "      <td>111.539899</td>\n",
       "      <td>湖南省澧县王家厂镇建设街居委会渔场直属村008号</td>\n",
       "      <td>{'lng': 111.53989881872957, 'lat': 29.78702709...</td>\n",
       "    </tr>\n",
       "    <tr>\n",
       "      <td>79</td>\n",
       "      <td>31.317361</td>\n",
       "      <td>121.610042</td>\n",
       "      <td>中国（上海）自由贸易试验区新灵路118号1202A室</td>\n",
       "      <td>NaN</td>\n",
       "    </tr>\n",
       "    <tr>\n",
       "      <td>80</td>\n",
       "      <td>23.370128</td>\n",
       "      <td>103.395561</td>\n",
       "      <td>库尔勒市人民西路瑞丰商场</td>\n",
       "      <td>NaN</td>\n",
       "    </tr>\n",
       "  </tbody>\n",
       "</table>\n",
       "</div>"
      ],
      "text/plain": [
       "           维度          经度                          地址  \\\n",
       "78  29.787027  111.539899    湖南省澧县王家厂镇建设街居委会渔场直属村008号   \n",
       "79  31.317361  121.610042  中国（上海）自由贸易试验区新灵路118号1202A室   \n",
       "80  23.370128  103.395561                库尔勒市人民西路瑞丰商场   \n",
       "\n",
       "                                              lat_lng  \n",
       "78  {'lng': 111.53989881872957, 'lat': 29.78702709...  \n",
       "79                                                NaN  \n",
       "80                                                NaN  "
      ]
     },
     "execution_count": 55,
     "metadata": {},
     "output_type": "execute_result"
    }
   ],
   "source": [
    "company3"
   ]
  },
  {
   "cell_type": "code",
   "execution_count": 35,
   "metadata": {},
   "outputs": [],
   "source": [
    "company.维度 = company.apply(lambda x:x.lat_lng['lat'] if type(x.lat_lng) == dict else x.维度,axis=1)\n",
    "company.经度 = company.apply(lambda x:x.lat_lng['lng'] if type(x.lat_lng) == dict else x.经度,axis=1)"
   ]
  },
  {
   "cell_type": "code",
   "execution_count": 36,
   "metadata": {},
   "outputs": [
    {
     "data": {
      "text/html": [
       "<div>\n",
       "<style scoped>\n",
       "    .dataframe tbody tr th:only-of-type {\n",
       "        vertical-align: middle;\n",
       "    }\n",
       "\n",
       "    .dataframe tbody tr th {\n",
       "        vertical-align: top;\n",
       "    }\n",
       "\n",
       "    .dataframe thead th {\n",
       "        text-align: right;\n",
       "    }\n",
       "</style>\n",
       "<table border=\"1\" class=\"dataframe\">\n",
       "  <thead>\n",
       "    <tr style=\"text-align: right;\">\n",
       "      <th></th>\n",
       "      <th>维度</th>\n",
       "      <th>经度</th>\n",
       "      <th>地址</th>\n",
       "      <th>lat_lng</th>\n",
       "    </tr>\n",
       "  </thead>\n",
       "  <tbody>\n",
       "    <tr>\n",
       "      <td>78</td>\n",
       "      <td>29.787027</td>\n",
       "      <td>111.539899</td>\n",
       "      <td>湖南省澧县王家厂镇建设街居委会渔场直属村008号</td>\n",
       "      <td>{'lng': 111.53989881872957, 'lat': 29.78702709...</td>\n",
       "    </tr>\n",
       "    <tr>\n",
       "      <td>79</td>\n",
       "      <td>31.317361</td>\n",
       "      <td>121.610042</td>\n",
       "      <td>中国（上海）自由贸易试验区新灵路118号1202A室</td>\n",
       "      <td>0</td>\n",
       "    </tr>\n",
       "    <tr>\n",
       "      <td>80</td>\n",
       "      <td>23.370128</td>\n",
       "      <td>103.395561</td>\n",
       "      <td>库尔勒市人民西路瑞丰商场</td>\n",
       "      <td>0</td>\n",
       "    </tr>\n",
       "  </tbody>\n",
       "</table>\n",
       "</div>"
      ],
      "text/plain": [
       "           维度          经度                          地址  \\\n",
       "78  29.787027  111.539899    湖南省澧县王家厂镇建设街居委会渔场直属村008号   \n",
       "79  31.317361  121.610042  中国（上海）自由贸易试验区新灵路118号1202A室   \n",
       "80  23.370128  103.395561                库尔勒市人民西路瑞丰商场   \n",
       "\n",
       "                                              lat_lng  \n",
       "78  {'lng': 111.53989881872957, 'lat': 29.78702709...  \n",
       "79                                                  0  \n",
       "80                                                  0  "
      ]
     },
     "execution_count": 36,
     "metadata": {},
     "output_type": "execute_result"
    }
   ],
   "source": [
    "company.iloc[78:81,:][['维度','经度','地址','lat_lng']]"
   ]
  },
  {
   "cell_type": "markdown",
   "metadata": {},
   "source": [
    "#### 1.4通过经纬度获取归属地"
   ]
  },
  {
   "cell_type": "code",
   "execution_count": 60,
   "metadata": {},
   "outputs": [],
   "source": [
    "def company_region(lat_lnt):\n",
    "    try:\n",
    "        if lat_lnt[0] != 0:\n",
    "            url = 'http://api.map.baidu.com/reverse_geocoding/v3/\\\n",
    "?ak=VYt6ipe4cG9t1CpURQr58ulXep2pcpY6&output=json&coordtype=wgs84ll&location={},{}'.format(lat_lnt[0],lat_lnt[1])\n",
    "            data = requests.get(url).text\n",
    "            data = json.loads(data)\n",
    "            ls = []\n",
    "            ls.append(data['result']['addressComponent']['province'])\n",
    "            ls.append(data['result']['addressComponent']['city'])\n",
    "            ls.append(data['result']['addressComponent']['district'])\n",
    "            return ls\n",
    "        else:\n",
    "            return 0\n",
    "    except:\n",
    "        print('error')"
   ]
  },
  {
   "cell_type": "code",
   "execution_count": 61,
   "metadata": {},
   "outputs": [
    {
     "data": {
      "text/plain": [
       "78            [湖南省, 常德市, 澧县]\n",
       "79          [上海市, 上海市, 浦东新区]\n",
       "80    [云南省, 红河哈尼族彝族自治州, 蒙自市]\n",
       "dtype: object"
      ]
     },
     "execution_count": 61,
     "metadata": {},
     "output_type": "execute_result"
    }
   ],
   "source": [
    "company3[['维度','经度']].apply(company_region,axis=1)"
   ]
  },
  {
   "cell_type": "code",
   "execution_count": null,
   "metadata": {},
   "outputs": [],
   "source": [
    "company['region'] = company[['维度','经度']].apply(company_region,axis=1)"
   ]
  },
  {
   "cell_type": "code",
   "execution_count": null,
   "metadata": {},
   "outputs": [],
   "source": [
    "company.to_excel(r'../../file/subject/chapter3/company_info_all03.xlsx')"
   ]
  },
  {
   "cell_type": "code",
   "execution_count": 63,
   "metadata": {},
   "outputs": [],
   "source": [
    "company = pd.read_excel(r'../../file/subject/chapter3/company_info_all03.xlsx')"
   ]
  },
  {
   "cell_type": "code",
   "execution_count": 93,
   "metadata": {},
   "outputs": [],
   "source": [
    "company4 = company.iloc[78:83,:].copy()"
   ]
  },
  {
   "cell_type": "code",
   "execution_count": 94,
   "metadata": {},
   "outputs": [
    {
     "data": {
      "text/plain": [
       "['黑龙江省', '哈尔滨市', '道里区']"
      ]
     },
     "execution_count": 94,
     "metadata": {},
     "output_type": "execute_result"
    }
   ],
   "source": [
    "#将归属地的字符串转换为列表\n",
    "re.findall('\\'(.*?)\\'',company4.region[78])"
   ]
  },
  {
   "cell_type": "code",
   "execution_count": 95,
   "metadata": {},
   "outputs": [],
   "source": [
    "company4.region = company4.region.apply(lambda x:re.findall('\\'(.*?)\\'',x))"
   ]
  },
  {
   "cell_type": "code",
   "execution_count": 96,
   "metadata": {},
   "outputs": [
    {
     "data": {
      "text/plain": [
       "'黑龙江省'"
      ]
     },
     "execution_count": 96,
     "metadata": {},
     "output_type": "execute_result"
    }
   ],
   "source": [
    "company4.region[78][0]"
   ]
  },
  {
   "cell_type": "code",
   "execution_count": 123,
   "metadata": {},
   "outputs": [],
   "source": [
    "company.region = company.region.apply(lambda x:re.findall('\\'(.*?)\\'',x) if x != 0 else 0)"
   ]
  },
  {
   "cell_type": "code",
   "execution_count": 125,
   "metadata": {},
   "outputs": [
    {
     "data": {
      "text/plain": [
       "'上海市'"
      ]
     },
     "execution_count": 125,
     "metadata": {},
     "output_type": "execute_result"
    }
   ],
   "source": [
    "company.region[0][0]"
   ]
  },
  {
   "cell_type": "code",
   "execution_count": 126,
   "metadata": {},
   "outputs": [],
   "source": [
    "company['province'] = company.region.apply(lambda x:x[0] if x != 0 else 0)"
   ]
  },
  {
   "cell_type": "code",
   "execution_count": 127,
   "metadata": {},
   "outputs": [],
   "source": [
    "company['city'] = company.region.apply(lambda x:x[1] if x != 0 else 0)"
   ]
  },
  {
   "cell_type": "code",
   "execution_count": 129,
   "metadata": {},
   "outputs": [
    {
     "data": {
      "text/plain": [
       "Index(['Unnamed: 0', '纬度', '经度', '经营范围', '公司特点', '公司地址', '公司网址', '公司高管',\n",
       "       '公司名称', '上市公司名称', '公司状态', '注册资本', '上市公司投资比例', 'lat_lng', 'region',\n",
       "       'province', 'city'],\n",
       "      dtype='object')"
      ]
     },
     "execution_count": 129,
     "metadata": {},
     "output_type": "execute_result"
    }
   ],
   "source": [
    "company.columns"
   ]
  },
  {
   "cell_type": "code",
   "execution_count": 130,
   "metadata": {},
   "outputs": [],
   "source": [
    "company_son = company[['公司名称', '上市公司名称', '公司状态', '注册资本','上市公司投资比例','province', 'city']].copy()"
   ]
  },
  {
   "cell_type": "code",
   "execution_count": 131,
   "metadata": {},
   "outputs": [
    {
     "data": {
      "text/html": [
       "<div>\n",
       "<style scoped>\n",
       "    .dataframe tbody tr th:only-of-type {\n",
       "        vertical-align: middle;\n",
       "    }\n",
       "\n",
       "    .dataframe tbody tr th {\n",
       "        vertical-align: top;\n",
       "    }\n",
       "\n",
       "    .dataframe thead th {\n",
       "        text-align: right;\n",
       "    }\n",
       "</style>\n",
       "<table border=\"1\" class=\"dataframe\">\n",
       "  <thead>\n",
       "    <tr style=\"text-align: right;\">\n",
       "      <th></th>\n",
       "      <th>公司名称</th>\n",
       "      <th>上市公司名称</th>\n",
       "      <th>公司状态</th>\n",
       "      <th>注册资本</th>\n",
       "      <th>上市公司投资比例</th>\n",
       "      <th>province</th>\n",
       "      <th>city</th>\n",
       "    </tr>\n",
       "  </thead>\n",
       "  <tbody>\n",
       "    <tr>\n",
       "      <td>0</td>\n",
       "      <td>上海盛美投资咨询有限公司</td>\n",
       "      <td>甘肃亚盛实业(集团)股份有限公司</td>\n",
       "      <td>存续（在营、开业、在册）</td>\n",
       "      <td>500.0000(万人民币)</td>\n",
       "      <td>80%</td>\n",
       "      <td>上海市</td>\n",
       "      <td>上海市</td>\n",
       "    </tr>\n",
       "    <tr>\n",
       "      <td>1</td>\n",
       "      <td>甘肃证券有限责任公司</td>\n",
       "      <td>甘肃亚盛实业(集团)股份有限公司</td>\n",
       "      <td>吊销，未注销</td>\n",
       "      <td>10,000.0000(万元人民币)</td>\n",
       "      <td>20%</td>\n",
       "      <td>甘肃省</td>\n",
       "      <td>兰州市</td>\n",
       "    </tr>\n",
       "    <tr>\n",
       "      <td>2</td>\n",
       "      <td>酒泉市万客隆商贸有限责任公司</td>\n",
       "      <td>甘肃亚盛实业(集团)股份有限公司</td>\n",
       "      <td>吊销，未注销</td>\n",
       "      <td>116.0000(万元人民币)</td>\n",
       "      <td>0%</td>\n",
       "      <td>甘肃省</td>\n",
       "      <td>酒泉市</td>\n",
       "    </tr>\n",
       "    <tr>\n",
       "      <td>3</td>\n",
       "      <td>甘肃亚盛投资咨询有限公司</td>\n",
       "      <td>甘肃亚盛实业(集团)股份有限公司</td>\n",
       "      <td>注销（注销日期：2011年9月28日）</td>\n",
       "      <td>1,000.0000(万元人民币)</td>\n",
       "      <td>100%</td>\n",
       "      <td>甘肃省</td>\n",
       "      <td>兰州市</td>\n",
       "    </tr>\n",
       "    <tr>\n",
       "      <td>4</td>\n",
       "      <td>甘肃力维氯碱化工有限公司</td>\n",
       "      <td>甘肃亚盛实业(集团)股份有限公司</td>\n",
       "      <td>吊销，未注销</td>\n",
       "      <td>3,330.0000(万元人民币)</td>\n",
       "      <td>75.08%</td>\n",
       "      <td>甘肃省</td>\n",
       "      <td>兰州市</td>\n",
       "    </tr>\n",
       "  </tbody>\n",
       "</table>\n",
       "</div>"
      ],
      "text/plain": [
       "             公司名称            上市公司名称                 公司状态                注册资本  \\\n",
       "0    上海盛美投资咨询有限公司  甘肃亚盛实业(集团)股份有限公司         存续（在营、开业、在册）      500.0000(万人民币)   \n",
       "1      甘肃证券有限责任公司  甘肃亚盛实业(集团)股份有限公司               吊销，未注销  10,000.0000(万元人民币)   \n",
       "2  酒泉市万客隆商贸有限责任公司  甘肃亚盛实业(集团)股份有限公司               吊销，未注销     116.0000(万元人民币)   \n",
       "3    甘肃亚盛投资咨询有限公司  甘肃亚盛实业(集团)股份有限公司  注销（注销日期：2011年9月28日）   1,000.0000(万元人民币)   \n",
       "4    甘肃力维氯碱化工有限公司  甘肃亚盛实业(集团)股份有限公司               吊销，未注销   3,330.0000(万元人民币)   \n",
       "\n",
       "  上市公司投资比例 province city  \n",
       "0      80%      上海市  上海市  \n",
       "1      20%      甘肃省  兰州市  \n",
       "2       0%      甘肃省  酒泉市  \n",
       "3     100%      甘肃省  兰州市  \n",
       "4   75.08%      甘肃省  兰州市  "
      ]
     },
     "execution_count": 131,
     "metadata": {},
     "output_type": "execute_result"
    }
   ],
   "source": [
    "company_son.head()"
   ]
  },
  {
   "cell_type": "code",
   "execution_count": null,
   "metadata": {},
   "outputs": [],
   "source": []
  }
 ],
 "metadata": {
  "kernelspec": {
   "display_name": "Python 3",
   "language": "python",
   "name": "python3"
  },
  "language_info": {
   "codemirror_mode": {
    "name": "ipython",
    "version": 3
   },
   "file_extension": ".py",
   "mimetype": "text/x-python",
   "name": "python",
   "nbconvert_exporter": "python",
   "pygments_lexer": "ipython3",
   "version": "3.7.4"
  }
 },
 "nbformat": 4,
 "nbformat_minor": 2
}
