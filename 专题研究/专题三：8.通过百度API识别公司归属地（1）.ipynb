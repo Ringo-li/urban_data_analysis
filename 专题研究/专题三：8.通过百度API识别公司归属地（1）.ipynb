{
 "cells": [
  {
   "cell_type": "code",
   "execution_count": 2,
   "metadata": {},
   "outputs": [],
   "source": [
    "import requests\n",
    "import json"
   ]
  },
  {
   "cell_type": "markdown",
   "metadata": {},
   "source": [
    "http://lbsyun.baidu.com/index.php?title=webapi/guide/webservice-geocoding\n",
    "\n",
    "http://api.map.baidu.com/lbsapi/getpoint/index.html\n",
    "\n",
    "\n",
    "\n",
    "地理编码服务\n",
    "\n",
    "http://api.map.baidu.com/geocoding/v3/?address=甘肃省兰州市张掖路219号基隆大厦21层&output=json&ak=VYt6ipe4cG9t1CpURQr58ulXep2pcpY6&callback=showLocation\n",
    "\n",
    "showLocation&&showLocation({\"status\":0,\"result\":{\"location\":{\"lng\":103.82926580827948,\"lat\":36.064999246183109},\"precise\":1,\"confidence\":80,\"level\":\"商务大厦\"}})\n",
    "\n",
    "\n",
    "逆地理编码服务\n",
    "\n",
    "http://api.map.baidu.com/reverse_geocoding/v3/?ak=VYt6ipe4cG9t1CpURQr58ulXep2pcpY6&output=json&coordtype=wgs84ll&location=36.064999246183109,103.82926580827948"
   ]
  },
  {
   "cell_type": "markdown",
   "metadata": {},
   "source": [
    "#### 1.利用地理编码将地址转换为坐标"
   ]
  },
  {
   "cell_type": "markdown",
   "metadata": {},
   "source": [
    "#### 1.1通过百度API获取地址编码信息"
   ]
  },
  {
   "cell_type": "code",
   "execution_count": 80,
   "metadata": {},
   "outputs": [
    {
     "data": {
      "text/plain": [
       "'showLocation&&showLocation({\"status\":0,\"result\":{\"location\":{\"lng\":103.82926264354917,\"lat\":36.065041119862119},\"precise\":1,\"confidence\":75,\"comprehension\":57,\"level\":\"商务大厦\"}})'"
      ]
     },
     "execution_count": 80,
     "metadata": {},
     "output_type": "execute_result"
    }
   ],
   "source": [
    "def company_lat_lng(address):\n",
    "    url = 'http://api.map.baidu.com/geocoding/v3/?address=' + address + '&output=json&ak=VYt6ipe4cG9t1CpURQr58ulXep2pcpY6&callback=showLocation'\n",
    "    js = requests.get(url).text\n",
    "    return js\n",
    "company_lat_lng('甘肃省兰州市张掖路219号基隆大厦21层')"
   ]
  },
  {
   "cell_type": "markdown",
   "metadata": {},
   "source": [
    "#### 1.2将结果进行格式化"
   ]
  },
  {
   "cell_type": "code",
   "execution_count": 81,
   "metadata": {},
   "outputs": [],
   "source": [
    "import re"
   ]
  },
  {
   "cell_type": "code",
   "execution_count": 82,
   "metadata": {},
   "outputs": [],
   "source": [
    "response = company_lat_lng('甘肃省兰州市张掖路219号基隆大厦21层')"
   ]
  },
  {
   "cell_type": "code",
   "execution_count": 83,
   "metadata": {},
   "outputs": [
    {
     "name": "stdout",
     "output_type": "stream",
     "text": [
      "showLocation&&showLocation({\"status\":0,\"result\":{\"location\":{\"lng\":103.82926264354917,\"lat\":36.065041119862119},\"precise\":1,\"confidence\":75,\"comprehension\":57,\"level\":\"商务大厦\"}})\n"
     ]
    }
   ],
   "source": [
    "print(response)"
   ]
  },
  {
   "cell_type": "code",
   "execution_count": 116,
   "metadata": {},
   "outputs": [],
   "source": [
    "res = re.match('.*?\\((.*?)\\).*?',response).group(1)"
   ]
  },
  {
   "cell_type": "code",
   "execution_count": 120,
   "metadata": {},
   "outputs": [
    {
     "name": "stdout",
     "output_type": "stream",
     "text": [
      "{\"status\":0,\"result\":{\"location\":{\"lng\":103.82926264354917,\"lat\":36.065041119862119},\"precise\":1,\"confidence\":75,\"comprehension\":57,\"level\":\"商务大厦\"}}\n"
     ]
    }
   ],
   "source": [
    "print(res)"
   ]
  },
  {
   "cell_type": "code",
   "execution_count": 124,
   "metadata": {},
   "outputs": [
    {
     "data": {
      "text/plain": [
       "{'lng': 103.82926264354917, 'lat': 36.065041119862116}"
      ]
     },
     "execution_count": 124,
     "metadata": {},
     "output_type": "execute_result"
    }
   ],
   "source": [
    "json.loads(res)['result']['location']"
   ]
  },
  {
   "cell_type": "markdown",
   "metadata": {},
   "source": [
    "#### 1.3合并代码"
   ]
  },
  {
   "cell_type": "code",
   "execution_count": 125,
   "metadata": {},
   "outputs": [],
   "source": [
    "import requests\n",
    "import json\n",
    "import re\n",
    "\n",
    "def company_lat_lng(address):\n",
    "    url = 'http://api.map.baidu.com/geocoding/v3/?address=' + address + '&output=json&ak=VYt6ipe4cG9t1CpURQr58ulXep2pcpY6&callback=showLocation'\n",
    "    data = requests.get(url).text\n",
    "    js = re.match('.*?\\((.*?)\\).*?',response).group(1)\n",
    "    js = json.loads(res)['result']['location']\n",
    "    return js\n"
   ]
  },
  {
   "cell_type": "code",
   "execution_count": 126,
   "metadata": {},
   "outputs": [
    {
     "data": {
      "text/plain": [
       "{'lng': 103.82926264354917, 'lat': 36.065041119862116}"
      ]
     },
     "execution_count": 126,
     "metadata": {},
     "output_type": "execute_result"
    }
   ],
   "source": [
    "company_lat_lng('甘肃省兰州市张掖路219号基隆大厦21层')"
   ]
  },
  {
   "cell_type": "markdown",
   "metadata": {},
   "source": [
    "#### 2.利用经纬度坐标逆向获取地址"
   ]
  },
  {
   "cell_type": "code",
   "execution_count": 161,
   "metadata": {},
   "outputs": [],
   "source": [
    "def company_region(lat_lnt):\n",
    "    url = 'http://api.map.baidu.com/reverse_geocoding/v3/\\\n",
    "?ak=VYt6ipe4cG9t1CpURQr58ulXep2pcpY6&output=json&coordtype=wgs84ll&location={},{}'.format(lat_lnt['lat'],lat_lnt['lng'])\n",
    "    data = requests.get(url).text\n",
    "    data = json.loads(data)\n",
    "    ls = []\n",
    "    ls.append(data['result']['addressComponent']['province'])\n",
    "    ls.append(data['result']['addressComponent']['city'])\n",
    "    ls.append(data['result']['addressComponent']['district'])\n",
    "    return ls"
   ]
  },
  {
   "cell_type": "code",
   "execution_count": 162,
   "metadata": {},
   "outputs": [],
   "source": [
    "a = company_region({'lng': 103.82926264354917, 'lat': 36.065041119862116})"
   ]
  },
  {
   "cell_type": "code",
   "execution_count": 163,
   "metadata": {},
   "outputs": [
    {
     "data": {
      "text/plain": [
       "['甘肃省', '兰州市', '城关区']"
      ]
     },
     "execution_count": 163,
     "metadata": {},
     "output_type": "execute_result"
    }
   ],
   "source": [
    "a"
   ]
  },
  {
   "cell_type": "markdown",
   "metadata": {},
   "source": [
    "#### 3.编写代码执行入口"
   ]
  },
  {
   "cell_type": "code",
   "execution_count": null,
   "metadata": {},
   "outputs": [],
   "source": [
    "if __name__ == \"__main__\":\n",
    "    address = '甘肃省兰州市张掖路219号基隆大厦21层'\n",
    "    lat_lng = company_lat_lng(address)\n",
    "    print(lat_lng)\n",
    "    region = "
   ]
  }
 ],
 "metadata": {
  "kernelspec": {
   "display_name": "Python 3",
   "language": "python",
   "name": "python3"
  },
  "language_info": {
   "codemirror_mode": {
    "name": "ipython",
    "version": 3
   },
   "file_extension": ".py",
   "mimetype": "text/x-python",
   "name": "python",
   "nbconvert_exporter": "python",
   "pygments_lexer": "ipython3",
   "version": "3.7.4"
  }
 },
 "nbformat": 4,
 "nbformat_minor": 2
}
