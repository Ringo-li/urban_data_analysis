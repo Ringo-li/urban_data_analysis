{
 "cells": [
  {
   "cell_type": "code",
   "execution_count": 1,
   "metadata": {},
   "outputs": [],
   "source": [
    "import pandas as pd\n",
    "import numpy as np"
   ]
  },
  {
   "cell_type": "code",
   "execution_count": 38,
   "metadata": {},
   "outputs": [],
   "source": [
    "df = pd.read_json(r'Project\\art_crawl\\article\\article\\spiders\\author_use.json')\n",
    "df.drop(axis=1,columns='Unnamed: 0',inplace=True)\n",
    "df['journal'] = '城市规划'"
   ]
  },
  {
   "cell_type": "markdown",
   "metadata": {},
   "source": [
    "#### 1.各作者发表论文数"
   ]
  },
  {
   "cell_type": "code",
   "execution_count": 39,
   "metadata": {},
   "outputs": [],
   "source": [
    "author_art = df.pivot_table(index='author',columns='journal',values='participation',aggfunc='sum')"
   ]
  },
  {
   "cell_type": "code",
   "execution_count": 44,
   "metadata": {},
   "outputs": [
    {
     "data": {
      "text/html": [
       "<div>\n",
       "<style scoped>\n",
       "    .dataframe tbody tr th:only-of-type {\n",
       "        vertical-align: middle;\n",
       "    }\n",
       "\n",
       "    .dataframe tbody tr th {\n",
       "        vertical-align: top;\n",
       "    }\n",
       "\n",
       "    .dataframe thead th {\n",
       "        text-align: right;\n",
       "    }\n",
       "</style>\n",
       "<table border=\"1\" class=\"dataframe\">\n",
       "  <thead>\n",
       "    <tr style=\"text-align: right;\">\n",
       "      <th>journal</th>\n",
       "      <th>城市规划</th>\n",
       "    </tr>\n",
       "    <tr>\n",
       "      <th>author</th>\n",
       "      <th></th>\n",
       "    </tr>\n",
       "  </thead>\n",
       "  <tbody>\n",
       "    <tr>\n",
       "      <td>李迎成</td>\n",
       "      <td>2.5</td>\n",
       "    </tr>\n",
       "    <tr>\n",
       "      <td>黄军林</td>\n",
       "      <td>2.0</td>\n",
       "    </tr>\n",
       "    <tr>\n",
       "      <td>陈昭</td>\n",
       "      <td>2.0</td>\n",
       "    </tr>\n",
       "  </tbody>\n",
       "</table>\n",
       "</div>"
      ],
      "text/plain": [
       "journal  城市规划\n",
       "author       \n",
       "李迎成       2.5\n",
       "黄军林       2.0\n",
       "陈昭        2.0"
      ]
     },
     "execution_count": 44,
     "metadata": {},
     "output_type": "execute_result"
    }
   ],
   "source": [
    "author_art.sort_values(by='城市规划',ascending=False).head(3)"
   ]
  },
  {
   "cell_type": "code",
   "execution_count": 50,
   "metadata": {},
   "outputs": [
    {
     "data": {
      "text/html": [
       "<div>\n",
       "<style scoped>\n",
       "    .dataframe tbody tr th:only-of-type {\n",
       "        vertical-align: middle;\n",
       "    }\n",
       "\n",
       "    .dataframe tbody tr th {\n",
       "        vertical-align: top;\n",
       "    }\n",
       "\n",
       "    .dataframe thead th {\n",
       "        text-align: right;\n",
       "    }\n",
       "</style>\n",
       "<table border=\"1\" class=\"dataframe\">\n",
       "  <thead>\n",
       "    <tr style=\"text-align: right;\">\n",
       "      <th></th>\n",
       "      <th>author</th>\n",
       "      <th>author_num</th>\n",
       "    </tr>\n",
       "  </thead>\n",
       "  <tbody>\n",
       "    <tr>\n",
       "      <td>123</td>\n",
       "      <td>贺雪峰</td>\n",
       "      <td>526</td>\n",
       "    </tr>\n",
       "    <tr>\n",
       "      <td>126</td>\n",
       "      <td>王芳</td>\n",
       "      <td>353</td>\n",
       "    </tr>\n",
       "    <tr>\n",
       "      <td>210</td>\n",
       "      <td>黄贤金</td>\n",
       "      <td>306</td>\n",
       "    </tr>\n",
       "  </tbody>\n",
       "</table>\n",
       "</div>"
      ],
      "text/plain": [
       "    author  author_num\n",
       "123    贺雪峰         526\n",
       "126     王芳         353\n",
       "210    黄贤金         306"
      ]
     },
     "execution_count": 50,
     "metadata": {},
     "output_type": "execute_result"
    }
   ],
   "source": [
    "df[['author','author_num']].sort_values(by='author_num',ascending=False).head(3)"
   ]
  },
  {
   "cell_type": "code",
   "execution_count": 74,
   "metadata": {},
   "outputs": [],
   "source": [
    "df['kw_union'] = df.keywords.apply(lambda x:','.join(x))"
   ]
  },
  {
   "cell_type": "code",
   "execution_count": 75,
   "metadata": {},
   "outputs": [
    {
     "data": {
      "text/html": [
       "<div>\n",
       "<style scoped>\n",
       "    .dataframe tbody tr th:only-of-type {\n",
       "        vertical-align: middle;\n",
       "    }\n",
       "\n",
       "    .dataframe tbody tr th {\n",
       "        vertical-align: top;\n",
       "    }\n",
       "\n",
       "    .dataframe thead th {\n",
       "        text-align: right;\n",
       "    }\n",
       "</style>\n",
       "<table border=\"1\" class=\"dataframe\">\n",
       "  <thead>\n",
       "    <tr style=\"text-align: right;\">\n",
       "      <th></th>\n",
       "      <th>title</th>\n",
       "      <th>abstract</th>\n",
       "      <th>author</th>\n",
       "      <th>ins</th>\n",
       "      <th>author_num</th>\n",
       "      <th>date</th>\n",
       "      <th>keywords</th>\n",
       "      <th>fund</th>\n",
       "      <th>participation</th>\n",
       "      <th>province</th>\n",
       "      <th>city</th>\n",
       "      <th>journal</th>\n",
       "      <th>kw_union</th>\n",
       "    </tr>\n",
       "  </thead>\n",
       "  <tbody>\n",
       "    <tr>\n",
       "      <td>371</td>\n",
       "      <td>城市研究中的计算机视觉应用进展与展望</td>\n",
       "      <td>城市图像一直是记录城市发展变迁的重要信息载体,在当前的互联网与大数据时代,随着图片分享网站、...</td>\n",
       "      <td>王辉</td>\n",
       "      <td>清华大学</td>\n",
       "      <td>111</td>\n",
       "      <td>2019年01期</td>\n",
       "      <td>[计算机视觉, 机器学习, 城市研究, 城市设计, 街景图像]</td>\n",
       "      <td>[国家自然科学基金项目(51478232)]</td>\n",
       "      <td>0.5</td>\n",
       "      <td>北京</td>\n",
       "      <td>北京</td>\n",
       "      <td>城市规划</td>\n",
       "      <td>计算机视觉,机器学习,城市研究,城市设计,街景图像</td>\n",
       "    </tr>\n",
       "    <tr>\n",
       "      <td>828</td>\n",
       "      <td>城市研究中的计算机视觉应用进展与展望</td>\n",
       "      <td>城市图像一直是记录城市发展变迁的重要信息载体,在当前的互联网与大数据时代,随着图片分享网站、...</td>\n",
       "      <td>刘伦</td>\n",
       "      <td>剑桥大学</td>\n",
       "      <td>10</td>\n",
       "      <td>2019年01期</td>\n",
       "      <td>[计算机视觉, 机器学习, 城市研究, 城市设计, 街景图像]</td>\n",
       "      <td>[国家自然科学基金项目(51478232)]</td>\n",
       "      <td>0.5</td>\n",
       "      <td>英国</td>\n",
       "      <td>剑桥</td>\n",
       "      <td>城市规划</td>\n",
       "      <td>计算机视觉,机器学习,城市研究,城市设计,街景图像</td>\n",
       "    </tr>\n",
       "  </tbody>\n",
       "</table>\n",
       "</div>"
      ],
      "text/plain": [
       "                  title                                           abstract  \\\n",
       "371  城市研究中的计算机视觉应用进展与展望  城市图像一直是记录城市发展变迁的重要信息载体,在当前的互联网与大数据时代,随着图片分享网站、...   \n",
       "828  城市研究中的计算机视觉应用进展与展望  城市图像一直是记录城市发展变迁的重要信息载体,在当前的互联网与大数据时代,随着图片分享网站、...   \n",
       "\n",
       "    author   ins  author_num      date                         keywords  \\\n",
       "371     王辉  清华大学         111  2019年01期  [计算机视觉, 机器学习, 城市研究, 城市设计, 街景图像]   \n",
       "828     刘伦  剑桥大学          10  2019年01期  [计算机视觉, 机器学习, 城市研究, 城市设计, 街景图像]   \n",
       "\n",
       "                       fund  participation province city journal  \\\n",
       "371  [国家自然科学基金项目(51478232)]            0.5       北京   北京    城市规划   \n",
       "828  [国家自然科学基金项目(51478232)]            0.5       英国   剑桥    城市规划   \n",
       "\n",
       "                      kw_union  \n",
       "371  计算机视觉,机器学习,城市研究,城市设计,街景图像  \n",
       "828  计算机视觉,机器学习,城市研究,城市设计,街景图像  "
      ]
     },
     "execution_count": 75,
     "metadata": {},
     "output_type": "execute_result"
    }
   ],
   "source": [
    "df[df['abstract'].str.contains('智能')]"
   ]
  },
  {
   "cell_type": "code",
   "execution_count": 107,
   "metadata": {},
   "outputs": [],
   "source": [
    "lst = ['计算机','数据','智慧','智能','图像识别','算法','机器学习']\n",
    "col = ['abstract','kw_union','title']\n",
    "for i in lst:\n",
    "#     print(i)\n",
    "    for y in  col:\n",
    "#         if df[y].str.contains(i):\n",
    "        df[df[y].str.contains(i)]\n",
    "#         print(y)\n",
    "#         if df.abstract.str.contains(i):\n",
    "#             print(df.title)\n"
   ]
  },
  {
   "cell_type": "code",
   "execution_count": 95,
   "metadata": {},
   "outputs": [
    {
     "data": {
      "text/plain": [
       "Index(['title', 'abstract', 'author', 'ins', 'author_num', 'date', 'keywords',\n",
       "       'fund', 'participation', 'province', 'city', 'journal', 'kw_union'],\n",
       "      dtype='object')"
      ]
     },
     "execution_count": 95,
     "metadata": {},
     "output_type": "execute_result"
    }
   ],
   "source": [
    "df.columns"
   ]
  },
  {
   "cell_type": "code",
   "execution_count": null,
   "metadata": {},
   "outputs": [],
   "source": []
  }
 ],
 "metadata": {
  "kernelspec": {
   "display_name": "Python 3",
   "language": "python",
   "name": "python3"
  },
  "language_info": {
   "codemirror_mode": {
    "name": "ipython",
    "version": 3
   },
   "file_extension": ".py",
   "mimetype": "text/x-python",
   "name": "python",
   "nbconvert_exporter": "python",
   "pygments_lexer": "ipython3",
   "version": "3.7.4"
  }
 },
 "nbformat": 4,
 "nbformat_minor": 2
}
