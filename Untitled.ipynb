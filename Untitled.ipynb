{
 "cells": [
  {
   "cell_type": "code",
   "execution_count": 1,
   "metadata": {},
   "outputs": [],
   "source": [
    "from lxml import etree\n",
    "import requests\n",
    "from selenium import webdriver"
   ]
  },
  {
   "cell_type": "code",
   "execution_count": 19,
   "metadata": {},
   "outputs": [],
   "source": [
    "url = 'https://www.qixin.com/publicly/bfd18d29-3546-4053-9f4b-7226b110b734'\n",
    "# headers = {\n",
    "#     \"User-Agent\": \"Mozilla/5.0 (Windows NT 10.0; Win64; x64) AppleWebKit/537.36 (KHTML, like Gecko) Chrome/81.0.4044.113 Safari/537.36\"\n",
    "# }\n",
    "# html = requests.get('https://www.qixin.com/related/bfd18d29-3546-4053-9f4b-7226b110b734',headers=headers).text\n",
    "# ht = etree.HTML(html)\n",
    "driver = webdriver.Firefox()\n",
    "\n",
    "driver.get(url)\n",
    "html = driver.page_source"
   ]
  },
  {
   "cell_type": "code",
   "execution_count": 20,
   "metadata": {},
   "outputs": [],
   "source": [
    "ht = etree.HTML(html)"
   ]
  },
  {
   "cell_type": "code",
   "execution_count": 21,
   "metadata": {},
   "outputs": [],
   "source": [
    "address = ht.xpath('/html/body/div[6]/div/div[1]/div[2]/table/tbody/tr[12]/td[2]/text()')[0]"
   ]
  },
  {
   "cell_type": "code",
   "execution_count": 22,
   "metadata": {},
   "outputs": [
    {
     "data": {
      "text/plain": [
       "'河北省三河市燕郊高新技术园区京榆大街963号'"
      ]
     },
     "execution_count": 22,
     "metadata": {},
     "output_type": "execute_result"
    }
   ],
   "source": [
    "address"
   ]
  },
  {
   "cell_type": "code",
   "execution_count": 25,
   "metadata": {},
   "outputs": [
    {
     "data": {
      "text/plain": [
       "3"
      ]
     },
     "execution_count": 25,
     "metadata": {},
     "output_type": "execute_result"
    }
   ],
   "source": [
    "int('28')//10+1"
   ]
  },
  {
   "cell_type": "code",
   "execution_count": 30,
   "metadata": {},
   "outputs": [
    {
     "data": {
      "text/plain": [
       "Unnamed: 0                 1\n",
       "name          河北福成五丰食品股份有限公司\n",
       "Name: 1, dtype: object"
      ]
     },
     "execution_count": 30,
     "metadata": {},
     "output_type": "execute_result"
    }
   ],
   "source": [
    "import pandas as pd\n",
    "com = pd.read_excel(r'D:/rui/code_analysis/file/subject/chapter3/company_list.xlsx')\n"
   ]
  },
  {
   "cell_type": "code",
   "execution_count": 91,
   "metadata": {},
   "outputs": [
    {
     "data": {
      "text/plain": [
       "10       黑龙江北大荒农业股份有限公司\n",
       "11           万向德农股份有限公司\n",
       "12          湖南新五丰股份有限公司\n",
       "13      山东好当家海洋发展股份有限公司\n",
       "14         上海宏达矿业股份有限公司\n",
       "             ...       \n",
       "195          上海机电股份有限公司\n",
       "196        开滦能源化工股份有限公司\n",
       "197          山东钢铁股份有限公司\n",
       "198    中国船舶重工集团动力股份有限公司\n",
       "199          岳阳林纸股份有限公司\n",
       "Name: name, Length: 190, dtype: object"
      ]
     },
     "execution_count": 91,
     "metadata": {},
     "output_type": "execute_result"
    }
   ],
   "source": [
    "com.iloc[10:200,1]"
   ]
  },
  {
   "cell_type": "code",
   "execution_count": 4,
   "metadata": {},
   "outputs": [
    {
     "name": "stderr",
     "output_type": "stream",
     "text": [
      "C:\\Users\\cc\\Anaconda3\\lib\\site-packages\\ipykernel_launcher.py:5: DeprecationWarning: use options instead of firefox_options\n",
      "  \"\"\"\n"
     ]
    }
   ],
   "source": [
    "PROXY = '58.218.92.198:2761'\n",
    "company = '黑龙江北大荒农业股份有限公司'\n",
    "firefox_options = webdriver.FirefoxOptions()\n",
    "firefox_options.add_argument('--proxy-server=http://' + PROXY)\n",
    "driver = webdriver.Firefox(firefox_options=firefox_options)\n",
    "driver.get('https://www.qixin.com/')\n",
    "# html = driver.page_source\n",
    "# sel = etree.HTML(html)\n",
    "driver.find_element_by_xpath('/html/body/div[1]/div[2]/div/div[3]/div/div/div[2]/div/span[1]/input[2]').send_keys(company)"
   ]
  },
  {
   "cell_type": "code",
   "execution_count": null,
   "metadata": {},
   "outputs": [],
   "source": []
  }
 ],
 "metadata": {
  "kernelspec": {
   "display_name": "Python 3",
   "language": "python",
   "name": "python3"
  },
  "language_info": {
   "codemirror_mode": {
    "name": "ipython",
    "version": 3
   },
   "file_extension": ".py",
   "mimetype": "text/x-python",
   "name": "python",
   "nbconvert_exporter": "python",
   "pygments_lexer": "ipython3",
   "version": "3.7.4"
  }
 },
 "nbformat": 4,
 "nbformat_minor": 2
}
