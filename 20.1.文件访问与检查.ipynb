{
 "cells": [
  {
   "cell_type": "code",
   "execution_count": 58,
   "metadata": {},
   "outputs": [],
   "source": [
    "#coding=utf-8\n",
    "#import  model \n",
    "import arcpy"
   ]
  },
  {
   "cell_type": "markdown",
   "metadata": {},
   "source": [
    "#### 1.检查文件是否存在\n",
    ">arcpy.Exists()"
   ]
  },
  {
   "cell_type": "code",
   "execution_count": 8,
   "metadata": {},
   "outputs": [
    {
     "data": {
      "text/plain": [
       "True"
      ]
     },
     "execution_count": 8,
     "metadata": {},
     "output_type": "execute_result"
    }
   ],
   "source": [
    "#set env,文件夹类型\n",
    "arcpy.env.workspace = r'D:\\rui\\sw_analysis\\homework\\part4.practice\\data0404'\n",
    "arcpy.Exists('道路.shp')"
   ]
  },
  {
   "cell_type": "code",
   "execution_count": 9,
   "metadata": {},
   "outputs": [
    {
     "data": {
      "text/plain": [
       "True"
      ]
     },
     "execution_count": 9,
     "metadata": {},
     "output_type": "execute_result"
    }
   ],
   "source": [
    "#set env，文件数据库类型\n",
    "arcpy.env.workspace = r'D:\\rui\\sw_analysis\\homework\\part4.practice\\data0402\\选址.gdb'\n",
    "arcpy.Exists('road')"
   ]
  },
  {
   "cell_type": "markdown",
   "metadata": {},
   "source": [
    "#### 2.描述数据类型\n",
    ">arcpy.Describe()"
   ]
  },
  {
   "cell_type": "code",
   "execution_count": 19,
   "metadata": {},
   "outputs": [
    {
     "name": "stdout",
     "output_type": "stream",
     "text": [
      "road\n",
      "Simple\n",
      "Polyline\n"
     ]
    }
   ],
   "source": [
    "#set env文件数据库类型\n",
    "arcpy.env.workspace = r'D:\\rui\\sw_analysis\\homework\\part4.practice\\data0402\\选址.gdb'\n",
    "desc = arcpy.Describe('road')\n",
    "print(desc.name)\n",
    "print(desc.featureType)\n",
    "print(desc.shapeType)"
   ]
  },
  {
   "cell_type": "code",
   "execution_count": 20,
   "metadata": {},
   "outputs": [
    {
     "name": "stdout",
     "output_type": "stream",
     "text": [
      "道路.shp\n",
      "Simple\n",
      "Polyline\n"
     ]
    }
   ],
   "source": [
    "#set env,文件夹类型\n",
    "arcpy.env.workspace = r'D:\\rui\\sw_analysis\\homework\\part4.practice\\data0404'\n",
    "desc = arcpy.Describe('道路.shp')\n",
    "print(desc.name)\n",
    "print(desc.featureType)\n",
    "print(desc.shapeType)"
   ]
  },
  {
   "cell_type": "markdown",
   "metadata": {},
   "source": [
    "#### 3.列出数据\n",
    ">arcpy.ListDatasets、arcpy.ListFeatureClasses、arcpy.ListIndexes、arcpy.ListVersions、arcpy.ListWorkspaces"
   ]
  },
  {
   "cell_type": "markdown",
   "metadata": {},
   "source": [
    "#### 3.1列出要素数据集 arcpy.ListDatasets"
   ]
  },
  {
   "cell_type": "code",
   "execution_count": 94,
   "metadata": {},
   "outputs": [
    {
     "name": "stdout",
     "output_type": "stream",
     "text": [
      "[u'A3492\\u4f5c\\u4e1a.jpg', u'ECharts.png', u'\\u4eba\\u53e3.jpg', u'\\u4ef7\\u503c.jpg', u'\\u4f5c\\u4e1a\\u8303\\u4f8b1.jpg', u'\\u5b66\\u6821.jpg', u'\\u9053\\u8def.jpg', u'\\u9910\\u996e.jpg']\n"
     ]
    }
   ],
   "source": [
    "#set env,文件夹类型\n",
    "arcpy.env.workspace = r'D:\\rui\\sw_analysis\\homework\\part4.practice\\data0404\\作业'\n",
    "lst = arcpy.ListDatasets()\n",
    "print(lst)"
   ]
  },
  {
   "cell_type": "markdown",
   "metadata": {},
   "source": [
    "#### 3.2列出要素类 arcpy.ListFeature"
   ]
  },
  {
   "cell_type": "code",
   "execution_count": 40,
   "metadata": {},
   "outputs": [
    {
     "name": "stdout",
     "output_type": "stream",
     "text": [
      "[u'road', u'hospital', u'senior', u'hospital_GraphicBuffer', u'senior_Buffer', u'road_Buffer', u'buffer_Erase']\n"
     ]
    }
   ],
   "source": [
    " #set env文件数据库类型\n",
    "arcpy.env.workspace = r'D:\\rui\\sw_analysis\\homework\\part4.practice\\data0402\\选址.gdb'\n",
    "lst = arcpy.ListFeatureClasses()\n",
    "print(lst)"
   ]
  },
  {
   "cell_type": "markdown",
   "metadata": {},
   "source": [
    "#### 3.3列出表格字段和属性 arcpy.ListFields"
   ]
  },
  {
   "cell_type": "code",
   "execution_count": 93,
   "metadata": {},
   "outputs": [
    {
     "name": "stdout",
     "output_type": "stream",
     "text": [
      "共有2个字段\n",
      "(u'RefName', u'String', 255)\n",
      "(u'Shape_Area', u'Double', 8)\n"
     ]
    }
   ],
   "source": [
    "import arcpy\n",
    "fc = r'D:\\rui\\sw_analysis\\homework\\part4.practice\\data0402\\选址.gdb\\road_Buffer'\n",
    "fields = arcpy.ListFields(fc,'*RE*')\n",
    "print(u'共有{}个字段'.format(len(fields)))\n",
    "for field in fields:\n",
    "    print(field.name,field.type,field.length)"
   ]
  },
  {
   "cell_type": "code",
   "execution_count": 91,
   "metadata": {},
   "outputs": [
    {
     "name": "stdout",
     "output_type": "stream",
     "text": [
      "经度\n",
      "纬度\n"
     ]
    }
   ],
   "source": [
    "#set env,文件夹类型\n",
    "fc = r'D:\\rui\\sw_analysis\\homework\\part4.practice\\data0404\\餐饮统计.shp'\n",
    "field_names = [f.name for f in arcpy.ListFields(fc,'*度')]\n",
    "for i in field_names:\n",
    "    print(i)"
   ]
  },
  {
   "cell_type": "markdown",
   "metadata": {},
   "source": [
    "#### 3.4列出工作空间中所有文件  arcpy.ListFiles"
   ]
  },
  {
   "cell_type": "code",
   "execution_count": 87,
   "metadata": {},
   "outputs": [
    {
     "name": "stdout",
     "output_type": "stream",
     "text": [
      "范围内道路.dbf\n",
      "范围内道路.prj\n",
      "范围内道路.sbn\n",
      "范围内道路.sbx\n",
      "范围内道路.shp\n",
      "范围内道路.shp.xml\n",
      "范围内道路.shx\n"
     ]
    }
   ],
   "source": [
    "#set env,文件夹类型\n",
    "import os\n",
    "import arcpy\n",
    "arcpy.env.workspace = r'D:\\rui\\sw_analysis\\homework\\part4.practice\\data0404'\n",
    "for i in arcpy.ListFiles(\"*内道路*\"):\n",
    "    print(i)"
   ]
  },
  {
   "cell_type": "code",
   "execution_count": null,
   "metadata": {},
   "outputs": [],
   "source": []
  }
 ],
 "metadata": {
  "kernelspec": {
   "display_name": "python2",
   "language": "python",
   "name": "python2"
  },
  "language_info": {
   "codemirror_mode": {
    "name": "ipython",
    "version": 2
   },
   "file_extension": ".py",
   "mimetype": "text/x-python",
   "name": "python",
   "nbconvert_exporter": "python",
   "pygments_lexer": "ipython2",
   "version": "2.7.15"
  }
 },
 "nbformat": 4,
 "nbformat_minor": 2
}
