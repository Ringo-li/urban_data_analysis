{
 "cells": [
  {
   "cell_type": "code",
   "execution_count": 1,
   "metadata": {},
   "outputs": [],
   "source": [
    "# -*- coding: utf-8 -*-\n",
    "import arcpy\n",
    "import requests\n",
    "import json\n",
    "import pandas as pd"
   ]
  },
  {
   "cell_type": "code",
   "execution_count": 21,
   "metadata": {},
   "outputs": [
    {
     "name": "stdout",
     "output_type": "stream",
     "text": [
      "https://restapi.amap.com/v3/direction/transit/integrated?key=50ace0067201128f9781da8128e942f0&origin=109.121117,34.447047&destination=108.883543,34.197582&city=%E8%A5%BF%E5%AE%89&cityd=%E8%A5%BF%E5%AE%89&strategy=0&nightflag=0\n"
     ]
    }
   ],
   "source": [
    "url = 'https://restapi.amap.com/v3/direction/transit/integrated?key={}&\\\n",
    "origin={}&destination={}&city=%E8%A5%BF%E5%AE%89&cityd=%E8%A5%BF%E5%AE%89&strategy=0&nightflag=0'.format('50ace0067201128f9781da8128e942f0','109.121117,34.447047','108.883543,34.197582')\n",
    "print(url)"
   ]
  },
  {
   "cell_type": "code",
   "execution_count": 2,
   "metadata": {},
   "outputs": [
    {
     "data": {
      "text/html": [
       "<div>\n",
       "<table border=\"1\" class=\"dataframe\">\n",
       "  <thead>\n",
       "    <tr style=\"text-align: right;\">\n",
       "      <th></th>\n",
       "      <th>did</th>\n",
       "      <th>d_lng</th>\n",
       "      <th>d_lat</th>\n",
       "      <th>city</th>\n",
       "    </tr>\n",
       "  </thead>\n",
       "  <tbody>\n",
       "    <tr>\n",
       "      <th>0</th>\n",
       "      <td>1</td>\n",
       "      <td>108.754458</td>\n",
       "      <td>34.116286</td>\n",
       "      <td>西安</td>\n",
       "    </tr>\n",
       "    <tr>\n",
       "      <th>1</th>\n",
       "      <td>2</td>\n",
       "      <td>108.759875</td>\n",
       "      <td>34.116385</td>\n",
       "      <td>西安</td>\n",
       "    </tr>\n",
       "    <tr>\n",
       "      <th>2</th>\n",
       "      <td>3</td>\n",
       "      <td>108.765293</td>\n",
       "      <td>34.116483</td>\n",
       "      <td>西安</td>\n",
       "    </tr>\n",
       "    <tr>\n",
       "      <th>3</th>\n",
       "      <td>4</td>\n",
       "      <td>108.770710</td>\n",
       "      <td>34.116582</td>\n",
       "      <td>西安</td>\n",
       "    </tr>\n",
       "    <tr>\n",
       "      <th>4</th>\n",
       "      <td>5</td>\n",
       "      <td>108.776128</td>\n",
       "      <td>34.116680</td>\n",
       "      <td>西安</td>\n",
       "    </tr>\n",
       "  </tbody>\n",
       "</table>\n",
       "</div>"
      ],
      "text/plain": [
       "   did       d_lng      d_lat city\n",
       "0    1  108.754458  34.116286   西安\n",
       "1    2  108.759875  34.116385   西安\n",
       "2    3  108.765293  34.116483   西安\n",
       "3    4  108.770710  34.116582   西安\n",
       "4    5  108.776128  34.116680   西安"
      ]
     },
     "execution_count": 2,
     "metadata": {},
     "output_type": "execute_result"
    }
   ],
   "source": [
    "dest = pd.read_excel(u'D:/rui/sw_analysis/homework/part5.comprehensive/chapter3/城市实时交通出行数据_数据模板/输入_终点_WGS84坐标系.xlsx')\n",
    "dest.head()"
   ]
  },
  {
   "cell_type": "code",
   "execution_count": 15,
   "metadata": {},
   "outputs": [],
   "source": [
    "import sys\n",
    "sys.path.append(r'D:\\rui\\code_analysis\\homework\\Project\\coordTransform_py')\n",
    "import coordTransform_utils"
   ]
  },
  {
   "cell_type": "code",
   "execution_count": 18,
   "metadata": {},
   "outputs": [
    {
     "data": {
      "text/plain": [
       "[108.75917088895646, 34.11479662189801]"
      ]
     },
     "execution_count": 18,
     "metadata": {},
     "output_type": "execute_result"
    }
   ],
   "source": [
    "coordTransform_utils.wgs84_to_gcj02(108.754458,34.116286)"
   ]
  },
  {
   "cell_type": "code",
   "execution_count": 23,
   "metadata": {},
   "outputs": [
    {
     "name": "stdout",
     "output_type": "stream",
     "text": [
      "https://restapi.amap.com/v3/assistant/coordinate/convert?key=50ace0067201128f9781da8128e942f0&locations=108.754458,34.116286&coordsys=gps\n"
     ]
    }
   ],
   "source": [
    "coord_trans_url = 'https://restapi.amap.com/v3/assistant/coordinate/convert?key=50ace0067201128f9781da8128e942f0&locations=108.754458,34.116286&coordsys=gps'\n",
    "print(coord_trans_url)"
   ]
  },
  {
   "cell_type": "code",
   "execution_count": 25,
   "metadata": {},
   "outputs": [],
   "source": [
    "res = requests.get(coord_trans_url)"
   ]
  },
  {
   "cell_type": "code",
   "execution_count": 28,
   "metadata": {},
   "outputs": [
    {
     "name": "stdout",
     "output_type": "stream",
     "text": [
      "{\"status\":\"1\",\"info\":\"ok\",\"infocode\":\"10000\",\"locations\":\"108.759189181858,34.114811740452\"}\n"
     ]
    }
   ],
   "source": [
    "content = res.text\n",
    "print(content)"
   ]
  },
  {
   "cell_type": "code",
   "execution_count": 33,
   "metadata": {},
   "outputs": [
    {
     "data": {
      "text/plain": [
       "u'108.759189181858,34.114811740452'"
      ]
     },
     "execution_count": 33,
     "metadata": {},
     "output_type": "execute_result"
    }
   ],
   "source": [
    "content_json = json.loads(content)\n",
    "content_json['locations']"
   ]
  },
  {
   "cell_type": "code",
   "execution_count": 3,
   "metadata": {},
   "outputs": [
    {
     "name": "stdout",
     "output_type": "stream",
     "text": [
      "108.759189181858,34.114811740452;108.764607204862,34.114909396702\n"
     ]
    }
   ],
   "source": [
    "def to_gcj02(key,locations,coordsys):\n",
    "    url = 'https://restapi.amap.com/v3/assistant/coordinate/convert\\\n",
    "?key={}&locations={}&coordsys={}'.format(key,locations,coordsys)\n",
    "    res = requests.get(url).text\n",
    "    content = json.loads(res)\n",
    "    return content['locations']\n",
    "    \n",
    "coordsys = 'gps'\n",
    "key = '50ace0067201128f9781da8128e942f0'\n",
    "locations = '108.754458,34.116286|108.759875,34.116385'\n",
    "\n",
    "test = to_gcj02(key,locations,coordsys)\n",
    "print(test)"
   ]
  },
  {
   "cell_type": "code",
   "execution_count": 61,
   "metadata": {},
   "outputs": [
    {
     "data": {
      "text/plain": [
       "[u'108.759189181858,34.114811740452',\n",
       " u'108.764607204862,34.114909396702',\n",
       " u'108.759189181858,34.114811740452',\n",
       " u'108.764607204862,34.114909396702']"
      ]
     },
     "execution_count": 61,
     "metadata": {},
     "output_type": "execute_result"
    }
   ],
   "source": [
    "test.split(';') + test.split(';')"
   ]
  },
  {
   "cell_type": "code",
   "execution_count": 5,
   "metadata": {},
   "outputs": [],
   "source": [
    "dest['locations'] = dest.d_lng.map(str) + ',' + dest.d_lat.map(str)"
   ]
  },
  {
   "cell_type": "code",
   "execution_count": 46,
   "metadata": {},
   "outputs": [
    {
     "data": {
      "text/html": [
       "<div>\n",
       "<table border=\"1\" class=\"dataframe\">\n",
       "  <thead>\n",
       "    <tr style=\"text-align: right;\">\n",
       "      <th></th>\n",
       "      <th>did</th>\n",
       "      <th>d_lng</th>\n",
       "      <th>d_lat</th>\n",
       "      <th>city</th>\n",
       "      <th>locations</th>\n",
       "    </tr>\n",
       "  </thead>\n",
       "  <tbody>\n",
       "    <tr>\n",
       "      <th>0</th>\n",
       "      <td>1</td>\n",
       "      <td>108.754458</td>\n",
       "      <td>34.116286</td>\n",
       "      <td>西安</td>\n",
       "      <td>108.754457504,34.1162855455</td>\n",
       "    </tr>\n",
       "    <tr>\n",
       "      <th>1</th>\n",
       "      <td>2</td>\n",
       "      <td>108.759875</td>\n",
       "      <td>34.116385</td>\n",
       "      <td>西安</td>\n",
       "      <td>108.759875051,34.1163845254</td>\n",
       "    </tr>\n",
       "    <tr>\n",
       "      <th>2</th>\n",
       "      <td>3</td>\n",
       "      <td>108.765293</td>\n",
       "      <td>34.116483</td>\n",
       "      <td>西安</td>\n",
       "      <td>108.765292626,34.1164832666</td>\n",
       "    </tr>\n",
       "    <tr>\n",
       "      <th>3</th>\n",
       "      <td>4</td>\n",
       "      <td>108.770710</td>\n",
       "      <td>34.116582</td>\n",
       "      <td>西安</td>\n",
       "      <td>108.770710227,34.1165817691</td>\n",
       "    </tr>\n",
       "    <tr>\n",
       "      <th>4</th>\n",
       "      <td>5</td>\n",
       "      <td>108.776128</td>\n",
       "      <td>34.116680</td>\n",
       "      <td>西安</td>\n",
       "      <td>108.776127854,34.1166800328</td>\n",
       "    </tr>\n",
       "  </tbody>\n",
       "</table>\n",
       "</div>"
      ],
      "text/plain": [
       "   did       d_lng      d_lat city                    locations\n",
       "0    1  108.754458  34.116286   西安  108.754457504,34.1162855455\n",
       "1    2  108.759875  34.116385   西安  108.759875051,34.1163845254\n",
       "2    3  108.765293  34.116483   西安  108.765292626,34.1164832666\n",
       "3    4  108.770710  34.116582   西安  108.770710227,34.1165817691\n",
       "4    5  108.776128  34.116680   西安  108.776127854,34.1166800328"
      ]
     },
     "execution_count": 46,
     "metadata": {},
     "output_type": "execute_result"
    }
   ],
   "source": [
    "dest.head()"
   ]
  },
  {
   "cell_type": "code",
   "execution_count": 50,
   "metadata": {},
   "outputs": [
    {
     "data": {
      "text/plain": [
       "5110"
      ]
     },
     "execution_count": 50,
     "metadata": {},
     "output_type": "execute_result"
    }
   ],
   "source": [
    "len(dest.locations)"
   ]
  },
  {
   "cell_type": "code",
   "execution_count": 51,
   "metadata": {},
   "outputs": [
    {
     "data": {
      "text/plain": [
       "127"
      ]
     },
     "execution_count": 51,
     "metadata": {},
     "output_type": "execute_result"
    }
   ],
   "source": [
    "len(dest.locations)/40"
   ]
  },
  {
   "cell_type": "code",
   "execution_count": 53,
   "metadata": {},
   "outputs": [
    {
     "data": {
      "text/plain": [
       "30"
      ]
     },
     "execution_count": 53,
     "metadata": {},
     "output_type": "execute_result"
    }
   ],
   "source": [
    "len(dest.locations)%40"
   ]
  },
  {
   "cell_type": "code",
   "execution_count": 58,
   "metadata": {},
   "outputs": [
    {
     "data": {
      "text/plain": [
       "'108.745809812,34.4407008605|108.75124818,34.4408010449|108.756686576,34.4409009877|108.762124998,34.4410006889|108.767563446,34.4411001484|108.773001921,34.4411993664|108.778440423,34.4412983426|108.783878952,34.4413970773|108.789317506,34.4414955703|108.794756087,34.4415938217|108.800194695,34.4416918314|108.805633328,34.4417895994|108.811071988,34.4418871258|108.816510674,34.4419844106|108.821949386,34.4420814537|108.827388124,34.4421782551|108.832826888,34.4422748148|108.838265677,34.4423711329|108.843704493,34.4424672093|108.849143334,34.442563044|108.854582201,34.442658637|108.860021093,34.4427539883|108.865460011,34.4428490979|108.870898955,34.4429439659|108.876337923,34.4430385921|108.881776918,34.4431329766|108.887215937,34.4432271195|108.892654982,34.4433210206|108.898094051,34.44341468|108.903533146,34.4435080976|108.908972266,34.4436012736|108.914411411,34.4436942078|108.91985058,34.4437869003|108.925289775,34.443879351|108.930728994,34.44397156|108.936168238,34.4440635273|108.941607506,34.4441552529|108.947046799,34.4442467366|108.952486117,34.4443379787|108.957925459,34.4444289789'"
      ]
     },
     "execution_count": 58,
     "metadata": {},
     "output_type": "execute_result"
    }
   ],
   "source": [
    "(\"|\").join(dest.locations[40*126:40*127])"
   ]
  },
  {
   "cell_type": "code",
   "execution_count": 24,
   "metadata": {},
   "outputs": [],
   "source": [
    "def get_locations():\n",
    "    num = len(dest.locations)/40\n",
    "    last = len(dest.locations)%40\n",
    "    lsts = []\n",
    "    for i in range(num):\n",
    "        locations = (\"|\").join(dest.locations[40*i:40*(i+1)])\n",
    "        try:\n",
    "            lst = to_gcj02(key,locations,coordsys).split(';')\n",
    "            lsts = lsts + lst \n",
    "        except:\n",
    "            print('try again!')\n",
    "            lst = to_gcj02(key,locations,coordsys).split(';')\n",
    "            lsts = lsts + lst     \n",
    "    last_lac = (\"|\").join(dest.locations[-last:])\n",
    "    last_lst = to_gcj02(key,last_lac,coordsys).split(';')\n",
    "    lsts = lsts + last_lst\n",
    "    return lsts"
   ]
  },
  {
   "cell_type": "code",
   "execution_count": null,
   "metadata": {},
   "outputs": [],
   "source": [
    "dest['gcj02_locations'] = get_locations()"
   ]
  },
  {
   "cell_type": "code",
   "execution_count": 26,
   "metadata": {},
   "outputs": [],
   "source": [
    "key = '50ace0067201128f9781da8128e942f0'\n",
    "origin = '109.121117,34.447047'\n",
    "destination = '108.883543,34.197582'\n",
    "def get_traffic(key,origin,destination):\n",
    "    url = 'https://restapi.amap.com/v3/direction/transit/integrated?key={}&\\\n",
    "origin={}&destination={}&city=%E8%A5%BF%E5%AE%89&cityd=%E8%A5%BF%E5%AE%89&strategy=0&nightflag=0'.format(key,origin,destination)\n",
    "    res = requests.get(url).text.encode('utf8')\n",
    "    content = json.loads(res)\n",
    "    return content"
   ]
  },
  {
   "cell_type": "code",
   "execution_count": 27,
   "metadata": {},
   "outputs": [],
   "source": [
    "test3 = get_traffic(key,origin,destination)"
   ]
  },
  {
   "cell_type": "code",
   "execution_count": 41,
   "metadata": {},
   "outputs": [
    {
     "name": "stdout",
     "output_type": "stream",
     "text": [
      "步行44米左转\n"
     ]
    }
   ],
   "source": [
    "print test3['route']['transits'][0]['segments'][0]['walking']['steps'][0]['instruction']"
   ]
  },
  {
   "cell_type": "code",
   "execution_count": 42,
   "metadata": {},
   "outputs": [
    {
     "name": "stdout",
     "output_type": "stream",
     "text": [
      "141.891\n"
     ]
    }
   ],
   "source": [
    "print test3['route']['taxi_cost']"
   ]
  },
  {
   "cell_type": "code",
   "execution_count": null,
   "metadata": {},
   "outputs": [],
   "source": [
    "print test3['route']['taxi_cost']"
   ]
  }
 ],
 "metadata": {
  "kernelspec": {
   "display_name": "python2",
   "language": "python",
   "name": "python2"
  },
  "language_info": {
   "codemirror_mode": {
    "name": "ipython",
    "version": 2
   },
   "file_extension": ".py",
   "mimetype": "text/x-python",
   "name": "python",
   "nbconvert_exporter": "python",
   "pygments_lexer": "ipython2",
   "version": "2.7.15"
  }
 },
 "nbformat": 4,
 "nbformat_minor": 2
}
