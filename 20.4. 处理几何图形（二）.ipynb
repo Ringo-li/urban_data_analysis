{
 "cells": [
  {
   "cell_type": "markdown",
   "metadata": {},
   "source": [
    "#### 1.读取txt文件"
   ]
  },
  {
   "cell_type": "code",
   "execution_count": 1,
   "metadata": {},
   "outputs": [],
   "source": [
    "import arcpy\n",
    "import pandas as pd"
   ]
  },
  {
   "cell_type": "code",
   "execution_count": 38,
   "metadata": {},
   "outputs": [
    {
     "data": {
      "text/html": [
       "<div>\n",
       "<table border=\"1\" class=\"dataframe\">\n",
       "  <thead>\n",
       "    <tr style=\"text-align: right;\">\n",
       "      <th></th>\n",
       "      <th>id</th>\n",
       "      <th>lng</th>\n",
       "      <th>lat</th>\n",
       "    </tr>\n",
       "  </thead>\n",
       "  <tbody>\n",
       "    <tr>\n",
       "      <th>0</th>\n",
       "      <td>1</td>\n",
       "      <td>118.897901</td>\n",
       "      <td>32.099258</td>\n",
       "    </tr>\n",
       "    <tr>\n",
       "      <th>1</th>\n",
       "      <td>2</td>\n",
       "      <td>118.898200</td>\n",
       "      <td>32.099075</td>\n",
       "    </tr>\n",
       "  </tbody>\n",
       "</table>\n",
       "</div>"
      ],
      "text/plain": [
       "   id         lng        lat\n",
       "0   1  118.897901  32.099258\n",
       "1   2  118.898200  32.099075"
      ]
     },
     "execution_count": 38,
     "metadata": {},
     "output_type": "execute_result"
    }
   ],
   "source": [
    "df = pd.read_csv(r'D:/rui/code_analysis/homework/file/GIS/class2004/coords.txt',sep=' ',names=['id','lng','lat'])\n",
    "df.head(2)"
   ]
  },
  {
   "cell_type": "code",
   "execution_count": 39,
   "metadata": {},
   "outputs": [
    {
     "data": {
      "text/html": [
       "<div>\n",
       "<table border=\"1\" class=\"dataframe\">\n",
       "  <thead>\n",
       "    <tr style=\"text-align: right;\">\n",
       "      <th></th>\n",
       "      <th>id</th>\n",
       "      <th>lng</th>\n",
       "      <th>lat</th>\n",
       "      <th>coords</th>\n",
       "    </tr>\n",
       "  </thead>\n",
       "  <tbody>\n",
       "    <tr>\n",
       "      <th>0</th>\n",
       "      <td>1</td>\n",
       "      <td>118.897901</td>\n",
       "      <td>32.099258</td>\n",
       "      <td>(118.897901003, 32.0992579982)</td>\n",
       "    </tr>\n",
       "    <tr>\n",
       "      <th>1</th>\n",
       "      <td>2</td>\n",
       "      <td>118.898200</td>\n",
       "      <td>32.099075</td>\n",
       "      <td>(118.898199999, 32.0990750026)</td>\n",
       "    </tr>\n",
       "  </tbody>\n",
       "</table>\n",
       "</div>"
      ],
      "text/plain": [
       "   id         lng        lat                          coords\n",
       "0   1  118.897901  32.099258  (118.897901003, 32.0992579982)\n",
       "1   2  118.898200  32.099075  (118.898199999, 32.0990750026)"
      ]
     },
     "execution_count": 39,
     "metadata": {},
     "output_type": "execute_result"
    }
   ],
   "source": [
    "df['coords'] = df.apply(lambda x:(x[1],x[2]),axis=1)\n",
    "df.head(2)"
   ]
  },
  {
   "cell_type": "markdown",
   "metadata": {},
   "source": [
    "#### 2.创建点"
   ]
  },
  {
   "cell_type": "code",
   "execution_count": 46,
   "metadata": {},
   "outputs": [
    {
     "name": "stdout",
     "output_type": "stream",
     "text": [
      "done\n"
     ]
    }
   ],
   "source": [
    "pt_info = df['coords']\n",
    "ptList = [arcpy.Point(*coords) for coords in pt_info]\n",
    "ptgList = [arcpy.PointGeometry(pt) for pt in ptList]\n",
    "# ptgList = []\n",
    "# for pt in ptList:\n",
    "#     ptg = arcpy.PointGeometry(pt)\n",
    "#     ptgList.append(ptg)\n",
    "arcpy.CopyFeatures_management(ptgList,r'D:\\rui\\code_analysis\\homework\\file\\GIS\\class2004\\class2004.gdb\\point')\n",
    "print('done')"
   ]
  },
  {
   "cell_type": "markdown",
   "metadata": {},
   "source": [
    "#### 3.创建折线"
   ]
  },
  {
   "cell_type": "code",
   "execution_count": 47,
   "metadata": {},
   "outputs": [
    {
     "name": "stdout",
     "output_type": "stream",
     "text": [
      "done\n"
     ]
    }
   ],
   "source": [
    "pt_info = df['coords']\n",
    "ptList = [arcpy.Point(*coords) for coords in pt_info]\n",
    "pl = arcpy.Polyline(arcpy.Array(ptList))\n",
    "\n",
    "arcpy.CopyFeatures_management(pl,r'D:\\rui\\code_analysis\\homework\\file\\GIS\\class2004\\class2004.gdb\\polyline')\n",
    "print('done')"
   ]
  },
  {
   "cell_type": "markdown",
   "metadata": {},
   "source": [
    "#### 4.创建面"
   ]
  },
  {
   "cell_type": "code",
   "execution_count": 48,
   "metadata": {},
   "outputs": [
    {
     "name": "stdout",
     "output_type": "stream",
     "text": [
      "done\n"
     ]
    }
   ],
   "source": [
    "pt_info = df['coords']\n",
    "ptList = [arcpy.Point(*coords) for coords in pt_info]\n",
    "pg = arcpy.Polygon(arcpy.Array(ptList))\n",
    "\n",
    "arcpy.CopyFeatures_management(pg,r'D:\\rui\\code_analysis\\homework\\file\\GIS\\class2004\\class2004.gdb\\polygon')\n",
    "print('done')"
   ]
  },
  {
   "cell_type": "code",
   "execution_count": null,
   "metadata": {},
   "outputs": [],
   "source": []
  }
 ],
 "metadata": {
  "kernelspec": {
   "display_name": "python2",
   "language": "python",
   "name": "python2"
  },
  "language_info": {
   "codemirror_mode": {
    "name": "ipython",
    "version": 2
   },
   "file_extension": ".py",
   "mimetype": "text/x-python",
   "name": "python",
   "nbconvert_exporter": "python",
   "pygments_lexer": "ipython2",
   "version": "2.7.15"
  }
 },
 "nbformat": 4,
 "nbformat_minor": 2
}
