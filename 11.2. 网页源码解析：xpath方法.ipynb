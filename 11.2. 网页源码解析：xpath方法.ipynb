{
 "cells": [
  {
   "cell_type": "code",
   "execution_count": 3,
   "metadata": {},
   "outputs": [],
   "source": [
    "from lxml import etree\n",
    "import requests"
   ]
  },
  {
   "cell_type": "code",
   "execution_count": 9,
   "metadata": {},
   "outputs": [],
   "source": [
    "url = 'http://planning.org.cn/news/newslist?cid=12&page=1'\n",
    "html = requests.get(url).text"
   ]
  },
  {
   "cell_type": "code",
   "execution_count": 11,
   "metadata": {},
   "outputs": [],
   "source": [
    "txt = etree.HTML(html)"
   ]
  },
  {
   "cell_type": "code",
   "execution_count": 23,
   "metadata": {},
   "outputs": [
    {
     "name": "stdout",
     "output_type": "stream",
     "text": [
      "http://planning.org.cn/news/view?id=10418&cid=12\n",
      "http://planning.org.cn/news/view?id=10417&cid=12\n",
      "http://planning.org.cn/news/view?id=10414&cid=12\n",
      "http://planning.org.cn/news/view?id=10413&cid=12\n",
      "http://planning.org.cn/news/view?id=10412&cid=12\n",
      "http://planning.org.cn/news/view?id=10411&cid=12\n",
      "http://planning.org.cn/news/view?id=10410&cid=12\n",
      "http://planning.org.cn/news/view?id=10409&cid=12\n",
      "http://planning.org.cn/news/view?id=10408&cid=12\n",
      "http://planning.org.cn/news/view?id=10407&cid=12\n",
      "http://planning.org.cn/news/view?id=10403&cid=12\n",
      "http://planning.org.cn/news/view?id=10402&cid=12\n",
      "http://planning.org.cn/news/view?id=10399&cid=12\n",
      "http://planning.org.cn/news/view?id=10394&cid=12\n",
      "http://planning.org.cn/news/view?id=10393&cid=12\n"
     ]
    }
   ],
   "source": [
    "title = txt.xpath('//h4/a/text()')\n",
    "url = txt.xpath('//h4/a/@href')\n",
    "for i in url:\n",
    "    print('http://planning.org.cn'+i)"
   ]
  },
  {
   "cell_type": "code",
   "execution_count": 35,
   "metadata": {},
   "outputs": [],
   "source": [
    "import pandas as pd\n",
    "from lxml import etree\n",
    "import requests"
   ]
  },
  {
   "cell_type": "code",
   "execution_count": 58,
   "metadata": {},
   "outputs": [],
   "source": [
    "def get_data():\n",
    "    dt = []\n",
    "    for i in range(1,3):\n",
    "        url = 'http://planning.org.cn/news/newslist?cid=12&page={}'.format(i)\n",
    "        html = requests.get(url).text\n",
    "        txt = etree.HTML(html)\n",
    "        father = txt.xpath('//div[@class=\"fl w680 overh xh_list_boxb\"]/div[@class=\"zoom mt20 news_list_boxb pb15 f12 l22 pr15\"]')\n",
    "        for son in father:\n",
    "            row = []\n",
    "            title = son.xpath('h4/a/text()')[0]\n",
    "            url = son.xpath('h4/a/@href')[0]\n",
    "            row.append(title)\n",
    "            row.append('http://planning.org.cn'+ url)\n",
    "            dt.append(row)\n",
    "    return dt"
   ]
  },
  {
   "cell_type": "code",
   "execution_count": 62,
   "metadata": {},
   "outputs": [],
   "source": [
    "def to_file(dt):\n",
    "    data = pd.DataFrame(dt,columns=['title','url'])\n",
    "    data.to_excel('planning-demo.xlsx')\n",
    "    print('to file finished')"
   ]
  },
  {
   "cell_type": "code",
   "execution_count": 63,
   "metadata": {},
   "outputs": [
    {
     "name": "stdout",
     "output_type": "stream",
     "text": [
      "to file finished\n"
     ]
    }
   ],
   "source": [
    "dt = get_data()\n",
    "to_file(dt)"
   ]
  }
 ],
 "metadata": {
  "kernelspec": {
   "display_name": "Python 3",
   "language": "python",
   "name": "python3"
  },
  "language_info": {
   "codemirror_mode": {
    "name": "ipython",
    "version": 3
   },
   "file_extension": ".py",
   "mimetype": "text/x-python",
   "name": "python",
   "nbconvert_exporter": "python",
   "pygments_lexer": "ipython3",
   "version": "3.7.4"
  }
 },
 "nbformat": 4,
 "nbformat_minor": 2
}
