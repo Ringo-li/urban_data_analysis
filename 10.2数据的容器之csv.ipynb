{
 "cells": [
  {
   "cell_type": "code",
   "execution_count": 16,
   "metadata": {},
   "outputs": [
    {
     "name": "stdout",
     "output_type": "stream",
     "text": [
      "c:\\Users\\Administrator\\Desktop\n",
      "聪聪是臭屁卡\n"
     ]
    }
   ],
   "source": [
    "import os\n",
    "nowdir = os.getcwd()\n",
    "os.chdir('c:/Users/Administrator/Desktop/')\n",
    "print(nowdir)\n",
    "path = 'test.txt'\n",
    "f1 = open(path,'r',encoding='utf8')\n",
    "info = f1.read(6)\n",
    "print(info)\n",
    "f1.close()\n"
   ]
  },
  {
   "cell_type": "markdown",
   "metadata": {},
   "source": [
    "### 使用with语句"
   ]
  },
  {
   "cell_type": "code",
   "execution_count": 19,
   "metadata": {},
   "outputs": [
    {
     "name": "stdout",
     "output_type": "stream",
     "text": [
      "聪聪是臭屁卡\n"
     ]
    }
   ],
   "source": [
    "with  open('test.txt','r',encoding='utf8') as f:\n",
    "    info = f.read(6)\n",
    "    print(info)"
   ]
  },
  {
   "cell_type": "markdown",
   "metadata": {},
   "source": [
    "### 用pandas中的read_csv方法读取"
   ]
  },
  {
   "cell_type": "code",
   "execution_count": 27,
   "metadata": {},
   "outputs": [
    {
     "data": {
      "text/html": [
       "<div>\n",
       "<style scoped>\n",
       "    .dataframe tbody tr th:only-of-type {\n",
       "        vertical-align: middle;\n",
       "    }\n",
       "\n",
       "    .dataframe tbody tr th {\n",
       "        vertical-align: top;\n",
       "    }\n",
       "\n",
       "    .dataframe thead th {\n",
       "        text-align: right;\n",
       "    }\n",
       "</style>\n",
       "<table border=\"1\" class=\"dataframe\">\n",
       "  <thead>\n",
       "    <tr style=\"text-align: right;\">\n",
       "      <th></th>\n",
       "      <th>马三牛肉面(民主路店):104.630292</th>\n",
       "      <th>35.597808</th>\n",
       "      <th>甘肃省定西市安定区民主路25-4</th>\n",
       "    </tr>\n",
       "  </thead>\n",
       "  <tbody>\n",
       "    <tr>\n",
       "      <td>0</td>\n",
       "      <td>89度牛肉面:104.644036</td>\n",
       "      <td>35.010946</td>\n",
       "      <td>巩昌镇新街89号</td>\n",
       "    </tr>\n",
       "    <tr>\n",
       "      <td>1</td>\n",
       "      <td>自力牛肉面:104.611108</td>\n",
       "      <td>35.602235</td>\n",
       "      <td>甘肃省定西市安定区新城怡馨苑西区北面</td>\n",
       "    </tr>\n",
       "    <tr>\n",
       "      <td>2</td>\n",
       "      <td>中国兰州思泊湖牛肉面:104.629676</td>\n",
       "      <td>35.579470</td>\n",
       "      <td>定西市安定区欧康·世纪都会C区</td>\n",
       "    </tr>\n",
       "    <tr>\n",
       "      <td>3</td>\n",
       "      <td>清真一碗兰牛肉面蓬灰(临洮店):103.868362</td>\n",
       "      <td>35.393528</td>\n",
       "      <td>甘肃省定西市临洮县洮阳镇北关商贸街江源都市花园商住楼第一层第13号商铺</td>\n",
       "    </tr>\n",
       "    <tr>\n",
       "      <td>4</td>\n",
       "      <td>舌尖牛肉拉面(定西总店):104.626613</td>\n",
       "      <td>35.579709</td>\n",
       "      <td>甘肃省定西市安定区鹏程商务宾馆东(友谊南路西)</td>\n",
       "    </tr>\n",
       "    <tr>\n",
       "      <td>...</td>\n",
       "      <td>...</td>\n",
       "      <td>...</td>\n",
       "      <td>...</td>\n",
       "    </tr>\n",
       "    <tr>\n",
       "      <td>141</td>\n",
       "      <td>兰州牛肉拉面:104.480145</td>\n",
       "      <td>34.853682</td>\n",
       "      <td>甘肃省定西市漳县武阳路18号东70米</td>\n",
       "    </tr>\n",
       "    <tr>\n",
       "      <td>142</td>\n",
       "      <td>私房牛肉面:104.703326</td>\n",
       "      <td>34.964886</td>\n",
       "      <td>甘肃省定西市陇西县人民西路辅路</td>\n",
       "    </tr>\n",
       "    <tr>\n",
       "      <td>143</td>\n",
       "      <td>李师牛肉面:104.040447</td>\n",
       "      <td>34.446165</td>\n",
       "      <td>甘肃省定西市岷县S306(岷州中路)</td>\n",
       "    </tr>\n",
       "    <tr>\n",
       "      <td>144</td>\n",
       "      <td>董师饺子馆:104.040213</td>\n",
       "      <td>34.443533</td>\n",
       "      <td>甘肃省定西市岷县和平中路</td>\n",
       "    </tr>\n",
       "    <tr>\n",
       "      <td>145</td>\n",
       "      <td>清真肖老四餐饮(览山国际店):104.618582</td>\n",
       "      <td>35.581442</td>\n",
       "      <td>定西市安定区览山国际4号楼3楼</td>\n",
       "    </tr>\n",
       "  </tbody>\n",
       "</table>\n",
       "<p>146 rows × 3 columns</p>\n",
       "</div>"
      ],
      "text/plain": [
       "         马三牛肉面(民主路店):104.630292  35.597808  \\\n",
       "0             89度牛肉面:104.644036  35.010946   \n",
       "1              自力牛肉面:104.611108  35.602235   \n",
       "2         中国兰州思泊湖牛肉面:104.629676  35.579470   \n",
       "3    清真一碗兰牛肉面蓬灰(临洮店):103.868362  35.393528   \n",
       "4       舌尖牛肉拉面(定西总店):104.626613  35.579709   \n",
       "..                          ...        ...   \n",
       "141           兰州牛肉拉面:104.480145  34.853682   \n",
       "142            私房牛肉面:104.703326  34.964886   \n",
       "143            李师牛肉面:104.040447  34.446165   \n",
       "144            董师饺子馆:104.040213  34.443533   \n",
       "145   清真肖老四餐饮(览山国际店):104.618582  35.581442   \n",
       "\n",
       "                        甘肃省定西市安定区民主路25-4  \n",
       "0                               巩昌镇新街89号  \n",
       "1                     甘肃省定西市安定区新城怡馨苑西区北面  \n",
       "2                        定西市安定区欧康·世纪都会C区  \n",
       "3    甘肃省定西市临洮县洮阳镇北关商贸街江源都市花园商住楼第一层第13号商铺  \n",
       "4                甘肃省定西市安定区鹏程商务宾馆东(友谊南路西)  \n",
       "..                                   ...  \n",
       "141                   甘肃省定西市漳县武阳路18号东70米  \n",
       "142                      甘肃省定西市陇西县人民西路辅路  \n",
       "143                   甘肃省定西市岷县S306(岷州中路)  \n",
       "144                         甘肃省定西市岷县和平中路  \n",
       "145                      定西市安定区览山国际4号楼3楼  \n",
       "\n",
       "[146 rows x 3 columns]"
      ]
     },
     "execution_count": 27,
     "metadata": {},
     "output_type": "execute_result"
    }
   ],
   "source": [
    "import pandas as pd\n",
    "info = pd.read_csv('定西牛肉面馆.txt',encoding='utf8')\n",
    "print(info)"
   ]
  },
  {
   "cell_type": "code",
   "execution_count": 50,
   "metadata": {
    "scrolled": true
   },
   "outputs": [],
   "source": [
    "lst = [['苏州',1800,'中上'],['杭州',2100,'优秀'],['西安',900,'中下']]\n",
    "path = 'test.csv'\n",
    "f1 = open(path,'w')\n",
    "for i in lst:\n",
    "    f1.writelines(str(i)+'\\n')\n",
    "f1.close()"
   ]
  },
  {
   "cell_type": "code",
   "execution_count": 53,
   "metadata": {},
   "outputs": [],
   "source": [
    "lst = [['苏州',1800,'中上'],['杭州',2100,'优秀'],['西安',900,'中下']]\n",
    "path = 'test.csv'\n",
    "with open(path,'a') as f:\n",
    "    f.writelines(str(lst))"
   ]
  },
  {
   "cell_type": "code",
   "execution_count": 59,
   "metadata": {},
   "outputs": [
    {
     "data": {
      "text/html": [
       "<div>\n",
       "<style scoped>\n",
       "    .dataframe tbody tr th:only-of-type {\n",
       "        vertical-align: middle;\n",
       "    }\n",
       "\n",
       "    .dataframe tbody tr th {\n",
       "        vertical-align: top;\n",
       "    }\n",
       "\n",
       "    .dataframe thead th {\n",
       "        text-align: right;\n",
       "    }\n",
       "</style>\n",
       "<table border=\"1\" class=\"dataframe\">\n",
       "  <thead>\n",
       "    <tr style=\"text-align: right;\">\n",
       "      <th></th>\n",
       "      <th>Unnamed: 0</th>\n",
       "      <th>0</th>\n",
       "      <th>1</th>\n",
       "      <th>2</th>\n",
       "    </tr>\n",
       "  </thead>\n",
       "  <tbody>\n",
       "    <tr>\n",
       "      <td>0</td>\n",
       "      <td>0.0</td>\n",
       "      <td>苏州</td>\n",
       "      <td>1800</td>\n",
       "      <td>中上</td>\n",
       "    </tr>\n",
       "    <tr>\n",
       "      <td>1</td>\n",
       "      <td>1.0</td>\n",
       "      <td>杭州</td>\n",
       "      <td>2100</td>\n",
       "      <td>优秀</td>\n",
       "    </tr>\n",
       "    <tr>\n",
       "      <td>2</td>\n",
       "      <td>2.0</td>\n",
       "      <td>西安</td>\n",
       "      <td>900</td>\n",
       "      <td>中下</td>\n",
       "    </tr>\n",
       "    <tr>\n",
       "      <td>3</td>\n",
       "      <td>NaN</td>\n",
       "      <td>0</td>\n",
       "      <td>1</td>\n",
       "      <td>2</td>\n",
       "    </tr>\n",
       "    <tr>\n",
       "      <td>4</td>\n",
       "      <td>0.0</td>\n",
       "      <td>武汉</td>\n",
       "      <td>1800</td>\n",
       "      <td>中上</td>\n",
       "    </tr>\n",
       "    <tr>\n",
       "      <td>5</td>\n",
       "      <td>1.0</td>\n",
       "      <td>深圳</td>\n",
       "      <td>2100</td>\n",
       "      <td>优秀</td>\n",
       "    </tr>\n",
       "    <tr>\n",
       "      <td>6</td>\n",
       "      <td>2.0</td>\n",
       "      <td>贵州</td>\n",
       "      <td>900</td>\n",
       "      <td>中下</td>\n",
       "    </tr>\n",
       "  </tbody>\n",
       "</table>\n",
       "</div>"
      ],
      "text/plain": [
       "   Unnamed: 0   0     1   2\n",
       "0         0.0  苏州  1800  中上\n",
       "1         1.0  杭州  2100  优秀\n",
       "2         2.0  西安   900  中下\n",
       "3         NaN   0     1   2\n",
       "4         0.0  武汉  1800  中上\n",
       "5         1.0  深圳  2100  优秀\n",
       "6         2.0  贵州   900  中下"
      ]
     },
     "execution_count": 59,
     "metadata": {},
     "output_type": "execute_result"
    }
   ],
   "source": [
    "lst = [['苏州',1800,'中上'],['杭州',2100,'优秀'],['西安',900,'中下']]\n",
    "dt = pd.DataFrame(lst)\n",
    "path = 'panda.csv'\n",
    "dt.to_csv(path)\n",
    "\n",
    "lst2 = [['武汉',1800,'中上'],['深圳',2100,'优秀'],['贵州',900,'中下']]\n",
    "dt2 = pd.DataFrame(lst2)\n",
    "dt2.to_csv(path,mode='a')\n",
    "\n",
    "dt3 = pd.read_csv(path)\n",
    "dt3"
   ]
  }
 ],
 "metadata": {
  "kernelspec": {
   "display_name": "Python 3",
   "language": "python",
   "name": "python3"
  },
  "language_info": {
   "codemirror_mode": {
    "name": "ipython",
    "version": 3
   },
   "file_extension": ".py",
   "mimetype": "text/x-python",
   "name": "python",
   "nbconvert_exporter": "python",
   "pygments_lexer": "ipython3",
   "version": "3.7.4"
  }
 },
 "nbformat": 4,
 "nbformat_minor": 2
}
