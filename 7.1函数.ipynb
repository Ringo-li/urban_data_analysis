{
 "cells": [
  {
   "cell_type": "code",
   "execution_count": 16,
   "metadata": {},
   "outputs": [
    {
     "name": "stdout",
     "output_type": "stream",
     "text": [
      "a worddfdsa\n",
      "d\n",
      "f\n",
      "d\n",
      "s\n",
      "a\n"
     ]
    }
   ],
   "source": [
    "def reader():\n",
    "    word = input('a word')\n",
    "    for i in word:\n",
    "        print(i)\n",
    "reader()"
   ]
  },
  {
   "cell_type": "code",
   "execution_count": 24,
   "metadata": {},
   "outputs": [
    {
     "data": {
      "text/plain": [
       "10.666666666666666"
      ]
     },
     "execution_count": 24,
     "metadata": {},
     "output_type": "execute_result"
    }
   ],
   "source": [
    "def f(a=5,b=3,c=2):\n",
    "    sum = ( a + b ) * ( a - b ) / c\n",
    "    return(sum)\n",
    "\n",
    "f(6,2,3)"
   ]
  },
  {
   "cell_type": "code",
   "execution_count": 43,
   "metadata": {},
   "outputs": [
    {
     "data": {
      "text/plain": [
       "2.5"
      ]
     },
     "execution_count": 43,
     "metadata": {},
     "output_type": "execute_result"
    }
   ],
   "source": [
    "def f(*a):\n",
    "    s = 0\n",
    "    for i in a:\n",
    "        s = s + i\n",
    "    return s/len(a)\n",
    "f(1,2,3,4)"
   ]
  },
  {
   "cell_type": "code",
   "execution_count": 29,
   "metadata": {},
   "outputs": [
    {
     "name": "stdout",
     "output_type": "stream",
     "text": [
      "4\n"
     ]
    }
   ],
   "source": [
    "def f(*a):\n",
    "    print(len(a))\n",
    "f(1,2,3,4)"
   ]
  },
  {
   "cell_type": "code",
   "execution_count": 7,
   "metadata": {},
   "outputs": [
    {
     "name": "stdout",
     "output_type": "stream",
     "text": [
      "circle or squier :cc|sq :cc\n",
      "please input a R:2\n"
     ]
    },
    {
     "data": {
      "text/plain": [
       "25.12"
      ]
     },
     "execution_count": 7,
     "metadata": {},
     "output_type": "execute_result"
    }
   ],
   "source": [
    "def sqr():\n",
    "    try:\n",
    "        user = input('circle or squier :cc|sq :')\n",
    "        if user == 'cc':\n",
    "            r = int(input('please input a R:'))\n",
    "            sqr = 2 * 3.14 * ( r ** 2 )\n",
    "            return sqr\n",
    "        elif user == 'sq':\n",
    "            l = int(input('input long:'))\n",
    "            w = int(input('input wight:'))\n",
    "            sqr = l * w\n",
    "            return sqr\n",
    "        else:\n",
    "            print('please input vailable var')\n",
    "    except ValueError:\n",
    "            print('please input vailable var')\n",
    "\n",
    "sqr()"
   ]
  },
  {
   "cell_type": "code",
   "execution_count": 17,
   "metadata": {},
   "outputs": [
    {
     "name": "stdout",
     "output_type": "stream",
     "text": [
      "name:a\n",
      "name:s\n",
      "name:d\n",
      "name:f\n",
      "name:g\n"
     ]
    },
    {
     "data": {
      "text/plain": [
       "{'a': 10010, 's': 10011, 'd': 10012, 'f': 10013, 'g': 10014}"
      ]
     },
     "execution_count": 17,
     "metadata": {},
     "output_type": "execute_result"
    }
   ],
   "source": [
    "def dic_maker():\n",
    "    n = 0\n",
    "    lst1 = []\n",
    "    dic = {}\n",
    "    while n < 5 :\n",
    "        a = input('name:')\n",
    "        n += 1\n",
    "        lst1.append(a)\n",
    "    start = 10010\n",
    "    end = start + n\n",
    "    lst2 = list(range(start,end))\n",
    "    lst3 = []\n",
    "    for i in range(n):\n",
    "        lst3.append([lst1[i],lst2[i]])\n",
    "    dic = dict(lst3)\n",
    "    return dic\n",
    "dic_maker()"
   ]
  },
  {
   "cell_type": "code",
   "execution_count": 18,
   "metadata": {},
   "outputs": [
    {
     "data": {
      "text/plain": [
       "6"
      ]
     },
     "execution_count": 18,
     "metadata": {},
     "output_type": "execute_result"
    }
   ],
   "source": [
    "a = 'wahaha'\n",
    "b = lambda x:len(x)\n",
    "b(a)"
   ]
  },
  {
   "cell_type": "code",
   "execution_count": 21,
   "metadata": {},
   "outputs": [
    {
     "data": {
      "text/plain": [
       "[4, 3, 3, 3, 2, 2, 1, 1]"
      ]
     },
     "execution_count": 21,
     "metadata": {},
     "output_type": "execute_result"
    }
   ],
   "source": [
    "a = [1,3,2,4,3,1,2,3]\n",
    "b = lambda x:sorted(x,reverse=True)\n",
    "b(a)"
   ]
  },
  {
   "cell_type": "code",
   "execution_count": 34,
   "metadata": {},
   "outputs": [
    {
     "name": "stdout",
     "output_type": "stream",
     "text": [
      "C:\\Users\\cc\\Desktop\\test1.py\n",
      "C:\\Users\\cc\\Anaconda3\\lib\\this.py\n",
      "C:\\Users\\cc\\Anaconda3\\lib\\site-packages\\pandas\\__init__.py\n"
     ]
    }
   ],
   "source": [
    "import sys\n",
    "sys.path.append('C:\\\\Users\\\\cc\\\\Desktop')\n",
    "import test1\n",
    "\n",
    "print(test1.__file__)\n",
    "import this\n",
    "print(this.__file__)\n",
    "print(pandas.__file__)"
   ]
  },
  {
   "cell_type": "code",
   "execution_count": 20,
   "metadata": {},
   "outputs": [
    {
     "name": "stdout",
     "output_type": "stream",
     "text": [
      "hello world !\n",
      "your namerui\n",
      "ruiis ugly\n"
     ]
    }
   ],
   "source": [
    "test1.echo()\n",
    "test1.wahaha()"
   ]
  },
  {
   "cell_type": "code",
   "execution_count": 35,
   "metadata": {},
   "outputs": [
    {
     "data": {
      "text/plain": [
       "'Thu Jan 23 11:55:19 2020'"
      ]
     },
     "execution_count": 35,
     "metadata": {},
     "output_type": "execute_result"
    }
   ],
   "source": [
    "import time\n",
    "time.ctime()"
   ]
  },
  {
   "cell_type": "code",
   "execution_count": 36,
   "metadata": {},
   "outputs": [
    {
     "data": {
      "text/plain": [
       "time.struct_time(tm_year=2020, tm_mon=1, tm_mday=23, tm_hour=11, tm_min=55, tm_sec=34, tm_wday=3, tm_yday=23, tm_isdst=0)"
      ]
     },
     "execution_count": 36,
     "metadata": {},
     "output_type": "execute_result"
    }
   ],
   "source": [
    "time.localtime()"
   ]
  },
  {
   "cell_type": "code",
   "execution_count": 52,
   "metadata": {},
   "outputs": [],
   "source": [
    "import random"
   ]
  },
  {
   "cell_type": "code",
   "execution_count": 65,
   "metadata": {},
   "outputs": [],
   "source": [
    "alst = [1,3,2,4,56,3,4,64,3,43,2]"
   ]
  },
  {
   "cell_type": "code",
   "execution_count": 73,
   "metadata": {},
   "outputs": [
    {
     "data": {
      "text/plain": [
       "3"
      ]
     },
     "execution_count": 73,
     "metadata": {},
     "output_type": "execute_result"
    }
   ],
   "source": [
    "random.choice(alst)"
   ]
  },
  {
   "cell_type": "code",
   "execution_count": 75,
   "metadata": {},
   "outputs": [
    {
     "data": {
      "text/plain": [
       "[4, 2]"
      ]
     },
     "execution_count": 75,
     "metadata": {},
     "output_type": "execute_result"
    }
   ],
   "source": [
    "random.sample(alst,2)"
   ]
  },
  {
   "cell_type": "code",
   "execution_count": 85,
   "metadata": {},
   "outputs": [
    {
     "name": "stdout",
     "output_type": "stream",
     "text": [
      "[2, 43, 2, 3, 1, 3, 3, 4, 64, 4, 56]\n"
     ]
    }
   ],
   "source": [
    "random.shuffle(alst)\n",
    "print(alst)"
   ]
  },
  {
   "cell_type": "code",
   "execution_count": null,
   "metadata": {},
   "outputs": [],
   "source": []
  }
 ],
 "metadata": {
  "kernelspec": {
   "display_name": "Python 3",
   "language": "python",
   "name": "python3"
  },
  "language_info": {
   "codemirror_mode": {
    "name": "ipython",
    "version": 3
   },
   "file_extension": ".py",
   "mimetype": "text/x-python",
   "name": "python",
   "nbconvert_exporter": "python",
   "pygments_lexer": "ipython3",
   "version": "3.7.4"
  }
 },
 "nbformat": 4,
 "nbformat_minor": 2
}
