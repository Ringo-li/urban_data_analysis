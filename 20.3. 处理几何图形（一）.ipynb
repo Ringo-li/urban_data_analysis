{
 "cells": [
  {
   "cell_type": "markdown",
   "metadata": {},
   "source": [
    "### 一、几何对象的创建"
   ]
  },
  {
   "cell_type": "markdown",
   "metadata": {},
   "source": [
    "#### 1.点Point/PointGeometry/Multipoint"
   ]
  },
  {
   "cell_type": "markdown",
   "metadata": {},
   "source": [
    "#### 1.1point创建和显示其属性\n",
    ">    语法：<br>\n",
    "    Point({X},{Y},{Z},,{M},{ID})"
   ]
  },
  {
   "cell_type": "code",
   "execution_count": 5,
   "metadata": {},
   "outputs": [
    {
     "name": "stdout",
     "output_type": "stream",
     "text": [
      "ID:0\n",
      "X:120.0\n"
     ]
    }
   ],
   "source": [
    "import arcpy\n",
    "\n",
    "#创建点对象\n",
    "point = arcpy.Point(120,30,50)\n",
    "#打印点对象属性\n",
    "print(\"ID:{}\".format(point.ID))\n",
    "print(\"X:{}\".format(point.X))"
   ]
  },
  {
   "cell_type": "markdown",
   "metadata": {},
   "source": [
    "#### 1.2 PointGeometry创建要素类\n",
    ">    语法：<br>\n",
    "    PointGeometry(inputs,{spatial_reference},{has_z},{has_m})<br>\n",
    "    inputs:实例化的point对象\n",
    "+ 几何单点和单点的区别，单点有点像概念，物理上并不存在，几何单点实体到arcpy中，每个几何单点占一行信息，只有单点可以组成多点和线，且只占一行信息"
   ]
  },
  {
   "cell_type": "code",
   "execution_count": 72,
   "metadata": {},
   "outputs": [
    {
     "name": "stdout",
     "output_type": "stream",
     "text": [
      "[<PointGeometry object at 0x17a71f90[0x5941a40]>, <PointGeometry object at 0x17a71f50[0x50635c0]>, <PointGeometry object at 0x17a71fd0[0x16f9f820]>]\n",
      "done\n"
     ]
    }
   ],
   "source": [
    "import arcpy\n",
    "pointList = [[1,2],[3,5],[7,3]]    #多个点坐标的列表对象\n",
    "\n",
    "pointGeometryList = []             #创建一个空pointGeometry存储对象\n",
    "\n",
    "#创建for循环，将每个坐标传给点对象，再将这个点对象转换为多点对象追加到列表中\n",
    "for pt in pointList: \n",
    "    #传递单点的X/Y信息\n",
    "    point = arcpy.Point(pt[0],pt[1])\n",
    "    #将单点转换为几何单点\n",
    "    pointGeometry = arcpy.PointGeometry(point)\n",
    "     #将几何单点追加到其存储列表\n",
    "    pointGeometryList.append(pointGeometry)\n",
    "\n",
    "#使用CopyFeatures_management工具生成要素类文件\n",
    "print(pointGeometryList)\n",
    "arcpy.CopyFeatures_management(pointGeometryList,r'D:\\rui\\code_analysis\\homework\\file\\GIS\\class2003.gdb\\Point')\n",
    "print('done')"
   ]
  },
  {
   "cell_type": "markdown",
   "metadata": {},
   "source": [
    "#### 1.3 MultiPoint创建多点，并存储为要素类文件\n",
    ">    语法：<br>\n",
    "    MultiPoint(inputs,{spatial_reference},{has_z},{has_m})<br>\n",
    "    inputs:The coordinates used to create the object. The data type can be either Point or Array objects.<br> \n",
    "+ 在将坐标传递给arcpy.Point构造函数时使用*expression解压坐标\n",
    "+ 因为Point()要多个参数，所以使用*表达式"
   ]
  },
  {
   "cell_type": "code",
   "execution_count": 73,
   "metadata": {},
   "outputs": [
    {
     "name": "stdout",
     "output_type": "stream",
     "text": [
      "<geoprocessing describe geometry object object at 0x17A71CA0>\n",
      "done\n"
     ]
    }
   ],
   "source": [
    "import arcpy\n",
    "\n",
    "pointList = [[2,2],[4,5],[7,6]]\n",
    "#快捷方式存储多个单点对象列表\n",
    "pt = [arcpy.Point(*coords) for coords in pointList]\n",
    "#将单点列表转换成一个点数组\n",
    "pt_ar = arcpy.Array(pt)\n",
    "#Create a Multipoint object based on the array of points\n",
    "mp = arcpy.Multipoint(pt_ar)\n",
    "print(mp)\n",
    "\n",
    "arcpy.CopyFeatures_management(mp,r'D:\\rui\\code_analysis\\homework\\file\\GIS\\class2003.gdb\\MultiPoint')\n",
    "print('done')"
   ]
  },
  {
   "cell_type": "markdown",
   "metadata": {},
   "source": [
    "### 2.线Polyline\n",
    ">    语法：<br>\n",
    "    Polyline(inputs,{spatial_reference},{has_z},{has_m})<br>"
   ]
  },
  {
   "cell_type": "code",
   "execution_count": 74,
   "metadata": {},
   "outputs": [
    {
     "name": "stdout",
     "output_type": "stream",
     "text": [
      "[<Point (7.0, 9.0, #, #)>, <Point (7.0, 5.0, #, #)>, <Point (3.0, 3.0, #, #)>]\n",
      "[<Polyline object at 0x17a71e10[0x17a207c0]>]\n",
      "[<Point (3.0, 5.0, #, #)>, <Point (6.0, 4.0, #, #)>, <Point (6.0, 1.0, #, #)>, <Point (4.0, 2.0, #, #)>]\n",
      "[<Polyline object at 0x17a71e10[0x17a207c0]>, <Polyline object at 0x17a81190[0x17a20dc0]>]\n",
      "done\n"
     ]
    }
   ],
   "source": [
    "import arcpy\n",
    "#创建一个三维数组，其中每个二维数组为一条连续的线点的坐标\n",
    "feature_info = [[[7, 9],\n",
    "        [7, 5],\n",
    "        [3, 3]],\n",
    "\n",
    "       [[3, 5],\n",
    "        [6, 4],\n",
    "        [6, 1],\n",
    "       [4,2]]]\n",
    "#存储线段\n",
    "features = []\n",
    "\n",
    "for feature in feature_info: \n",
    "    pt = [arcpy.Point(*coords) for coords in feature]  #基于点坐标创建多点的列表\n",
    "    print(pt)\n",
    "    pl = arcpy.Polyline(arcpy.Array(pt))               #Create a Polyline object based on the array of points\n",
    "    features.append(pl)\n",
    "    \n",
    "    print(features)\n",
    "arcpy.CopyFeatures_management(features,r'D:\\rui\\code_analysis\\homework\\file\\GIS\\class2003.gdb\\PolyLine')\n",
    "print('done')"
   ]
  },
  {
   "cell_type": "markdown",
   "metadata": {},
   "source": [
    "### 3.面Polygon\n",
    ">    语法：<br>\n",
    "    Polygon(inputs,{spatial_reference},{has_z},{has_m})<br>"
   ]
  },
  {
   "cell_type": "code",
   "execution_count": 75,
   "metadata": {},
   "outputs": [
    {
     "name": "stdout",
     "output_type": "stream",
     "text": [
      "done\n"
     ]
    }
   ],
   "source": [
    "import arcpy\n",
    "#创建面定点坐标信息\n",
    "feature_info = [[[6, 3],\n",
    "        [8, 7],\n",
    "        [5, 7]],\n",
    "\n",
    "       [[3, 6],\n",
    "        [8, 1],\n",
    "        [8, 5]],\n",
    "\n",
    "       [[3, 6],\n",
    "        [6, 6],\n",
    "        [3, 3]]]\n",
    "#创建面存储列表\n",
    "features = []\n",
    "#for循环生成面，存储\n",
    "for feature in feature_info:\n",
    "    #将信息转换为arcpy点对象\n",
    "    pt_list = []\n",
    "    for i in feature:\n",
    "        pt = arcpy.Point(*i)\n",
    "        pt_list.append(pt)\n",
    "    #将点列表转换为数组\n",
    "    pt_ar = arcpy.Array(pt_list)\n",
    "    #将点数组转换为polygon\n",
    "    pg = arcpy.Polygon(pt_ar)\n",
    "    #将生成的面添加到面列表\n",
    "    features.append(pg)\n",
    "#保存面文件\n",
    "arcpy.CopyFeatures_management(features,r'D:\\rui\\code_analysis\\homework\\file\\GIS\\class2003.gdb\\Polygon')\n",
    "print('done')"
   ]
  },
  {
   "cell_type": "markdown",
   "metadata": {},
   "source": [
    "### 二、几何对象的属性"
   ]
  },
  {
   "cell_type": "markdown",
   "metadata": {},
   "source": [
    "#### 1.1单点Point"
   ]
  },
  {
   "cell_type": "code",
   "execution_count": 71,
   "metadata": {},
   "outputs": [
    {
     "name": "stdout",
     "output_type": "stream",
     "text": [
      "Point Properties:\n",
      "ID:0\n",
      "X:7.0\n",
      "Y:3.0\n",
      "Z:None\n"
     ]
    }
   ],
   "source": [
    "import arcpy\n",
    "piont = arcpy.Point(3,10)\n",
    "\n",
    "print('Point Properties:')\n",
    "print('ID:{}'.format(point.ID))\n",
    "print('X:{}'.format(point.X))\n",
    "print('Y:{}'.format(point.Y))\n",
    "print('Z:{}'.format(point.Z))"
   ]
  },
  {
   "cell_type": "markdown",
   "metadata": {},
   "source": [
    "#### 1.2几何单点PointGeometry"
   ]
  },
  {
   "cell_type": "code",
   "execution_count": 77,
   "metadata": {},
   "outputs": [
    {
     "name": "stdout",
     "output_type": "stream",
     "text": [
      "PointGeometry Properties:\n",
      "firstPoint:2 5 NaN NaN\n",
      "type:point\n",
      "centroid:2 5 NaN NaN\n",
      "pointCount:1\n"
     ]
    }
   ],
   "source": [
    "import arcpy\n",
    "point_info = [[2,5],[6,3],[4,7]]\n",
    "\n",
    "features = []\n",
    "for coords in point_info:\n",
    "    pt = arcpy.Point(coords[0],coords[1])\n",
    "    ptg = arcpy.PointGeometry(pt)\n",
    "    features.append(ptg)\n",
    "\n",
    "print('PointGeometry Properties:')\n",
    "print('firstPoint:{}'.format(features[0].firstPoint))\n",
    "print('type:{}'.format(features[0].type))\n",
    "print('centroid:{}'.format(features[0].centroid))\n",
    "print('pointCount:{}'.format(features[0].pointCount))"
   ]
  },
  {
   "cell_type": "markdown",
   "metadata": {},
   "source": [
    "#### 1.3几何多点MultiPoint"
   ]
  },
  {
   "cell_type": "code",
   "execution_count": 79,
   "metadata": {},
   "outputs": [
    {
     "name": "stdout",
     "output_type": "stream",
     "text": [
      "MultiPoint Properties:\n",
      "JSON:{\"points\":[[2,5],[4,7],[6,3]],\"spatialReference\":{\"wkid\":null}}\n",
      "centroid:4 5 NaN NaN\n",
      "type:multipoint\n",
      "pointCount:3\n"
     ]
    }
   ],
   "source": [
    "import arcpy\n",
    "point_info = [[2,5],[6,3],[4,7]]\n",
    "\n",
    "ptList = [arcpy.Point(*coords) for coords in point_info]\n",
    "\n",
    "mpt = arcpy.Multipoint(arcpy.Array(ptList))\n",
    "\n",
    "print('MultiPoint Properties:')\n",
    "print('JSON:{}'.format(mpt.JSON))\n",
    "print('centroid:{}'.format(mpt.centroid))\n",
    "print('type:{}'.format(mpt.type))\n",
    "print('pointCount:{}'.format(mpt.pointCount))"
   ]
  },
  {
   "cell_type": "markdown",
   "metadata": {},
   "source": [
    "#### 1.4Polyline"
   ]
  },
  {
   "cell_type": "code",
   "execution_count": 82,
   "metadata": {},
   "outputs": [
    {
     "name": "stdout",
     "output_type": "stream",
     "text": [
      "Polyline Properties:\n",
      "长度:4.57649122254\n",
      "范围:1 3 3 7 NaN NaN NaN NaN\n",
      "类型:polyline\n",
      "面积:0.0\n",
      "firstpoint:1 3 NaN NaN\n",
      "partCount:1\n",
      "pointCount:3\n",
      "centroid:2.3 4.9 NaN NaN\n"
     ]
    }
   ],
   "source": [
    "import arcpy\n",
    "\n",
    "ptInfo = [[1,3],[2,4],[3,7]]\n",
    "ptList = [arcpy.Point(*coords) for coords in ptInfo]\n",
    "prAr = arcpy.Array(ptList)\n",
    "pl = arcpy.Polyline(prAr)\n",
    "\n",
    "print('Polyline Properties:')\n",
    "print('长度:{}'.format(pl.length))\n",
    "print('范围:{}'.format(pl.extent))\n",
    "print('类型:{}'.format(pl.type))\n",
    "print('面积:{}'.format(pl.area))\n",
    "print('firstpoint:{}'.format(pl.firstPoint))\n",
    "print('partCount:{}'.format(pl.partCount))\n",
    "print('pointCount:{}'.format(pl.pointCount))\n",
    "print('centroid:{}'.format(pl.centroid))"
   ]
  },
  {
   "cell_type": "markdown",
   "metadata": {},
   "source": [
    "#### 1.5Polygon"
   ]
  },
  {
   "cell_type": "code",
   "execution_count": 84,
   "metadata": {},
   "outputs": [
    {
     "name": "stdout",
     "output_type": "stream",
     "text": [
      "Polygon Properties:\n",
      "长度:29.0090648375\n",
      "范围:2.0001220703125 2.0001220703125 9.0001220703125 9.0001220703125 NaN NaN NaN NaN\n",
      "类型:polygon\n",
      "面积:15.4531860352\n",
      "firstpoint:5.0001220703125 2.0001220703125 NaN NaN\n",
      "partCount:2\n",
      "pointCount:8\n",
      "centroid:4.4219970703125 4.9844970703125 NaN NaN\n"
     ]
    }
   ],
   "source": [
    "import arcpy\n",
    "\n",
    "pt_info = [[5,2],[2,8],[9,3],[8,9]]\n",
    "\n",
    "pt_list = [arcpy.Point(*coords) for coords in pt_info]\n",
    "pg = arcpy.Polygon(arcpy.Array(pt_list))\n",
    "\n",
    "print('Polygon Properties:')\n",
    "print('长度:{}'.format(pg.length))\n",
    "print('范围:{}'.format(pg.extent))\n",
    "print('类型:{}'.format(pg.type))\n",
    "print('面积:{}'.format(pg.area))\n",
    "print('firstpoint:{}'.format(pg.firstPoint))\n",
    "print('partCount:{}'.format(pg.partCount))\n",
    "print('pointCount:{}'.format(pg.pointCount))\n",
    "print('centroid:{}'.format(pg.centroid))"
   ]
  },
  {
   "cell_type": "code",
   "execution_count": null,
   "metadata": {},
   "outputs": [],
   "source": []
  }
 ],
 "metadata": {
  "kernelspec": {
   "display_name": "python2",
   "language": "python",
   "name": "python2"
  },
  "language_info": {
   "codemirror_mode": {
    "name": "ipython",
    "version": 2
   },
   "file_extension": ".py",
   "mimetype": "text/x-python",
   "name": "python",
   "nbconvert_exporter": "python",
   "pygments_lexer": "ipython2",
   "version": "2.7.15"
  }
 },
 "nbformat": 4,
 "nbformat_minor": 2
}
